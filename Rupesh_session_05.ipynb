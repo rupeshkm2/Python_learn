{
 "cells": [
  {
   "cell_type": "code",
   "execution_count": 1,
   "id": "7e316a7f-95c2-4cba-a1ce-3e285039b093",
   "metadata": {},
   "outputs": [],
   "source": [
    "#Lession 5 :  sequences , lists and tuples "
   ]
  },
  {
   "cell_type": "code",
   "execution_count": 2,
   "id": "5c825bb4-8df0-481d-bd86-a1be8b86a714",
   "metadata": {},
   "outputs": [],
   "source": [
    "# list : it store all same type of data (homogenious) , it is not a mandatoty to store all same type of daata\n",
    "# it is okwy to store hetrogenious data if we like "
   ]
  },
  {
   "cell_type": "code",
   "execution_count": 3,
   "id": "0bed7b2b-36b6-49cf-87ea-4728264e6774",
   "metadata": {},
   "outputs": [],
   "source": [
    "c=[-45,6,0,72,1543]"
   ]
  },
  {
   "cell_type": "code",
   "execution_count": 4,
   "id": "b59457b3-ff15-47f9-8251-ef19aa496746",
   "metadata": {},
   "outputs": [
    {
     "data": {
      "text/plain": [
       "[-45, 6, 0, 72, 1543]"
      ]
     },
     "execution_count": 4,
     "metadata": {},
     "output_type": "execute_result"
    }
   ],
   "source": [
    "c"
   ]
  },
  {
   "cell_type": "code",
   "execution_count": 5,
   "id": "132e1d4c-62a0-4dba-a9c6-3a31a55c311c",
   "metadata": {},
   "outputs": [],
   "source": [
    "#accessing indivual element in list , the index position start with 0 "
   ]
  },
  {
   "cell_type": "code",
   "execution_count": 6,
   "id": "e8c905e8-94d3-4ada-8935-0ca2fb476e83",
   "metadata": {},
   "outputs": [
    {
     "data": {
      "text/plain": [
       "-45"
      ]
     },
     "execution_count": 6,
     "metadata": {},
     "output_type": "execute_result"
    }
   ],
   "source": [
    "c[0]"
   ]
  },
  {
   "cell_type": "code",
   "execution_count": 7,
   "id": "79976298-516c-42da-b412-54a484859e98",
   "metadata": {},
   "outputs": [
    {
     "data": {
      "text/plain": [
       "1543"
      ]
     },
     "execution_count": 7,
     "metadata": {},
     "output_type": "execute_result"
    }
   ],
   "source": [
    "c[4]"
   ]
  },
  {
   "cell_type": "code",
   "execution_count": 8,
   "id": "ab077d58-40fb-4775-8fcc-f820611366ab",
   "metadata": {},
   "outputs": [
    {
     "data": {
      "text/plain": [
       "5"
      ]
     },
     "execution_count": 8,
     "metadata": {},
     "output_type": "execute_result"
    }
   ],
   "source": [
    "len(c) # since it has 5 element it retuen 5 "
   ]
  },
  {
   "cell_type": "code",
   "execution_count": 9,
   "id": "d73f4251-fa59-4556-b2ea-96da462cbdd4",
   "metadata": {},
   "outputs": [],
   "source": [
    "# lists are  not a fixed length and it is dynamic and resizable "
   ]
  },
  {
   "cell_type": "code",
   "execution_count": 10,
   "id": "b5da4ff3-d124-497a-8be0-bc76fde6f8de",
   "metadata": {},
   "outputs": [],
   "source": [
    "# we can alos use negetive index number to refer the element "
   ]
  },
  {
   "cell_type": "code",
   "execution_count": 11,
   "id": "b3a002ac-ede2-43c0-aa7c-466f87508e35",
   "metadata": {},
   "outputs": [
    {
     "data": {
      "text/plain": [
       "1543"
      ]
     },
     "execution_count": 11,
     "metadata": {},
     "output_type": "execute_result"
    }
   ],
   "source": [
    "c[-1]"
   ]
  },
  {
   "cell_type": "code",
   "execution_count": 12,
   "id": "6826969f-47ea-41de-ae4c-d806eb0bc3f6",
   "metadata": {},
   "outputs": [
    {
     "data": {
      "text/plain": [
       "0"
      ]
     },
     "execution_count": 12,
     "metadata": {},
     "output_type": "execute_result"
    }
   ],
   "source": [
    "c[-3]"
   ]
  },
  {
   "cell_type": "code",
   "execution_count": 13,
   "id": "6b0e660e-866c-45fb-99fb-85769d115d1b",
   "metadata": {},
   "outputs": [],
   "source": [
    "a=1"
   ]
  },
  {
   "cell_type": "code",
   "execution_count": 14,
   "id": "7f618e3c-7318-4e40-9c85-7e50dbd1be5b",
   "metadata": {},
   "outputs": [],
   "source": [
    "b=2"
   ]
  },
  {
   "cell_type": "code",
   "execution_count": 15,
   "id": "b82aa16c-23f0-4559-8ff8-62c00d7fe175",
   "metadata": {},
   "outputs": [
    {
     "data": {
      "text/plain": [
       "72"
      ]
     },
     "execution_count": 15,
     "metadata": {},
     "output_type": "execute_result"
    }
   ],
   "source": [
    "c[a+b]"
   ]
  },
  {
   "cell_type": "code",
   "execution_count": 16,
   "id": "a5a61436-eec4-4f05-b893-27857a704797",
   "metadata": {},
   "outputs": [],
   "source": [
    "# lists are mutable , meaning that contet can be chnages in the list"
   ]
  },
  {
   "cell_type": "code",
   "execution_count": 17,
   "id": "982faf02-9e18-4f17-a6d9-3027aa461401",
   "metadata": {},
   "outputs": [],
   "source": [
    "c[4]=17"
   ]
  },
  {
   "cell_type": "code",
   "execution_count": 18,
   "id": "7d457d4f-dc15-4e65-962d-ca48d94bb611",
   "metadata": {},
   "outputs": [
    {
     "data": {
      "text/plain": [
       "[-45, 6, 0, 72, 17]"
      ]
     },
     "execution_count": 18,
     "metadata": {},
     "output_type": "execute_result"
    }
   ],
   "source": [
    "c"
   ]
  },
  {
   "cell_type": "code",
   "execution_count": 19,
   "id": "64f675e5-e81a-4c3c-8900-063e1e3b4e07",
   "metadata": {},
   "outputs": [],
   "source": [
    "s='hello'"
   ]
  },
  {
   "cell_type": "code",
   "execution_count": 20,
   "id": "7ae0a8db-9747-4710-a975-0e452185b391",
   "metadata": {},
   "outputs": [
    {
     "data": {
      "text/plain": [
       "'h'"
      ]
     },
     "execution_count": 20,
     "metadata": {},
     "output_type": "execute_result"
    }
   ],
   "source": [
    "s[0]"
   ]
  },
  {
   "cell_type": "code",
   "execution_count": 21,
   "id": "cae70625-53d1-4186-8a5e-e56b7c89d50d",
   "metadata": {},
   "outputs": [
    {
     "ename": "TypeError",
     "evalue": "'str' object does not support item assignment",
     "output_type": "error",
     "traceback": [
      "\u001b[1;31m---------------------------------------------------------------------------\u001b[0m",
      "\u001b[1;31mTypeError\u001b[0m                                 Traceback (most recent call last)",
      "\u001b[1;32m~\\AppData\\Local\\Temp\\ipykernel_23528\\1893820292.py\u001b[0m in \u001b[0;36m<module>\u001b[1;34m\u001b[0m\n\u001b[1;32m----> 1\u001b[1;33m \u001b[0ms\u001b[0m\u001b[1;33m[\u001b[0m\u001b[1;36m0\u001b[0m\u001b[1;33m]\u001b[0m\u001b[1;33m=\u001b[0m\u001b[1;34m'm'\u001b[0m\u001b[1;33m\u001b[0m\u001b[1;33m\u001b[0m\u001b[0m\n\u001b[0m",
      "\u001b[1;31mTypeError\u001b[0m: 'str' object does not support item assignment"
     ]
    }
   ],
   "source": [
    "s[0]='m'  # stings are immutable "
   ]
  },
  {
   "cell_type": "code",
   "execution_count": 22,
   "id": "d788151e-7d32-4102-b07d-c00166136772",
   "metadata": {},
   "outputs": [
    {
     "ename": "IndexError",
     "evalue": "list index out of range",
     "output_type": "error",
     "traceback": [
      "\u001b[1;31m---------------------------------------------------------------------------\u001b[0m",
      "\u001b[1;31mIndexError\u001b[0m                                Traceback (most recent call last)",
      "\u001b[1;32m~\\AppData\\Local\\Temp\\ipykernel_23528\\2687931364.py\u001b[0m in \u001b[0;36m<module>\u001b[1;34m\u001b[0m\n\u001b[1;32m----> 1\u001b[1;33m \u001b[0mc\u001b[0m\u001b[1;33m[\u001b[0m\u001b[1;36m100\u001b[0m\u001b[1;33m]\u001b[0m\u001b[1;33m\u001b[0m\u001b[1;33m\u001b[0m\u001b[0m\n\u001b[0m",
      "\u001b[1;31mIndexError\u001b[0m: list index out of range"
     ]
    }
   ],
   "source": [
    "c[100]"
   ]
  },
  {
   "cell_type": "code",
   "execution_count": 23,
   "id": "cfaf4583-7d3b-4fbb-89f7-89196d4c12d7",
   "metadata": {},
   "outputs": [
    {
     "data": {
      "text/plain": [
       "-28"
      ]
     },
     "execution_count": 23,
     "metadata": {},
     "output_type": "execute_result"
    }
   ],
   "source": [
    "c[0]+c[4]"
   ]
  },
  {
   "cell_type": "code",
   "execution_count": 24,
   "id": "f86002bc-e462-4ae1-b54c-1e7bb8d690b5",
   "metadata": {},
   "outputs": [],
   "source": [
    "a_lists =[]  # empty list "
   ]
  },
  {
   "cell_type": "code",
   "execution_count": 25,
   "id": "82263106-bcab-4490-aeee-c054fe0bce80",
   "metadata": {},
   "outputs": [],
   "source": [
    "# add items to list "
   ]
  },
  {
   "cell_type": "code",
   "execution_count": 27,
   "id": "523963ce-e86a-437d-a8ff-790568229721",
   "metadata": {},
   "outputs": [],
   "source": [
    "for number in range(1,6):\n",
    "    a_lists+=[number]  # so it concatinate the to the list"
   ]
  },
  {
   "cell_type": "code",
   "execution_count": 28,
   "id": "c0e6ae41-2b44-4732-90dd-0e375ad1ec19",
   "metadata": {},
   "outputs": [
    {
     "data": {
      "text/plain": [
       "[1, 2, 3, 4, 5]"
      ]
     },
     "execution_count": 28,
     "metadata": {},
     "output_type": "execute_result"
    }
   ],
   "source": [
    "a_lists"
   ]
  },
  {
   "cell_type": "code",
   "execution_count": 29,
   "id": "5bfd9a26-3192-4ff8-90b3-edc1b9417af5",
   "metadata": {},
   "outputs": [],
   "source": [
    "letters=[]"
   ]
  },
  {
   "cell_type": "code",
   "execution_count": 30,
   "id": "11175587-22b2-4967-ad6e-2768fae49f12",
   "metadata": {},
   "outputs": [],
   "source": [
    "letters+='Python'   # wne you use += in the left side python consoder the right side is iterable object "
   ]
  },
  {
   "cell_type": "code",
   "execution_count": 31,
   "id": "4b31b1e1-7551-46d1-abbe-d788ab86a7cb",
   "metadata": {},
   "outputs": [
    {
     "data": {
      "text/plain": [
       "['P', 'y', 't', 'h', 'o', 'n']"
      ]
     },
     "execution_count": 31,
     "metadata": {},
     "output_type": "execute_result"
    }
   ],
   "source": [
    "letters"
   ]
  },
  {
   "cell_type": "code",
   "execution_count": 32,
   "id": "09ac041c-d1fa-4e27-864e-083b035a7605",
   "metadata": {},
   "outputs": [],
   "source": [
    "list1=[10,20,30]"
   ]
  },
  {
   "cell_type": "code",
   "execution_count": 33,
   "id": "ac13d367-5301-479b-85f3-8ea0f4ec2e19",
   "metadata": {},
   "outputs": [],
   "source": [
    "list2=[40,50]"
   ]
  },
  {
   "cell_type": "code",
   "execution_count": 34,
   "id": "4d03bc6f-1dab-411a-a36a-a2e32a0a171f",
   "metadata": {},
   "outputs": [],
   "source": [
    "concat_list=list1+list2 "
   ]
  },
  {
   "cell_type": "code",
   "execution_count": 35,
   "id": "0f12d998-9d98-4edc-997f-80624df3f31a",
   "metadata": {},
   "outputs": [
    {
     "data": {
      "text/plain": [
       "[10, 20, 30, 40, 50]"
      ]
     },
     "execution_count": 35,
     "metadata": {},
     "output_type": "execute_result"
    }
   ],
   "source": [
    "concat_list"
   ]
  },
  {
   "cell_type": "code",
   "execution_count": 36,
   "id": "a69d63e6-5093-4e06-8f05-1184394bf315",
   "metadata": {},
   "outputs": [
    {
     "data": {
      "text/plain": [
       "[10, 20, 30]"
      ]
     },
     "execution_count": 36,
     "metadata": {},
     "output_type": "execute_result"
    }
   ],
   "source": [
    "list1"
   ]
  },
  {
   "cell_type": "code",
   "execution_count": 37,
   "id": "e7680571-2e4b-48f8-8e44-53b0826625ac",
   "metadata": {},
   "outputs": [
    {
     "data": {
      "text/plain": [
       "[40, 50]"
      ]
     },
     "execution_count": 37,
     "metadata": {},
     "output_type": "execute_result"
    }
   ],
   "source": [
    "list2"
   ]
  },
  {
   "cell_type": "code",
   "execution_count": 38,
   "id": "22437f1f-6fb3-463e-b107-a19c2fa8533c",
   "metadata": {},
   "outputs": [
    {
     "name": "stdout",
     "output_type": "stream",
     "text": [
      "0: 10\n",
      "1: 20\n",
      "2: 30\n",
      "3: 40\n",
      "4: 50\n"
     ]
    }
   ],
   "source": [
    "for i in range(len(concat_list)):\n",
    "    print(f'{i}: {concat_list[i]}')"
   ]
  },
  {
   "cell_type": "code",
   "execution_count": 39,
   "id": "2463dcc1-ed67-43bf-9d97-e3ae4dbafa12",
   "metadata": {},
   "outputs": [],
   "source": [
    "# comparision "
   ]
  },
  {
   "cell_type": "code",
   "execution_count": 40,
   "id": "5637eb0c-3f95-4286-b582-02f1d119b576",
   "metadata": {},
   "outputs": [],
   "source": [
    "a=[1,2,3]"
   ]
  },
  {
   "cell_type": "code",
   "execution_count": 41,
   "id": "80400b6f-ae68-4419-a0fd-da17c8dedaf7",
   "metadata": {},
   "outputs": [],
   "source": [
    "b=[1,2,3]"
   ]
  },
  {
   "cell_type": "code",
   "execution_count": 42,
   "id": "d578a1f3-f122-4f09-8281-4e967c6f0a5f",
   "metadata": {},
   "outputs": [],
   "source": [
    "c=[1,2,3,4]"
   ]
  },
  {
   "cell_type": "code",
   "execution_count": 43,
   "id": "33a70796-c831-4ddc-9a60-96f3f77c4f39",
   "metadata": {},
   "outputs": [
    {
     "data": {
      "text/plain": [
       "True"
      ]
     },
     "execution_count": 43,
     "metadata": {},
     "output_type": "execute_result"
    }
   ],
   "source": [
    "a==b"
   ]
  },
  {
   "cell_type": "code",
   "execution_count": 44,
   "id": "070c185e-9d79-4709-82e5-1dee602781f0",
   "metadata": {},
   "outputs": [
    {
     "data": {
      "text/plain": [
       "False"
      ]
     },
     "execution_count": 44,
     "metadata": {},
     "output_type": "execute_result"
    }
   ],
   "source": [
    "a==c"
   ]
  },
  {
   "cell_type": "code",
   "execution_count": 45,
   "id": "366a6755-9b62-453f-9640-af11d9045405",
   "metadata": {},
   "outputs": [
    {
     "data": {
      "text/plain": [
       "True"
      ]
     },
     "execution_count": 45,
     "metadata": {},
     "output_type": "execute_result"
    }
   ],
   "source": [
    "a<c  # this is true because a is subset of c "
   ]
  },
  {
   "cell_type": "code",
   "execution_count": 46,
   "id": "b39deb06-1ee8-42d8-8b3b-481dbd2002b0",
   "metadata": {},
   "outputs": [
    {
     "data": {
      "text/plain": [
       "True"
      ]
     },
     "execution_count": 46,
     "metadata": {},
     "output_type": "execute_result"
    }
   ],
   "source": [
    "c>=b"
   ]
  },
  {
   "cell_type": "code",
   "execution_count": 47,
   "id": "0b0f3470-6fa8-4e57-8173-4f49606cc853",
   "metadata": {},
   "outputs": [],
   "source": [
    "def cube_list(values):  # please note here it doesn't say we ned to pass list to this function , but if we pass anything other tan list it weill error out since inside ligic we are refering index number , i can pass anything as long as it is compatable \n",
    "    for i in range(len(values)):\n",
    "        values[i]**=3"
   ]
  },
  {
   "cell_type": "code",
   "execution_count": 49,
   "id": "20b7b088-0bff-40f0-a01c-aaeda9465ed6",
   "metadata": {},
   "outputs": [],
   "source": [
    "numbers=[1,2,3,4,5,6,7,8,9,10]"
   ]
  },
  {
   "cell_type": "code",
   "execution_count": 50,
   "id": "78da112a-50e7-4e4a-822e-b496e532daf2",
   "metadata": {},
   "outputs": [],
   "source": [
    "cube_list(numbers)"
   ]
  },
  {
   "cell_type": "code",
   "execution_count": 51,
   "id": "a88439c4-6029-4284-b6ce-111a4a187ed2",
   "metadata": {},
   "outputs": [
    {
     "data": {
      "text/plain": [
       "[1, 8, 27, 64, 125, 216, 343, 512, 729, 1000]"
      ]
     },
     "execution_count": 51,
     "metadata": {},
     "output_type": "execute_result"
    }
   ],
   "source": [
    "numbers"
   ]
  },
  {
   "cell_type": "code",
   "execution_count": 53,
   "id": "d7c9e95c-cc33-4e13-96f2-f025600b850e",
   "metadata": {},
   "outputs": [],
   "source": [
    "character=[]"
   ]
  },
  {
   "cell_type": "code",
   "execution_count": 54,
   "id": "156d2141-31da-483a-a2e9-907a9b73ebea",
   "metadata": {},
   "outputs": [],
   "source": [
    "character+='birthday'"
   ]
  },
  {
   "cell_type": "code",
   "execution_count": 55,
   "id": "daa46ac0-a6df-4553-a50d-586c23526a02",
   "metadata": {},
   "outputs": [
    {
     "data": {
      "text/plain": [
       "['b', 'i', 'r', 't', 'h', 'd', 'a', 'y']"
      ]
     },
     "execution_count": 55,
     "metadata": {},
     "output_type": "execute_result"
    }
   ],
   "source": [
    "character"
   ]
  },
  {
   "cell_type": "code",
   "execution_count": null,
   "id": "43e484b5-7424-422a-abae-72471021d77b",
   "metadata": {},
   "outputs": [],
   "source": [
    "# tuple  :   list of comma seperated element inside parathasis , we can create empty tuple ex:  () "
   ]
  },
  {
   "cell_type": "code",
   "execution_count": 1,
   "id": "3eacf9e8-fe6f-4fc3-9cb8-caeee270f0bd",
   "metadata": {},
   "outputs": [],
   "source": [
    "student_tuple=()"
   ]
  },
  {
   "cell_type": "code",
   "execution_count": 2,
   "id": "08ad09eb-1668-43f4-b0d7-bef0d50e7302",
   "metadata": {},
   "outputs": [
    {
     "data": {
      "text/plain": [
       "()"
      ]
     },
     "execution_count": 2,
     "metadata": {},
     "output_type": "execute_result"
    }
   ],
   "source": [
    "student_tuple"
   ]
  },
  {
   "cell_type": "code",
   "execution_count": 3,
   "id": "f1f6f0b5-3d80-47f6-8cad-89300bc3de3c",
   "metadata": {},
   "outputs": [
    {
     "data": {
      "text/plain": [
       "0"
      ]
     },
     "execution_count": 3,
     "metadata": {},
     "output_type": "execute_result"
    }
   ],
   "source": [
    "len(student_tuple)"
   ]
  },
  {
   "cell_type": "code",
   "execution_count": 4,
   "id": "0ee7bcf2-0ed5-4afd-a4ae-e0b9c2fd5167",
   "metadata": {},
   "outputs": [],
   "source": [
    "student_tuple='john','green',3.3  # this is alos a tuple without parathasis , it is commanlty grouped related data"
   ]
  },
  {
   "cell_type": "code",
   "execution_count": 5,
   "id": "1bd0a180-be32-4a3c-bfe0-6ebc9c34877d",
   "metadata": {},
   "outputs": [
    {
     "data": {
      "text/plain": [
       "('john', 'green', 3.3)"
      ]
     },
     "execution_count": 5,
     "metadata": {},
     "output_type": "execute_result"
    }
   ],
   "source": [
    "student_tuple"
   ]
  },
  {
   "cell_type": "code",
   "execution_count": 6,
   "id": "fc74457d-47fe-4200-a4ad-370e909b4394",
   "metadata": {},
   "outputs": [],
   "source": [
    "# if you see the output , pythos always use the paratasis while displaying "
   ]
  },
  {
   "cell_type": "code",
   "execution_count": 7,
   "id": "b0cc3201-6f57-4649-a88f-8519db6a9fb0",
   "metadata": {},
   "outputs": [
    {
     "data": {
      "text/plain": [
       "3"
      ]
     },
     "execution_count": 7,
     "metadata": {},
     "output_type": "execute_result"
    }
   ],
   "source": [
    "len(student_tuple)"
   ]
  },
  {
   "cell_type": "code",
   "execution_count": 8,
   "id": "0e13ea0d-3de7-4ab2-b4bc-29917d2680fa",
   "metadata": {},
   "outputs": [],
   "source": [
    "another_stud_tuple=('mary','Red',3.3)"
   ]
  },
  {
   "cell_type": "code",
   "execution_count": 9,
   "id": "c02645df-f976-40dd-ad38-f7039a5d6a57",
   "metadata": {},
   "outputs": [
    {
     "data": {
      "text/plain": [
       "('mary', 'Red', 3.3)"
      ]
     },
     "execution_count": 9,
     "metadata": {},
     "output_type": "execute_result"
    }
   ],
   "source": [
    "another_stud_tuple"
   ]
  },
  {
   "cell_type": "code",
   "execution_count": 10,
   "id": "315897a2-f3c5-4ce1-9e69-4ac6096cb1dd",
   "metadata": {},
   "outputs": [],
   "source": [
    "a_single_tuple=('red')"
   ]
  },
  {
   "cell_type": "code",
   "execution_count": 12,
   "id": "355ca4e0-0bd7-44e1-9333-7110aa819c9a",
   "metadata": {},
   "outputs": [
    {
     "data": {
      "text/plain": [
       "'red'"
      ]
     },
     "execution_count": 12,
     "metadata": {},
     "output_type": "execute_result"
    }
   ],
   "source": [
    "a_single_tuple # if you see , since we assigned the single values it consider as a string not a tuouple \n",
    "# parathisis not determine the touple , ot is the camma , will determine the tuple "
   ]
  },
  {
   "cell_type": "code",
   "execution_count": 13,
   "id": "8277d439-165c-4a48-bd66-e8e525914732",
   "metadata": {},
   "outputs": [],
   "source": [
    "a_single_tuple=('red',) # since now added the camma after that now it considered as touple "
   ]
  },
  {
   "cell_type": "code",
   "execution_count": 14,
   "id": "d20c2869-3e04-4526-9c93-2a119b3718bf",
   "metadata": {},
   "outputs": [
    {
     "data": {
      "text/plain": [
       "('red',)"
      ]
     },
     "execution_count": 14,
     "metadata": {},
     "output_type": "execute_result"
    }
   ],
   "source": [
    "a_single_tuple"
   ]
  },
  {
   "cell_type": "code",
   "execution_count": 15,
   "id": "f9b6f282-5498-4821-8f9b-ab3fbad96478",
   "metadata": {},
   "outputs": [],
   "source": [
    "# accessing the tuples "
   ]
  },
  {
   "cell_type": "code",
   "execution_count": 16,
   "id": "2a9ad844-ba7e-4f20-8a92-545a0637c85b",
   "metadata": {},
   "outputs": [],
   "source": [
    "time_tuple=(9,16,1)"
   ]
  },
  {
   "cell_type": "code",
   "execution_count": 17,
   "id": "b549ab01-fe47-4c92-8ebf-05f8a96afee5",
   "metadata": {},
   "outputs": [
    {
     "data": {
      "text/plain": [
       "(9, 16, 1)"
      ]
     },
     "execution_count": 17,
     "metadata": {},
     "output_type": "execute_result"
    }
   ],
   "source": [
    "time_tuple"
   ]
  },
  {
   "cell_type": "code",
   "execution_count": 18,
   "id": "cc31ff77-e32e-4233-9df3-e650e318a318",
   "metadata": {},
   "outputs": [
    {
     "data": {
      "text/plain": [
       "9"
      ]
     },
     "execution_count": 18,
     "metadata": {},
     "output_type": "execute_result"
    }
   ],
   "source": [
    "time_tuple[0] # index start from zero "
   ]
  },
  {
   "cell_type": "code",
   "execution_count": 19,
   "id": "2f2a4e37-1c52-4bf6-b4d7-13f3ab6604e4",
   "metadata": {},
   "outputs": [
    {
     "data": {
      "text/plain": [
       "1"
      ]
     },
     "execution_count": 19,
     "metadata": {},
     "output_type": "execute_result"
    }
   ],
   "source": [
    "time_tuple[2]"
   ]
  },
  {
   "cell_type": "code",
   "execution_count": 20,
   "id": "c1d23edd-732f-430a-bccc-4f08519c33e7",
   "metadata": {},
   "outputs": [
    {
     "data": {
      "text/plain": [
       "26"
      ]
     },
     "execution_count": 20,
     "metadata": {},
     "output_type": "execute_result"
    }
   ],
   "source": [
    "time_tuple[0]+time_tuple[1]+time_tuple[2]"
   ]
  },
  {
   "cell_type": "code",
   "execution_count": 22,
   "id": "18030784-1486-490c-aab3-c21613dfb93f",
   "metadata": {},
   "outputs": [],
   "source": [
    "tuple1=(10,20,30)"
   ]
  },
  {
   "cell_type": "code",
   "execution_count": 24,
   "id": "3b8712f5-12d1-490d-9e65-5213e0166f3b",
   "metadata": {},
   "outputs": [],
   "source": [
    "tuple2=tuple1  # this is a reference assignment ,result of this both of the variables refet to the same object in the memory"
   ]
  },
  {
   "cell_type": "code",
   "execution_count": 25,
   "id": "3b0ef307-3423-45bf-8e37-38e375c66422",
   "metadata": {},
   "outputs": [
    {
     "data": {
      "text/plain": [
       "(10, 20, 30)"
      ]
     },
     "execution_count": 25,
     "metadata": {},
     "output_type": "execute_result"
    }
   ],
   "source": [
    "tuple2"
   ]
  },
  {
   "cell_type": "code",
   "execution_count": 26,
   "id": "d610db80-1d9d-448e-85c8-d0e07c65a818",
   "metadata": {},
   "outputs": [
    {
     "data": {
      "text/plain": [
       "(10, 20, 30)"
      ]
     },
     "execution_count": 26,
     "metadata": {},
     "output_type": "execute_result"
    }
   ],
   "source": [
    "tuple1"
   ]
  },
  {
   "cell_type": "code",
   "execution_count": 27,
   "id": "e4c45fbb-2919-464a-9c93-8db6aa3daf91",
   "metadata": {},
   "outputs": [],
   "source": [
    "tuple1+=(40,50) # touple is immutable , instead modifying  python  ceate new object with touple1 and add new elements and the new object reference will assigne back to touple 1 "
   ]
  },
  {
   "cell_type": "code",
   "execution_count": 28,
   "id": "72da951b-90fd-46ff-9341-6542a5992c40",
   "metadata": {},
   "outputs": [
    {
     "data": {
      "text/plain": [
       "(10, 20, 30, 40, 50)"
      ]
     },
     "execution_count": 28,
     "metadata": {},
     "output_type": "execute_result"
    }
   ],
   "source": [
    "tuple1"
   ]
  },
  {
   "cell_type": "code",
   "execution_count": 29,
   "id": "53da7770-57e3-4007-876b-51bf02fdb4cf",
   "metadata": {},
   "outputs": [
    {
     "data": {
      "text/plain": [
       "(10, 20, 30)"
      ]
     },
     "execution_count": 29,
     "metadata": {},
     "output_type": "execute_result"
    }
   ],
   "source": [
    "tuple2"
   ]
  },
  {
   "cell_type": "code",
   "execution_count": 30,
   "id": "66e23c99-9b8f-48fa-b53c-9dffe7c9cfe6",
   "metadata": {},
   "outputs": [],
   "source": [
    "numbers=[1,2,3,4]"
   ]
  },
  {
   "cell_type": "code",
   "execution_count": 31,
   "id": "28e24c2f-e59a-4e3f-9fc5-72ec030b7d22",
   "metadata": {},
   "outputs": [],
   "source": [
    "numbers+=(6,7) # add tuple to list "
   ]
  },
  {
   "cell_type": "code",
   "execution_count": 32,
   "id": "c96a832a-fc17-4624-88c0-74222a324578",
   "metadata": {},
   "outputs": [
    {
     "data": {
      "text/plain": [
       "[1, 2, 3, 4, 6, 7]"
      ]
     },
     "execution_count": 32,
     "metadata": {},
     "output_type": "execute_result"
    }
   ],
   "source": [
    "numbers"
   ]
  },
  {
   "cell_type": "code",
   "execution_count": 33,
   "id": "b58e5810-c174-4128-82b2-b7c48327e06a",
   "metadata": {},
   "outputs": [],
   "source": [
    "# tuples are immutable but they are capable of storing mutable objects "
   ]
  },
  {
   "cell_type": "code",
   "execution_count": 34,
   "id": "bb698f1e-53cf-4ee9-863e-5220574f1de1",
   "metadata": {},
   "outputs": [],
   "source": [
    "student_tuple=('Amanda','Blue',[98,75,87])"
   ]
  },
  {
   "cell_type": "code",
   "execution_count": 35,
   "id": "408ce040-ce4d-4886-8805-afd362729628",
   "metadata": {},
   "outputs": [
    {
     "data": {
      "text/plain": [
       "('Amanda', 'Blue', [98, 75, 87])"
      ]
     },
     "execution_count": 35,
     "metadata": {},
     "output_type": "execute_result"
    }
   ],
   "source": [
    "student_tuple"
   ]
  },
  {
   "cell_type": "code",
   "execution_count": 36,
   "id": "0c546c2d-9695-471a-a114-cde367b7dc01",
   "metadata": {},
   "outputs": [
    {
     "data": {
      "text/plain": [
       "[98, 75, 87]"
      ]
     },
     "execution_count": 36,
     "metadata": {},
     "output_type": "execute_result"
    }
   ],
   "source": [
    "student_tuple[2]"
   ]
  },
  {
   "cell_type": "code",
   "execution_count": 37,
   "id": "3dbb1e32-93f0-4e60-95b2-c66b7c6ac236",
   "metadata": {},
   "outputs": [
    {
     "data": {
      "text/plain": [
       "75"
      ]
     },
     "execution_count": 37,
     "metadata": {},
     "output_type": "execute_result"
    }
   ],
   "source": [
    "student_tuple[2][1]"
   ]
  },
  {
   "cell_type": "code",
   "execution_count": 38,
   "id": "c1dddcb0-a8db-450f-8b6f-4ce1879214a1",
   "metadata": {},
   "outputs": [
    {
     "data": {
      "text/plain": [
       "98"
      ]
     },
     "execution_count": 38,
     "metadata": {},
     "output_type": "execute_result"
    }
   ],
   "source": [
    "student_tuple[2][0]"
   ]
  },
  {
   "cell_type": "code",
   "execution_count": 39,
   "id": "ae3cdda2-6013-4e7b-b366-416f5d706896",
   "metadata": {},
   "outputs": [],
   "source": [
    "student_tuple[2][0]=11"
   ]
  },
  {
   "cell_type": "code",
   "execution_count": 40,
   "id": "6f43603d-dab0-4563-87eb-7667a39ff667",
   "metadata": {},
   "outputs": [
    {
     "data": {
      "text/plain": [
       "('Amanda', 'Blue', [11, 75, 87])"
      ]
     },
     "execution_count": 40,
     "metadata": {},
     "output_type": "execute_result"
    }
   ],
   "source": [
    "student_tuple"
   ]
  },
  {
   "cell_type": "code",
   "execution_count": 47,
   "id": "be016af0-75a7-4c1b-83c4-7109ab1deab6",
   "metadata": {},
   "outputs": [],
   "source": [
    "single_elem_tuple=(123.45,)  # self check "
   ]
  },
  {
   "cell_type": "code",
   "execution_count": 48,
   "id": "ab28b216-4dd3-4a39-9daf-2cf38c51209f",
   "metadata": {},
   "outputs": [
    {
     "data": {
      "text/plain": [
       "(123.45,)"
      ]
     },
     "execution_count": 48,
     "metadata": {},
     "output_type": "execute_result"
    }
   ],
   "source": [
    "single_elem_tuple"
   ]
  },
  {
   "cell_type": "code",
   "execution_count": 44,
   "id": "157d1387-417d-4b95-8386-8028c7d4cdde",
   "metadata": {},
   "outputs": [],
   "source": [
    "list_1=[1,2,3]"
   ]
  },
  {
   "cell_type": "code",
   "execution_count": 45,
   "id": "ab79f053-fc93-48fb-a521-b855ae082d9f",
   "metadata": {},
   "outputs": [],
   "source": [
    "tuple_2=(4,5,6)"
   ]
  },
  {
   "cell_type": "code",
   "execution_count": 46,
   "id": "f276624f-e6b7-43a2-a5d6-b8c85adaae12",
   "metadata": {},
   "outputs": [
    {
     "ename": "TypeError",
     "evalue": "can only concatenate list (not \"tuple\") to list",
     "output_type": "error",
     "traceback": [
      "\u001b[1;31m---------------------------------------------------------------------------\u001b[0m",
      "\u001b[1;31mTypeError\u001b[0m                                 Traceback (most recent call last)",
      "\u001b[1;32m~\\AppData\\Local\\Temp\\ipykernel_20528\\3141453417.py\u001b[0m in \u001b[0;36m<module>\u001b[1;34m\u001b[0m\n\u001b[1;32m----> 1\u001b[1;33m \u001b[0mlist_1\u001b[0m\u001b[1;33m+\u001b[0m\u001b[0mtuple_2\u001b[0m\u001b[1;33m\u001b[0m\u001b[1;33m\u001b[0m\u001b[0m\n\u001b[0m",
      "\u001b[1;31mTypeError\u001b[0m: can only concatenate list (not \"tuple\") to list"
     ]
    }
   ],
   "source": [
    "list_1+tuple_2 # for concatination we nned have two same types "
   ]
  },
  {
   "cell_type": "code",
   "execution_count": 49,
   "id": "fc2aa9fd-67c6-4c87-972b-8d0a03ade7de",
   "metadata": {},
   "outputs": [],
   "source": [
    "# unpacking sequence of values "
   ]
  },
  {
   "cell_type": "code",
   "execution_count": 50,
   "id": "84c73fd6-f5a8-4cb4-a086-aa51112f4fbe",
   "metadata": {},
   "outputs": [],
   "source": [
    "student_tuple=('Amanda',[98,85,87])"
   ]
  },
  {
   "cell_type": "code",
   "execution_count": 51,
   "id": "2a2bd3e8-03a1-4d43-8bdc-4de6b773bc14",
   "metadata": {},
   "outputs": [],
   "source": [
    "first_name,grades=student_tuple #  tuple unpacking :->no of items must match , so we are assigning the tuple to two new varianles "
   ]
  },
  {
   "cell_type": "code",
   "execution_count": 52,
   "id": "5dc66f01-6999-4f30-af64-f399bd141fdb",
   "metadata": {},
   "outputs": [
    {
     "data": {
      "text/plain": [
       "'Amanda'"
      ]
     },
     "execution_count": 52,
     "metadata": {},
     "output_type": "execute_result"
    }
   ],
   "source": [
    "first_name"
   ]
  },
  {
   "cell_type": "code",
   "execution_count": 53,
   "id": "b4b505a2-bb12-4087-84a1-b0b023f9d05d",
   "metadata": {},
   "outputs": [
    {
     "data": {
      "text/plain": [
       "[98, 85, 87]"
      ]
     },
     "execution_count": 53,
     "metadata": {},
     "output_type": "execute_result"
    }
   ],
   "source": [
    "grades"
   ]
  },
  {
   "cell_type": "code",
   "execution_count": 54,
   "id": "237bbd97-6c47-4fd1-96be-f1ac1fc9068e",
   "metadata": {},
   "outputs": [],
   "source": [
    "first,second='hi' # string unpacking "
   ]
  },
  {
   "cell_type": "code",
   "execution_count": 55,
   "id": "4aa4f3c9-9c2b-41cb-82df-537ffacfec0b",
   "metadata": {},
   "outputs": [
    {
     "data": {
      "text/plain": [
       "'h'"
      ]
     },
     "execution_count": 55,
     "metadata": {},
     "output_type": "execute_result"
    }
   ],
   "source": [
    "first"
   ]
  },
  {
   "cell_type": "code",
   "execution_count": 56,
   "id": "dbcea16d-4cce-4d4b-97f4-fdb7e6c0581b",
   "metadata": {},
   "outputs": [
    {
     "data": {
      "text/plain": [
       "'i'"
      ]
     },
     "execution_count": 56,
     "metadata": {},
     "output_type": "execute_result"
    }
   ],
   "source": [
    "second"
   ]
  },
  {
   "cell_type": "code",
   "execution_count": 57,
   "id": "7571c034-4ab0-4d75-9481-12cb0d253963",
   "metadata": {},
   "outputs": [],
   "source": [
    "num1,num2,num3=[2,3,5] # list unpacking "
   ]
  },
  {
   "cell_type": "code",
   "execution_count": 58,
   "id": "55567627-cafd-4d27-b7f4-af38f04bbffc",
   "metadata": {},
   "outputs": [
    {
     "data": {
      "text/plain": [
       "2"
      ]
     },
     "execution_count": 58,
     "metadata": {},
     "output_type": "execute_result"
    }
   ],
   "source": [
    "num1"
   ]
  },
  {
   "cell_type": "code",
   "execution_count": 59,
   "id": "2eb4a60d-e19a-4396-854f-b66909323845",
   "metadata": {},
   "outputs": [
    {
     "data": {
      "text/plain": [
       "5"
      ]
     },
     "execution_count": 59,
     "metadata": {},
     "output_type": "execute_result"
    }
   ],
   "source": [
    "num3"
   ]
  },
  {
   "cell_type": "code",
   "execution_count": 60,
   "id": "66bf24f1-f849-4757-88d7-9cd1fdb1f571",
   "metadata": {},
   "outputs": [],
   "source": [
    "num1,num2,num3=range(10,40,10) # with range function , start with 10 upto 40 (not including 40) increment by 10"
   ]
  },
  {
   "cell_type": "code",
   "execution_count": 61,
   "id": "8942c6f3-5eef-4f41-8186-6ad0cfd19e88",
   "metadata": {},
   "outputs": [
    {
     "data": {
      "text/plain": [
       "10"
      ]
     },
     "execution_count": 61,
     "metadata": {},
     "output_type": "execute_result"
    }
   ],
   "source": [
    "num1"
   ]
  },
  {
   "cell_type": "code",
   "execution_count": 62,
   "id": "99de7b53-c0d7-4e62-a4bb-fb2aeffb047e",
   "metadata": {},
   "outputs": [
    {
     "data": {
      "text/plain": [
       "30"
      ]
     },
     "execution_count": 62,
     "metadata": {},
     "output_type": "execute_result"
    }
   ],
   "source": [
    "num3"
   ]
  },
  {
   "cell_type": "code",
   "execution_count": 63,
   "id": "6651cf2d-f6af-414f-a1d7-6652b266581b",
   "metadata": {},
   "outputs": [
    {
     "data": {
      "text/plain": [
       "20"
      ]
     },
     "execution_count": 63,
     "metadata": {},
     "output_type": "execute_result"
    }
   ],
   "source": [
    "num2"
   ]
  },
  {
   "cell_type": "code",
   "execution_count": 64,
   "id": "6e0a6bd6-5276-437e-ab4f-e1f24aa8ef1a",
   "metadata": {},
   "outputs": [],
   "source": [
    "num1=99"
   ]
  },
  {
   "cell_type": "code",
   "execution_count": 65,
   "id": "cdf459ae-a282-4a18-bf6b-40d3af2c2078",
   "metadata": {},
   "outputs": [],
   "source": [
    "num2=22"
   ]
  },
  {
   "cell_type": "code",
   "execution_count": 66,
   "id": "7b907a6f-2b20-4bca-b7c0-cb851657cb24",
   "metadata": {},
   "outputs": [],
   "source": [
    "# swap the values in a single statement with tuple , since we added these variables num1,num2 inside () it treat as tuple and unpack the tuple "
   ]
  },
  {
   "cell_type": "code",
   "execution_count": 67,
   "id": "73659038-671a-43ee-a958-4cf2834d3540",
   "metadata": {},
   "outputs": [],
   "source": [
    "num1,num2=(num2,num1)"
   ]
  },
  {
   "cell_type": "code",
   "execution_count": 68,
   "id": "4aa3d22f-ec27-49d6-84ce-ad1923d6431a",
   "metadata": {},
   "outputs": [
    {
     "data": {
      "text/plain": [
       "22"
      ]
     },
     "execution_count": 68,
     "metadata": {},
     "output_type": "execute_result"
    }
   ],
   "source": [
    "num1"
   ]
  },
  {
   "cell_type": "code",
   "execution_count": 69,
   "id": "2c2aadd8-effb-4900-8cc6-f8c95fd42901",
   "metadata": {},
   "outputs": [
    {
     "data": {
      "text/plain": [
       "99"
      ]
     },
     "execution_count": 69,
     "metadata": {},
     "output_type": "execute_result"
    }
   ],
   "source": [
    "num2"
   ]
  },
  {
   "cell_type": "code",
   "execution_count": 70,
   "id": "138da726-87a7-41e5-b073-c4ff0ba1b030",
   "metadata": {},
   "outputs": [],
   "source": [
    "color=['red','orange','yellow']"
   ]
  },
  {
   "cell_type": "code",
   "execution_count": 71,
   "id": "0bfcaf72-de16-4179-aab3-4975e029a5ed",
   "metadata": {},
   "outputs": [
    {
     "data": {
      "text/plain": [
       "[(0, 'red'), (1, 'orange'), (2, 'yellow')]"
      ]
     },
     "execution_count": 71,
     "metadata": {},
     "output_type": "execute_result"
    }
   ],
   "source": [
    "list(enumerate(color))  # so this enumerate will generae a sequence of tuples , which each tuple constain two elements one is index number and the another the value for the corresponding element\n",
    "# this list function , the the sequence as an argument and turn it into list object"
   ]
  },
  {
   "cell_type": "code",
   "execution_count": 72,
   "id": "7677526e-4694-45aa-bb5f-0de10ec80046",
   "metadata": {},
   "outputs": [],
   "source": [
    "# so here we have list contain tuples "
   ]
  },
  {
   "cell_type": "code",
   "execution_count": 74,
   "id": "57345830-766d-4ad3-8836-beeb34498b3e",
   "metadata": {},
   "outputs": [
    {
     "data": {
      "text/plain": [
       "((0, 'red'), (1, 'orange'), (2, 'yellow'))"
      ]
     },
     "execution_count": 74,
     "metadata": {},
     "output_type": "execute_result"
    }
   ],
   "source": [
    "tuple(enumerate(color))  # tuple inside a tuple "
   ]
  },
  {
   "cell_type": "code",
   "execution_count": 75,
   "id": "49ce92fb-1b79-4dd5-9035-ef6f7c39b172",
   "metadata": {},
   "outputs": [
    {
     "name": "stdout",
     "output_type": "stream",
     "text": [
      "0 : red\n",
      "1 : orange\n",
      "2 : yellow\n"
     ]
    }
   ],
   "source": [
    "for index,value in enumerate(color):\n",
    "    print(f'{index} : {value}')\n",
    "    \n",
    "    \n",
    "# here this will unpack the enumerate-color tuple and assign the values into index and value \n",
    "    "
   ]
  },
  {
   "cell_type": "code",
   "execution_count": 78,
   "id": "f490b424-6b87-4395-91b2-18910592fe2b",
   "metadata": {},
   "outputs": [
    {
     "name": "stdout",
     "output_type": "stream",
     "text": [
      "\n",
      "Creating a bar chart from numbers:\n",
      "Index   Value   Bar\n",
      "    0      19   *******************\n",
      "    1       3   ***\n",
      "    2      15   ***************\n",
      "    3       7   *******\n",
      "    4      11   ***********\n"
     ]
    }
   ],
   "source": [
    "%run fig05_01.py"
   ]
  },
  {
   "cell_type": "code",
   "execution_count": 79,
   "id": "d27d9c95-71af-4047-8c4f-2830a711b254",
   "metadata": {},
   "outputs": [],
   "source": [
    "# %load fig05_01.py\n",
    "# fig05_01.py\n",
    "\"\"\"Displaying a bar chart\"\"\"\n",
    "numbers = [19, 3, 15, 7, 11]\n",
    "\n",
    "print('\\nCreating a bar chart from numbers:')\n",
    "print(f'Index{\"Value\":>8}   Bar')\n",
    "\n",
    "for index, value in enumerate(numbers):\n",
    "    print(f'{index:>5}{value:>8}   {\"*\" * value}')\n",
    "\n",
    "\n",
    "#**************************************************************************\n",
    "#* (C) Copyright 1992-2018 by Deitel & Associates, Inc. and               *\n",
    "#* Pearson Education, Inc. All Rights Reserved.                           *\n",
    "#*                                                                        *\n",
    "#* DISCLAIMER: The authors and publisher of this book have used their     *\n",
    "#* best efforts in preparing the book. These efforts include the          *\n",
    "#* development, research, and testing of the theories and programs        *\n",
    "#* to determine their effectiveness. The authors and publisher make       *\n",
    "#* no warranty of any kind, expressed or implied, with regard to these    *\n",
    "#* programs or to the documentation contained in these books. The authors *\n",
    "#* and publisher shall not be liable in any event for incidental or       *\n",
    "#* consequential damages in connection with, or arising out of, the       *\n",
    "#* furnishing, performance, or use of these programs.                     *\n",
    "#**************************************************************************\n"
   ]
  },
  {
   "cell_type": "code",
   "execution_count": 80,
   "id": "c7eaea65-1abf-473a-94c6-b1e208aa9aae",
   "metadata": {},
   "outputs": [
    {
     "data": {
      "text/plain": [
       "'**'"
      ]
     },
     "execution_count": 80,
     "metadata": {},
     "output_type": "execute_result"
    }
   ],
   "source": [
    "\"*\"*2  # if you want to repeat any string , just give the sting in double quotes and multiply with the number that you wat to repeat "
   ]
  },
  {
   "cell_type": "code",
   "execution_count": 81,
   "id": "fff26709-96ae-4be1-bc1f-71f739638a2d",
   "metadata": {},
   "outputs": [
    {
     "data": {
      "text/plain": [
       "'!!!'"
      ]
     },
     "execution_count": 81,
     "metadata": {},
     "output_type": "execute_result"
    }
   ],
   "source": [
    "\"!\"*3"
   ]
  },
  {
   "cell_type": "code",
   "execution_count": 82,
   "id": "876c2b78-9c31-4f0d-bde3-05bd5a0179ba",
   "metadata": {},
   "outputs": [
    {
     "data": {
      "text/plain": [
       "'#####'"
      ]
     },
     "execution_count": 82,
     "metadata": {},
     "output_type": "execute_result"
    }
   ],
   "source": [
    "\"#\"*5"
   ]
  },
  {
   "cell_type": "code",
   "execution_count": 83,
   "id": "408967c9-186d-4dde-b68f-c392ef7b13f8",
   "metadata": {},
   "outputs": [
    {
     "data": {
      "text/plain": [
       "'RR'"
      ]
     },
     "execution_count": 83,
     "metadata": {},
     "output_type": "execute_result"
    }
   ],
   "source": [
    "\"R\"*2"
   ]
  },
  {
   "cell_type": "code",
   "execution_count": 84,
   "id": "efc08939-0998-4dfa-87e5-07765227b716",
   "metadata": {},
   "outputs": [],
   "source": [
    "#self check "
   ]
  },
  {
   "cell_type": "code",
   "execution_count": 85,
   "id": "21ad7272-694e-49fc-84dd-7e1475c37fb2",
   "metadata": {},
   "outputs": [],
   "source": [
    "high_low=('Monday',87,65)"
   ]
  },
  {
   "cell_type": "code",
   "execution_count": 86,
   "id": "b3b72b7c-560e-43bd-ab95-c7f3e5c82551",
   "metadata": {},
   "outputs": [
    {
     "data": {
      "text/plain": [
       "('Monday', 87, 65)"
      ]
     },
     "execution_count": 86,
     "metadata": {},
     "output_type": "execute_result"
    }
   ],
   "source": [
    "high_low"
   ]
  },
  {
   "cell_type": "code",
   "execution_count": 87,
   "id": "37085136-0dc5-4ef0-afae-e4bfab2e0b31",
   "metadata": {},
   "outputs": [
    {
     "name": "stdout",
     "output_type": "stream",
     "text": [
      "Monday : high =87,low=65\n"
     ]
    }
   ],
   "source": [
    "print(f'{high_low[0]} : high ={high_low[1]},low={high_low[2]}')"
   ]
  },
  {
   "cell_type": "code",
   "execution_count": 88,
   "id": "b4e589d6-28f1-45f3-b2eb-75b314490a8d",
   "metadata": {},
   "outputs": [
    {
     "ename": "ValueError",
     "evalue": "too many values to unpack (expected 2)",
     "output_type": "error",
     "traceback": [
      "\u001b[1;31m---------------------------------------------------------------------------\u001b[0m",
      "\u001b[1;31mValueError\u001b[0m                                Traceback (most recent call last)",
      "\u001b[1;32m~\\AppData\\Local\\Temp\\ipykernel_20528\\502631021.py\u001b[0m in \u001b[0;36m<module>\u001b[1;34m\u001b[0m\n\u001b[1;32m----> 1\u001b[1;33m \u001b[0mday\u001b[0m\u001b[1;33m,\u001b[0m\u001b[0mhigh\u001b[0m\u001b[1;33m=\u001b[0m\u001b[0mhigh_low\u001b[0m\u001b[1;33m\u001b[0m\u001b[1;33m\u001b[0m\u001b[0m\n\u001b[0m",
      "\u001b[1;31mValueError\u001b[0m: too many values to unpack (expected 2)"
     ]
    }
   ],
   "source": [
    "day,high=high_low # to unpack the tuple , the no of variables must be same in left side "
   ]
  },
  {
   "cell_type": "code",
   "execution_count": 89,
   "id": "faa5145b-02ec-4d5d-a9e9-11e489b8c427",
   "metadata": {},
   "outputs": [],
   "source": [
    "names=['Amanda','Sam','David']\n",
    "    "
   ]
  },
  {
   "cell_type": "code",
   "execution_count": 90,
   "id": "52c7ed15-e55d-4687-af79-a6143275e4a8",
   "metadata": {},
   "outputs": [
    {
     "data": {
      "text/plain": [
       "['Amanda', 'Sam', 'David']"
      ]
     },
     "execution_count": 90,
     "metadata": {},
     "output_type": "execute_result"
    }
   ],
   "source": [
    "names"
   ]
  },
  {
   "cell_type": "code",
   "execution_count": 92,
   "id": "f4fc4dbd-3bdf-4592-a8d6-23e0036e2554",
   "metadata": {},
   "outputs": [
    {
     "name": "stdout",
     "output_type": "stream",
     "text": [
      "0:Amanda\n",
      "1:Sam\n",
      "2:David\n"
     ]
    }
   ],
   "source": [
    "for i,name in enumerate(names):\n",
    "    print(f'{i}:{name}')"
   ]
  },
  {
   "cell_type": "code",
   "execution_count": 93,
   "id": "e3597699-62c3-4be8-9626-6e5117127bed",
   "metadata": {},
   "outputs": [],
   "source": [
    "# subset of sequence of values  : slicing techniques "
   ]
  },
  {
   "cell_type": "code",
   "execution_count": 94,
   "id": "fa5f0fe3-b319-4bee-8ed1-bd4202d23bc4",
   "metadata": {},
   "outputs": [],
   "source": [
    "numbers =[2,3,5,7,11,13,17,19]"
   ]
  },
  {
   "cell_type": "code",
   "execution_count": 95,
   "id": "88efa97a-fdb0-4b3f-a01c-c9080f1c9e2c",
   "metadata": {},
   "outputs": [
    {
     "data": {
      "text/plain": [
       "[2, 3, 5, 7, 11, 13, 17, 19]"
      ]
     },
     "execution_count": 95,
     "metadata": {},
     "output_type": "execute_result"
    }
   ],
   "source": [
    "numbers"
   ]
  },
  {
   "cell_type": "code",
   "execution_count": 96,
   "id": "3ec8a415-7911-4328-9b4a-bb707eea88b4",
   "metadata": {},
   "outputs": [
    {
     "data": {
      "text/plain": [
       "[5, 7, 11, 13]"
      ]
     },
     "execution_count": 96,
     "metadata": {},
     "output_type": "execute_result"
    }
   ],
   "source": [
    "numbers[2:6] # start from index 2 and upto 6 (not inclusing 6)"
   ]
  },
  {
   "cell_type": "code",
   "execution_count": 97,
   "id": "64c540f5-fbff-41b2-b7ce-53ddedf4e6a2",
   "metadata": {},
   "outputs": [
    {
     "data": {
      "text/plain": [
       "[2, 3, 5, 7, 11, 13]"
      ]
     },
     "execution_count": 97,
     "metadata": {},
     "output_type": "execute_result"
    }
   ],
   "source": [
    "numbers[:6] # start from 0 and upto 6 (not include 6)  which is equal to numbers[0:6]"
   ]
  },
  {
   "cell_type": "code",
   "execution_count": 98,
   "id": "e453a2da-d79b-4333-8edb-bc4f333e6a0e",
   "metadata": {},
   "outputs": [
    {
     "data": {
      "text/plain": [
       "[17, 19]"
      ]
     },
     "execution_count": 98,
     "metadata": {},
     "output_type": "execute_result"
    }
   ],
   "source": [
    "numbers[6:] # start from index 6 and to end of the list "
   ]
  },
  {
   "cell_type": "code",
   "execution_count": 100,
   "id": "5dc88fad-ef2a-406f-b576-e41e0a6b23fc",
   "metadata": {},
   "outputs": [
    {
     "data": {
      "text/plain": [
       "[5, 7, 11, 13]"
      ]
     },
     "execution_count": 100,
     "metadata": {},
     "output_type": "execute_result"
    }
   ],
   "source": [
    "numbers[2:-2] # start fron index 2 and end at second from last "
   ]
  },
  {
   "cell_type": "code",
   "execution_count": 102,
   "id": "5f3a6eeb-7ab9-4283-b7a8-5782bbe3bd7d",
   "metadata": {},
   "outputs": [
    {
     "data": {
      "text/plain": [
       "[17, 19]"
      ]
     },
     "execution_count": 102,
     "metadata": {},
     "output_type": "execute_result"
    }
   ],
   "source": [
    "numbers[6:len(numbers)]"
   ]
  },
  {
   "cell_type": "code",
   "execution_count": 103,
   "id": "5293e0b7-9802-49a3-99b3-137ae5b6faa1",
   "metadata": {},
   "outputs": [
    {
     "data": {
      "text/plain": [
       "[2, 3, 5, 7, 11, 13, 17, 19]"
      ]
     },
     "execution_count": 103,
     "metadata": {},
     "output_type": "execute_result"
    }
   ],
   "source": [
    "numbers[:] # it treat start from 0 and upto end of the list , this is useful if we want to coopy a list "
   ]
  },
  {
   "cell_type": "code",
   "execution_count": 104,
   "id": "588a35cf-fab6-4191-a7f9-cef563f8bd3e",
   "metadata": {},
   "outputs": [
    {
     "data": {
      "text/plain": [
       "[2, 5, 11, 17]"
      ]
     },
     "execution_count": 104,
     "metadata": {},
     "output_type": "execute_result"
    }
   ],
   "source": [
    "numbers[::2] # it indictes first : will consider start from 0 second : will consider lenth of list and third argument value 2 instruct python to select every 2nd element \n",
    "# it means postion 0 and position 2 and position 4 and position 6 like so .....\n",
    "# this is alos same functionality as range function range(10,40,10) , 1)start from 10 2) untill 40 and 3)increment by 10 "
   ]
  },
  {
   "cell_type": "code",
   "execution_count": 105,
   "id": "c9f32f29-75a5-4ffa-9eb0-e3ecac572330",
   "metadata": {},
   "outputs": [
    {
     "data": {
      "text/plain": [
       "[19, 17, 13, 11, 7, 5, 3, 2]"
      ]
     },
     "execution_count": 105,
     "metadata": {},
     "output_type": "execute_result"
    }
   ],
   "source": [
    "numbers[::-1] # start from 0 untill end and in reverse order (start from negetive step )"
   ]
  },
  {
   "cell_type": "code",
   "execution_count": 1,
   "id": "804fb4e7-6fbe-4240-9a14-2e69c4470d5e",
   "metadata": {},
   "outputs": [],
   "source": [
    "# modify the content of list by slicing operator"
   ]
  },
  {
   "cell_type": "code",
   "execution_count": 4,
   "id": "4c4a5842-2479-4b23-ad70-d03e1bbbad81",
   "metadata": {},
   "outputs": [],
   "source": [
    "numbers=[2,3,5,7,11,13,17,19]"
   ]
  },
  {
   "cell_type": "code",
   "execution_count": 5,
   "id": "85e3ced9-9f0f-4c7a-87cf-ec0cf5a06c82",
   "metadata": {},
   "outputs": [
    {
     "data": {
      "text/plain": [
       "[2, 3, 5, 7, 11, 13, 17, 19]"
      ]
     },
     "execution_count": 5,
     "metadata": {},
     "output_type": "execute_result"
    }
   ],
   "source": [
    "numbers"
   ]
  },
  {
   "cell_type": "code",
   "execution_count": 6,
   "id": "4dfd81f7-551b-4a5e-bff1-bb2ef23b767c",
   "metadata": {},
   "outputs": [
    {
     "data": {
      "text/plain": [
       "[2, 3, 5]"
      ]
     },
     "execution_count": 6,
     "metadata": {},
     "output_type": "execute_result"
    }
   ],
   "source": [
    "numbers[0:3]"
   ]
  },
  {
   "cell_type": "code",
   "execution_count": 7,
   "id": "c93fc026-6866-45ef-8f22-24b3179cf5d2",
   "metadata": {},
   "outputs": [],
   "source": [
    "numbers[0:3]=['two','three','five']"
   ]
  },
  {
   "cell_type": "code",
   "execution_count": 8,
   "id": "9423ccdc-3768-4737-abd0-af460da14291",
   "metadata": {},
   "outputs": [
    {
     "data": {
      "text/plain": [
       "['two', 'three', 'five', 7, 11, 13, 17, 19]"
      ]
     },
     "execution_count": 8,
     "metadata": {},
     "output_type": "execute_result"
    }
   ],
   "source": [
    "numbers"
   ]
  },
  {
   "cell_type": "code",
   "execution_count": 9,
   "id": "4b5a653b-7986-4eae-9dfa-cb2db0e722c0",
   "metadata": {},
   "outputs": [],
   "source": [
    "# delete elemenmt by slice "
   ]
  },
  {
   "cell_type": "code",
   "execution_count": 10,
   "id": "ec56c794-3688-4922-a2f4-75c460972329",
   "metadata": {},
   "outputs": [],
   "source": [
    "numbers[0:3]=[] # if we assigning the empty list that literally says delete the element from 0 to 3"
   ]
  },
  {
   "cell_type": "code",
   "execution_count": 11,
   "id": "fcbd3e61-a3fc-4bf3-ac9c-bc9d217f1838",
   "metadata": {},
   "outputs": [
    {
     "data": {
      "text/plain": [
       "[7, 11, 13, 17, 19]"
      ]
     },
     "execution_count": 11,
     "metadata": {},
     "output_type": "execute_result"
    }
   ],
   "source": [
    "numbers"
   ]
  },
  {
   "cell_type": "code",
   "execution_count": 12,
   "id": "4b8ceb9d-f863-4b51-82c0-fc6d5a69d6b7",
   "metadata": {},
   "outputs": [],
   "source": [
    "numbers=[2,3,5,7,11,13,17,19]"
   ]
  },
  {
   "cell_type": "code",
   "execution_count": 13,
   "id": "c3a94a2c-a6ff-4712-b351-ce9489ac97ca",
   "metadata": {},
   "outputs": [
    {
     "data": {
      "text/plain": [
       "[2, 3, 5, 7, 11, 13, 17, 19]"
      ]
     },
     "execution_count": 13,
     "metadata": {},
     "output_type": "execute_result"
    }
   ],
   "source": [
    "numbers"
   ]
  },
  {
   "cell_type": "code",
   "execution_count": 16,
   "id": "f2964ce1-3972-41cc-9cb1-11948d4785c1",
   "metadata": {},
   "outputs": [],
   "source": [
    "numbers[::2]=[100,100,100,100]"
   ]
  },
  {
   "cell_type": "code",
   "execution_count": 17,
   "id": "464ae8b6-b614-4d25-9260-bb35cf7b1d34",
   "metadata": {},
   "outputs": [
    {
     "data": {
      "text/plain": [
       "[100, 3, 100, 7, 100, 13, 100, 19]"
      ]
     },
     "execution_count": 17,
     "metadata": {},
     "output_type": "execute_result"
    }
   ],
   "source": [
    "numbers"
   ]
  },
  {
   "cell_type": "code",
   "execution_count": 18,
   "id": "e925dc37-911e-4eda-9786-847fb2242792",
   "metadata": {},
   "outputs": [
    {
     "data": {
      "text/plain": [
       "1663766720704"
      ]
     },
     "execution_count": 18,
     "metadata": {},
     "output_type": "execute_result"
    }
   ],
   "source": [
    "id(numbers)"
   ]
  },
  {
   "cell_type": "code",
   "execution_count": 19,
   "id": "40cc3081-8ba8-449a-9bc3-3fafd2a8ec98",
   "metadata": {},
   "outputs": [],
   "source": [
    "numbers[:]=[]"
   ]
  },
  {
   "cell_type": "code",
   "execution_count": 20,
   "id": "fa219313-4526-4381-958a-a2227d022716",
   "metadata": {},
   "outputs": [
    {
     "data": {
      "text/plain": [
       "[]"
      ]
     },
     "execution_count": 20,
     "metadata": {},
     "output_type": "execute_result"
    }
   ],
   "source": [
    "numbers"
   ]
  },
  {
   "cell_type": "code",
   "execution_count": 22,
   "id": "a71579c0-b059-48d5-a87e-74ce107ce00b",
   "metadata": {},
   "outputs": [
    {
     "data": {
      "text/plain": [
       "1663766720704"
      ]
     },
     "execution_count": 22,
     "metadata": {},
     "output_type": "execute_result"
    }
   ],
   "source": [
    "id(numbers) # reference number is same  , since we modified the existing object list "
   ]
  },
  {
   "cell_type": "code",
   "execution_count": 23,
   "id": "ab9ac7af-5c02-4eda-9d45-e2bd8b9f51be",
   "metadata": {},
   "outputs": [],
   "source": [
    "numbers=[]  # this consider physically new object "
   ]
  },
  {
   "cell_type": "code",
   "execution_count": 24,
   "id": "7721d5c5-11e6-47d6-987d-bf96992bacf9",
   "metadata": {},
   "outputs": [
    {
     "data": {
      "text/plain": [
       "[]"
      ]
     },
     "execution_count": 24,
     "metadata": {},
     "output_type": "execute_result"
    }
   ],
   "source": [
    "numbers"
   ]
  },
  {
   "cell_type": "code",
   "execution_count": 26,
   "id": "046b6067-6d67-4d55-b27d-e08cd44b5abc",
   "metadata": {},
   "outputs": [
    {
     "data": {
      "text/plain": [
       "1663766409920"
      ]
     },
     "execution_count": 26,
     "metadata": {},
     "output_type": "execute_result"
    }
   ],
   "source": [
    "id(numbers) # that is why the refernec number is different "
   ]
  },
  {
   "cell_type": "code",
   "execution_count": 27,
   "id": "64f32fe5-02cb-4cf4-9d1f-dbd43d0b7e07",
   "metadata": {},
   "outputs": [],
   "source": [
    "#serlf check "
   ]
  },
  {
   "cell_type": "code",
   "execution_count": 53,
   "id": "4ef685e1-b81b-4ca7-8ee7-43c3b8a6171f",
   "metadata": {},
   "outputs": [],
   "source": [
    "numbers=[1,2,3,4,5,6,7,8,9,10,11,12,13,14,15]  # or you can do this way numbers=list(range(1,16))"
   ]
  },
  {
   "cell_type": "code",
   "execution_count": 54,
   "id": "80f09806-866c-4d69-94e7-eed996c9ff0e",
   "metadata": {},
   "outputs": [
    {
     "data": {
      "text/plain": [
       "[1, 2, 3, 4, 5, 6, 7, 8, 9, 10, 11, 12, 13, 14, 15]"
      ]
     },
     "execution_count": 54,
     "metadata": {},
     "output_type": "execute_result"
    }
   ],
   "source": [
    "numbers"
   ]
  },
  {
   "cell_type": "code",
   "execution_count": 35,
   "id": "f1107d89-a92b-4ce6-aa05-d38ad8346e4d",
   "metadata": {},
   "outputs": [
    {
     "data": {
      "text/plain": [
       "[2, 4, 6, 8, 10, 12, 14]"
      ]
     },
     "execution_count": 35,
     "metadata": {},
     "output_type": "execute_result"
    }
   ],
   "source": [
    "numbers[1::2]   # display only even numbers "
   ]
  },
  {
   "cell_type": "code",
   "execution_count": 55,
   "id": "20cb85a9-866c-472f-8a79-f8671cc02837",
   "metadata": {},
   "outputs": [],
   "source": [
    "numbers[5:9]=[0,0,0,0] # or you can do numbers[5:9]=[*]*len(numbers[5:9])"
   ]
  },
  {
   "cell_type": "code",
   "execution_count": 56,
   "id": "2b30e57c-3517-417b-a4a7-13881b209b4f",
   "metadata": {},
   "outputs": [
    {
     "data": {
      "text/plain": [
       "[1, 2, 3, 4, 5, 0, 0, 0, 0, 10, 11, 12, 13, 14, 15]"
      ]
     },
     "execution_count": 56,
     "metadata": {},
     "output_type": "execute_result"
    }
   ],
   "source": [
    "numbers"
   ]
  },
  {
   "cell_type": "code",
   "execution_count": 44,
   "id": "a0b12642-a6ce-455e-a89d-056c4eb88ec1",
   "metadata": {},
   "outputs": [
    {
     "data": {
      "text/plain": [
       "[0, 0, 0, 0]"
      ]
     },
     "execution_count": 44,
     "metadata": {},
     "output_type": "execute_result"
    }
   ],
   "source": [
    "numbers[5:9]"
   ]
  },
  {
   "cell_type": "code",
   "execution_count": 45,
   "id": "999d0d98-1b9e-46fd-8a98-edad53cfc8c2",
   "metadata": {},
   "outputs": [],
   "source": [
    "numbers[5:]=[] # keep only first five elements "
   ]
  },
  {
   "cell_type": "code",
   "execution_count": 46,
   "id": "ed20ee11-671b-4f92-952b-f7c704a8e0de",
   "metadata": {},
   "outputs": [
    {
     "data": {
      "text/plain": [
       "[1, 2, 3, 4, 5]"
      ]
     },
     "execution_count": 46,
     "metadata": {},
     "output_type": "execute_result"
    }
   ],
   "source": [
    "numbers"
   ]
  },
  {
   "cell_type": "code",
   "execution_count": 47,
   "id": "37dd2f45-4b45-4fce-a6be-f5dbb802c3ba",
   "metadata": {},
   "outputs": [],
   "source": [
    "numbers[:]=[] # delete remaining elements "
   ]
  },
  {
   "cell_type": "code",
   "execution_count": 48,
   "id": "b724d6c5-e445-4d5d-ae51-ba6fad0dbb64",
   "metadata": {},
   "outputs": [
    {
     "data": {
      "text/plain": [
       "[]"
      ]
     },
     "execution_count": 48,
     "metadata": {},
     "output_type": "execute_result"
    }
   ],
   "source": [
    "numbers"
   ]
  },
  {
   "cell_type": "code",
   "execution_count": 49,
   "id": "15ccc660-d21f-40ac-b6ab-3b0839800015",
   "metadata": {},
   "outputs": [
    {
     "data": {
      "text/plain": [
       "[0, 0, 0, 0, 0]"
      ]
     },
     "execution_count": 49,
     "metadata": {},
     "output_type": "execute_result"
    }
   ],
   "source": [
    "[0]*5 # tried example hear "
   ]
  },
  {
   "cell_type": "code",
   "execution_count": 50,
   "id": "09096b31-e49a-4a2c-b6bd-d9124b81a69e",
   "metadata": {},
   "outputs": [
    {
     "data": {
      "text/plain": [
       "0"
      ]
     },
     "execution_count": 50,
     "metadata": {},
     "output_type": "execute_result"
    }
   ],
   "source": [
    "(0)"
   ]
  },
  {
   "cell_type": "code",
   "execution_count": 51,
   "id": "2aa64f46-494c-42f8-bd88-a8868d144688",
   "metadata": {},
   "outputs": [
    {
     "data": {
      "text/plain": [
       "0"
      ]
     },
     "execution_count": 51,
     "metadata": {},
     "output_type": "execute_result"
    }
   ],
   "source": [
    "(0)*5"
   ]
  },
  {
   "cell_type": "code",
   "execution_count": 58,
   "id": "203000ab-65d5-48f0-8a8e-9ed5a55a968b",
   "metadata": {},
   "outputs": [],
   "source": [
    "# another way to delete element from list which is del method , it not only delete the elements for list it also delete the variable form python session "
   ]
  },
  {
   "cell_type": "code",
   "execution_count": 61,
   "id": "e4203f53-414b-4f23-94bb-8401c0b3177b",
   "metadata": {},
   "outputs": [],
   "source": [
    "numbers=list(range(1,10))"
   ]
  },
  {
   "cell_type": "code",
   "execution_count": 62,
   "id": "bcd36d4c-723d-4515-aa55-0a5c5a804e9d",
   "metadata": {},
   "outputs": [
    {
     "data": {
      "text/plain": [
       "[1, 2, 3, 4, 5, 6, 7, 8, 9]"
      ]
     },
     "execution_count": 62,
     "metadata": {},
     "output_type": "execute_result"
    }
   ],
   "source": [
    "numbers"
   ]
  },
  {
   "cell_type": "code",
   "execution_count": 63,
   "id": "65472905-588b-47ae-b2d6-dc6f7171b0fd",
   "metadata": {},
   "outputs": [],
   "source": [
    "del numbers[-1] # delete last element "
   ]
  },
  {
   "cell_type": "code",
   "execution_count": 64,
   "id": "06d65dd3-f90a-4d52-b997-1819ee825ba7",
   "metadata": {},
   "outputs": [
    {
     "data": {
      "text/plain": [
       "[1, 2, 3, 4, 5, 6, 7, 8]"
      ]
     },
     "execution_count": 64,
     "metadata": {},
     "output_type": "execute_result"
    }
   ],
   "source": [
    "numbers"
   ]
  },
  {
   "cell_type": "code",
   "execution_count": 65,
   "id": "01d64812-9cd1-4501-94f9-4d5e694d24b2",
   "metadata": {},
   "outputs": [],
   "source": [
    "del numbers[0:2] # delete from index 0 to 2 "
   ]
  },
  {
   "cell_type": "code",
   "execution_count": 66,
   "id": "c79ebbc3-ce2c-4147-b13c-8b382688c7ea",
   "metadata": {},
   "outputs": [
    {
     "data": {
      "text/plain": [
       "[3, 4, 5, 6, 7, 8]"
      ]
     },
     "execution_count": 66,
     "metadata": {},
     "output_type": "execute_result"
    }
   ],
   "source": [
    "numbers"
   ]
  },
  {
   "cell_type": "code",
   "execution_count": 67,
   "id": "9a24e840-e379-44e9-b811-4d0bbd840306",
   "metadata": {},
   "outputs": [],
   "source": [
    "del numbers[::2] # delete everyother element "
   ]
  },
  {
   "cell_type": "code",
   "execution_count": 68,
   "id": "b3b65461-27fc-48f0-8b5f-026bf6a3afb7",
   "metadata": {},
   "outputs": [
    {
     "data": {
      "text/plain": [
       "[4, 6, 8]"
      ]
     },
     "execution_count": 68,
     "metadata": {},
     "output_type": "execute_result"
    }
   ],
   "source": [
    "numbers"
   ]
  },
  {
   "cell_type": "code",
   "execution_count": 69,
   "id": "4527a68a-2ba3-49e5-b222-ab61b06b36eb",
   "metadata": {},
   "outputs": [],
   "source": [
    "del numbers[:]"
   ]
  },
  {
   "cell_type": "code",
   "execution_count": 70,
   "id": "fe15bd11-0f0c-4a99-a3f3-6ae9bdc24bec",
   "metadata": {},
   "outputs": [
    {
     "data": {
      "text/plain": [
       "[]"
      ]
     },
     "execution_count": 70,
     "metadata": {},
     "output_type": "execute_result"
    }
   ],
   "source": [
    "numbers"
   ]
  },
  {
   "cell_type": "code",
   "execution_count": 71,
   "id": "45454ce0-6000-44f5-883d-582bb50a2c99",
   "metadata": {},
   "outputs": [],
   "source": [
    "# if you see number variabl is present "
   ]
  },
  {
   "cell_type": "code",
   "execution_count": 72,
   "id": "52740e58-e724-4850-929d-d5202b1f2441",
   "metadata": {},
   "outputs": [],
   "source": [
    "del numbers"
   ]
  },
  {
   "cell_type": "code",
   "execution_count": 73,
   "id": "6daa68de-2f12-4cbb-8e80-d33700597de8",
   "metadata": {},
   "outputs": [
    {
     "ename": "NameError",
     "evalue": "name 'numbers' is not defined",
     "output_type": "error",
     "traceback": [
      "\u001b[1;31m---------------------------------------------------------------------------\u001b[0m",
      "\u001b[1;31mNameError\u001b[0m                                 Traceback (most recent call last)",
      "\u001b[1;32m~\\AppData\\Local\\Temp\\ipykernel_12136\\2509821283.py\u001b[0m in \u001b[0;36m<module>\u001b[1;34m\u001b[0m\n\u001b[1;32m----> 1\u001b[1;33m \u001b[0mnumbers\u001b[0m\u001b[1;33m\u001b[0m\u001b[1;33m\u001b[0m\u001b[0m\n\u001b[0m",
      "\u001b[1;31mNameError\u001b[0m: name 'numbers' is not defined"
     ]
    }
   ],
   "source": [
    "numbers # see the error because now the variable numbers is deleted "
   ]
  },
  {
   "cell_type": "code",
   "execution_count": 74,
   "id": "f958a956-42d5-4fc0-bdbc-92952cb6046a",
   "metadata": {},
   "outputs": [],
   "source": [
    "# self check"
   ]
  },
  {
   "cell_type": "code",
   "execution_count": 75,
   "id": "7accd5fc-36f4-4a05-8be4-b6891d5a9429",
   "metadata": {},
   "outputs": [],
   "source": [
    "numbers=list(range(1,15))"
   ]
  },
  {
   "cell_type": "code",
   "execution_count": 76,
   "id": "62110236-90f8-4168-a2ea-9c21c142b80c",
   "metadata": {},
   "outputs": [
    {
     "data": {
      "text/plain": [
       "[1, 2, 3, 4, 5, 6, 7, 8, 9, 10, 11, 12, 13, 14]"
      ]
     },
     "execution_count": 76,
     "metadata": {},
     "output_type": "execute_result"
    }
   ],
   "source": [
    "numbers"
   ]
  },
  {
   "cell_type": "code",
   "execution_count": 77,
   "id": "8425287e-aec6-42ca-890d-22fbc77be4a8",
   "metadata": {},
   "outputs": [],
   "source": [
    "del numbers[0:4]"
   ]
  },
  {
   "cell_type": "code",
   "execution_count": 78,
   "id": "a473fd18-6996-4e13-88d5-bdb632939901",
   "metadata": {},
   "outputs": [
    {
     "data": {
      "text/plain": [
       "[5, 6, 7, 8, 9, 10, 11, 12, 13, 14]"
      ]
     },
     "execution_count": 78,
     "metadata": {},
     "output_type": "execute_result"
    }
   ],
   "source": [
    "numbers"
   ]
  },
  {
   "cell_type": "code",
   "execution_count": 79,
   "id": "a66e1579-6c6a-482a-89c4-ef2d2bebf37f",
   "metadata": {},
   "outputs": [],
   "source": [
    "del numbers[::2]"
   ]
  },
  {
   "cell_type": "code",
   "execution_count": 80,
   "id": "48d74c51-8ac0-478a-b160-01b5ab25b04e",
   "metadata": {},
   "outputs": [
    {
     "data": {
      "text/plain": [
       "[6, 8, 10, 12, 14]"
      ]
     },
     "execution_count": 80,
     "metadata": {},
     "output_type": "execute_result"
    }
   ],
   "source": [
    "numbers"
   ]
  },
  {
   "cell_type": "code",
   "execution_count": 81,
   "id": "020b35c7-5d84-45f5-809f-cc2beb4a28d7",
   "metadata": {},
   "outputs": [],
   "source": [
    "# passing object to function "
   ]
  },
  {
   "cell_type": "code",
   "execution_count": 96,
   "id": "3d7e7116-6d36-4b24-ab46-43cea0deee41",
   "metadata": {},
   "outputs": [],
   "source": [
    "def modify_elements(items):\n",
    "    \"\"\"multiplies all elemens values in items by 2\"\"\"\n",
    "    for i in range(len(items)):\n",
    "        items[i]*=2"
   ]
  },
  {
   "cell_type": "code",
   "execution_count": null,
   "id": "2216c5f2-1d61-4028-9aa5-2ad9818d3007",
   "metadata": {},
   "outputs": [],
   "source": []
  },
  {
   "cell_type": "code",
   "execution_count": 94,
   "id": "5086e223-1b46-485d-81af-4f0c4d1c0e5c",
   "metadata": {},
   "outputs": [],
   "source": [
    "numbers=[10,3,7,1,9]"
   ]
  },
  {
   "cell_type": "code",
   "execution_count": 97,
   "id": "be98e69e-abe1-4071-8462-2cc50b67eda0",
   "metadata": {},
   "outputs": [],
   "source": [
    "modify_elements(numbers)"
   ]
  },
  {
   "cell_type": "code",
   "execution_count": 98,
   "id": "efec209f-9443-469a-9235-2e33efd789e9",
   "metadata": {},
   "outputs": [
    {
     "data": {
      "text/plain": [
       "[20, 6, 14, 2, 18]"
      ]
     },
     "execution_count": 98,
     "metadata": {},
     "output_type": "execute_result"
    }
   ],
   "source": [
    "numbers"
   ]
  },
  {
   "cell_type": "code",
   "execution_count": 99,
   "id": "29a7026e-4a30-42b4-8592-a7282c60868e",
   "metadata": {},
   "outputs": [],
   "source": [
    "numbers_tuple=(10,20,30)"
   ]
  },
  {
   "cell_type": "code",
   "execution_count": 100,
   "id": "50f2d2cb-5865-4a05-b30a-5b0b248ca609",
   "metadata": {},
   "outputs": [
    {
     "data": {
      "text/plain": [
       "(10, 20, 30)"
      ]
     },
     "execution_count": 100,
     "metadata": {},
     "output_type": "execute_result"
    }
   ],
   "source": [
    "numbers_tuple"
   ]
  },
  {
   "cell_type": "code",
   "execution_count": 101,
   "id": "d77a2b11-e021-4461-90b2-87eca24815b8",
   "metadata": {},
   "outputs": [
    {
     "ename": "TypeError",
     "evalue": "'tuple' object does not support item assignment",
     "output_type": "error",
     "traceback": [
      "\u001b[1;31m---------------------------------------------------------------------------\u001b[0m",
      "\u001b[1;31mTypeError\u001b[0m                                 Traceback (most recent call last)",
      "\u001b[1;32m~\\AppData\\Local\\Temp\\ipykernel_12136\\3211856685.py\u001b[0m in \u001b[0;36m<module>\u001b[1;34m\u001b[0m\n\u001b[1;32m----> 1\u001b[1;33m \u001b[0mmodify_elements\u001b[0m\u001b[1;33m(\u001b[0m\u001b[0mnumbers_tuple\u001b[0m\u001b[1;33m)\u001b[0m\u001b[1;33m\u001b[0m\u001b[1;33m\u001b[0m\u001b[0m\n\u001b[0m",
      "\u001b[1;32m~\\AppData\\Local\\Temp\\ipykernel_12136\\2743534156.py\u001b[0m in \u001b[0;36mmodify_elements\u001b[1;34m(items)\u001b[0m\n\u001b[0;32m      2\u001b[0m     \u001b[1;34m\"\"\"multiplies all elemens values in items by 2\"\"\"\u001b[0m\u001b[1;33m\u001b[0m\u001b[1;33m\u001b[0m\u001b[0m\n\u001b[0;32m      3\u001b[0m     \u001b[1;32mfor\u001b[0m \u001b[0mi\u001b[0m \u001b[1;32min\u001b[0m \u001b[0mrange\u001b[0m\u001b[1;33m(\u001b[0m\u001b[0mlen\u001b[0m\u001b[1;33m(\u001b[0m\u001b[0mitems\u001b[0m\u001b[1;33m)\u001b[0m\u001b[1;33m)\u001b[0m\u001b[1;33m:\u001b[0m\u001b[1;33m\u001b[0m\u001b[1;33m\u001b[0m\u001b[0m\n\u001b[1;32m----> 4\u001b[1;33m         \u001b[0mitems\u001b[0m\u001b[1;33m[\u001b[0m\u001b[0mi\u001b[0m\u001b[1;33m]\u001b[0m\u001b[1;33m*=\u001b[0m\u001b[1;36m2\u001b[0m\u001b[1;33m\u001b[0m\u001b[1;33m\u001b[0m\u001b[0m\n\u001b[0m",
      "\u001b[1;31mTypeError\u001b[0m: 'tuple' object does not support item assignment"
     ]
    }
   ],
   "source": [
    "modify_elements(numbers_tuple) # eventhough the function doesn't mention what values to be passed to it , it will throw error the if the data in non compatable "
   ]
  },
  {
   "cell_type": "code",
   "execution_count": 102,
   "id": "3a9d359a-43dd-4355-9551-3331898165dc",
   "metadata": {},
   "outputs": [],
   "source": [
    "# sorting elements in list "
   ]
  },
  {
   "cell_type": "code",
   "execution_count": 103,
   "id": "3bfa02f9-0dbd-4821-97ea-866a39ebe1c3",
   "metadata": {},
   "outputs": [],
   "source": [
    "numbers=[10,3,7,1,9,4,2,8,5,6]"
   ]
  },
  {
   "cell_type": "code",
   "execution_count": 104,
   "id": "94d85be6-98c2-4e1c-b248-ae2f12f3d930",
   "metadata": {},
   "outputs": [],
   "source": [
    "numbers.sort()"
   ]
  },
  {
   "cell_type": "code",
   "execution_count": 105,
   "id": "6fc30b9e-e30e-4fcd-b033-1ff45dab28a6",
   "metadata": {},
   "outputs": [
    {
     "data": {
      "text/plain": [
       "[1, 2, 3, 4, 5, 6, 7, 8, 9, 10]"
      ]
     },
     "execution_count": 105,
     "metadata": {},
     "output_type": "execute_result"
    }
   ],
   "source": [
    "numbers"
   ]
  },
  {
   "cell_type": "code",
   "execution_count": 106,
   "id": "943d02b4-0394-4d96-876f-d808ed889d20",
   "metadata": {},
   "outputs": [],
   "source": [
    "numbers=[10,3,7,1,9,4,2,8,5,6]"
   ]
  },
  {
   "cell_type": "code",
   "execution_count": 108,
   "id": "fdacd34c-a2d1-443d-84a1-25f79582b7cd",
   "metadata": {},
   "outputs": [],
   "source": [
    "numbers.sort(reverse=True) # this is sort decending order , Please note keyword True is case sensitive , T must be capital : True"
   ]
  },
  {
   "cell_type": "code",
   "execution_count": 109,
   "id": "8d97bc65-5660-4a3c-afb2-7fb620a47d72",
   "metadata": {},
   "outputs": [
    {
     "data": {
      "text/plain": [
       "[10, 9, 8, 7, 6, 5, 4, 3, 2, 1]"
      ]
     },
     "execution_count": 109,
     "metadata": {},
     "output_type": "execute_result"
    }
   ],
   "source": [
    "numbers"
   ]
  },
  {
   "cell_type": "code",
   "execution_count": 110,
   "id": "82cae780-12f1-47aa-86c2-cce2faa9e2eb",
   "metadata": {},
   "outputs": [],
   "source": [
    "numbers=[10,3,7,1,9,4,2,8,5,6]"
   ]
  },
  {
   "cell_type": "code",
   "execution_count": 111,
   "id": "b863b3bc-3441-45e5-bc2b-e95688a25190",
   "metadata": {},
   "outputs": [],
   "source": [
    "assending_numbers=sorted(numbers) # sorted in a buit in function it takes as argument in iterebale object , it gives back a list in assending order \n",
    "# this is useful if you dont want to change the original list (numbers ) so by this way you can assign the result into new variable list but the original list is unchanged\n",
    "# you can also use this sorted function on string and tuples , where as .sort() is a method whic is avaialbe to only list "
   ]
  },
  {
   "cell_type": "code",
   "execution_count": 112,
   "id": "bce90316-7996-41d0-bd36-9403a8a777ea",
   "metadata": {},
   "outputs": [
    {
     "data": {
      "text/plain": [
       "[1, 2, 3, 4, 5, 6, 7, 8, 9, 10]"
      ]
     },
     "execution_count": 112,
     "metadata": {},
     "output_type": "execute_result"
    }
   ],
   "source": [
    "assending_numbers"
   ]
  },
  {
   "cell_type": "code",
   "execution_count": 113,
   "id": "12bae74f-1963-4342-a981-ade3b50371e0",
   "metadata": {},
   "outputs": [
    {
     "data": {
      "text/plain": [
       "[10, 3, 7, 1, 9, 4, 2, 8, 5, 6]"
      ]
     },
     "execution_count": 113,
     "metadata": {},
     "output_type": "execute_result"
    }
   ],
   "source": [
    "numbers  # see it is not modifed unlike numbers.sort()"
   ]
  },
  {
   "cell_type": "code",
   "execution_count": 114,
   "id": "877ea786-6727-4e21-a74e-70d8275c339d",
   "metadata": {},
   "outputs": [],
   "source": [
    "letters='gfrtjxabe'"
   ]
  },
  {
   "cell_type": "code",
   "execution_count": 115,
   "id": "489a1d22-1d72-4719-adcf-ec740de5b606",
   "metadata": {},
   "outputs": [],
   "source": [
    "assending_letter=sorted(letters)"
   ]
  },
  {
   "cell_type": "code",
   "execution_count": 116,
   "id": "8a187332-8cda-494c-8c47-1af480c89243",
   "metadata": {},
   "outputs": [
    {
     "data": {
      "text/plain": [
       "['a', 'b', 'e', 'f', 'g', 'j', 'r', 't', 'x']"
      ]
     },
     "execution_count": 116,
     "metadata": {},
     "output_type": "execute_result"
    }
   ],
   "source": [
    "assending_letter # it is sorted and gives the result in list "
   ]
  },
  {
   "cell_type": "code",
   "execution_count": 117,
   "id": "1d9c0028-2d42-49a1-bc9c-9aa05dadb936",
   "metadata": {},
   "outputs": [
    {
     "data": {
      "text/plain": [
       "'gfrtjxabe'"
      ]
     },
     "execution_count": 117,
     "metadata": {},
     "output_type": "execute_result"
    }
   ],
   "source": [
    "letters"
   ]
  },
  {
   "cell_type": "code",
   "execution_count": 118,
   "id": "212c5253-0eb9-4436-9d34-b86f83af81f1",
   "metadata": {},
   "outputs": [],
   "source": [
    "colors=('red','orange','yellow','green','blue')"
   ]
  },
  {
   "cell_type": "code",
   "execution_count": 119,
   "id": "94788eea-000e-457e-a916-51c14dac083d",
   "metadata": {},
   "outputs": [],
   "source": [
    "sorted_colors=sorted(colors)"
   ]
  },
  {
   "cell_type": "code",
   "execution_count": 120,
   "id": "b1d9372a-5696-4ae4-a931-b5c1a0750270",
   "metadata": {},
   "outputs": [
    {
     "data": {
      "text/plain": [
       "['blue', 'green', 'orange', 'red', 'yellow']"
      ]
     },
     "execution_count": 120,
     "metadata": {},
     "output_type": "execute_result"
    }
   ],
   "source": [
    "sorted_colors  # it is sorted and result in list , eventhough the input in tuple "
   ]
  },
  {
   "cell_type": "code",
   "execution_count": 121,
   "id": "eb2da76b-4f0f-48b2-9121-f5569a94b371",
   "metadata": {},
   "outputs": [
    {
     "data": {
      "text/plain": [
       "('red', 'orange', 'yellow', 'green', 'blue')"
      ]
     },
     "execution_count": 121,
     "metadata": {},
     "output_type": "execute_result"
    }
   ],
   "source": [
    "colors"
   ]
  },
  {
   "cell_type": "code",
   "execution_count": 122,
   "id": "90a67cd8-7597-4e0f-b81c-9ecf97cba233",
   "metadata": {},
   "outputs": [
    {
     "data": {
      "text/plain": [
       "['yellow', 'red', 'orange', 'green', 'blue']"
      ]
     },
     "execution_count": 122,
     "metadata": {},
     "output_type": "execute_result"
    }
   ],
   "source": [
    "sorted(colors,reverse=True)  # by passinf second argument reverse=True we can sort in desending order "
   ]
  },
  {
   "cell_type": "code",
   "execution_count": 123,
   "id": "2e7faf9f-b8b7-4603-90e2-b7e6d6be2fd6",
   "metadata": {},
   "outputs": [],
   "source": [
    "# self check "
   ]
  },
  {
   "cell_type": "code",
   "execution_count": 124,
   "id": "adc55124-374c-4da5-be6f-0d15e4acf806",
   "metadata": {},
   "outputs": [],
   "source": [
    "foods=['Cookies','pizza','Grapes','apples','steak','Bacon']"
   ]
  },
  {
   "cell_type": "code",
   "execution_count": 125,
   "id": "c2365720-4067-473d-a072-54ff2a3b0062",
   "metadata": {},
   "outputs": [],
   "source": [
    "foods.sort()"
   ]
  },
  {
   "cell_type": "code",
   "execution_count": 126,
   "id": "67913b4c-8382-49a9-ba0e-c9d7a047a7a0",
   "metadata": {},
   "outputs": [
    {
     "data": {
      "text/plain": [
       "['Bacon', 'Cookies', 'Grapes', 'apples', 'pizza', 'steak']"
      ]
     },
     "execution_count": 126,
     "metadata": {},
     "output_type": "execute_result"
    }
   ],
   "source": [
    "foods # if you see first it sorted based on capital lettes and then lower case letters "
   ]
  },
  {
   "cell_type": "code",
   "execution_count": null,
   "id": "254f47e8-6aaf-486f-94ef-04ee4d787e05",
   "metadata": {},
   "outputs": [],
   "source": []
  }
 ],
 "metadata": {
  "kernelspec": {
   "display_name": "Python 3 (ipykernel)",
   "language": "python",
   "name": "python3"
  },
  "language_info": {
   "codemirror_mode": {
    "name": "ipython",
    "version": 3
   },
   "file_extension": ".py",
   "mimetype": "text/x-python",
   "name": "python",
   "nbconvert_exporter": "python",
   "pygments_lexer": "ipython3",
   "version": "3.9.13"
  }
 },
 "nbformat": 4,
 "nbformat_minor": 5
}
