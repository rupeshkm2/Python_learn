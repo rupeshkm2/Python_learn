{
 "cells": [
  {
   "cell_type": "code",
   "execution_count": 1,
   "id": "cc445857-f6e6-4686-ac9b-d3b75881aaab",
   "metadata": {},
   "outputs": [],
   "source": [
    "grade=85"
   ]
  },
  {
   "cell_type": "code",
   "execution_count": 2,
   "id": "fff5a289-3d02-4193-90fa-03e501767f69",
   "metadata": {},
   "outputs": [
    {
     "name": "stdout",
     "output_type": "stream",
     "text": [
      "passed\n"
     ]
    }
   ],
   "source": [
    "if grade>=60:\n",
    "    print('passed')"
   ]
  },
  {
   "cell_type": "code",
   "execution_count": 3,
   "id": "47991116-d9c0-47f5-ad9e-c5be0275a433",
   "metadata": {},
   "outputs": [
    {
     "ename": "IndentationError",
     "evalue": "unexpected indent (3519988147.py, line 3)",
     "output_type": "error",
     "traceback": [
      "\u001b[1;36m  File \u001b[1;32m\"C:\\Users\\MANDADI\\AppData\\Local\\Temp\\ipykernel_4416\\3519988147.py\"\u001b[1;36m, line \u001b[1;32m3\u001b[0m\n\u001b[1;33m    print('passed second time')\u001b[0m\n\u001b[1;37m    ^\u001b[0m\n\u001b[1;31mIndentationError\u001b[0m\u001b[1;31m:\u001b[0m unexpected indent\n"
     ]
    }
   ],
   "source": [
    "if grade>=60:\n",
    "    print('passed')\n",
    "     print('passed second time')  # indentation is madatory else you will get error "
   ]
  },
  {
   "cell_type": "code",
   "execution_count": 4,
   "id": "1a061094-48cd-4f6f-bdb3-e61db3432e38",
   "metadata": {},
   "outputs": [
    {
     "name": "stdout",
     "output_type": "stream",
     "text": [
      "passed\n",
      "passed second time\n"
     ]
    }
   ],
   "source": [
    "if grade>=60:\n",
    "    print('passed')\n",
    "    print('passed second time')"
   ]
  },
  {
   "cell_type": "code",
   "execution_count": 5,
   "id": "2b7dd156-788b-44bb-975d-a9001e8b8c58",
   "metadata": {},
   "outputs": [
    {
     "name": "stdout",
     "output_type": "stream",
     "text": [
      "non zero values are true so this will print\n"
     ]
    }
   ],
   "source": [
    "if 1:\n",
    "    print('non zero values are true so this will print')"
   ]
  },
  {
   "cell_type": "code",
   "execution_count": 6,
   "id": "cb7ed1d5-2be3-4f30-843c-3961a31afac4",
   "metadata": {},
   "outputs": [],
   "source": [
    "if 0:\n",
    "    print(' zero is false  so this will not print')"
   ]
  },
  {
   "cell_type": "code",
   "execution_count": 7,
   "id": "4d23df7f-c08d-4344-8f46-6bd197567484",
   "metadata": {},
   "outputs": [],
   "source": [
    "# string considered and true and empty is considered as false "
   ]
  },
  {
   "cell_type": "code",
   "execution_count": 8,
   "id": "556c5062-0704-4906-bbae-63a11c70c35e",
   "metadata": {},
   "outputs": [
    {
     "name": "stdout",
     "output_type": "stream",
     "text": [
      "this will consider as true and print the value\n"
     ]
    }
   ],
   "source": [
    "if 'rupesh':\n",
    "    print('this will consider as true and print the value')"
   ]
  },
  {
   "cell_type": "code",
   "execution_count": 9,
   "id": "753acd69-eb63-48dc-9076-a3baa09b7794",
   "metadata": {},
   "outputs": [],
   "source": [
    "if '':\n",
    "    print('this will consider as false  and will not  print the value')"
   ]
  },
  {
   "cell_type": "code",
   "execution_count": 11,
   "id": "1034c449-53a1-468c-94ca-ba6a51255a8b",
   "metadata": {},
   "outputs": [],
   "source": [
    "# similarty collection with value considered and true and empty collection considered and false "
   ]
  },
  {
   "cell_type": "code",
   "execution_count": 12,
   "id": "f5386065-9c4d-47c8-b7dd-856ccd704a55",
   "metadata": {},
   "outputs": [
    {
     "ename": "NameError",
     "evalue": "name 'x' is not defined",
     "output_type": "error",
     "traceback": [
      "\u001b[1;31m---------------------------------------------------------------------------\u001b[0m",
      "\u001b[1;31mNameError\u001b[0m                                 Traceback (most recent call last)",
      "\u001b[1;32m~\\AppData\\Local\\Temp\\ipykernel_4416\\175624861.py\u001b[0m in \u001b[0;36m<module>\u001b[1;34m\u001b[0m\n\u001b[1;32m----> 1\u001b[1;33m \u001b[0mx\u001b[0m\u001b[1;33m==\u001b[0m\u001b[1;36m85\u001b[0m\u001b[1;33m\u001b[0m\u001b[1;33m\u001b[0m\u001b[0m\n\u001b[0m",
      "\u001b[1;31mNameError\u001b[0m: name 'x' is not defined"
     ]
    }
   ],
   "source": [
    "x==85"
   ]
  },
  {
   "cell_type": "code",
   "execution_count": 13,
   "id": "d031b3e7-53e5-46f0-98e1-49937da7a046",
   "metadata": {},
   "outputs": [],
   "source": [
    "grade=85"
   ]
  },
  {
   "cell_type": "code",
   "execution_count": 14,
   "id": "eb7b0a4f-ae81-4312-98ac-51f1022519d1",
   "metadata": {},
   "outputs": [
    {
     "name": "stdout",
     "output_type": "stream",
     "text": [
      "Passed\n"
     ]
    }
   ],
   "source": [
    "if grade>=60:\n",
    "    print('Passed')"
   ]
  },
  {
   "cell_type": "code",
   "execution_count": 15,
   "id": "08905990-55f7-444e-9bcd-5438aa4b5f6f",
   "metadata": {},
   "outputs": [],
   "source": [
    "grade=55"
   ]
  },
  {
   "cell_type": "code",
   "execution_count": 16,
   "id": "62bb23da-1bdf-4045-8509-819d584b94b8",
   "metadata": {},
   "outputs": [],
   "source": [
    "if grade>=60:\n",
    "    print('Passed')  # condition false so nothing got printed below "
   ]
  },
  {
   "cell_type": "code",
   "execution_count": 17,
   "id": "55481477-8010-428f-96a3-56100bdaec89",
   "metadata": {},
   "outputs": [],
   "source": [
    "grade=85"
   ]
  },
  {
   "cell_type": "code",
   "execution_count": 18,
   "id": "069f3443-28a0-403c-9dac-524aa64f35b5",
   "metadata": {},
   "outputs": [
    {
     "name": "stdout",
     "output_type": "stream",
     "text": [
      "passed\n"
     ]
    }
   ],
   "source": [
    "if grade>=60:\n",
    "    print('passed')\n",
    "else:                       # by default the indendation comes right below the print but we need to take \"else\" to begining to consider this as new condition \n",
    "    print('Falied')"
   ]
  },
  {
   "cell_type": "code",
   "execution_count": 19,
   "id": "2d2c5685-a428-4920-913d-e977e0378327",
   "metadata": {},
   "outputs": [
    {
     "name": "stdout",
     "output_type": "stream",
     "text": [
      "Falied\n"
     ]
    }
   ],
   "source": [
    "if grade>=99:\n",
    "    print('passed')\n",
    "else:                       # by default the indendation comes right below the print but we need to take \"else\" to begining to consider this as new condition \n",
    "    print('Falied')"
   ]
  },
  {
   "cell_type": "code",
   "execution_count": 20,
   "id": "98581e78-2e80-480e-8d58-4dcb24c41171",
   "metadata": {},
   "outputs": [],
   "source": [
    "grade=87"
   ]
  },
  {
   "cell_type": "code",
   "execution_count": 21,
   "id": "3bf28818-9c72-4103-babd-05d5fd99d08c",
   "metadata": {},
   "outputs": [],
   "source": [
    "if grade>=60:     # now store the result into a variable \n",
    "   result='Passed'\n",
    "else:                      \n",
    "    result='Falied'"
   ]
  },
  {
   "cell_type": "code",
   "execution_count": 22,
   "id": "929b9fa8-71fc-486e-a637-19ea03a88827",
   "metadata": {},
   "outputs": [
    {
     "data": {
      "text/plain": [
       "'Passed'"
      ]
     },
     "execution_count": 22,
     "metadata": {},
     "output_type": "execute_result"
    }
   ],
   "source": [
    "result"
   ]
  },
  {
   "cell_type": "code",
   "execution_count": 23,
   "id": "551f212b-691f-4c3c-b8b3-594f21e86fee",
   "metadata": {},
   "outputs": [],
   "source": [
    "result =('Passed01' if grade>=60 else 'Falied01') # this is called conditional expression , basically the value of entire expression is true then leftside value and right side valuw will be whne the entire expression is false "
   ]
  },
  {
   "cell_type": "code",
   "execution_count": 24,
   "id": "4a16ced8-5f5e-47de-8a94-8aa4e8b02851",
   "metadata": {},
   "outputs": [
    {
     "data": {
      "text/plain": [
       "'Passed01'"
      ]
     },
     "execution_count": 24,
     "metadata": {},
     "output_type": "execute_result"
    }
   ],
   "source": [
    "result"
   ]
  },
  {
   "cell_type": "code",
   "execution_count": 25,
   "id": "7177db4e-3aa0-4981-a53c-c53ea2a1f12e",
   "metadata": {},
   "outputs": [
    {
     "data": {
      "text/plain": [
       "'Passed01'"
      ]
     },
     "execution_count": 25,
     "metadata": {},
     "output_type": "execute_result"
    }
   ],
   "source": [
    "'Passed01' if grade>=60 else 'Falied01'"
   ]
  },
  {
   "cell_type": "code",
   "execution_count": 26,
   "id": "3ecab897-8494-43f9-861b-bed683c8deab",
   "metadata": {},
   "outputs": [],
   "source": [
    "grade=49"
   ]
  },
  {
   "cell_type": "code",
   "execution_count": 27,
   "id": "d5233aa2-879c-4009-8e87-e696d78eb40d",
   "metadata": {},
   "outputs": [
    {
     "name": "stdout",
     "output_type": "stream",
     "text": [
      "Falied\n",
      "you must take this course again \n"
     ]
    }
   ],
   "source": [
    "if grade>=60:\n",
    "    print('passed')\n",
    "else:                       # multi statements  in suites \n",
    "    print('Falied')\n",
    "    print('you must take this course again ')"
   ]
  },
  {
   "cell_type": "code",
   "execution_count": 28,
   "id": "3747a38b-62b5-4143-91f1-14a92e64a585",
   "metadata": {},
   "outputs": [
    {
     "name": "stdout",
     "output_type": "stream",
     "text": [
      "Falied\n",
      "you must take this course again \n"
     ]
    }
   ],
   "source": [
    "if grade>=60:\n",
    "    print('passed')\n",
    "else:                       # multi statements  in suites \n",
    "    print('Falied')\n",
    "print('you must take this course again ') # if you see it is still excuted , now this print is considered not part of if and else bloack , so this will always print "
   ]
  },
  {
   "cell_type": "code",
   "execution_count": 29,
   "id": "30df0ac5-0fcf-4b60-a0b6-60b2bf5efe78",
   "metadata": {},
   "outputs": [
    {
     "name": "stdout",
     "output_type": "stream",
     "text": [
      "passed\n",
      "you must take this course again \n"
     ]
    }
   ],
   "source": [
    "if grade>=40:\n",
    "    print('passed')\n",
    "else:                       # multi statements  in suites \n",
    "    print('Falied')\n",
    "print('you must take this course again ')"
   ]
  },
  {
   "cell_type": "code",
   "execution_count": 30,
   "id": "48f3813d-995d-4c75-9cfa-38a07208ffa6",
   "metadata": {},
   "outputs": [],
   "source": [
    "#nested else if statement \n",
    "\n",
    "grade=77"
   ]
  },
  {
   "cell_type": "code",
   "execution_count": 31,
   "id": "d19fe3f5-8c49-4e12-8baf-647485eb074c",
   "metadata": {},
   "outputs": [
    {
     "name": "stdout",
     "output_type": "stream",
     "text": [
      "C\n"
     ]
    }
   ],
   "source": [
    "if grade>=90:\n",
    "    print('A')\n",
    "elif grade>=80:\n",
    "    print('B')\n",
    "elif grade>=70:\n",
    "    print('C')\n",
    "elif grade>=60:\n",
    "    print('D')\n",
    "else:\n",
    "    print('F')"
   ]
  },
  {
   "cell_type": "code",
   "execution_count": 1,
   "id": "e83ce77c-d754-4d41-8620-3582da9da392",
   "metadata": {},
   "outputs": [],
   "source": [
    "# while iteration statement "
   ]
  },
  {
   "cell_type": "code",
   "execution_count": 2,
   "id": "4d9401e0-d614-427d-b488-4091e03617e3",
   "metadata": {},
   "outputs": [],
   "source": [
    "product=3"
   ]
  },
  {
   "cell_type": "code",
   "execution_count": 3,
   "id": "e766c18f-7fb9-4075-8f0f-f56c54bc97ef",
   "metadata": {},
   "outputs": [],
   "source": [
    "while product<=50:\n",
    "    product=product*3"
   ]
  },
  {
   "cell_type": "code",
   "execution_count": 4,
   "id": "a45d36b9-eb87-47d6-a783-f8e19f1cc1fc",
   "metadata": {},
   "outputs": [
    {
     "data": {
      "text/plain": [
       "81"
      ]
     },
     "execution_count": 4,
     "metadata": {},
     "output_type": "execute_result"
    }
   ],
   "source": [
    "product"
   ]
  },
  {
   "cell_type": "code",
   "execution_count": 5,
   "id": "a3d5ab6b-57cc-449e-a840-9bf5c1875b73",
   "metadata": {},
   "outputs": [],
   "source": [
    "product =3"
   ]
  },
  {
   "cell_type": "code",
   "execution_count": 6,
   "id": "2cb34195-b9c5-4d8a-a9da-08b7f33655e3",
   "metadata": {},
   "outputs": [],
   "source": [
    "while product<=1000:\n",
    "    product=product*7"
   ]
  },
  {
   "cell_type": "code",
   "execution_count": 7,
   "id": "367f0ca9-0136-4156-83cc-bfd50ba6f450",
   "metadata": {},
   "outputs": [
    {
     "data": {
      "text/plain": [
       "1029"
      ]
     },
     "execution_count": 7,
     "metadata": {},
     "output_type": "execute_result"
    }
   ],
   "source": [
    "product"
   ]
  },
  {
   "cell_type": "code",
   "execution_count": 8,
   "id": "725cbe06-61e8-4335-828d-d30485ee812c",
   "metadata": {},
   "outputs": [],
   "source": [
    "# we can also execute all the statements in single cell like below "
   ]
  },
  {
   "cell_type": "code",
   "execution_count": 9,
   "id": "85a723ae-f2dc-446d-9f98-4fa144b6667c",
   "metadata": {},
   "outputs": [],
   "source": [
    "product =3\n",
    "while product<=1000:\n",
    "    product=product*7"
   ]
  },
  {
   "cell_type": "code",
   "execution_count": 10,
   "id": "0aead0c6-40e4-4f95-aec1-6353375f7d6b",
   "metadata": {},
   "outputs": [
    {
     "data": {
      "text/plain": [
       "1029"
      ]
     },
     "execution_count": 10,
     "metadata": {},
     "output_type": "execute_result"
    }
   ],
   "source": [
    "product"
   ]
  },
  {
   "cell_type": "code",
   "execution_count": 11,
   "id": "1d03a4e2-6a70-4aa7-bd49-2513ab89bc34",
   "metadata": {},
   "outputs": [],
   "source": [
    "# for iteration statement"
   ]
  },
  {
   "cell_type": "code",
   "execution_count": 12,
   "id": "a58ce21d-4789-4e5b-955f-e8ba2f5395cc",
   "metadata": {},
   "outputs": [
    {
     "name": "stdout",
     "output_type": "stream",
     "text": [
      "p r o g r a m i n g "
     ]
    }
   ],
   "source": [
    "for character in 'programing':\n",
    "    print(character,end=' ') # this second argument \"end\" , by default   argument will have new line character\n",
    "    # so we can explicitley mantion what would be the chracater like here seperate with space (end=' ') or something like seperate with comma \",\" we need to mention as (end=',')"
   ]
  },
  {
   "cell_type": "code",
   "execution_count": 13,
   "id": "d2d47b98-8d23-4439-ba7d-6a737c1e2002",
   "metadata": {},
   "outputs": [
    {
     "name": "stdout",
     "output_type": "stream",
     "text": [
      "p\n",
      "r\n",
      "o\n",
      "g\n",
      "r\n",
      "a\n",
      "m\n",
      "i\n",
      "n\n",
      "g\n"
     ]
    }
   ],
   "source": [
    "for character in 'programing':\n",
    "    print(character)"
   ]
  },
  {
   "cell_type": "code",
   "execution_count": 14,
   "id": "9c45b626-ab7a-495a-95d3-c056bda825b3",
   "metadata": {},
   "outputs": [
    {
     "name": "stdout",
     "output_type": "stream",
     "text": [
      "p,r,o,g,r,a,m,i,n,g,"
     ]
    }
   ],
   "source": [
    "for character in 'programing':\n",
    "    print(character,end=',')"
   ]
  },
  {
   "cell_type": "code",
   "execution_count": 15,
   "id": "0a9288d8-fe8c-454a-b173-1d6508b4f92d",
   "metadata": {},
   "outputs": [
    {
     "name": "stdout",
     "output_type": "stream",
     "text": [
      "10 20 30\n"
     ]
    }
   ],
   "source": [
    "print(10,20,30)"
   ]
  },
  {
   "cell_type": "code",
   "execution_count": 16,
   "id": "e95fb986-0759-41ac-b10d-b527cac6de89",
   "metadata": {},
   "outputs": [
    {
     "name": "stdout",
     "output_type": "stream",
     "text": [
      "10, 20, 30\n"
     ]
    }
   ],
   "source": [
    "print(10,20,30,sep=', ') # default it seperate by space , but we can mention seperatot what we want with sep argument"
   ]
  },
  {
   "cell_type": "code",
   "execution_count": 17,
   "id": "75469999-5bb8-4782-8909-470b75e3fe2e",
   "metadata": {},
   "outputs": [],
   "source": [
    "# for loop with list"
   ]
  },
  {
   "cell_type": "code",
   "execution_count": 18,
   "id": "e32b2789-6b87-472b-8db9-5202787ec458",
   "metadata": {},
   "outputs": [],
   "source": [
    "total=0"
   ]
  },
  {
   "cell_type": "code",
   "execution_count": 19,
   "id": "a5a7fb1f-2233-4b00-ae25-f49363a0fb8a",
   "metadata": {},
   "outputs": [],
   "source": [
    "for number in [2,-3,0,17,9]:    # list represent in square brackets []\n",
    "    total=total+number"
   ]
  },
  {
   "cell_type": "code",
   "execution_count": 20,
   "id": "ceb0dcfe-bee1-4cfe-97f8-27e3bbb4b887",
   "metadata": {},
   "outputs": [
    {
     "data": {
      "text/plain": [
       "25"
      ]
     },
     "execution_count": 20,
     "metadata": {},
     "output_type": "execute_result"
    }
   ],
   "source": [
    "total"
   ]
  },
  {
   "cell_type": "code",
   "execution_count": 21,
   "id": "377d382d-5c1d-4308-b97d-d07d0c642c4e",
   "metadata": {},
   "outputs": [],
   "source": [
    "#for loop counter control loop"
   ]
  },
  {
   "cell_type": "code",
   "execution_count": 22,
   "id": "3cb1b5c5-2015-4d60-aaaa-dac9a2183a3d",
   "metadata": {},
   "outputs": [
    {
     "name": "stdout",
     "output_type": "stream",
     "text": [
      "0 1 2 3 4 5 6 7 8 9 "
     ]
    }
   ],
   "source": [
    "for counter in range(10):                # range is an built  in function , here it will generate sequence values from 0 to 9 \n",
    "    print(counter,end=' ')\n",
    "    "
   ]
  },
  {
   "cell_type": "code",
   "execution_count": 23,
   "id": "60d8a01f-db57-47a5-bbb0-7c9418ccacf1",
   "metadata": {},
   "outputs": [],
   "source": [
    "total=0\n",
    "for number in range(1000000):\n",
    "    total=total+number"
   ]
  },
  {
   "cell_type": "code",
   "execution_count": 24,
   "id": "7c6371bb-9cfe-4c96-8160-34e8db822b1c",
   "metadata": {},
   "outputs": [
    {
     "data": {
      "text/plain": [
       "499999500000"
      ]
     },
     "execution_count": 24,
     "metadata": {},
     "output_type": "execute_result"
    }
   ],
   "source": [
    "total"
   ]
  },
  {
   "cell_type": "code",
   "execution_count": 25,
   "id": "6e22d6c0-6547-40d1-9dd8-31f4ad405cf2",
   "metadata": {},
   "outputs": [],
   "source": [
    "total=0\n",
    "for num in [1,2,3,4,5]:\n",
    "    total+=num   # this is similar to total=total+num , this is just a another way of doing it "
   ]
  },
  {
   "cell_type": "code",
   "execution_count": 26,
   "id": "9259c31a-561e-4072-aa34-57cb3eb93cb6",
   "metadata": {},
   "outputs": [
    {
     "data": {
      "text/plain": [
       "15"
      ]
     },
     "execution_count": 26,
     "metadata": {},
     "output_type": "execute_result"
    }
   ],
   "source": [
    "total"
   ]
  },
  {
   "cell_type": "code",
   "execution_count": 27,
   "id": "cd82cce4-6e00-46b8-98ed-a305478d313e",
   "metadata": {},
   "outputs": [],
   "source": [
    "x=12\n",
    "x**=2  # which is equal to x=x**2 "
   ]
  },
  {
   "cell_type": "code",
   "execution_count": 28,
   "id": "b1275ead-18a2-496a-a595-fad3138ebece",
   "metadata": {},
   "outputs": [
    {
     "data": {
      "text/plain": [
       "144"
      ]
     },
     "execution_count": 28,
     "metadata": {},
     "output_type": "execute_result"
    }
   ],
   "source": [
    "x"
   ]
  },
  {
   "cell_type": "code",
   "execution_count": 29,
   "id": "c21902a9-e221-4167-8dd2-d4b4007a30b4",
   "metadata": {},
   "outputs": [
    {
     "name": "stdout",
     "output_type": "stream",
     "text": [
      "Class average is 81.7\n"
     ]
    }
   ],
   "source": [
    "%run class_average.py"
   ]
  },
  {
   "cell_type": "code",
   "execution_count": 30,
   "id": "4f36ebe6-87a4-415c-9551-f17b8fc1cb68",
   "metadata": {},
   "outputs": [],
   "source": [
    "# f string or format string , we can add a placeholder by using this "
   ]
  },
  {
   "cell_type": "code",
   "execution_count": 33,
   "id": "4452643b-202a-40f3-935e-787abe23d73e",
   "metadata": {},
   "outputs": [
    {
     "name": "stdout",
     "output_type": "stream",
     "text": [
      "7 times 5 is 35\n"
     ]
    }
   ],
   "source": [
    "number1=7\n",
    "number2=5\n",
    "average=number1*number2\n",
    "print(f'{number1} times {number2} is {number1*number2}')  \n",
    "# here by using f string or formating sting we can add place holder inside cutrly brackets so it will automatically repace the values while priting\n",
    "# and we alos can do atrhimetic oprations inside "
   ]
  },
  {
   "cell_type": "code",
   "execution_count": 34,
   "id": "8dea7216-453b-40d5-942c-1497e0abf9a6",
   "metadata": {},
   "outputs": [
    {
     "name": "stdin",
     "output_type": "stream",
     "text": [
      "Enter grade, -1 to end:  97\n",
      "Enter grade, -1 to end:  88\n",
      "Enter grade, -1 to end:  72\n",
      "Enter grade, -1 to end:  -1\n"
     ]
    },
    {
     "name": "stdout",
     "output_type": "stream",
     "text": [
      "Class average is 85.67\n"
     ]
    }
   ],
   "source": [
    "%run class_average_sentinel.py"
   ]
  },
  {
   "cell_type": "code",
   "execution_count": 35,
   "id": "b25e11e6-3ecf-496b-9e5b-70c4f3f6ab50",
   "metadata": {},
   "outputs": [],
   "source": [
    "# range function : there are 3 different version of range function "
   ]
  },
  {
   "cell_type": "code",
   "execution_count": 36,
   "id": "cb0b2348-5bef-4bed-8e36-b94c32cdf438",
   "metadata": {},
   "outputs": [
    {
     "name": "stdout",
     "output_type": "stream",
     "text": [
      "5 6 7 8 9 "
     ]
    }
   ],
   "source": [
    "for num in range(5,10):   # start value  5 and end value 10\n",
    "    print(num,end=' ')"
   ]
  },
  {
   "cell_type": "code",
   "execution_count": 37,
   "id": "53ad3698-e8aa-4f47-a092-257821c503ab",
   "metadata": {},
   "outputs": [
    {
     "name": "stdout",
     "output_type": "stream",
     "text": [
      "0 2 4 6 8 "
     ]
    }
   ],
   "source": [
    "for num in range(0,10,2):   # which is loop increment by 2 \n",
    "    print(num,end=' ')"
   ]
  },
  {
   "cell_type": "code",
   "execution_count": 38,
   "id": "661d5ba4-a208-4cca-8739-96d779a54d84",
   "metadata": {},
   "outputs": [
    {
     "name": "stdout",
     "output_type": "stream",
     "text": [
      "10 8 6 4 2 "
     ]
    }
   ],
   "source": [
    "for num in range(10,0,-2):   # which is loop decrement by 2 \n",
    "    print(num,end=' ')"
   ]
  },
  {
   "cell_type": "code",
   "execution_count": 39,
   "id": "d4fd4283-a941-41cf-9586-6204b7173f2e",
   "metadata": {},
   "outputs": [],
   "source": [
    "for num in range(10,0,2):  \n",
    "    print(num,end=' ')"
   ]
  },
  {
   "cell_type": "code",
   "execution_count": 44,
   "id": "2503d44c-a0d8-4b3f-b3c7-f4c7951512c6",
   "metadata": {},
   "outputs": [
    {
     "name": "stdout",
     "output_type": "stream",
     "text": [
      "99 88 77 66 55 44 33 22 11 0 "
     ]
    }
   ],
   "source": [
    "for num in range(99,-1,-11):\n",
    "    print(num,end=' ')"
   ]
  },
  {
   "cell_type": "code",
   "execution_count": 47,
   "id": "dde22da1-8b5e-4f98-b059-6db5db5d724b",
   "metadata": {},
   "outputs": [
    {
     "name": "stdout",
     "output_type": "stream",
     "text": [
      "the sum is 2550\n"
     ]
    }
   ],
   "source": [
    "total=0\n",
    "for num in range(2,101,2):\n",
    "    total=total+num\n",
    "                                \n",
    "print(f'the sum is {total}') # you need to check for indentation else this print is part of loop and exeucte in every iteration\n",
    "   "
   ]
  },
  {
   "cell_type": "code",
   "execution_count": 48,
   "id": "c07fd1ee-ca6c-4b43-acce-6ec84a9766c6",
   "metadata": {},
   "outputs": [],
   "source": [
    "# type decimal for monetary amounts "
   ]
  },
  {
   "cell_type": "code",
   "execution_count": 49,
   "id": "37f1e948-1956-4040-b088-794d1ba81015",
   "metadata": {},
   "outputs": [],
   "source": [
    "amount=112.31"
   ]
  },
  {
   "cell_type": "code",
   "execution_count": 50,
   "id": "0f2aba16-0570-4de3-9595-80ebeeeb8eff",
   "metadata": {},
   "outputs": [
    {
     "name": "stdout",
     "output_type": "stream",
     "text": [
      "112.31\n"
     ]
    }
   ],
   "source": [
    "print(amount)"
   ]
  },
  {
   "cell_type": "code",
   "execution_count": 51,
   "id": "31d1616e-0629-4842-8147-07c92770c90b",
   "metadata": {},
   "outputs": [
    {
     "data": {
      "text/plain": [
       "112.31"
      ]
     },
     "execution_count": 51,
     "metadata": {},
     "output_type": "execute_result"
    }
   ],
   "source": [
    "amount"
   ]
  },
  {
   "cell_type": "code",
   "execution_count": 52,
   "id": "241a2cd3-38c0-4380-b6bb-49072e723f6f",
   "metadata": {},
   "outputs": [
    {
     "name": "stdout",
     "output_type": "stream",
     "text": [
      "112.31000000000000227374\n"
     ]
    }
   ],
   "source": [
    "print(f'{amount:.20f}')"
   ]
  },
  {
   "cell_type": "code",
   "execution_count": 53,
   "id": "74bdd915-52bd-4c94-ac86-2dd97d963a93",
   "metadata": {},
   "outputs": [
    {
     "data": {
      "text/plain": [
       "Decimal('1000.00')"
      ]
     },
     "execution_count": 53,
     "metadata": {},
     "output_type": "execute_result"
    }
   ],
   "source": [
    "from decimal import Decimal # this is we are importing python libracy \n",
    "# here we are importing decimal library and in the library we have multiple modules so we nned to mention which moduke we are going to impot too\n",
    "# in a syntax format  :   from <library> import <module>\n",
    "# here both library and module bothe are same , except in module D is caps in Decimal \n",
    "# Please note python is a case sensitive \n",
    "\n",
    "principal=Decimal('1000.00')\n",
    "principal\n"
   ]
  },
  {
   "cell_type": "code",
   "execution_count": 54,
   "id": "0929842d-548c-479e-8c8b-e243c88d4f55",
   "metadata": {},
   "outputs": [
    {
     "data": {
      "text/plain": [
       "Decimal('1000.00')"
      ]
     },
     "execution_count": 54,
     "metadata": {},
     "output_type": "execute_result"
    }
   ],
   "source": [
    "principal"
   ]
  },
  {
   "cell_type": "code",
   "execution_count": 55,
   "id": "2c0fbb97-8564-43ad-9872-3a720e4701cc",
   "metadata": {},
   "outputs": [],
   "source": [
    "rate=Decimal('0.05')"
   ]
  },
  {
   "cell_type": "code",
   "execution_count": 56,
   "id": "702a9f59-3633-4290-bf6f-5a6ab5671aa7",
   "metadata": {},
   "outputs": [
    {
     "data": {
      "text/plain": [
       "Decimal('0.05')"
      ]
     },
     "execution_count": 56,
     "metadata": {},
     "output_type": "execute_result"
    }
   ],
   "source": [
    "rate"
   ]
  },
  {
   "cell_type": "code",
   "execution_count": 57,
   "id": "6eae99f9-2ed4-4ef8-b601-2dde425b870f",
   "metadata": {},
   "outputs": [],
   "source": [
    "x=Decimal('10.5')"
   ]
  },
  {
   "cell_type": "code",
   "execution_count": 58,
   "id": "f3c403c0-3860-4f4a-9154-82a84bdc6493",
   "metadata": {},
   "outputs": [],
   "source": [
    "y=Decimal('2')"
   ]
  },
  {
   "cell_type": "code",
   "execution_count": 59,
   "id": "02c45afd-c7ab-4bfd-886a-157261dda15b",
   "metadata": {},
   "outputs": [
    {
     "data": {
      "text/plain": [
       "Decimal('12.5')"
      ]
     },
     "execution_count": 59,
     "metadata": {},
     "output_type": "execute_result"
    }
   ],
   "source": [
    "x+y"
   ]
  },
  {
   "cell_type": "code",
   "execution_count": 60,
   "id": "eaf99900-fa86-47b8-82c7-c6e56d7dfc27",
   "metadata": {},
   "outputs": [
    {
     "data": {
      "text/plain": [
       "Decimal('5')"
      ]
     },
     "execution_count": 60,
     "metadata": {},
     "output_type": "execute_result"
    }
   ],
   "source": [
    "x//y"
   ]
  },
  {
   "cell_type": "code",
   "execution_count": 61,
   "id": "b96001a3-e713-48e4-a135-0d3a1e36350a",
   "metadata": {},
   "outputs": [],
   "source": [
    "x=x+y"
   ]
  },
  {
   "cell_type": "code",
   "execution_count": 62,
   "id": "26360966-bf56-4eb3-ab4a-d2eca32ab32b",
   "metadata": {},
   "outputs": [
    {
     "data": {
      "text/plain": [
       "Decimal('12.5')"
      ]
     },
     "execution_count": 62,
     "metadata": {},
     "output_type": "execute_result"
    }
   ],
   "source": [
    "x"
   ]
  },
  {
   "cell_type": "code",
   "execution_count": 67,
   "id": "2f73f7cd-470c-4e90-9409-f05305ee6c94",
   "metadata": {},
   "outputs": [
    {
     "name": "stdout",
     "output_type": "stream",
     "text": [
      " 1   1050.00\n",
      " 2   1102.50\n",
      " 3   1157.62\n",
      " 4   1215.51\n",
      " 5   1276.28\n",
      " 6   1340.10\n",
      " 7   1407.10\n",
      " 8   1477.46\n",
      " 9   1551.33\n",
      "10   1628.89\n"
     ]
    }
   ],
   "source": [
    "amount=0\n",
    "for year in range(1,11):\n",
    "    amount=principal*(1+rate)**year\n",
    "    print(f'{year:>2}{amount:10.2f}')\n",
    "    \n",
    "# here >2 is nothing but padding , since we give > 2  , if the given number is single digit it will add one extra space left side \n",
    "# ex :  \"1\"  will display as \" 1\" , that is why  all the years in below output from 1 to 9 have extra space left side \n",
    "\n",
    "# :10.2f is nothing but , 10 digit character with 2 floating number , which is something like float(10,2) in oracle \n",
    "# since it is 10 characters so it added spaces before the amount , check the spaces between year and amount \n"
   ]
  },
  {
   "cell_type": "code",
   "execution_count": 70,
   "id": "e96b8b07-afde-4031-8a3a-ae0c2b0629e4",
   "metadata": {},
   "outputs": [
    {
     "name": "stdout",
     "output_type": "stream",
     "text": [
      "39.79\n"
     ]
    }
   ],
   "source": [
    "tax=Decimal('6.25')\n",
    "amount=Decimal('37.45')\n",
    "taxamt=amount*(tax/100)\n",
    "total=amount+taxamt\n",
    "print(f'{total:.2f}')"
   ]
  },
  {
   "cell_type": "code",
   "execution_count": 71,
   "id": "5b9cd9a3-36f2-4e4d-9e1f-4bfd60322f40",
   "metadata": {},
   "outputs": [],
   "source": [
    "# control statements "
   ]
  },
  {
   "cell_type": "code",
   "execution_count": 74,
   "id": "5ca5227f-2772-4871-9be9-7744efc8c258",
   "metadata": {},
   "outputs": [
    {
     "name": "stdout",
     "output_type": "stream",
     "text": [
      "0 1 2 3 4 5 6 7 8 9 "
     ]
    }
   ],
   "source": [
    "for num in range(100):\n",
    "    if num == 10:\n",
    "        break\n",
    "    print(num,end=' ') # please note the indentation here "
   ]
  },
  {
   "cell_type": "code",
   "execution_count": 75,
   "id": "f9b94536-0741-4e39-9892-50bb5ff6cf0b",
   "metadata": {},
   "outputs": [
    {
     "name": "stdout",
     "output_type": "stream",
     "text": [
      "0 1 2 3 4 6 7 8 9 "
     ]
    }
   ],
   "source": [
    "for num in range(10):\n",
    "    if num == 5:\n",
    "        continue\n",
    "    print(num,end=' ') # please note the indentation here "
   ]
  },
  {
   "cell_type": "code",
   "execution_count": 76,
   "id": "614fd633-170f-4a9a-b09f-1322c626e00f",
   "metadata": {},
   "outputs": [],
   "source": [
    "# boolean operators "
   ]
  },
  {
   "cell_type": "code",
   "execution_count": 77,
   "id": "cffd9132-4ddb-4c6e-ac55-8c5769b8813e",
   "metadata": {},
   "outputs": [],
   "source": [
    "gender='Female'"
   ]
  },
  {
   "cell_type": "code",
   "execution_count": 78,
   "id": "cddd30b8-a4df-4abf-80fb-b5dd108020f9",
   "metadata": {},
   "outputs": [],
   "source": [
    "age=70"
   ]
  },
  {
   "cell_type": "code",
   "execution_count": 79,
   "id": "91bada80-bad2-4bd3-a39e-ad05c21d1bf6",
   "metadata": {},
   "outputs": [
    {
     "name": "stdout",
     "output_type": "stream",
     "text": [
      "Senior female\n"
     ]
    }
   ],
   "source": [
    "if gender=='Female' and age>=65:\n",
    "    print('Senior female')"
   ]
  },
  {
   "cell_type": "code",
   "execution_count": 82,
   "id": "de11498d-9884-4947-a798-adb31fb0b8ad",
   "metadata": {},
   "outputs": [],
   "source": [
    "sem_avg=83"
   ]
  },
  {
   "cell_type": "code",
   "execution_count": 81,
   "id": "8ae44686-6365-4627-b671-2090787a83c7",
   "metadata": {},
   "outputs": [],
   "source": [
    "final_exam=95"
   ]
  },
  {
   "cell_type": "code",
   "execution_count": 83,
   "id": "84bf7d41-9230-4bfb-ba8e-d795270a9425",
   "metadata": {},
   "outputs": [
    {
     "name": "stdout",
     "output_type": "stream",
     "text": [
      "Student gets ans A\n"
     ]
    }
   ],
   "source": [
    "if sem_avg>=90 or final_exam>=90:\n",
    "    print('Student gets ans A')"
   ]
  },
  {
   "cell_type": "code",
   "execution_count": 84,
   "id": "3c458a21-712c-4b51-97f9-e246b40f97f5",
   "metadata": {},
   "outputs": [],
   "source": [
    "grade=87"
   ]
  },
  {
   "cell_type": "code",
   "execution_count": 86,
   "id": "b1c053cf-62b2-4fda-8f55-42762e9e773c",
   "metadata": {},
   "outputs": [
    {
     "name": "stdout",
     "output_type": "stream",
     "text": [
      " the next grade is  87\n"
     ]
    }
   ],
   "source": [
    "if not grade==-1:  # not operator will reverse the condition \n",
    "    print(' the next grade is ',grade)"
   ]
  },
  {
   "cell_type": "code",
   "execution_count": 1,
   "id": "d35a430d-9679-48c0-9628-f89e8d2486f0",
   "metadata": {},
   "outputs": [],
   "source": [
    "# measures of central Tendency - Mean , Median and mode "
   ]
  },
  {
   "cell_type": "code",
   "execution_count": 3,
   "id": "efba0e16-76cf-4402-ba37-d96a53b47e16",
   "metadata": {},
   "outputs": [],
   "source": [
    "grades=[85,93,45,89,85]"
   ]
  },
  {
   "cell_type": "code",
   "execution_count": 4,
   "id": "943719d8-4c6e-401f-a92e-e08a774cc13a",
   "metadata": {},
   "outputs": [
    {
     "data": {
      "text/plain": [
       "79.4"
      ]
     },
     "execution_count": 4,
     "metadata": {},
     "output_type": "execute_result"
    }
   ],
   "source": [
    "sum(grades)/len(grades)   # python buitin functions(sum,len) , this is to calculate Mean  "
   ]
  },
  {
   "cell_type": "code",
   "execution_count": 5,
   "id": "2fc6a1ce-e72d-4e67-94fc-7cb38e090b27",
   "metadata": {},
   "outputs": [
    {
     "data": {
      "text/plain": [
       "79.4"
      ]
     },
     "execution_count": 5,
     "metadata": {},
     "output_type": "execute_result"
    }
   ],
   "source": [
    "import statistics    # this library  already has the mean and median and etc so we nned to calulate manually, since we havn't mentioned the module name , while calling we need to metion the modulee name with dot to call that in the program  \n",
    "statistics.mean(grades)"
   ]
  },
  {
   "cell_type": "code",
   "execution_count": 6,
   "id": "39cace94-e803-471f-870d-97e3d1143a8c",
   "metadata": {},
   "outputs": [
    {
     "data": {
      "text/plain": [
       "85"
      ]
     },
     "execution_count": 6,
     "metadata": {},
     "output_type": "execute_result"
    }
   ],
   "source": [
    "statistics.median(grades) # here it automatically sort the list and then give the value 9median is the middle value in the list)"
   ]
  },
  {
   "cell_type": "code",
   "execution_count": 7,
   "id": "936491eb-4d31-4530-83c5-d37670074712",
   "metadata": {},
   "outputs": [
    {
     "data": {
      "text/plain": [
       "85"
      ]
     },
     "execution_count": 7,
     "metadata": {},
     "output_type": "execute_result"
    }
   ],
   "source": [
    "statistics.mode(grades)"
   ]
  },
  {
   "cell_type": "code",
   "execution_count": 8,
   "id": "85dc2de0-a64e-42f0-8292-5de5b49fc6a4",
   "metadata": {},
   "outputs": [
    {
     "data": {
      "text/plain": [
       "[45, 85, 85, 89, 93]"
      ]
     },
     "execution_count": 8,
     "metadata": {},
     "output_type": "execute_result"
    }
   ],
   "source": [
    "sorted(grades) # to sort the list of values , see here the middle value is 85"
   ]
  },
  {
   "cell_type": "code",
   "execution_count": 9,
   "id": "fe4f01f3-1a9c-4c84-98a4-966ebbf0fecd",
   "metadata": {},
   "outputs": [
    {
     "data": {
      "text/plain": [
       "[85, 93, 45, 89, 85]"
      ]
     },
     "execution_count": 9,
     "metadata": {},
     "output_type": "execute_result"
    }
   ],
   "source": [
    "grades   # the original list is unchanges after the sorted , sorted witll not chnage the order , it just deisplay the data in sorted order "
   ]
  },
  {
   "cell_type": "code",
   "execution_count": 29,
   "id": "05eef8bc-4131-4013-8df8-beede6e2a2bc",
   "metadata": {},
   "outputs": [],
   "source": [
    "grades1=[47,95,88,73,73,88,84]"
   ]
  },
  {
   "cell_type": "code",
   "execution_count": 24,
   "id": "f4cf1562-c977-438b-a21d-3e5d62719c45",
   "metadata": {},
   "outputs": [
    {
     "data": {
      "text/plain": [
       "78.28571428571429"
      ]
     },
     "execution_count": 24,
     "metadata": {},
     "output_type": "execute_result"
    }
   ],
   "source": [
    "import statistics\n",
    "statistics.mean(grades1)"
   ]
  },
  {
   "cell_type": "code",
   "execution_count": 25,
   "id": "4f04138f-4f5d-4f89-8737-77e7205665dd",
   "metadata": {},
   "outputs": [
    {
     "data": {
      "text/plain": [
       "84"
      ]
     },
     "execution_count": 25,
     "metadata": {},
     "output_type": "execute_result"
    }
   ],
   "source": [
    "statistics.median(grades1)"
   ]
  },
  {
   "cell_type": "code",
   "execution_count": 30,
   "id": "d6f78882-6a86-4d8b-960d-08619b5ee764",
   "metadata": {},
   "outputs": [
    {
     "data": {
      "text/plain": [
       "88"
      ]
     },
     "execution_count": 30,
     "metadata": {},
     "output_type": "execute_result"
    }
   ],
   "source": [
    "statistics.mode(grades1)"
   ]
  },
  {
   "cell_type": "code",
   "execution_count": null,
   "id": "d46c45fb-baad-4636-81d0-b7aa56830c90",
   "metadata": {},
   "outputs": [],
   "source": []
  },
  {
   "cell_type": "code",
   "execution_count": null,
   "id": "238626d0-a89b-47c1-9884-c0048f762b8c",
   "metadata": {},
   "outputs": [],
   "source": []
  }
 ],
 "metadata": {
  "kernelspec": {
   "display_name": "Python 3 (ipykernel)",
   "language": "python",
   "name": "python3"
  },
  "language_info": {
   "codemirror_mode": {
    "name": "ipython",
    "version": 3
   },
   "file_extension": ".py",
   "mimetype": "text/x-python",
   "name": "python",
   "nbconvert_exporter": "python",
   "pygments_lexer": "ipython3",
   "version": "3.9.13"
  }
 },
 "nbformat": 4,
 "nbformat_minor": 5
}
