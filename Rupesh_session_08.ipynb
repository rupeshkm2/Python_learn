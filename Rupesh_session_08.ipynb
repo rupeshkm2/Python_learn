{
 "cells": [
  {
   "cell_type": "code",
   "execution_count": 1,
   "id": "849c94c1-ac82-485c-9381-0826c389119b",
   "metadata": {},
   "outputs": [],
   "source": [
    "# strings Deeper look \n",
    "# string menthods , string formating , concainate string , repeat string , strip white space \n",
    "# string comparision , serach string , substring , tockenizing , join string , reg expression , manipulate data"
   ]
  },
  {
   "cell_type": "code",
   "execution_count": 2,
   "id": "0dfaaa08-a30f-436b-9800-a574dbbddbd8",
   "metadata": {},
   "outputs": [],
   "source": [
    "# presentation types "
   ]
  },
  {
   "cell_type": "code",
   "execution_count": 3,
   "id": "f05c4735-8f78-49c6-9278-02580fd84450",
   "metadata": {},
   "outputs": [
    {
     "data": {
      "text/plain": [
       "'17.49'"
      ]
     },
     "execution_count": 3,
     "metadata": {},
     "output_type": "execute_result"
    }
   ],
   "source": [
    "f'{17.489:.2f}'"
   ]
  },
  {
   "cell_type": "code",
   "execution_count": 4,
   "id": "f9627f84-f638-4dfe-8037-bbe9b75cd79f",
   "metadata": {},
   "outputs": [
    {
     "data": {
      "text/plain": [
       "'10'"
      ]
     },
     "execution_count": 4,
     "metadata": {},
     "output_type": "execute_result"
    }
   ],
   "source": [
    "f'{10:d}' # we are syaing format the value as decimal integer"
   ]
  },
  {
   "cell_type": "code",
   "execution_count": 5,
   "id": "b25e4b2c-b6cc-4521-90c0-0fca25fec58e",
   "metadata": {},
   "outputs": [
    {
     "data": {
      "text/plain": [
       "'A'"
      ]
     },
     "execution_count": 5,
     "metadata": {},
     "output_type": "execute_result"
    }
   ],
   "source": [
    "f'{65:c}'  # display as a character "
   ]
  },
  {
   "cell_type": "code",
   "execution_count": 7,
   "id": "63f8dd20-4e08-47b8-bcab-c6ad113afac8",
   "metadata": {},
   "outputs": [
    {
     "data": {
      "text/plain": [
       "'a'"
      ]
     },
     "execution_count": 7,
     "metadata": {},
     "output_type": "execute_result"
    }
   ],
   "source": [
    "f'{97:c}'"
   ]
  },
  {
   "cell_type": "code",
   "execution_count": 8,
   "id": "d6afc10f-7959-4a09-98b0-9aaccd13130c",
   "metadata": {},
   "outputs": [
    {
     "data": {
      "text/plain": [
       "'Hello7'"
      ]
     },
     "execution_count": 8,
     "metadata": {},
     "output_type": "execute_result"
    }
   ],
   "source": [
    "f'{\"Hello\":s}{7}'   # string type , if we dont mention {7} it will take as string "
   ]
  },
  {
   "cell_type": "code",
   "execution_count": 9,
   "id": "5a823828-c35f-40c0-bbef-efc8441cdfb8",
   "metadata": {},
   "outputs": [],
   "source": [
    "from decimal import Decimal"
   ]
  },
  {
   "cell_type": "code",
   "execution_count": 11,
   "id": "6220c110-aace-4990-ae17-0f6746d8d5a2",
   "metadata": {},
   "outputs": [
    {
     "data": {
      "text/plain": [
       "'100000000000000000000000000000000.000'"
      ]
     },
     "execution_count": 11,
     "metadata": {},
     "output_type": "execute_result"
    }
   ],
   "source": [
    "f'{Decimal(\"100000000000000000000000000000000.0\"):.3f}'\n",
    "# it works with decial too , so the below result to 3 decimal point value "
   ]
  },
  {
   "cell_type": "code",
   "execution_count": 12,
   "id": "35eed6a6-fd34-4bb3-a16e-88690fb2d910",
   "metadata": {},
   "outputs": [
    {
     "data": {
      "text/plain": [
       "'1.000e+32'"
      ]
     },
     "execution_count": 12,
     "metadata": {},
     "output_type": "execute_result"
    }
   ],
   "source": [
    "f'{Decimal(\"100000000000000000000000000000000.0\"):.3e}' # small e exponentional representation\n"
   ]
  },
  {
   "cell_type": "code",
   "execution_count": 13,
   "id": "7fb803bb-6b7f-46f4-b6bb-8f548cf94d0a",
   "metadata": {},
   "outputs": [
    {
     "data": {
      "text/plain": [
       "'1.000E+32'"
      ]
     },
     "execution_count": 13,
     "metadata": {},
     "output_type": "execute_result"
    }
   ],
   "source": [
    "f'{Decimal(\"100000000000000000000000000000000.0\"):.3E}' # with capital E , will grt the same result \n",
    "# but result alos will have the capital letters "
   ]
  },
  {
   "cell_type": "code",
   "execution_count": 2,
   "id": "2d95caba-3d7e-4acd-ba65-83be7ac61a14",
   "metadata": {},
   "outputs": [
    {
     "data": {
      "text/plain": [
       "'[        27]'"
      ]
     },
     "execution_count": 2,
     "metadata": {},
     "output_type": "execute_result"
    }
   ],
   "source": [
    "f'[{27:10d}]' # it display 27 in a 10 digt format number , right alligned \n",
    "# field width as 10 , 8 spaces and 2 digit value "
   ]
  },
  {
   "cell_type": "code",
   "execution_count": 4,
   "id": "db560bad-fc83-4fc0-b849-489913b57f26",
   "metadata": {},
   "outputs": [
    {
     "data": {
      "text/plain": [
       "'[  3.500000]'"
      ]
     },
     "execution_count": 4,
     "metadata": {},
     "output_type": "execute_result"
    }
   ],
   "source": [
    "f'[{3.5:10f}]' # same with floating number but by default you wiull get 6 dogit floating number with right alligned "
   ]
  },
  {
   "cell_type": "code",
   "execution_count": 5,
   "id": "9ffec7f6-9cc6-4f2d-836e-1e3b76e376f0",
   "metadata": {},
   "outputs": [
    {
     "data": {
      "text/plain": [
       "'[Hellow    ]'"
      ]
     },
     "execution_count": 5,
     "metadata": {},
     "output_type": "execute_result"
    }
   ],
   "source": [
    "f'[{\"Hellow\":10}]' # if we dont mention anything it will take as string , string always aligh left\n",
    "# else we can alos mention s in the format string  f'[{\"Hellow\":10}s]'"
   ]
  },
  {
   "cell_type": "code",
   "execution_count": 6,
   "id": "9f7c771c-dc6e-4b1d-80de-bfb2d6615be5",
   "metadata": {},
   "outputs": [
    {
     "data": {
      "text/plain": [
       "'[Hellow    ]'"
      ]
     },
     "execution_count": 6,
     "metadata": {},
     "output_type": "execute_result"
    }
   ],
   "source": [
    "f'[{\"Hellow\":10s}]'"
   ]
  },
  {
   "cell_type": "code",
   "execution_count": 7,
   "id": "5c2310bc-3716-4607-a6ba-9986c8234b82",
   "metadata": {},
   "outputs": [
    {
     "data": {
      "text/plain": [
       "'[27             ]'"
      ]
     },
     "execution_count": 7,
     "metadata": {},
     "output_type": "execute_result"
    }
   ],
   "source": [
    "f'[{27:<15d}]'# we can override the allignment \n",
    "# here we are sying display 27 in an 15 digit number and the sybmol < indicate alligh left"
   ]
  },
  {
   "cell_type": "code",
   "execution_count": 8,
   "id": "a7a8ea2b-5404-4d5c-9a4b-6b4cb0ec84c9",
   "metadata": {},
   "outputs": [
    {
     "data": {
      "text/plain": [
       "'[3.500000       ]'"
      ]
     },
     "execution_count": 8,
     "metadata": {},
     "output_type": "execute_result"
    }
   ],
   "source": [
    "f'[{3.5:<15f}]'"
   ]
  },
  {
   "cell_type": "code",
   "execution_count": 9,
   "id": "15843fb5-7a7f-47f3-a72b-107ade5c66a2",
   "metadata": {},
   "outputs": [
    {
     "data": {
      "text/plain": [
       "'[    Hellow]'"
      ]
     },
     "execution_count": 9,
     "metadata": {},
     "output_type": "execute_result"
    }
   ],
   "source": [
    "f'[{\"Hellow\":>10s}]' # we override the string to alligh right >\n"
   ]
  },
  {
   "cell_type": "code",
   "execution_count": 10,
   "id": "f5eaede9-b19f-4478-9b44-ff5eacd319a0",
   "metadata": {},
   "outputs": [
    {
     "data": {
      "text/plain": [
       "'[  27   ]'"
      ]
     },
     "execution_count": 10,
     "metadata": {},
     "output_type": "execute_result"
    }
   ],
   "source": [
    "f'[{27:^7d}]' # ^ it indicate display in center "
   ]
  },
  {
   "cell_type": "code",
   "execution_count": 11,
   "id": "3a6369b1-9de9-4058-97a1-f3ca5b7dbddd",
   "metadata": {},
   "outputs": [
    {
     "data": {
      "text/plain": [
       "'[    +27]'"
      ]
     },
     "execution_count": 11,
     "metadata": {},
     "output_type": "execute_result"
    }
   ],
   "source": [
    "f'[{27:+7d}]' # it indicate , if the valye is positive add + in the output "
   ]
  },
  {
   "cell_type": "code",
   "execution_count": 12,
   "id": "5c9cda15-be73-43fb-b44b-a3fc71475702",
   "metadata": {},
   "outputs": [
    {
     "data": {
      "text/plain": [
       "'[    -27]'"
      ]
     },
     "execution_count": 12,
     "metadata": {},
     "output_type": "execute_result"
    }
   ],
   "source": [
    "f'[{-27:+7d}]'"
   ]
  },
  {
   "cell_type": "code",
   "execution_count": 13,
   "id": "85b18d27-ff53-4237-b90e-5f04c6d2b6ab",
   "metadata": {},
   "outputs": [
    {
     "data": {
      "text/plain": [
       "'[+000027]'"
      ]
     },
     "execution_count": 13,
     "metadata": {},
     "output_type": "execute_result"
    }
   ],
   "source": [
    "f'[{27:+07d}]' # here the 0 , so it will fill the emtry spaces "
   ]
  },
  {
   "cell_type": "code",
   "execution_count": 17,
   "id": "b821ca56-23ac-4223-afa1-ef0150f4e219",
   "metadata": {},
   "outputs": [
    {
     "data": {
      "text/plain": [
       "'[ 27]'"
      ]
     },
     "execution_count": 17,
     "metadata": {},
     "output_type": "execute_result"
    }
   ],
   "source": [
    "f'[{27: d}]'  # if you add space before d it added space in the output "
   ]
  },
  {
   "cell_type": "code",
   "execution_count": 18,
   "id": "47739ddd-4853-4206-89cf-304d2039649d",
   "metadata": {},
   "outputs": [
    {
     "data": {
      "text/plain": [
       "'[-27]'"
      ]
     },
     "execution_count": 18,
     "metadata": {},
     "output_type": "execute_result"
    }
   ],
   "source": [
    "f'[{-27: d}]' # the space is not added to below negetive , since - occupied that space "
   ]
  },
  {
   "cell_type": "code",
   "execution_count": 19,
   "id": "7c03937d-83ea-4d2c-9be9-7b40f220e2e7",
   "metadata": {},
   "outputs": [
    {
     "data": {
      "text/plain": [
       "'12,345,678'"
      ]
     },
     "execution_count": 19,
     "metadata": {},
     "output_type": "execute_result"
    }
   ],
   "source": [
    "f'{12345678:,d}'  # it is grouping seperator , thousand seperator "
   ]
  },
  {
   "cell_type": "code",
   "execution_count": 21,
   "id": "ef243627-4877-4f4a-af34-960c691c1f84",
   "metadata": {},
   "outputs": [
    {
     "data": {
      "text/plain": [
       "'123,456.78'"
      ]
     },
     "execution_count": 21,
     "metadata": {},
     "output_type": "execute_result"
    }
   ],
   "source": [
    "f'{123456.78:,.2f}'"
   ]
  },
  {
   "cell_type": "code",
   "execution_count": null,
   "id": "0ca467b4-199f-4d80-abf8-f1854611533d",
   "metadata": {},
   "outputs": [],
   "source": [
    "# self check"
   ]
  },
  {
   "cell_type": "code",
   "execution_count": 22,
   "id": "bc8ed92d-114a-4a59-bc8d-4da9f1b101eb",
   "metadata": {},
   "outputs": [],
   "source": [
    "# print the values 10240.473 and -3210.9521 , each proceded by sigh , 10 character field \n",
    "# with thousand seperator , their decimal point seperate by two digt "
   ]
  },
  {
   "cell_type": "code",
   "execution_count": 25,
   "id": "8b9e2719-221c-4baa-8d54-37a28dabdaf7",
   "metadata": {},
   "outputs": [
    {
     "name": "stdout",
     "output_type": "stream",
     "text": [
      "+10,240.47\n",
      " -3,210.95\n"
     ]
    }
   ],
   "source": [
    "print(f'{10240.473:+10,.2f}\\n{-3210.9521:+10,.2f}')"
   ]
  },
  {
   "cell_type": "code",
   "execution_count": 26,
   "id": "0a54056e-e915-4522-8ccd-e4e28eaac7cb",
   "metadata": {},
   "outputs": [],
   "source": [
    "# previous verson of python code has different format methods \n",
    "# please learn if incase if we want to work on older version of code "
   ]
  },
  {
   "cell_type": "code",
   "execution_count": 27,
   "id": "ae90bf4c-5aa5-4efb-8573-6fe4cbcaaf1a",
   "metadata": {},
   "outputs": [
    {
     "data": {
      "text/plain": [
       "'17.49'"
      ]
     },
     "execution_count": 27,
     "metadata": {},
     "output_type": "execute_result"
    }
   ],
   "source": [
    "'{:.2f}'.format(17.489)"
   ]
  },
  {
   "cell_type": "code",
   "execution_count": 29,
   "id": "6afff9f6-c589-4d90-a6e1-18fab1647b5a",
   "metadata": {},
   "outputs": [
    {
     "data": {
      "text/plain": [
       "'Amanda Cyan'"
      ]
     },
     "execution_count": 29,
     "metadata": {},
     "output_type": "execute_result"
    }
   ],
   "source": [
    "'{} {}'.format('Amanda','Cyan')"
   ]
  },
  {
   "cell_type": "code",
   "execution_count": 30,
   "id": "056f4040-6830-4e66-aaa5-4b061514fb30",
   "metadata": {},
   "outputs": [
    {
     "data": {
      "text/plain": [
       "'Happy Happy Birthday'"
      ]
     },
     "execution_count": 30,
     "metadata": {},
     "output_type": "execute_result"
    }
   ],
   "source": [
    "'{0} {0} {1}'.format('Happy','Birthday')  # replace as per the index number "
   ]
  },
  {
   "cell_type": "code",
   "execution_count": 31,
   "id": "514c0aa2-b06a-4620-8850-e46c3e60e702",
   "metadata": {},
   "outputs": [
    {
     "data": {
      "text/plain": [
       "'Amanda Gray'"
      ]
     },
     "execution_count": 31,
     "metadata": {},
     "output_type": "execute_result"
    }
   ],
   "source": [
    "'{first} {last}'.format(first='Amanda',last='Gray') # we can alos use keyword arguments "
   ]
  },
  {
   "cell_type": "code",
   "execution_count": 33,
   "id": "bce64466-f67f-4498-9ec9-d601cb2f2e28",
   "metadata": {},
   "outputs": [
    {
     "data": {
      "text/plain": [
       "'Amanda Gray'"
      ]
     },
     "execution_count": 33,
     "metadata": {},
     "output_type": "execute_result"
    }
   ],
   "source": [
    " '{first} {last}'.format(last='Gray',first='Amanda')  # the advantage is we can chnage the oder in format method"
   ]
  },
  {
   "cell_type": "code",
   "execution_count": 34,
   "id": "42c05649-638a-4af3-a6e8-d2221577558e",
   "metadata": {},
   "outputs": [],
   "source": [
    "s1='happy'"
   ]
  },
  {
   "cell_type": "code",
   "execution_count": 35,
   "id": "f1cb907c-406b-429f-b8fd-673d7ad691f1",
   "metadata": {},
   "outputs": [],
   "source": [
    "s2='birthday'"
   ]
  },
  {
   "cell_type": "code",
   "execution_count": 36,
   "id": "ad6a02e9-d21c-4abe-8dc5-13372260b61d",
   "metadata": {},
   "outputs": [],
   "source": [
    "s1+=' '+s2"
   ]
  },
  {
   "cell_type": "code",
   "execution_count": 37,
   "id": "dc65c462-5008-4213-8bb7-21cd45e5ac4c",
   "metadata": {},
   "outputs": [
    {
     "data": {
      "text/plain": [
       "'happy birthday'"
      ]
     },
     "execution_count": 37,
     "metadata": {},
     "output_type": "execute_result"
    }
   ],
   "source": [
    "s1"
   ]
  },
  {
   "cell_type": "code",
   "execution_count": 39,
   "id": "a112a2c8-b284-49f5-b7a7-a5d74d15c9f3",
   "metadata": {},
   "outputs": [],
   "source": [
    "symbol ='>'"
   ]
  },
  {
   "cell_type": "code",
   "execution_count": 40,
   "id": "62e58278-a044-4c7d-8fda-028143e64649",
   "metadata": {},
   "outputs": [],
   "source": [
    "symbol *=5"
   ]
  },
  {
   "cell_type": "code",
   "execution_count": 41,
   "id": "3121e01b-571d-4385-b4a9-984b27664255",
   "metadata": {},
   "outputs": [
    {
     "data": {
      "text/plain": [
       "'>>>>>'"
      ]
     },
     "execution_count": 41,
     "metadata": {},
     "output_type": "execute_result"
    }
   ],
   "source": [
    "symbol"
   ]
  },
  {
   "cell_type": "code",
   "execution_count": 42,
   "id": "643fa6f0-11a1-464f-86aa-1ff57954c203",
   "metadata": {},
   "outputs": [],
   "source": [
    "sentence ='\\t  \\n  This is a test string \\t\\t \\n'"
   ]
  },
  {
   "cell_type": "code",
   "execution_count": 43,
   "id": "facd4d3b-58d9-4a61-8ebd-a4d6b0f1ec17",
   "metadata": {},
   "outputs": [
    {
     "data": {
      "text/plain": [
       "'\\t  \\n  This is a test string \\t\\t \\n'"
      ]
     },
     "execution_count": 43,
     "metadata": {},
     "output_type": "execute_result"
    }
   ],
   "source": [
    "sentence"
   ]
  },
  {
   "cell_type": "code",
   "execution_count": 44,
   "id": "c42f4c8e-fe83-4bfe-92e0-a9a054b06455",
   "metadata": {},
   "outputs": [
    {
     "data": {
      "text/plain": [
       "'This is a test string'"
      ]
     },
     "execution_count": 44,
     "metadata": {},
     "output_type": "execute_result"
    }
   ],
   "source": [
    "sentence.strip()  "
   ]
  },
  {
   "cell_type": "code",
   "execution_count": 46,
   "id": "097efce2-d3de-4c33-a529-dc9901870398",
   "metadata": {},
   "outputs": [
    {
     "data": {
      "text/plain": [
       "'This is a test string \\t\\t \\n'"
      ]
     },
     "execution_count": 46,
     "metadata": {},
     "output_type": "execute_result"
    }
   ],
   "source": [
    "sentence.lstrip()  "
   ]
  },
  {
   "cell_type": "code",
   "execution_count": 47,
   "id": "bac5f335-8e97-424e-baac-dd7b95d7af61",
   "metadata": {},
   "outputs": [
    {
     "data": {
      "text/plain": [
       "'\\t  \\n  This is a test string'"
      ]
     },
     "execution_count": 47,
     "metadata": {},
     "output_type": "execute_result"
    }
   ],
   "source": [
    "sentence.rstrip()  "
   ]
  },
  {
   "cell_type": "code",
   "execution_count": 48,
   "id": "41f5aa3c-7d99-438f-91a8-48e79a53982d",
   "metadata": {},
   "outputs": [
    {
     "data": {
      "text/plain": [
       "'Happy birthday'"
      ]
     },
     "execution_count": 48,
     "metadata": {},
     "output_type": "execute_result"
    }
   ],
   "source": [
    "'happy birthday'.capitalize()  # first letter capital "
   ]
  },
  {
   "cell_type": "code",
   "execution_count": 49,
   "id": "4ec756af-fd8d-4e26-ba09-f36c6605ccb1",
   "metadata": {},
   "outputs": [
    {
     "data": {
      "text/plain": [
       "'Happy Birthday'"
      ]
     },
     "execution_count": 49,
     "metadata": {},
     "output_type": "execute_result"
    }
   ],
   "source": [
    "'happy birthday'.title()  # first letter in each word capital ( initcap in oracle )"
   ]
  },
  {
   "cell_type": "code",
   "execution_count": null,
   "id": "18ae0b2c-e9ee-4f0e-a079-b18e4b526709",
   "metadata": {},
   "outputs": [],
   "source": [
    "# string comparision "
   ]
  },
  {
   "cell_type": "code",
   "execution_count": 50,
   "id": "b3ce24cb-824c-4864-abb5-92ee07b25b39",
   "metadata": {},
   "outputs": [
    {
     "name": "stdout",
     "output_type": "stream",
     "text": [
      "A:65; a:97\n"
     ]
    }
   ],
   "source": [
    "print(f'A:{ord(\"A\")}; a:{ord(\"a\")}')"
   ]
  },
  {
   "cell_type": "code",
   "execution_count": 51,
   "id": "7e35cc12-3855-426f-8658-980860725d5a",
   "metadata": {},
   "outputs": [
    {
     "data": {
      "text/plain": [
       "False"
      ]
     },
     "execution_count": 51,
     "metadata": {},
     "output_type": "execute_result"
    }
   ],
   "source": [
    "'Orange'=='orange'  # flase because case O is caps "
   ]
  },
  {
   "cell_type": "code",
   "execution_count": 52,
   "id": "38b82c22-57bb-4d14-8242-ef27b451fc5f",
   "metadata": {},
   "outputs": [
    {
     "data": {
      "text/plain": [
       "True"
      ]
     },
     "execution_count": 52,
     "metadata": {},
     "output_type": "execute_result"
    }
   ],
   "source": [
    "'Orange'<'orange'"
   ]
  },
  {
   "cell_type": "code",
   "execution_count": 53,
   "id": "22cfbadd-8e6b-4382-9f3f-b62049a60b64",
   "metadata": {},
   "outputs": [
    {
     "data": {
      "text/plain": [
       "True"
      ]
     },
     "execution_count": 53,
     "metadata": {},
     "output_type": "execute_result"
    }
   ],
   "source": [
    "'orange'=='orange'"
   ]
  },
  {
   "cell_type": "code",
   "execution_count": 56,
   "id": "75c5bfbe-8f0e-48b9-bbfc-270a55743129",
   "metadata": {},
   "outputs": [],
   "source": [
    "sentence='to be or not to be that is the question'"
   ]
  },
  {
   "cell_type": "code",
   "execution_count": 57,
   "id": "d147d6b2-f00e-4fa9-923a-4f73f9cb94da",
   "metadata": {},
   "outputs": [
    {
     "data": {
      "text/plain": [
       "2"
      ]
     },
     "execution_count": 57,
     "metadata": {},
     "output_type": "execute_result"
    }
   ],
   "source": [
    "sentence.count('to') # occurence of word to "
   ]
  },
  {
   "cell_type": "code",
   "execution_count": 58,
   "id": "7b47ab82-f9b4-4f8a-a4b4-45bec4641427",
   "metadata": {},
   "outputs": [
    {
     "data": {
      "text/plain": [
       "1"
      ]
     },
     "execution_count": 58,
     "metadata": {},
     "output_type": "execute_result"
    }
   ],
   "source": [
    "sentence.count('to',12) # start seach from idex number 12 "
   ]
  },
  {
   "cell_type": "code",
   "execution_count": 59,
   "id": "c58a57f7-4af4-4907-8347-0b5c911739f0",
   "metadata": {},
   "outputs": [
    {
     "data": {
      "text/plain": [
       "1"
      ]
     },
     "execution_count": 59,
     "metadata": {},
     "output_type": "execute_result"
    }
   ],
   "source": [
    "sentence.count('to',12,25)  # start from index 12 and end at index 25 ( up to not include 25)"
   ]
  },
  {
   "cell_type": "code",
   "execution_count": 60,
   "id": "2220baee-f83d-432e-b38d-b339498797c7",
   "metadata": {},
   "outputs": [
    {
     "data": {
      "text/plain": [
       "3"
      ]
     },
     "execution_count": 60,
     "metadata": {},
     "output_type": "execute_result"
    }
   ],
   "source": [
    "sentence.index('be')"
   ]
  },
  {
   "cell_type": "code",
   "execution_count": 61,
   "id": "d8d9e631-c9b2-4612-92fc-dd181e7a49bc",
   "metadata": {},
   "outputs": [
    {
     "data": {
      "text/plain": [
       "16"
      ]
     },
     "execution_count": 61,
     "metadata": {},
     "output_type": "execute_result"
    }
   ],
   "source": [
    "sentence.rindex('be') # search from back"
   ]
  },
  {
   "cell_type": "code",
   "execution_count": 62,
   "id": "4116baf4-9e4f-4e06-9e8d-a268ff6315ef",
   "metadata": {},
   "outputs": [
    {
     "data": {
      "text/plain": [
       "True"
      ]
     },
     "execution_count": 62,
     "metadata": {},
     "output_type": "execute_result"
    }
   ],
   "source": [
    "'that' in sentence"
   ]
  },
  {
   "cell_type": "code",
   "execution_count": 63,
   "id": "00e09d98-46a0-41bd-abb8-1c48ee249181",
   "metadata": {},
   "outputs": [
    {
     "data": {
      "text/plain": [
       "False"
      ]
     },
     "execution_count": 63,
     "metadata": {},
     "output_type": "execute_result"
    }
   ],
   "source": [
    "'THAT' in sentence  # it is case sencitive "
   ]
  },
  {
   "cell_type": "code",
   "execution_count": 64,
   "id": "6acf709b-5ece-4995-9969-d21464b0dcf0",
   "metadata": {},
   "outputs": [
    {
     "data": {
      "text/plain": [
       "True"
      ]
     },
     "execution_count": 64,
     "metadata": {},
     "output_type": "execute_result"
    }
   ],
   "source": [
    "'THAT' not in sentence"
   ]
  },
  {
   "cell_type": "code",
   "execution_count": 65,
   "id": "a4c1617a-5627-4a80-b08a-b0a4bacb8883",
   "metadata": {},
   "outputs": [
    {
     "data": {
      "text/plain": [
       "True"
      ]
     },
     "execution_count": 65,
     "metadata": {},
     "output_type": "execute_result"
    }
   ],
   "source": [
    "sentence.startswith('to')"
   ]
  },
  {
   "cell_type": "code",
   "execution_count": 66,
   "id": "8d463127-c8a3-4dde-802f-46df16f5ee4d",
   "metadata": {},
   "outputs": [
    {
     "data": {
      "text/plain": [
       "False"
      ]
     },
     "execution_count": 66,
     "metadata": {},
     "output_type": "execute_result"
    }
   ],
   "source": [
    "sentence.startswith('be')"
   ]
  },
  {
   "cell_type": "code",
   "execution_count": 67,
   "id": "b34af9d9-eb37-415e-b2b5-7e58cfea3b8e",
   "metadata": {},
   "outputs": [
    {
     "data": {
      "text/plain": [
       "True"
      ]
     },
     "execution_count": 67,
     "metadata": {},
     "output_type": "execute_result"
    }
   ],
   "source": [
    "sentence.endswith('question')"
   ]
  },
  {
   "cell_type": "code",
   "execution_count": 68,
   "id": "a5f77565-945f-4919-92af-64562917b52d",
   "metadata": {},
   "outputs": [
    {
     "data": {
      "text/plain": [
       "False"
      ]
     },
     "execution_count": 68,
     "metadata": {},
     "output_type": "execute_result"
    }
   ],
   "source": [
    "sentence.endswith('quest')"
   ]
  },
  {
   "cell_type": "code",
   "execution_count": 69,
   "id": "563add92-5f91-4a94-81a0-044c15a80845",
   "metadata": {},
   "outputs": [],
   "source": [
    "values='1\\t2\\t3\\t4\\t5'"
   ]
  },
  {
   "cell_type": "code",
   "execution_count": 70,
   "id": "8c3488fb-7243-4162-87c3-360fb9b454a1",
   "metadata": {},
   "outputs": [
    {
     "data": {
      "text/plain": [
       "'1\\t2\\t3\\t4\\t5'"
      ]
     },
     "execution_count": 70,
     "metadata": {},
     "output_type": "execute_result"
    }
   ],
   "source": [
    "values"
   ]
  },
  {
   "cell_type": "code",
   "execution_count": 71,
   "id": "b48af553-f006-4953-b5e0-a7a6ea309400",
   "metadata": {},
   "outputs": [
    {
     "data": {
      "text/plain": [
       "'1,2,3,4,5'"
      ]
     },
     "execution_count": 71,
     "metadata": {},
     "output_type": "execute_result"
    }
   ],
   "source": [
    "values.replace('\\t',',')"
   ]
  },
  {
   "cell_type": "code",
   "execution_count": 72,
   "id": "85f00541-a79d-4606-bc2d-e4d71ea92d8d",
   "metadata": {},
   "outputs": [],
   "source": [
    "letters='A, B, C, D'"
   ]
  },
  {
   "cell_type": "code",
   "execution_count": 74,
   "id": "9f72a471-5134-41b3-8ce5-4b0803c0fb02",
   "metadata": {},
   "outputs": [
    {
     "data": {
      "text/plain": [
       "'A, B, C, D'"
      ]
     },
     "execution_count": 74,
     "metadata": {},
     "output_type": "execute_result"
    }
   ],
   "source": [
    "letters"
   ]
  },
  {
   "cell_type": "code",
   "execution_count": 75,
   "id": "3a9e3ab9-87a6-4a3b-96df-4c6abc311b29",
   "metadata": {},
   "outputs": [
    {
     "data": {
      "text/plain": [
       "['A', 'B', 'C', 'D']"
      ]
     },
     "execution_count": 75,
     "metadata": {},
     "output_type": "execute_result"
    }
   ],
   "source": [
    "letters.split(', ') # split by , and space "
   ]
  },
  {
   "cell_type": "code",
   "execution_count": 76,
   "id": "4eaf6baf-ce04-4f14-b022-56faa92fb3ee",
   "metadata": {},
   "outputs": [
    {
     "data": {
      "text/plain": [
       "['A', 'B', 'C, D']"
      ]
     },
     "execution_count": 76,
     "metadata": {},
     "output_type": "execute_result"
    }
   ],
   "source": [
    "letters.split(', ',2)  # it means split only the forst 2 "
   ]
  },
  {
   "cell_type": "code",
   "execution_count": 77,
   "id": "bcb69390-09de-4a00-9151-262494bc2cc3",
   "metadata": {},
   "outputs": [],
   "source": [
    "letters_list=['A','B','C','D']"
   ]
  },
  {
   "cell_type": "code",
   "execution_count": 78,
   "id": "f5f6164f-f71d-4c22-9dff-ba37bd4a772f",
   "metadata": {},
   "outputs": [
    {
     "data": {
      "text/plain": [
       "['A', 'B', 'C', 'D']"
      ]
     },
     "execution_count": 78,
     "metadata": {},
     "output_type": "execute_result"
    }
   ],
   "source": [
    "letters_list"
   ]
  },
  {
   "cell_type": "code",
   "execution_count": 79,
   "id": "38d838c3-21a8-4abc-af0e-e01c8df9135e",
   "metadata": {},
   "outputs": [
    {
     "data": {
      "text/plain": [
       "'A.B.C.D'"
      ]
     },
     "execution_count": 79,
     "metadata": {},
     "output_type": "execute_result"
    }
   ],
   "source": [
    "'.'.join(letters_list)  # so the 4 string in the list is seperated by ."
   ]
  },
  {
   "cell_type": "code",
   "execution_count": 81,
   "id": "99015623-24d8-43aa-a017-fb64433fdaf3",
   "metadata": {},
   "outputs": [
    {
     "data": {
      "text/plain": [
       "'0.1.2.3.4.5.6.7.8.9'"
      ]
     },
     "execution_count": 81,
     "metadata": {},
     "output_type": "execute_result"
    }
   ],
   "source": [
    "'.'.join( [str(i) for i in range(10)]) # list comprehension \n",
    "# make sure we need to use str() in left side for loop , since this join is a string method "
   ]
  },
  {
   "cell_type": "code",
   "execution_count": 82,
   "id": "a8ab2ce6-e461-408c-8e8d-37ac7ee60d31",
   "metadata": {},
   "outputs": [
    {
     "data": {
      "text/plain": [
       "('Amanda', ': ', '89, 97, 92')"
      ]
     },
     "execution_count": 82,
     "metadata": {},
     "output_type": "execute_result"
    }
   ],
   "source": [
    "'Amanda: 89, 97, 92'.partition(': ')\n",
    "# so basically it return touple with 3 arguments 1) before the partition and 2) partetion 3) after the partition "
   ]
  },
  {
   "cell_type": "code",
   "execution_count": 83,
   "id": "9abab178-7dfa-4da8-a9ec-6ca938caad9c",
   "metadata": {},
   "outputs": [],
   "source": [
    "url='http:///www.google.com/books/table_of_content.html'"
   ]
  },
  {
   "cell_type": "code",
   "execution_count": 84,
   "id": "bf7ef0a6-3aaa-4d8d-b221-ac331ceba808",
   "metadata": {},
   "outputs": [],
   "source": [
    "rest_of_url, seperator,document=url.rpartition('/') # this is partition by rever order "
   ]
  },
  {
   "cell_type": "code",
   "execution_count": 85,
   "id": "11454303-fa99-4ae9-9e59-1a221d6cf906",
   "metadata": {},
   "outputs": [
    {
     "data": {
      "text/plain": [
       "'http:///www.google.com/books'"
      ]
     },
     "execution_count": 85,
     "metadata": {},
     "output_type": "execute_result"
    }
   ],
   "source": [
    "rest_of_url"
   ]
  },
  {
   "cell_type": "code",
   "execution_count": 86,
   "id": "6dc7ddfe-4a23-4a56-8d79-9827586c8227",
   "metadata": {},
   "outputs": [
    {
     "data": {
      "text/plain": [
       "'/'"
      ]
     },
     "execution_count": 86,
     "metadata": {},
     "output_type": "execute_result"
    }
   ],
   "source": [
    "seperator"
   ]
  },
  {
   "cell_type": "code",
   "execution_count": 87,
   "id": "c941e543-ed1d-46ff-a9cf-294edd0a6b3d",
   "metadata": {},
   "outputs": [
    {
     "data": {
      "text/plain": [
       "'table_of_content.html'"
      ]
     },
     "execution_count": 87,
     "metadata": {},
     "output_type": "execute_result"
    }
   ],
   "source": [
    "document"
   ]
  },
  {
   "cell_type": "code",
   "execution_count": 88,
   "id": "a280990d-a758-4804-ae90-d43c9d6334e8",
   "metadata": {},
   "outputs": [],
   "source": [
    "lines =\"\"\" this is line 1\n",
    "this is line 2\n",
    "this is line 3\"\"\""
   ]
  },
  {
   "cell_type": "code",
   "execution_count": 89,
   "id": "ed3ce8c4-088b-40cf-9d94-7d27ef4d9fdf",
   "metadata": {},
   "outputs": [
    {
     "data": {
      "text/plain": [
       "' this is line 1\\nthis is line 2\\nthis is line 3'"
      ]
     },
     "execution_count": 89,
     "metadata": {},
     "output_type": "execute_result"
    }
   ],
   "source": [
    "lines"
   ]
  },
  {
   "cell_type": "code",
   "execution_count": 90,
   "id": "e37be5a7-d56d-4be7-bc8a-91d4499b4095",
   "metadata": {},
   "outputs": [
    {
     "data": {
      "text/plain": [
       "[' this is line 1', 'this is line 2', 'this is line 3']"
      ]
     },
     "execution_count": 90,
     "metadata": {},
     "output_type": "execute_result"
    }
   ],
   "source": [
    "lines.splitlines()"
   ]
  },
  {
   "cell_type": "code",
   "execution_count": 91,
   "id": "19f5dd8f-9e31-4ac5-8a09-a76273d9a15a",
   "metadata": {},
   "outputs": [
    {
     "data": {
      "text/plain": [
       "[' this is line 1\\n', 'this is line 2\\n', 'this is line 3']"
      ]
     },
     "execution_count": 91,
     "metadata": {},
     "output_type": "execute_result"
    }
   ],
   "source": [
    "lines.splitlines(True) # if you want to keep the new line character \\n "
   ]
  },
  {
   "cell_type": "code",
   "execution_count": 94,
   "id": "5d93d219-bf25-41e5-aafe-4305494934f6",
   "metadata": {},
   "outputs": [
    {
     "data": {
      "text/plain": [
       "False"
      ]
     },
     "execution_count": 94,
     "metadata": {},
     "output_type": "execute_result"
    }
   ],
   "source": [
    "'-27'.isdigit()  # flase because - is not an digit"
   ]
  },
  {
   "cell_type": "code",
   "execution_count": 95,
   "id": "8276308a-9657-4742-9ff0-8ab70b84059b",
   "metadata": {},
   "outputs": [
    {
     "data": {
      "text/plain": [
       "True"
      ]
     },
     "execution_count": 95,
     "metadata": {},
     "output_type": "execute_result"
    }
   ],
   "source": [
    "'27'.isdigit()"
   ]
  },
  {
   "cell_type": "code",
   "execution_count": 96,
   "id": "6e7ca853-2183-41cd-a35a-1b0fc24ace68",
   "metadata": {},
   "outputs": [
    {
     "data": {
      "text/plain": [
       "True"
      ]
     },
     "execution_count": 96,
     "metadata": {},
     "output_type": "execute_result"
    }
   ],
   "source": [
    "'A9876'.isalnum() # is a letter number "
   ]
  },
  {
   "cell_type": "code",
   "execution_count": 97,
   "id": "acc9791e-148f-4576-a45e-c34ec7a97058",
   "metadata": {},
   "outputs": [
    {
     "data": {
      "text/plain": [
       "False"
      ]
     },
     "execution_count": 97,
     "metadata": {},
     "output_type": "execute_result"
    }
   ],
   "source": [
    "'123 manin street'.isalnum() # false because of spaces "
   ]
  },
  {
   "cell_type": "code",
   "execution_count": null,
   "id": "31652a06-4f16-436d-9b45-39d9a1297726",
   "metadata": {},
   "outputs": [],
   "source": [
    "# by using this we can validate the user input "
   ]
  },
  {
   "cell_type": "code",
   "execution_count": null,
   "id": "9a5a2871-a13b-42d8-8c5c-a47139e34231",
   "metadata": {},
   "outputs": [],
   "source": []
  },
  {
   "cell_type": "code",
   "execution_count": null,
   "id": "aeeec4a9-3422-420e-81ee-13e5172a17c1",
   "metadata": {},
   "outputs": [],
   "source": []
  },
  {
   "cell_type": "code",
   "execution_count": null,
   "id": "ab3f80ca-e1e2-4e65-9e45-4b2ec0e4cb29",
   "metadata": {},
   "outputs": [],
   "source": []
  },
  {
   "cell_type": "code",
   "execution_count": null,
   "id": "93f8f16b-38db-4a1f-ad9c-0938ff50d5b4",
   "metadata": {},
   "outputs": [],
   "source": []
  },
  {
   "cell_type": "code",
   "execution_count": null,
   "id": "7da8e7aa-3c07-4238-b2f8-adeda2171152",
   "metadata": {},
   "outputs": [],
   "source": []
  },
  {
   "cell_type": "code",
   "execution_count": null,
   "id": "83e4e35e-fe6b-4252-804a-1b70b293d248",
   "metadata": {},
   "outputs": [],
   "source": []
  },
  {
   "cell_type": "code",
   "execution_count": null,
   "id": "005cd4b4-be6d-49d9-ad0d-3dc253442ff2",
   "metadata": {},
   "outputs": [],
   "source": []
  },
  {
   "cell_type": "code",
   "execution_count": null,
   "id": "f5984374-0407-4fff-9ec6-5c9241d98b95",
   "metadata": {},
   "outputs": [],
   "source": []
  }
 ],
 "metadata": {
  "kernelspec": {
   "display_name": "Python 3 (ipykernel)",
   "language": "python",
   "name": "python3"
  },
  "language_info": {
   "codemirror_mode": {
    "name": "ipython",
    "version": 3
   },
   "file_extension": ".py",
   "mimetype": "text/x-python",
   "name": "python",
   "nbconvert_exporter": "python",
   "pygments_lexer": "ipython3",
   "version": "3.9.13"
  }
 },
 "nbformat": 4,
 "nbformat_minor": 5
}
