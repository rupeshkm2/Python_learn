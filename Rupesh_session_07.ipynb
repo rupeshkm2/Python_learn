{
 "cells": [
  {
   "cell_type": "code",
   "execution_count": 1,
   "id": "c78db9e1-e7cc-40ca-afba-ac45948af286",
   "metadata": {},
   "outputs": [],
   "source": [
    "# array oriented programing with NumPy"
   ]
  },
  {
   "cell_type": "code",
   "execution_count": 2,
   "id": "1185d594-ac65-4bd5-b800-b3e18ff3bfa0",
   "metadata": {},
   "outputs": [],
   "source": [
    "import numpy as np"
   ]
  },
  {
   "cell_type": "code",
   "execution_count": 3,
   "id": "232ae27b-f20d-4f22-8139-ba6d628bc799",
   "metadata": {},
   "outputs": [],
   "source": [
    "numbers=np.array([2,3,5,7,11])"
   ]
  },
  {
   "cell_type": "code",
   "execution_count": 4,
   "id": "87f1d952-e5f0-4f2c-a047-0b472feba5ac",
   "metadata": {},
   "outputs": [
    {
     "data": {
      "text/plain": [
       "numpy.ndarray"
      ]
     },
     "execution_count": 4,
     "metadata": {},
     "output_type": "execute_result"
    }
   ],
   "source": [
    "type(numbers)"
   ]
  },
  {
   "cell_type": "code",
   "execution_count": 5,
   "id": "9ec1dbb5-6826-4615-938a-242ace8ad363",
   "metadata": {},
   "outputs": [
    {
     "data": {
      "text/plain": [
       "array([ 2,  3,  5,  7, 11])"
      ]
     },
     "execution_count": 5,
     "metadata": {},
     "output_type": "execute_result"
    }
   ],
   "source": [
    "numbers"
   ]
  },
  {
   "cell_type": "code",
   "execution_count": 7,
   "id": "648c2f07-f3c2-4587-a343-27ef8557ff20",
   "metadata": {},
   "outputs": [
    {
     "data": {
      "text/plain": [
       "array([[1, 2, 3],\n",
       "       [4, 5, 6]])"
      ]
     },
     "execution_count": 7,
     "metadata": {},
     "output_type": "execute_result"
    }
   ],
   "source": [
    "np.array([[1,2,3],[4,5,6]]) # two dimentional array"
   ]
  },
  {
   "cell_type": "code",
   "execution_count": 13,
   "id": "74594602-3427-43f0-8fef-4a5395bb3356",
   "metadata": {},
   "outputs": [],
   "source": [
    "numbers1=np.array([i for i in range(10) ])"
   ]
  },
  {
   "cell_type": "code",
   "execution_count": 14,
   "id": "dbf0076d-d1bf-4149-8a1a-44cf3edeabfc",
   "metadata": {},
   "outputs": [
    {
     "data": {
      "text/plain": [
       "array([0, 1, 2, 3, 4, 5, 6, 7, 8, 9])"
      ]
     },
     "execution_count": 14,
     "metadata": {},
     "output_type": "execute_result"
    }
   ],
   "source": [
    "numbers1"
   ]
  },
  {
   "cell_type": "code",
   "execution_count": 15,
   "id": "77f7c41e-2ea9-4c0e-a80d-49d680924ce6",
   "metadata": {},
   "outputs": [],
   "source": [
    "integers=np.array([[1,2,3],[4,5,6]]) "
   ]
  },
  {
   "cell_type": "code",
   "execution_count": 16,
   "id": "fe97edbd-134a-4a29-98ab-9cc2c7f55caf",
   "metadata": {},
   "outputs": [
    {
     "data": {
      "text/plain": [
       "array([[1, 2, 3],\n",
       "       [4, 5, 6]])"
      ]
     },
     "execution_count": 16,
     "metadata": {},
     "output_type": "execute_result"
    }
   ],
   "source": [
    "integers"
   ]
  },
  {
   "cell_type": "code",
   "execution_count": 20,
   "id": "5a11f1a0-1e81-4f62-addf-9740765d0d22",
   "metadata": {},
   "outputs": [],
   "source": [
    "floats=np.array([0.0,0.1,0.2,0.3,0.4])"
   ]
  },
  {
   "cell_type": "code",
   "execution_count": 21,
   "id": "4ca89572-7e64-440a-819f-85489285adf3",
   "metadata": {},
   "outputs": [
    {
     "data": {
      "text/plain": [
       "array([0. , 0.1, 0.2, 0.3, 0.4])"
      ]
     },
     "execution_count": 21,
     "metadata": {},
     "output_type": "execute_result"
    }
   ],
   "source": [
    "floats   # by default it not shows trailing zeros , that is why it diaplyed 0. in below "
   ]
  },
  {
   "cell_type": "code",
   "execution_count": 22,
   "id": "6b0fedf2-c6e6-4e50-9956-8a70d38cb9e4",
   "metadata": {},
   "outputs": [
    {
     "data": {
      "text/plain": [
       "dtype('int32')"
      ]
     },
     "execution_count": 22,
     "metadata": {},
     "output_type": "execute_result"
    }
   ],
   "source": [
    "numbers.dtype # cehck datatype"
   ]
  },
  {
   "cell_type": "code",
   "execution_count": 23,
   "id": "5fd2e342-6968-4644-9763-d491dc17226e",
   "metadata": {},
   "outputs": [
    {
     "data": {
      "text/plain": [
       "dtype('float64')"
      ]
     },
     "execution_count": 23,
     "metadata": {},
     "output_type": "execute_result"
    }
   ],
   "source": [
    "floats.dtype"
   ]
  },
  {
   "cell_type": "code",
   "execution_count": 25,
   "id": "106f987a-34a4-4538-8e65-af76e8a33fdb",
   "metadata": {},
   "outputs": [
    {
     "data": {
      "text/plain": [
       "2"
      ]
     },
     "execution_count": 25,
     "metadata": {},
     "output_type": "execute_result"
    }
   ],
   "source": [
    "integers.ndim  # it retuen no of dimentions , this is integers is an two dimentional array"
   ]
  },
  {
   "cell_type": "code",
   "execution_count": 27,
   "id": "85afeb36-d126-4316-8e08-f5af663373aa",
   "metadata": {},
   "outputs": [
    {
     "data": {
      "text/plain": [
       "1"
      ]
     },
     "execution_count": 27,
     "metadata": {},
     "output_type": "execute_result"
    }
   ],
   "source": [
    "numbers.ndim"
   ]
  },
  {
   "cell_type": "code",
   "execution_count": 29,
   "id": "8d82e5ec-bafd-42e9-a21b-4cf64990c540",
   "metadata": {},
   "outputs": [
    {
     "data": {
      "text/plain": [
       "1"
      ]
     },
     "execution_count": 29,
     "metadata": {},
     "output_type": "execute_result"
    }
   ],
   "source": [
    "floats.ndim"
   ]
  },
  {
   "cell_type": "code",
   "execution_count": 30,
   "id": "35fb8f4d-162a-4779-a9c0-173577ace661",
   "metadata": {},
   "outputs": [
    {
     "data": {
      "text/plain": [
       "(2, 3)"
      ]
     },
     "execution_count": 30,
     "metadata": {},
     "output_type": "execute_result"
    }
   ],
   "source": [
    "integers.shape  # it says it has 2 rows and 3 colums in the arrau"
   ]
  },
  {
   "cell_type": "code",
   "execution_count": 31,
   "id": "1485db25-9f6a-4378-a5e1-945126b3eea9",
   "metadata": {},
   "outputs": [
    {
     "data": {
      "text/plain": [
       "(5,)"
      ]
     },
     "execution_count": 31,
     "metadata": {},
     "output_type": "execute_result"
    }
   ],
   "source": [
    "numbers.shape  # for single dimentional array it retun no of elements "
   ]
  },
  {
   "cell_type": "code",
   "execution_count": 32,
   "id": "264ca186-2a9e-4f17-b8cd-276167f76394",
   "metadata": {},
   "outputs": [
    {
     "data": {
      "text/plain": [
       "(5,)"
      ]
     },
     "execution_count": 32,
     "metadata": {},
     "output_type": "execute_result"
    }
   ],
   "source": [
    "floats.shape"
   ]
  },
  {
   "cell_type": "code",
   "execution_count": 33,
   "id": "93928612-4064-4969-a3d3-db0da804a401",
   "metadata": {},
   "outputs": [
    {
     "data": {
      "text/plain": [
       "6"
      ]
     },
     "execution_count": 33,
     "metadata": {},
     "output_type": "execute_result"
    }
   ],
   "source": [
    "integers.size # it retun the total elements , whcihs is 2 rows and 3 columsn so total 6"
   ]
  },
  {
   "cell_type": "code",
   "execution_count": 34,
   "id": "87ef37d5-119f-4d86-862a-f744bb4d0d18",
   "metadata": {},
   "outputs": [
    {
     "data": {
      "text/plain": [
       "5"
      ]
     },
     "execution_count": 34,
     "metadata": {},
     "output_type": "execute_result"
    }
   ],
   "source": [
    "numbers.size"
   ]
  },
  {
   "cell_type": "code",
   "execution_count": 35,
   "id": "49fcbbc8-ddd2-4b5d-bd17-07b84c51d5d4",
   "metadata": {},
   "outputs": [
    {
     "data": {
      "text/plain": [
       "4"
      ]
     },
     "execution_count": 35,
     "metadata": {},
     "output_type": "execute_result"
    }
   ],
   "source": [
    "integers.itemsize   # how many bites it uses to store the each element "
   ]
  },
  {
   "cell_type": "code",
   "execution_count": 36,
   "id": "4a034853-7671-4407-bc48-9bb61bcc05dc",
   "metadata": {},
   "outputs": [],
   "source": [
    "# loop"
   ]
  },
  {
   "cell_type": "code",
   "execution_count": 38,
   "id": "c26d9a13-e83d-411f-9743-921497a68f63",
   "metadata": {},
   "outputs": [
    {
     "name": "stdout",
     "output_type": "stream",
     "text": [
      "1 2 3 \n",
      "4 5 6 \n"
     ]
    }
   ],
   "source": [
    "for row in integers:\n",
    "    for column in row:\n",
    "        print(column,end= ' ')\n",
    "    print() # empty print for new line character"
   ]
  },
  {
   "cell_type": "code",
   "execution_count": 39,
   "id": "3b5efe3e-75de-4ea9-a347-d02cc693cc5f",
   "metadata": {},
   "outputs": [
    {
     "name": "stdout",
     "output_type": "stream",
     "text": [
      "1 2 3 4 5 6 "
     ]
    }
   ],
   "source": [
    "for row in integers:\n",
    "    for column in row:\n",
    "        print(column,end= ' ')\n",
    "  #  print() # empty print for new line character"
   ]
  },
  {
   "cell_type": "code",
   "execution_count": 40,
   "id": "111de369-d15d-460d-b29a-9c84b24017b6",
   "metadata": {},
   "outputs": [],
   "source": [
    "# we can iterate the multi deimentional array as one dimentional array \n",
    "# by using this flat we can do it \n",
    "# it flaten out the mutidimentional array \n",
    "# first it takes first row and after that it takes the second row and sticks to the first row and so on ..."
   ]
  },
  {
   "cell_type": "code",
   "execution_count": 41,
   "id": "8f8cb169-154e-4c9d-bace-c6415d7f093d",
   "metadata": {},
   "outputs": [
    {
     "name": "stdout",
     "output_type": "stream",
     "text": [
      "1 2 3 4 5 6 "
     ]
    }
   ],
   "source": [
    "for i in integers.flat:\n",
    "    print(i, end=' ')"
   ]
  },
  {
   "cell_type": "code",
   "execution_count": 45,
   "id": "3748ea35-d294-4c50-af39-173ef9b563c1",
   "metadata": {},
   "outputs": [
    {
     "data": {
      "text/plain": [
       "array([0., 0., 0., 0., 0.])"
      ]
     },
     "execution_count": 45,
     "metadata": {},
     "output_type": "execute_result"
    }
   ],
   "source": [
    "np.zeros(5) # it create arry of 5 zeros and by default it create floating numbers "
   ]
  },
  {
   "cell_type": "code",
   "execution_count": 46,
   "id": "a29ebdf8-7728-450e-adce-19b747b6bded",
   "metadata": {},
   "outputs": [
    {
     "data": {
      "text/plain": [
       "array([[1, 1, 1, 1],\n",
       "       [1, 1, 1, 1]])"
      ]
     },
     "execution_count": 46,
     "metadata": {},
     "output_type": "execute_result"
    }
   ],
   "source": [
    "np.ones((2,4),dtype=int)  # here we said create arry with 1 and with 2 rows and 4 columns and mentioned dataype shoube be integer"
   ]
  },
  {
   "cell_type": "code",
   "execution_count": 47,
   "id": "3a84f8c6-a1ad-4d56-8060-bfa985faf8e8",
   "metadata": {},
   "outputs": [
    {
     "data": {
      "text/plain": [
       "array([[13, 13, 13, 13, 13],\n",
       "       [13, 13, 13, 13, 13],\n",
       "       [13, 13, 13, 13, 13]])"
      ]
     },
     "execution_count": 47,
     "metadata": {},
     "output_type": "execute_result"
    }
   ],
   "source": [
    "np.full((3,5),13)  # if you want array some random number we have this full , so we can mention the rows and olumn and \n",
    "# second argument as the number that we want"
   ]
  },
  {
   "cell_type": "code",
   "execution_count": 1,
   "id": "f23faf73-2f52-47bf-be0b-4a14d38f0397",
   "metadata": {},
   "outputs": [],
   "source": [
    "# ranges of values and turning them into arrays "
   ]
  },
  {
   "cell_type": "code",
   "execution_count": 3,
   "id": "3dba3319-6c26-424d-bf12-4630fdf0357c",
   "metadata": {},
   "outputs": [],
   "source": [
    "import numpy as np"
   ]
  },
  {
   "cell_type": "code",
   "execution_count": 5,
   "id": "1df176e4-3264-4e57-8d1a-ba33584d993d",
   "metadata": {},
   "outputs": [
    {
     "data": {
      "text/plain": [
       "array([0, 1, 2, 3, 4])"
      ]
     },
     "execution_count": 5,
     "metadata": {},
     "output_type": "execute_result"
    }
   ],
   "source": [
    "np.arange(5)   # numpy has this function to range of values in a list "
   ]
  },
  {
   "cell_type": "code",
   "execution_count": 6,
   "id": "6d38a5ee-d5fd-4bad-89cb-a6ba95c24e40",
   "metadata": {},
   "outputs": [
    {
     "data": {
      "text/plain": [
       "array([5, 6, 7, 8, 9])"
      ]
     },
     "execution_count": 6,
     "metadata": {},
     "output_type": "execute_result"
    }
   ],
   "source": [
    "np.arange(5,10)"
   ]
  },
  {
   "cell_type": "code",
   "execution_count": 7,
   "id": "d4b21c3a-ba46-452a-aab9-112ce7d57b50",
   "metadata": {},
   "outputs": [
    {
     "data": {
      "text/plain": [
       "array([10,  8,  6,  4,  2])"
      ]
     },
     "execution_count": 7,
     "metadata": {},
     "output_type": "execute_result"
    }
   ],
   "source": [
    "np.arange(10,1,-2)  # 10 to 1 (not including 1) decrement by -2 "
   ]
  },
  {
   "cell_type": "code",
   "execution_count": 9,
   "id": "efa0c76a-7e44-4d31-9900-a314512d581a",
   "metadata": {},
   "outputs": [
    {
     "data": {
      "text/plain": [
       "array([0.   , 0.125, 0.25 , 0.375, 0.5  ])"
      ]
     },
     "execution_count": 9,
     "metadata": {},
     "output_type": "execute_result"
    }
   ],
   "source": [
    "np.linspace(0.0,0.5,num=5) # this is to generate floating point numbers\n",
    "# start with 0.0 and end with 0.5 and total nof of elements should be 5"
   ]
  },
  {
   "cell_type": "code",
   "execution_count": 8,
   "id": "f7613393-b1c7-4f4e-9e8e-a0ab0fb4d8bc",
   "metadata": {},
   "outputs": [
    {
     "data": {
      "text/plain": [
       "array([0.        , 0.05555556, 0.11111111, 0.16666667, 0.22222222,\n",
       "       0.27777778, 0.33333333, 0.38888889, 0.44444444, 0.5       ])"
      ]
     },
     "execution_count": 8,
     "metadata": {},
     "output_type": "execute_result"
    }
   ],
   "source": [
    "np.linspace(0.0,0.5,num=10)"
   ]
  },
  {
   "cell_type": "code",
   "execution_count": 10,
   "id": "ba9a12bc-0418-4767-b06c-c44dc667c20d",
   "metadata": {},
   "outputs": [],
   "source": [
    "# generate a range and convert into multi dimetional array"
   ]
  },
  {
   "cell_type": "code",
   "execution_count": 14,
   "id": "c975e36e-4116-4ac8-ba87-e1d94d924d79",
   "metadata": {},
   "outputs": [
    {
     "data": {
      "text/plain": [
       "array([[ 1,  2,  3,  4,  5],\n",
       "       [ 6,  7,  8,  9, 10],\n",
       "       [11, 12, 13, 14, 15],\n",
       "       [16, 17, 18, 19, 20]])"
      ]
     },
     "execution_count": 14,
     "metadata": {},
     "output_type": "execute_result"
    }
   ],
   "source": [
    "np.arange(1,21).reshape(4,5)  # range of values from 1 to 21(not including 21)\n",
    "# and reshate to multi dimentional array with 4 rows and 5 columns "
   ]
  },
  {
   "cell_type": "code",
   "execution_count": 15,
   "id": "3a5036bd-2b9d-4ace-909c-55b854015be7",
   "metadata": {},
   "outputs": [
    {
     "data": {
      "text/plain": [
       "array([[     1,      2,      3, ...,  24998,  24999,  25000],\n",
       "       [ 25001,  25002,  25003, ...,  49998,  49999,  50000],\n",
       "       [ 50001,  50002,  50003, ...,  74998,  74999,  75000],\n",
       "       [ 75001,  75002,  75003, ...,  99998,  99999, 100000]])"
      ]
     },
     "execution_count": 15,
     "metadata": {},
     "output_type": "execute_result"
    }
   ],
   "source": [
    "np.arange(1,100001).reshape(4,25000)  # if is more than 1000 elements np sumarises the outupt like below ..."
   ]
  },
  {
   "cell_type": "code",
   "execution_count": 16,
   "id": "62f47261-8c63-4544-9e46-32bc7c8795a2",
   "metadata": {},
   "outputs": [
    {
     "data": {
      "text/plain": [
       "array([[     1,      2,      3, ...,    998,    999,   1000],\n",
       "       [  1001,   1002,   1003, ...,   1998,   1999,   2000],\n",
       "       [  2001,   2002,   2003, ...,   2998,   2999,   3000],\n",
       "       ...,\n",
       "       [ 97001,  97002,  97003, ...,  97998,  97999,  98000],\n",
       "       [ 98001,  98002,  98003, ...,  98998,  98999,  99000],\n",
       "       [ 99001,  99002,  99003, ...,  99998,  99999, 100000]])"
      ]
     },
     "execution_count": 16,
     "metadata": {},
     "output_type": "execute_result"
    }
   ],
   "source": [
    "np.arange(1,100001).reshape(100,1000)"
   ]
  },
  {
   "cell_type": "code",
   "execution_count": null,
   "id": "677cb016-c4c2-46f0-ada1-6382aa027b80",
   "metadata": {},
   "outputs": [],
   "source": [
    "# self check "
   ]
  },
  {
   "cell_type": "code",
   "execution_count": 18,
   "id": "1258e155-338a-4b65-a92c-916d75e0d0ae",
   "metadata": {},
   "outputs": [
    {
     "data": {
      "text/plain": [
       "array([[ 2,  4,  6,  8, 10],\n",
       "       [12, 14, 16, 18, 20],\n",
       "       [22, 24, 26, 28, 30],\n",
       "       [32, 34, 36, 38, 40]])"
      ]
     },
     "execution_count": 18,
     "metadata": {},
     "output_type": "execute_result"
    }
   ],
   "source": [
    "np.arange(2,41,2).reshape(4,5)"
   ]
  },
  {
   "cell_type": "code",
   "execution_count": 19,
   "id": "8bc25c6c-b7c1-4bcb-82b9-c2936081bf22",
   "metadata": {},
   "outputs": [
    {
     "data": {
      "text/plain": [
       "20"
      ]
     },
     "execution_count": 19,
     "metadata": {},
     "output_type": "execute_result"
    }
   ],
   "source": [
    "np.arange(2,41,2).size"
   ]
  },
  {
   "cell_type": "code",
   "execution_count": 20,
   "id": "63f466c7-8973-41e2-b7b4-3c17e4d6e3bd",
   "metadata": {},
   "outputs": [],
   "source": [
    "# list vs  numpy array performance "
   ]
  },
  {
   "cell_type": "code",
   "execution_count": 22,
   "id": "5ef1d9cb-395c-4b06-97a4-94fbfe840bcd",
   "metadata": {},
   "outputs": [],
   "source": [
    "# %timeit  this will give the how much time it took to execute the command\n",
    "# not only that it try to execute many times and gives you the avg time "
   ]
  },
  {
   "cell_type": "code",
   "execution_count": 23,
   "id": "d4c394aa-add0-4f5d-b9af-21898f19391a",
   "metadata": {},
   "outputs": [],
   "source": [
    "import random"
   ]
  },
  {
   "cell_type": "code",
   "execution_count": 26,
   "id": "3743ff00-b0d4-4c76-aac9-d3baec2d2227",
   "metadata": {},
   "outputs": [],
   "source": [
    "rolls_list=[random.randrange(1,7) for i in range(6_000_000)]  # list comprehension"
   ]
  },
  {
   "cell_type": "code",
   "execution_count": 27,
   "id": "139ab7f8-d65d-4a78-ad09-a74039b4dd97",
   "metadata": {},
   "outputs": [
    {
     "name": "stdout",
     "output_type": "stream",
     "text": [
      "3.8 s ± 105 ms per loop (mean ± std. dev. of 7 runs, 1 loop each)\n"
     ]
    }
   ],
   "source": [
    "%timeit rolls_list=[random.randrange(1,7) for i in range(6_000_000)]"
   ]
  },
  {
   "cell_type": "code",
   "execution_count": 28,
   "id": "7b52379b-d6fe-4198-9169-e459df0f39b6",
   "metadata": {},
   "outputs": [
    {
     "name": "stdout",
     "output_type": "stream",
     "text": [
      "59.5 ms ± 3.32 ms per loop (mean ± std. dev. of 7 runs, 10 loops each)\n"
     ]
    }
   ],
   "source": [
    "%timeit rolls_list=np.random.randint(1,7,6_000_000)  # numpy buitin function "
   ]
  },
  {
   "cell_type": "code",
   "execution_count": 29,
   "id": "8b3c7495-3946-433a-a8ba-fb8947759ac2",
   "metadata": {},
   "outputs": [],
   "source": [
    "# see the above difference numpy is faster than normal list "
   ]
  },
  {
   "cell_type": "code",
   "execution_count": 30,
   "id": "f02199d3-9853-4917-9963-198c641ca250",
   "metadata": {},
   "outputs": [
    {
     "name": "stdout",
     "output_type": "stream",
     "text": [
      "67.1 ms ± 6.75 ms per loop (mean ± std. dev. of 2 runs, 3 loops each)\n"
     ]
    }
   ],
   "source": [
    "%timeit -n3 -r2 rolls_list=np.random.randint(1,7,6_000_000)  \n",
    "# here we are specifying the how rune and loops it should do -n3: loops , -r2: runs "
   ]
  },
  {
   "cell_type": "code",
   "execution_count": 31,
   "id": "77b2959d-615b-4e08-a5d7-c95f083c5d70",
   "metadata": {},
   "outputs": [],
   "source": [
    "# self cehck "
   ]
  },
  {
   "cell_type": "code",
   "execution_count": 32,
   "id": "e1622f78-80aa-4828-ad96-10fe937e6f87",
   "metadata": {},
   "outputs": [
    {
     "name": "stdout",
     "output_type": "stream",
     "text": [
      "741 ms ± 54.7 ms per loop (mean ± std. dev. of 7 runs, 1 loop each)\n"
     ]
    }
   ],
   "source": [
    "%timeit sum([x for x in range(10_000_000)])"
   ]
  },
  {
   "cell_type": "code",
   "execution_count": 33,
   "id": "9125e21a-e74f-4309-bdff-d50b324c6363",
   "metadata": {},
   "outputs": [
    {
     "name": "stdout",
     "output_type": "stream",
     "text": [
      "17.3 ms ± 589 µs per loop (mean ± std. dev. of 7 runs, 10 loops each)\n"
     ]
    }
   ],
   "source": [
    "%timeit np.arange(10_000_000).sum()"
   ]
  },
  {
   "cell_type": "code",
   "execution_count": 34,
   "id": "0da82a5b-91fe-4807-ae46-352d6bc08bb9",
   "metadata": {},
   "outputs": [],
   "source": [
    "# array operators "
   ]
  },
  {
   "cell_type": "code",
   "execution_count": 35,
   "id": "245881ed-f02c-4102-8352-89d75531fc9e",
   "metadata": {},
   "outputs": [],
   "source": [
    "numbers=np.arange(1,6)"
   ]
  },
  {
   "cell_type": "code",
   "execution_count": 36,
   "id": "f995185c-4c09-4e74-8898-bc3fc30b799f",
   "metadata": {},
   "outputs": [
    {
     "data": {
      "text/plain": [
       "array([1, 2, 3, 4, 5])"
      ]
     },
     "execution_count": 36,
     "metadata": {},
     "output_type": "execute_result"
    }
   ],
   "source": [
    "numbers"
   ]
  },
  {
   "cell_type": "code",
   "execution_count": 37,
   "id": "b66bac2d-e7aa-4880-9cdf-8c35476fb5c1",
   "metadata": {},
   "outputs": [],
   "source": [
    "# in regular list we nned to itere thouh elment to do any operation ,\n",
    "# here we no nned to do "
   ]
  },
  {
   "cell_type": "code",
   "execution_count": 38,
   "id": "6bc9918f-cd75-4852-b3e6-fb6f57948619",
   "metadata": {},
   "outputs": [
    {
     "data": {
      "text/plain": [
       "array([ 2,  4,  6,  8, 10])"
      ]
     },
     "execution_count": 38,
     "metadata": {},
     "output_type": "execute_result"
    }
   ],
   "source": [
    "numbers*2  # it multiplied every element in the array "
   ]
  },
  {
   "cell_type": "code",
   "execution_count": 39,
   "id": "ce451ef8-8934-4707-8f41-62a7005981d4",
   "metadata": {},
   "outputs": [
    {
     "data": {
      "text/plain": [
       "array([  1,   8,  27,  64, 125], dtype=int32)"
      ]
     },
     "execution_count": 39,
     "metadata": {},
     "output_type": "execute_result"
    }
   ],
   "source": [
    "numbers**3  # currenlty we are just displaying the value not updating the values "
   ]
  },
  {
   "cell_type": "code",
   "execution_count": 40,
   "id": "be89a6e9-83b7-4edc-9141-18ffa8edb79c",
   "metadata": {},
   "outputs": [
    {
     "data": {
      "text/plain": [
       "array([1, 2, 3, 4, 5])"
      ]
     },
     "execution_count": 40,
     "metadata": {},
     "output_type": "execute_result"
    }
   ],
   "source": [
    "numbers"
   ]
  },
  {
   "cell_type": "code",
   "execution_count": 41,
   "id": "3455dfb1-5bde-4219-a55d-75475fa02a26",
   "metadata": {},
   "outputs": [],
   "source": [
    "numbers+=10"
   ]
  },
  {
   "cell_type": "code",
   "execution_count": 43,
   "id": "3d238166-7847-4546-a3e2-8d404c458e6b",
   "metadata": {},
   "outputs": [
    {
     "data": {
      "text/plain": [
       "array([11, 12, 13, 14, 15])"
      ]
     },
     "execution_count": 43,
     "metadata": {},
     "output_type": "execute_result"
    }
   ],
   "source": [
    "numbers"
   ]
  },
  {
   "cell_type": "code",
   "execution_count": 44,
   "id": "b1bce62f-591a-4065-9f59-c3dfa3816d73",
   "metadata": {},
   "outputs": [],
   "source": [
    "numbers2=np.linspace(1.1,5.5,5)  # floating number array"
   ]
  },
  {
   "cell_type": "code",
   "execution_count": 45,
   "id": "899833f7-40cf-47a5-8d65-c59bf909d26c",
   "metadata": {},
   "outputs": [
    {
     "data": {
      "text/plain": [
       "array([1.1, 2.2, 3.3, 4.4, 5.5])"
      ]
     },
     "execution_count": 45,
     "metadata": {},
     "output_type": "execute_result"
    }
   ],
   "source": [
    "numbers2"
   ]
  },
  {
   "cell_type": "code",
   "execution_count": 46,
   "id": "59b33d81-c1d9-4d03-959f-66f7133efc81",
   "metadata": {},
   "outputs": [
    {
     "data": {
      "text/plain": [
       "array([12.1, 26.4, 42.9, 61.6, 82.5])"
      ]
     },
     "execution_count": 46,
     "metadata": {},
     "output_type": "execute_result"
    }
   ],
   "source": [
    "numbers*numbers2 # elements in each array shoule be same dimention "
   ]
  },
  {
   "cell_type": "code",
   "execution_count": 48,
   "id": "8ee10aee-1c0b-46f9-a857-f64303d82ee9",
   "metadata": {},
   "outputs": [
    {
     "data": {
      "text/plain": [
       "array([11, 12, 13, 14, 15])"
      ]
     },
     "execution_count": 48,
     "metadata": {},
     "output_type": "execute_result"
    }
   ],
   "source": [
    "numbers"
   ]
  },
  {
   "cell_type": "code",
   "execution_count": 49,
   "id": "350cd70e-0075-4cbe-b150-4840e6ef6d1f",
   "metadata": {},
   "outputs": [
    {
     "data": {
      "text/plain": [
       "array([False, False,  True,  True,  True])"
      ]
     },
     "execution_count": 49,
     "metadata": {},
     "output_type": "execute_result"
    }
   ],
   "source": [
    "numbers>=13 # return new array with values "
   ]
  },
  {
   "cell_type": "code",
   "execution_count": 50,
   "id": "166ec048-e262-4ff9-bc5b-ab9ff232f0d5",
   "metadata": {},
   "outputs": [
    {
     "data": {
      "text/plain": [
       "array([1.1, 2.2, 3.3, 4.4, 5.5])"
      ]
     },
     "execution_count": 50,
     "metadata": {},
     "output_type": "execute_result"
    }
   ],
   "source": [
    "numbers2"
   ]
  },
  {
   "cell_type": "code",
   "execution_count": 51,
   "id": "93ee8634-0847-469b-bf29-664cb4e1dd02",
   "metadata": {},
   "outputs": [
    {
     "data": {
      "text/plain": [
       "array([ True,  True,  True,  True,  True])"
      ]
     },
     "execution_count": 51,
     "metadata": {},
     "output_type": "execute_result"
    }
   ],
   "source": [
    "numbers2<numbers"
   ]
  },
  {
   "cell_type": "code",
   "execution_count": 52,
   "id": "ae45ef2a-801b-4a46-bef0-aa203f26fd6e",
   "metadata": {},
   "outputs": [
    {
     "data": {
      "text/plain": [
       "array([False, False, False, False, False])"
      ]
     },
     "execution_count": 52,
     "metadata": {},
     "output_type": "execute_result"
    }
   ],
   "source": [
    "numbers== numbers2"
   ]
  },
  {
   "cell_type": "code",
   "execution_count": 54,
   "id": "23d42cbe-63bb-4c34-8aaa-10b8f4bea74a",
   "metadata": {},
   "outputs": [
    {
     "data": {
      "text/plain": [
       "array([ True,  True,  True,  True,  True])"
      ]
     },
     "execution_count": 54,
     "metadata": {},
     "output_type": "execute_result"
    }
   ],
   "source": [
    "numbers==numbers"
   ]
  },
  {
   "cell_type": "code",
   "execution_count": 55,
   "id": "a345d1a3-5a78-445f-9b1d-20181f0238a2",
   "metadata": {},
   "outputs": [],
   "source": [
    "# self cehck "
   ]
  },
  {
   "cell_type": "code",
   "execution_count": 56,
   "id": "aa12abfa-6af6-4993-9b96-3c79bb9a9918",
   "metadata": {},
   "outputs": [],
   "source": [
    "number3=np.arange(1,5)"
   ]
  },
  {
   "cell_type": "code",
   "execution_count": 57,
   "id": "cc3aeb8a-4f00-473e-90ed-f92defea0404",
   "metadata": {},
   "outputs": [
    {
     "data": {
      "text/plain": [
       "array([2, 4, 6, 8])"
      ]
     },
     "execution_count": 57,
     "metadata": {},
     "output_type": "execute_result"
    }
   ],
   "source": [
    "number3*2"
   ]
  },
  {
   "cell_type": "code",
   "execution_count": 58,
   "id": "eb618ec8-567b-460c-aced-ce8d22219976",
   "metadata": {},
   "outputs": [
    {
     "data": {
      "text/plain": [
       "array([1, 2, 3, 4])"
      ]
     },
     "execution_count": 58,
     "metadata": {},
     "output_type": "execute_result"
    }
   ],
   "source": [
    "number3"
   ]
  },
  {
   "cell_type": "code",
   "execution_count": null,
   "id": "c9800ee2-1b13-4a9e-9cc8-af600af1831c",
   "metadata": {},
   "outputs": [],
   "source": [
    "# below is in a single line "
   ]
  },
  {
   "cell_type": "code",
   "execution_count": 59,
   "id": "e6fbada3-bea3-426b-843c-def81dd4256b",
   "metadata": {},
   "outputs": [
    {
     "data": {
      "text/plain": [
       "array([2, 4, 6, 8])"
      ]
     },
     "execution_count": 59,
     "metadata": {},
     "output_type": "execute_result"
    }
   ],
   "source": [
    "np.arange(1,5)*2"
   ]
  },
  {
   "cell_type": "code",
   "execution_count": 60,
   "id": "fba61eb3-84f4-43b2-bd13-b0691d4a926a",
   "metadata": {},
   "outputs": [],
   "source": [
    "# numpy calculation methods "
   ]
  },
  {
   "cell_type": "code",
   "execution_count": 62,
   "id": "76d22eb5-c20a-4102-9ec0-584d946ee5c5",
   "metadata": {},
   "outputs": [],
   "source": [
    "grades=np.array([[87,96,70],[100,87,90],[94,77,90],[100,81,82]])"
   ]
  },
  {
   "cell_type": "code",
   "execution_count": 63,
   "id": "10a8e945-d461-47f1-9e97-a61d188e3521",
   "metadata": {},
   "outputs": [
    {
     "data": {
      "text/plain": [
       "array([[ 87,  96,  70],\n",
       "       [100,  87,  90],\n",
       "       [ 94,  77,  90],\n",
       "       [100,  81,  82]])"
      ]
     },
     "execution_count": 63,
     "metadata": {},
     "output_type": "execute_result"
    }
   ],
   "source": [
    "grades"
   ]
  },
  {
   "cell_type": "code",
   "execution_count": 64,
   "id": "7103d6e5-efd3-49b3-a914-b6c584c07f76",
   "metadata": {},
   "outputs": [
    {
     "data": {
      "text/plain": [
       "1054"
      ]
     },
     "execution_count": 64,
     "metadata": {},
     "output_type": "execute_result"
    }
   ],
   "source": [
    "grades.sum()"
   ]
  },
  {
   "cell_type": "code",
   "execution_count": 65,
   "id": "f33c48cb-85a5-4cd7-a63b-e5e272e42873",
   "metadata": {},
   "outputs": [
    {
     "data": {
      "text/plain": [
       "70"
      ]
     },
     "execution_count": 65,
     "metadata": {},
     "output_type": "execute_result"
    }
   ],
   "source": [
    "grades.min()"
   ]
  },
  {
   "cell_type": "code",
   "execution_count": 66,
   "id": "6f2951d1-a192-4a38-8b5f-ab324e5c890d",
   "metadata": {},
   "outputs": [
    {
     "data": {
      "text/plain": [
       "100"
      ]
     },
     "execution_count": 66,
     "metadata": {},
     "output_type": "execute_result"
    }
   ],
   "source": [
    "grades.max()"
   ]
  },
  {
   "cell_type": "code",
   "execution_count": 67,
   "id": "886201cb-d808-4e2c-bdd0-326fc862d8f3",
   "metadata": {},
   "outputs": [
    {
     "data": {
      "text/plain": [
       "87.83333333333333"
      ]
     },
     "execution_count": 67,
     "metadata": {},
     "output_type": "execute_result"
    }
   ],
   "source": [
    "grades.mean() # this is average "
   ]
  },
  {
   "cell_type": "code",
   "execution_count": 68,
   "id": "05c93299-8030-41c9-ae4d-77ec29975682",
   "metadata": {},
   "outputs": [
    {
     "data": {
      "text/plain": [
       "8.792357792739987"
      ]
     },
     "execution_count": 68,
     "metadata": {},
     "output_type": "execute_result"
    }
   ],
   "source": [
    "grades.std() # standard deviation"
   ]
  },
  {
   "cell_type": "code",
   "execution_count": 69,
   "id": "22e50312-52be-4e57-98cc-01420884133f",
   "metadata": {},
   "outputs": [
    {
     "data": {
      "text/plain": [
       "77.30555555555556"
      ]
     },
     "execution_count": 69,
     "metadata": {},
     "output_type": "execute_result"
    }
   ],
   "source": [
    "grades.var()  # varience "
   ]
  },
  {
   "cell_type": "code",
   "execution_count": 70,
   "id": "472a6ad1-4acc-4c93-b55c-4a95653f8a3e",
   "metadata": {},
   "outputs": [],
   "source": [
    "# so far the above mentioned performed on entire array , what if we need to perform on perticula column or row "
   ]
  },
  {
   "cell_type": "code",
   "execution_count": 71,
   "id": "aeda73be-cd17-4f73-80ce-1160e1fc4498",
   "metadata": {},
   "outputs": [
    {
     "data": {
      "text/plain": [
       "array([[ 87,  96,  70],\n",
       "       [100,  87,  90],\n",
       "       [ 94,  77,  90],\n",
       "       [100,  81,  82]])"
      ]
     },
     "execution_count": 71,
     "metadata": {},
     "output_type": "execute_result"
    }
   ],
   "source": [
    "grades"
   ]
  },
  {
   "cell_type": "code",
   "execution_count": 72,
   "id": "ef86ee32-7f6a-4557-a0bd-dee88ce37187",
   "metadata": {},
   "outputs": [
    {
     "data": {
      "text/plain": [
       "array([95.25, 85.25, 83.  ])"
      ]
     },
     "execution_count": 72,
     "metadata": {},
     "output_type": "execute_result"
    }
   ],
   "source": [
    "grades.mean(axis=0)  # here the axis=0 means column "
   ]
  },
  {
   "cell_type": "code",
   "execution_count": 73,
   "id": "077c5fb7-4245-4253-b09a-1070a9405e24",
   "metadata": {},
   "outputs": [],
   "source": [
    "# so here 95.25 is the avg of first column  and 85.25 is the avg of second column so on .. "
   ]
  },
  {
   "cell_type": "code",
   "execution_count": 74,
   "id": "216eea1f-1594-4bd7-aee3-de9575eb6e9d",
   "metadata": {},
   "outputs": [
    {
     "data": {
      "text/plain": [
       "array([84.33333333, 92.33333333, 87.        , 87.66666667])"
      ]
     },
     "execution_count": 74,
     "metadata": {},
     "output_type": "execute_result"
    }
   ],
   "source": [
    "grades.mean(axis=1)  # here the axis=1 means row "
   ]
  },
  {
   "cell_type": "code",
   "execution_count": 79,
   "id": "040e14ae-8d5c-4b5e-b985-391e9deb4842",
   "metadata": {},
   "outputs": [
    {
     "data": {
      "text/plain": [
       "\u001b[1;31mDocstring:\u001b[0m\n",
       "a.mean(axis=None, dtype=None, out=None, keepdims=False, *, where=True)\n",
       "\n",
       "Returns the average of the array elements along given axis.\n",
       "\n",
       "Refer to `numpy.mean` for full documentation.\n",
       "\n",
       "See Also\n",
       "--------\n",
       "numpy.mean : equivalent function\n",
       "\u001b[1;31mType:\u001b[0m      builtin_function_or_method\n"
      ]
     },
     "metadata": {},
     "output_type": "display_data"
    }
   ],
   "source": [
    "grades.mean? # documentation for mean method"
   ]
  },
  {
   "cell_type": "code",
   "execution_count": 80,
   "id": "ab02f7c7-61b6-4693-8b06-f16594031ce1",
   "metadata": {},
   "outputs": [],
   "source": [
    "# self cehck "
   ]
  },
  {
   "cell_type": "code",
   "execution_count": 81,
   "id": "daa36fee-edef-4179-95ae-b3d0e38dd1a3",
   "metadata": {},
   "outputs": [],
   "source": [
    "grades3=np.random.randint(60,101,12).reshape(3,4)  # start with 60 to 100 and 12 random numbers "
   ]
  },
  {
   "cell_type": "code",
   "execution_count": 82,
   "id": "c32f5dd8-13f1-43da-b419-94a069145d8c",
   "metadata": {},
   "outputs": [
    {
     "data": {
      "text/plain": [
       "array([[95, 93, 69, 81],\n",
       "       [99, 78, 76, 88],\n",
       "       [92, 84, 88, 93]])"
      ]
     },
     "execution_count": 82,
     "metadata": {},
     "output_type": "execute_result"
    }
   ],
   "source": [
    "grades3"
   ]
  },
  {
   "cell_type": "code",
   "execution_count": 83,
   "id": "9b35d313-62b0-4a1b-8bf6-c2f153f6b098",
   "metadata": {},
   "outputs": [
    {
     "data": {
      "text/plain": [
       "87.83333333333333"
      ]
     },
     "execution_count": 83,
     "metadata": {},
     "output_type": "execute_result"
    }
   ],
   "source": [
    "grades3.mean()"
   ]
  },
  {
   "cell_type": "code",
   "execution_count": 86,
   "id": "1f8127cc-6a18-4557-8755-476a1f1e55a9",
   "metadata": {},
   "outputs": [
    {
     "data": {
      "text/plain": [
       "array([95.33333333, 85.        , 77.66666667, 87.33333333])"
      ]
     },
     "execution_count": 86,
     "metadata": {},
     "output_type": "execute_result"
    }
   ],
   "source": [
    "grades3.mean(axis=0)  # column avg , 4 columns so 4 avg values in te result "
   ]
  },
  {
   "cell_type": "code",
   "execution_count": 87,
   "id": "cd61cc6c-cd13-4a47-af99-e0fe3caf800f",
   "metadata": {},
   "outputs": [
    {
     "data": {
      "text/plain": [
       "array([84.5 , 85.25, 89.25])"
      ]
     },
     "execution_count": 87,
     "metadata": {},
     "output_type": "execute_result"
    }
   ],
   "source": [
    "grades3.mean(axis=1) # row avg  , 3 rows so 3 avg values "
   ]
  },
  {
   "cell_type": "code",
   "execution_count": 1,
   "id": "63d6e041-f304-4dd9-af5f-ad110987816d",
   "metadata": {},
   "outputs": [],
   "source": [
    "#  Numpy universal functions "
   ]
  },
  {
   "cell_type": "code",
   "execution_count": 2,
   "id": "9c844492-724b-41c2-9f83-32f37695964c",
   "metadata": {},
   "outputs": [],
   "source": [
    "import numpy as np"
   ]
  },
  {
   "cell_type": "code",
   "execution_count": 3,
   "id": "2302fa98-d830-4080-86b7-c9386cffe6a2",
   "metadata": {},
   "outputs": [],
   "source": [
    "numbers =np.array([1,4,9,16,25,36])"
   ]
  },
  {
   "cell_type": "code",
   "execution_count": 4,
   "id": "7728f7e7-6761-42a3-b080-c25aec27f12c",
   "metadata": {},
   "outputs": [
    {
     "data": {
      "text/plain": [
       "array([1., 2., 3., 4., 5., 6.])"
      ]
     },
     "execution_count": 4,
     "metadata": {},
     "output_type": "execute_result"
    }
   ],
   "source": [
    "np.sqrt(numbers)"
   ]
  },
  {
   "cell_type": "code",
   "execution_count": 5,
   "id": "302f1356-a76e-402a-8bbd-3f65d8083690",
   "metadata": {},
   "outputs": [],
   "source": [
    "numbers2=np.arange(1,7)*10 # arange is similar to range that create elements from 1 to 7 \n",
    "# arange is numpy functiom "
   ]
  },
  {
   "cell_type": "code",
   "execution_count": 6,
   "id": "647b0063-153c-4166-addd-10254cbdadb0",
   "metadata": {},
   "outputs": [
    {
     "data": {
      "text/plain": [
       "array([10, 20, 30, 40, 50, 60])"
      ]
     },
     "execution_count": 6,
     "metadata": {},
     "output_type": "execute_result"
    }
   ],
   "source": [
    "numbers2"
   ]
  },
  {
   "cell_type": "code",
   "execution_count": 7,
   "id": "485d730a-0a3b-4c63-be69-d40c8ec169de",
   "metadata": {},
   "outputs": [
    {
     "data": {
      "text/plain": [
       "array([ 81,  84,  89,  96, 105, 116])"
      ]
     },
     "execution_count": 7,
     "metadata": {},
     "output_type": "execute_result"
    }
   ],
   "source": [
    "np.add(numbers,80) # so it add 80 to the all each individual element in numbers array"
   ]
  },
  {
   "cell_type": "code",
   "execution_count": 8,
   "id": "787b2ef4-9ec5-41a5-8c34-d6339126274c",
   "metadata": {},
   "outputs": [
    {
     "data": {
      "text/plain": [
       "array([ 1,  4,  9, 16, 25, 36])"
      ]
     },
     "execution_count": 8,
     "metadata": {},
     "output_type": "execute_result"
    }
   ],
   "source": [
    "numbers"
   ]
  },
  {
   "cell_type": "code",
   "execution_count": 10,
   "id": "04a0e55c-53da-4dd2-97cd-5f0cfee735ef",
   "metadata": {},
   "outputs": [
    {
     "data": {
      "text/plain": [
       "array([11, 24, 39, 56, 75, 96])"
      ]
     },
     "execution_count": 10,
     "metadata": {},
     "output_type": "execute_result"
    }
   ],
   "source": [
    "np.add(numbers,numbers2)  # it add each element from  both the arrys "
   ]
  },
  {
   "cell_type": "code",
   "execution_count": 11,
   "id": "667e8198-a987-4308-a496-86f6bd6bf2e5",
   "metadata": {},
   "outputs": [
    {
     "data": {
      "text/plain": [
       "array([ 50, 100, 150, 200, 250, 300])"
      ]
     },
     "execution_count": 11,
     "metadata": {},
     "output_type": "execute_result"
    }
   ],
   "source": [
    "np.multiply(numbers2,5)"
   ]
  },
  {
   "cell_type": "code",
   "execution_count": 12,
   "id": "c314a84d-0146-4a1b-8dc8-d7ad1cf5e217",
   "metadata": {},
   "outputs": [
    {
     "data": {
      "text/plain": [
       "array([10, 20, 30, 40, 50, 60])"
      ]
     },
     "execution_count": 12,
     "metadata": {},
     "output_type": "execute_result"
    }
   ],
   "source": [
    "numbers2"
   ]
  },
  {
   "cell_type": "code",
   "execution_count": 13,
   "id": "f683e90f-52ac-4b3e-ada3-9f61f82836c8",
   "metadata": {},
   "outputs": [],
   "source": [
    "numbers3=numbers.reshape(2,3) # this should match up with the no of elements"
   ]
  },
  {
   "cell_type": "code",
   "execution_count": 14,
   "id": "f92fea18-59f2-4cc1-b218-207315dcd5ab",
   "metadata": {},
   "outputs": [
    {
     "data": {
      "text/plain": [
       "array([[ 1,  4,  9],\n",
       "       [16, 25, 36]])"
      ]
     },
     "execution_count": 14,
     "metadata": {},
     "output_type": "execute_result"
    }
   ],
   "source": [
    "numbers3"
   ]
  },
  {
   "cell_type": "code",
   "execution_count": 15,
   "id": "c2d9b9a9-745b-49d8-a54a-29d1666e9466",
   "metadata": {},
   "outputs": [
    {
     "data": {
      "text/plain": [
       "array([ 1,  4,  9, 16, 25, 36])"
      ]
     },
     "execution_count": 15,
     "metadata": {},
     "output_type": "execute_result"
    }
   ],
   "source": [
    "numbers"
   ]
  },
  {
   "cell_type": "code",
   "execution_count": 17,
   "id": "73115ba5-ed4d-4bb8-a48c-2917708f9064",
   "metadata": {},
   "outputs": [],
   "source": [
    "numbers4=np.array([2,4,6])"
   ]
  },
  {
   "cell_type": "code",
   "execution_count": 20,
   "id": "1597257b-67f6-467b-9056-b47570821847",
   "metadata": {},
   "outputs": [
    {
     "data": {
      "text/plain": [
       "array([[ 1,  4,  9],\n",
       "       [16, 25, 36]])"
      ]
     },
     "execution_count": 20,
     "metadata": {},
     "output_type": "execute_result"
    }
   ],
   "source": [
    "numbers3"
   ]
  },
  {
   "cell_type": "code",
   "execution_count": 22,
   "id": "7621c4ca-6afc-45e6-b68b-4fbc9a94af26",
   "metadata": {},
   "outputs": [
    {
     "data": {
      "text/plain": [
       "array([2, 4, 6])"
      ]
     },
     "execution_count": 22,
     "metadata": {},
     "output_type": "execute_result"
    }
   ],
   "source": [
    "numbers4"
   ]
  },
  {
   "cell_type": "code",
   "execution_count": 23,
   "id": "a1ea886f-a941-460f-8849-51e40ed1d859",
   "metadata": {},
   "outputs": [
    {
     "data": {
      "text/plain": [
       "array([[  2,  16,  54],\n",
       "       [ 32, 100, 216]])"
      ]
     },
     "execution_count": 23,
     "metadata": {},
     "output_type": "execute_result"
    }
   ],
   "source": [
    "np.multiply(numbers3,numbers4)  # multiply with multile arrays , make sure the column size( 3 columns ) mush match "
   ]
  },
  {
   "cell_type": "code",
   "execution_count": 24,
   "id": "b13083c3-0dfb-49a9-a307-9bd36e63e3e4",
   "metadata": {},
   "outputs": [],
   "source": [
    "# indexing and slicing Numpy arrays "
   ]
  },
  {
   "cell_type": "code",
   "execution_count": 33,
   "id": "9689ede6-09ed-4478-a56f-b5a1b5628f7b",
   "metadata": {},
   "outputs": [],
   "source": [
    "grades=np.array([[87,96,70],[100,87,90],\n",
    "                [94,77,90],[100,81,82]]) # multi  deimentional array \n"
   ]
  },
  {
   "cell_type": "code",
   "execution_count": 34,
   "id": "c019c8aa-ea7f-47da-920e-4515b3d764dc",
   "metadata": {},
   "outputs": [
    {
     "data": {
      "text/plain": [
       "array([[ 87,  96,  70],\n",
       "       [100,  87,  90],\n",
       "       [ 94,  77,  90],\n",
       "       [100,  81,  82]])"
      ]
     },
     "execution_count": 34,
     "metadata": {},
     "output_type": "execute_result"
    }
   ],
   "source": [
    "grades"
   ]
  },
  {
   "cell_type": "code",
   "execution_count": 31,
   "id": "8c70580e-8e9e-4104-8b80-bcdaf197262f",
   "metadata": {},
   "outputs": [
    {
     "data": {
      "text/plain": [
       "96"
      ]
     },
     "execution_count": 31,
     "metadata": {},
     "output_type": "execute_result"
    }
   ],
   "source": [
    "grades[0,1] # which means row 0 column 1 "
   ]
  },
  {
   "cell_type": "code",
   "execution_count": 32,
   "id": "70f19826-5e59-49e7-b46a-9defa8fa6f17",
   "metadata": {},
   "outputs": [
    {
     "data": {
      "text/plain": [
       "70"
      ]
     },
     "execution_count": 32,
     "metadata": {},
     "output_type": "execute_result"
    }
   ],
   "source": [
    "grades[0,2] # row 0 column 2"
   ]
  },
  {
   "cell_type": "code",
   "execution_count": 35,
   "id": "3164e40a-dae5-4fee-abe5-0c87fc17c134",
   "metadata": {},
   "outputs": [
    {
     "data": {
      "text/plain": [
       "70"
      ]
     },
     "execution_count": 35,
     "metadata": {},
     "output_type": "execute_result"
    }
   ],
   "source": [
    "grades[0,2]"
   ]
  },
  {
   "cell_type": "code",
   "execution_count": 36,
   "id": "fcb2cc1b-ff94-4d74-8eab-93941eebc055",
   "metadata": {},
   "outputs": [
    {
     "data": {
      "text/plain": [
       "87"
      ]
     },
     "execution_count": 36,
     "metadata": {},
     "output_type": "execute_result"
    }
   ],
   "source": [
    "grades[0,0]"
   ]
  },
  {
   "cell_type": "code",
   "execution_count": 37,
   "id": "5955fab6-76bb-4b08-9f79-9294059cb542",
   "metadata": {},
   "outputs": [
    {
     "data": {
      "text/plain": [
       "array([100,  87,  90])"
      ]
     },
     "execution_count": 37,
     "metadata": {},
     "output_type": "execute_result"
    }
   ],
   "source": [
    "grades[1]  # row number 1"
   ]
  },
  {
   "cell_type": "code",
   "execution_count": 39,
   "id": "440eb07d-6814-496f-8dde-c0368448d88e",
   "metadata": {},
   "outputs": [
    {
     "data": {
      "text/plain": [
       "90"
      ]
     },
     "execution_count": 39,
     "metadata": {},
     "output_type": "execute_result"
    }
   ],
   "source": [
    "grades[1,2] # row 1 column 2 "
   ]
  },
  {
   "cell_type": "code",
   "execution_count": 41,
   "id": "350b9231-67c0-4300-83a7-0ea180f01de5",
   "metadata": {},
   "outputs": [
    {
     "data": {
      "text/plain": [
       "array([[ 87,  96,  70],\n",
       "       [100,  87,  90]])"
      ]
     },
     "execution_count": 41,
     "metadata": {},
     "output_type": "execute_result"
    }
   ],
   "source": [
    "grades[0:2] # here in this clicing , start from row 0 to row 2(not include 2) "
   ]
  },
  {
   "cell_type": "code",
   "execution_count": 42,
   "id": "0e69f023-ec98-4976-bf17-13a249c983ca",
   "metadata": {},
   "outputs": [
    {
     "data": {
      "text/plain": [
       "array([[100,  87,  90],\n",
       "       [100,  81,  82]])"
      ]
     },
     "execution_count": 42,
     "metadata": {},
     "output_type": "execute_result"
    }
   ],
   "source": [
    "grades[[1,3]] # this is to get multiple rows [[]]  , row number 1 and row number 3 "
   ]
  },
  {
   "cell_type": "code",
   "execution_count": 43,
   "id": "b48477ed-c55d-4e10-96d8-86be0d103e39",
   "metadata": {},
   "outputs": [],
   "source": [
    "# above all reprasent rows , now lets do with columns "
   ]
  },
  {
   "cell_type": "code",
   "execution_count": 44,
   "id": "b5ba4763-d429-4a86-a850-bd915e4616b8",
   "metadata": {},
   "outputs": [
    {
     "data": {
      "text/plain": [
       "array([ 87, 100,  94, 100])"
      ]
     },
     "execution_count": 44,
     "metadata": {},
     "output_type": "execute_result"
    }
   ],
   "source": [
    "grades[:,0]   # this is all rows in the column 0 , but here the column value disaplyes in hirizatally "
   ]
  },
  {
   "cell_type": "code",
   "execution_count": 45,
   "id": "f325b703-b750-4591-aa6c-118c928d93ad",
   "metadata": {},
   "outputs": [
    {
     "data": {
      "text/plain": [
       "array([96, 87, 77, 81])"
      ]
     },
     "execution_count": 45,
     "metadata": {},
     "output_type": "execute_result"
    }
   ],
   "source": [
    "grades[:,1] # all rows in column 1 "
   ]
  },
  {
   "cell_type": "code",
   "execution_count": 46,
   "id": "086e5b90-8631-4a57-ac60-167a864b3021",
   "metadata": {},
   "outputs": [
    {
     "data": {
      "text/plain": [
       "array([[96, 70],\n",
       "       [87, 90],\n",
       "       [77, 90],\n",
       "       [81, 82]])"
      ]
     },
     "execution_count": 46,
     "metadata": {},
     "output_type": "execute_result"
    }
   ],
   "source": [
    "grades[:,1:3] # all rows from column 1 to colimn 3 ( not include 3)"
   ]
  },
  {
   "cell_type": "code",
   "execution_count": 47,
   "id": "2f92bbc3-9cb6-4233-a45a-49060efd84ff",
   "metadata": {},
   "outputs": [
    {
     "data": {
      "text/plain": [
       "array([87, 90])"
      ]
     },
     "execution_count": 47,
     "metadata": {},
     "output_type": "execute_result"
    }
   ],
   "source": [
    "grades[1,1:3]  # row number 1 from column 1 to column 3 ( not include 3 )"
   ]
  },
  {
   "cell_type": "code",
   "execution_count": 49,
   "id": "6cc07dcd-2f52-4191-955a-8f733db4b7c0",
   "metadata": {},
   "outputs": [
    {
     "data": {
      "text/plain": [
       "array([[ 87,  70],\n",
       "       [100,  90],\n",
       "       [ 94,  90],\n",
       "       [100,  82]])"
      ]
     },
     "execution_count": 49,
     "metadata": {},
     "output_type": "execute_result"
    }
   ],
   "source": [
    "grades[:,[0,2]] # instead providing ramge in slice we can provide the columns that we wanted inside [[]]\n",
    "# so here we are saying all the rows from column 0 and 2 "
   ]
  },
  {
   "cell_type": "code",
   "execution_count": 50,
   "id": "b09db860-d885-4792-9208-726eecbb5b38",
   "metadata": {},
   "outputs": [],
   "source": [
    "# view : shallow copies "
   ]
  },
  {
   "cell_type": "code",
   "execution_count": 52,
   "id": "735163e0-54ec-464b-aaac-9e933f4d32c8",
   "metadata": {},
   "outputs": [],
   "source": [
    "numbers=np.arange(1,6)"
   ]
  },
  {
   "cell_type": "code",
   "execution_count": 53,
   "id": "edbbe571-d600-4da4-ae93-5a2f6fdd9d3e",
   "metadata": {},
   "outputs": [
    {
     "data": {
      "text/plain": [
       "array([1, 2, 3, 4, 5])"
      ]
     },
     "execution_count": 53,
     "metadata": {},
     "output_type": "execute_result"
    }
   ],
   "source": [
    "numbers"
   ]
  },
  {
   "cell_type": "code",
   "execution_count": 56,
   "id": "e2ddd280-1e5e-460c-b502-e254e172a881",
   "metadata": {},
   "outputs": [],
   "source": [
    "numbers2=numbers.view()"
   ]
  },
  {
   "cell_type": "code",
   "execution_count": 57,
   "id": "ce023206-c944-4f00-a511-7e2fa5120e69",
   "metadata": {},
   "outputs": [
    {
     "data": {
      "text/plain": [
       "array([1, 2, 3, 4, 5])"
      ]
     },
     "execution_count": 57,
     "metadata": {},
     "output_type": "execute_result"
    }
   ],
   "source": [
    "numbers2"
   ]
  },
  {
   "cell_type": "code",
   "execution_count": 58,
   "id": "4c6da0b3-3014-46e9-a8bd-b37b8f88f4e4",
   "metadata": {},
   "outputs": [
    {
     "data": {
      "text/plain": [
       "1935637411856"
      ]
     },
     "execution_count": 58,
     "metadata": {},
     "output_type": "execute_result"
    }
   ],
   "source": [
    "id(numbers)"
   ]
  },
  {
   "cell_type": "code",
   "execution_count": 59,
   "id": "4c0e9196-5ac9-45cd-a5b3-c859e115419f",
   "metadata": {},
   "outputs": [
    {
     "data": {
      "text/plain": [
       "1935676578288"
      ]
     },
     "execution_count": 59,
     "metadata": {},
     "output_type": "execute_result"
    }
   ],
   "source": [
    "id(numbers2)"
   ]
  },
  {
   "cell_type": "code",
   "execution_count": 60,
   "id": "bc0d0a42-d7d0-465d-acaf-25e6e56ecfa6",
   "metadata": {},
   "outputs": [],
   "source": [
    "numbers[1]*=10"
   ]
  },
  {
   "cell_type": "code",
   "execution_count": 61,
   "id": "3d0de49f-af3c-468e-971e-86837716fd44",
   "metadata": {},
   "outputs": [
    {
     "data": {
      "text/plain": [
       "array([ 1, 20,  3,  4,  5])"
      ]
     },
     "execution_count": 61,
     "metadata": {},
     "output_type": "execute_result"
    }
   ],
   "source": [
    "numbers2  # though we updated the numbers array the change is reflected in numbers2 as well"
   ]
  },
  {
   "cell_type": "code",
   "execution_count": 62,
   "id": "da66849d-a224-4bf5-a406-e6cadb830d89",
   "metadata": {},
   "outputs": [],
   "source": [
    "numbers2[1]/=10"
   ]
  },
  {
   "cell_type": "code",
   "execution_count": 63,
   "id": "76128a8f-ebfc-4de6-9129-6436f19cf2e0",
   "metadata": {},
   "outputs": [
    {
     "data": {
      "text/plain": [
       "array([1, 2, 3, 4, 5])"
      ]
     },
     "execution_count": 63,
     "metadata": {},
     "output_type": "execute_result"
    }
   ],
   "source": [
    "numbers2"
   ]
  },
  {
   "cell_type": "code",
   "execution_count": 64,
   "id": "f86b1617-0d67-42e7-81ea-1687634bc37a",
   "metadata": {},
   "outputs": [
    {
     "data": {
      "text/plain": [
       "array([1, 2, 3, 4, 5])"
      ]
     },
     "execution_count": 64,
     "metadata": {},
     "output_type": "execute_result"
    }
   ],
   "source": [
    "numbers   # though we updated the numbers2 array the change is reflected in numbers as well ( like oracle view )"
   ]
  },
  {
   "cell_type": "code",
   "execution_count": 65,
   "id": "3dc5b240-57a7-4b81-b09f-438d0a3ce094",
   "metadata": {},
   "outputs": [],
   "source": [
    "numbers2=numbers[0:3] # here it create a view with only first 3 elemenst "
   ]
  },
  {
   "cell_type": "code",
   "execution_count": 66,
   "id": "3e02ce93-3350-4938-a729-b24406402b36",
   "metadata": {},
   "outputs": [
    {
     "data": {
      "text/plain": [
       "array([1, 2, 3])"
      ]
     },
     "execution_count": 66,
     "metadata": {},
     "output_type": "execute_result"
    }
   ],
   "source": [
    "numbers2"
   ]
  },
  {
   "cell_type": "code",
   "execution_count": 67,
   "id": "ad9864d5-0b96-402f-bfc6-b5ee4acdb8d3",
   "metadata": {},
   "outputs": [
    {
     "data": {
      "text/plain": [
       "array([1, 2, 3, 4, 5])"
      ]
     },
     "execution_count": 67,
     "metadata": {},
     "output_type": "execute_result"
    }
   ],
   "source": [
    "numbers"
   ]
  },
  {
   "cell_type": "code",
   "execution_count": 68,
   "id": "37e69243-31db-4986-b919-50f9a33d9343",
   "metadata": {},
   "outputs": [
    {
     "data": {
      "text/plain": [
       "1935637411856"
      ]
     },
     "execution_count": 68,
     "metadata": {},
     "output_type": "execute_result"
    }
   ],
   "source": [
    "id(numbers)"
   ]
  },
  {
   "cell_type": "code",
   "execution_count": 69,
   "id": "45aadab5-9dea-4382-96ed-d2666e94b98f",
   "metadata": {},
   "outputs": [
    {
     "data": {
      "text/plain": [
       "1935675746224"
      ]
     },
     "execution_count": 69,
     "metadata": {},
     "output_type": "execute_result"
    }
   ],
   "source": [
    "id(numbers2)"
   ]
  },
  {
   "cell_type": "code",
   "execution_count": 70,
   "id": "96b442ef-3306-41bb-b162-b2441b58419f",
   "metadata": {},
   "outputs": [
    {
     "ename": "IndexError",
     "evalue": "index 3 is out of bounds for axis 0 with size 3",
     "output_type": "error",
     "traceback": [
      "\u001b[1;31m---------------------------------------------------------------------------\u001b[0m",
      "\u001b[1;31mIndexError\u001b[0m                                Traceback (most recent call last)",
      "\u001b[1;32m~\\AppData\\Local\\Temp\\ipykernel_6932\\2681217462.py\u001b[0m in \u001b[0;36m<module>\u001b[1;34m\u001b[0m\n\u001b[1;32m----> 1\u001b[1;33m \u001b[0mnumbers2\u001b[0m\u001b[1;33m[\u001b[0m\u001b[1;36m3\u001b[0m\u001b[1;33m]\u001b[0m\u001b[1;33m\u001b[0m\u001b[1;33m\u001b[0m\u001b[0m\n\u001b[0m",
      "\u001b[1;31mIndexError\u001b[0m: index 3 is out of bounds for axis 0 with size 3"
     ]
    }
   ],
   "source": [
    "numbers2[3]"
   ]
  },
  {
   "cell_type": "code",
   "execution_count": 71,
   "id": "26d515b8-d58f-49fd-ad85-ac15717800a8",
   "metadata": {},
   "outputs": [],
   "source": [
    "numbers[1]*=20 # since we updated the item in the index 1 ,we can see the same resuklt in view numbers2"
   ]
  },
  {
   "cell_type": "code",
   "execution_count": 72,
   "id": "4eb2e60a-2949-4be8-a3d1-32da021c272a",
   "metadata": {},
   "outputs": [
    {
     "data": {
      "text/plain": [
       "array([ 1, 40,  3,  4,  5])"
      ]
     },
     "execution_count": 72,
     "metadata": {},
     "output_type": "execute_result"
    }
   ],
   "source": [
    "numbers"
   ]
  },
  {
   "cell_type": "code",
   "execution_count": 73,
   "id": "c8506289-1d6c-4367-87fb-ed0a482d3f73",
   "metadata": {},
   "outputs": [
    {
     "data": {
      "text/plain": [
       "array([ 1, 40,  3])"
      ]
     },
     "execution_count": 73,
     "metadata": {},
     "output_type": "execute_result"
    }
   ],
   "source": [
    "numbers2"
   ]
  },
  {
   "cell_type": "code",
   "execution_count": 74,
   "id": "965e42d3-4304-487c-be60-ec18bd1cd6b3",
   "metadata": {},
   "outputs": [],
   "source": [
    "# deep copy or physically seperate copy "
   ]
  },
  {
   "cell_type": "code",
   "execution_count": 75,
   "id": "848b8493-07ee-4e29-85a1-0e03d8ca1089",
   "metadata": {},
   "outputs": [
    {
     "data": {
      "text/plain": [
       "array([ 1, 40,  3,  4,  5])"
      ]
     },
     "execution_count": 75,
     "metadata": {},
     "output_type": "execute_result"
    }
   ],
   "source": [
    "numbers"
   ]
  },
  {
   "cell_type": "code",
   "execution_count": 76,
   "id": "529fc0ea-48e4-47ff-a60e-d062c4cdc5c6",
   "metadata": {},
   "outputs": [],
   "source": [
    "numbers2=numbers.copy()"
   ]
  },
  {
   "cell_type": "code",
   "execution_count": 77,
   "id": "154da5f7-3880-46f2-b692-985919c449b3",
   "metadata": {},
   "outputs": [
    {
     "data": {
      "text/plain": [
       "array([ 1, 40,  3,  4,  5])"
      ]
     },
     "execution_count": 77,
     "metadata": {},
     "output_type": "execute_result"
    }
   ],
   "source": [
    "numbers2"
   ]
  },
  {
   "cell_type": "code",
   "execution_count": 78,
   "id": "df9e89f9-8eff-4fc3-9bce-fec68b2a0e67",
   "metadata": {},
   "outputs": [],
   "source": [
    "numbers[2]*=10"
   ]
  },
  {
   "cell_type": "code",
   "execution_count": 79,
   "id": "ded9c11e-6636-41fe-8688-84813695c23d",
   "metadata": {},
   "outputs": [
    {
     "data": {
      "text/plain": [
       "array([ 1, 40, 30,  4,  5])"
      ]
     },
     "execution_count": 79,
     "metadata": {},
     "output_type": "execute_result"
    }
   ],
   "source": [
    "numbers"
   ]
  },
  {
   "cell_type": "code",
   "execution_count": 80,
   "id": "be4fd7dc-454d-4ccf-abe8-f6a9fbfba83e",
   "metadata": {},
   "outputs": [
    {
     "data": {
      "text/plain": [
       "array([ 1, 40,  3,  4,  5])"
      ]
     },
     "execution_count": 80,
     "metadata": {},
     "output_type": "execute_result"
    }
   ],
   "source": [
    "numbers2 # since thhis is seperate copy no effect in this array with numbers array update with 10"
   ]
  },
  {
   "cell_type": "code",
   "execution_count": 81,
   "id": "b86ef432-f89e-41f9-85fa-e74702cc4bd6",
   "metadata": {},
   "outputs": [],
   "source": [
    "# several diff methods on reshaping and transposing numpy array "
   ]
  },
  {
   "cell_type": "code",
   "execution_count": 82,
   "id": "8b9c7e6c-2e41-46a0-92bc-f85839e7cfc9",
   "metadata": {},
   "outputs": [],
   "source": [
    "grades=np.array([[87,96,70],[100,87,90]])"
   ]
  },
  {
   "cell_type": "code",
   "execution_count": 83,
   "id": "ec7d9c6e-543f-4fea-8f33-ef5d5cb113e0",
   "metadata": {},
   "outputs": [
    {
     "data": {
      "text/plain": [
       "array([[ 87,  96,  70],\n",
       "       [100,  87,  90]])"
      ]
     },
     "execution_count": 83,
     "metadata": {},
     "output_type": "execute_result"
    }
   ],
   "source": [
    "grades"
   ]
  },
  {
   "cell_type": "code",
   "execution_count": 84,
   "id": "a391dfdb-1506-4833-b37a-c2d5c5d0e402",
   "metadata": {},
   "outputs": [
    {
     "data": {
      "text/plain": [
       "array([[ 87,  96,  70, 100,  87,  90]])"
      ]
     },
     "execution_count": 84,
     "metadata": {},
     "output_type": "execute_result"
    }
   ],
   "source": [
    "grades.reshape(1,6) # please note this reshape is an view , it doesn't modify the original \n",
    "# please note it is an two dimentional array [[]]"
   ]
  },
  {
   "cell_type": "code",
   "execution_count": 85,
   "id": "07c5e1a3-2f3d-48cf-8dd8-a9dfd2d7f5a2",
   "metadata": {},
   "outputs": [
    {
     "data": {
      "text/plain": [
       "array([[ 87,  96,  70],\n",
       "       [100,  87,  90]])"
      ]
     },
     "execution_count": 85,
     "metadata": {},
     "output_type": "execute_result"
    }
   ],
   "source": [
    "grades"
   ]
  },
  {
   "cell_type": "code",
   "execution_count": 86,
   "id": "0dd6b212-9f98-40ef-86d6-f407b6a0bbe6",
   "metadata": {},
   "outputs": [],
   "source": [
    "grades.resize(1,6) # it actually modify the the array , Please it is still two deimentional 1 row 6 columns array since it has [[]]"
   ]
  },
  {
   "cell_type": "code",
   "execution_count": 87,
   "id": "62daf2ee-b18e-4b27-99ab-3efdbe5787f4",
   "metadata": {},
   "outputs": [
    {
     "data": {
      "text/plain": [
       "array([[ 87,  96,  70, 100,  87,  90]])"
      ]
     },
     "execution_count": 87,
     "metadata": {},
     "output_type": "execute_result"
    }
   ],
   "source": [
    "grades "
   ]
  },
  {
   "cell_type": "code",
   "execution_count": 88,
   "id": "51e45b63-ad3b-42f4-a04a-5437b0141c27",
   "metadata": {},
   "outputs": [],
   "source": [
    "grades=np.array([[87,96,70],[100,87,90]])"
   ]
  },
  {
   "cell_type": "code",
   "execution_count": 89,
   "id": "f9fbe160-27e4-449f-8e14-a91be8a45579",
   "metadata": {},
   "outputs": [
    {
     "data": {
      "text/plain": [
       "array([[ 87,  96,  70],\n",
       "       [100,  87,  90]])"
      ]
     },
     "execution_count": 89,
     "metadata": {},
     "output_type": "execute_result"
    }
   ],
   "source": [
    "grades"
   ]
  },
  {
   "cell_type": "code",
   "execution_count": 90,
   "id": "52a252cb-7ceb-467d-921b-55417648679e",
   "metadata": {},
   "outputs": [],
   "source": [
    "flattened=grades.flatten() # it does two things 1) create a deep copy (create new copy ) and 2) create a single dimentional array []"
   ]
  },
  {
   "cell_type": "code",
   "execution_count": 92,
   "id": "97956338-14f0-45cd-901c-9c0b7286a88d",
   "metadata": {},
   "outputs": [
    {
     "data": {
      "text/plain": [
       "array([ 87,  96,  70, 100,  87,  90])"
      ]
     },
     "execution_count": 92,
     "metadata": {},
     "output_type": "execute_result"
    }
   ],
   "source": [
    "flattened  # see it is an sindle dimentional array [] , not two dimentional [[]]"
   ]
  },
  {
   "cell_type": "code",
   "execution_count": 93,
   "id": "ae49ebae-de05-424c-a33d-15b5db95717e",
   "metadata": {},
   "outputs": [
    {
     "data": {
      "text/plain": [
       "array([[ 87,  96,  70],\n",
       "       [100,  87,  90]])"
      ]
     },
     "execution_count": 93,
     "metadata": {},
     "output_type": "execute_result"
    }
   ],
   "source": [
    "grades"
   ]
  },
  {
   "cell_type": "code",
   "execution_count": 94,
   "id": "e475dd48-8115-41cf-97f3-2fe5c5434d62",
   "metadata": {},
   "outputs": [],
   "source": [
    "flattened[0]=100"
   ]
  },
  {
   "cell_type": "code",
   "execution_count": 95,
   "id": "cf042719-152e-4f29-a1c0-b446522e4f03",
   "metadata": {},
   "outputs": [
    {
     "data": {
      "text/plain": [
       "array([100,  96,  70, 100,  87,  90])"
      ]
     },
     "execution_count": 95,
     "metadata": {},
     "output_type": "execute_result"
    }
   ],
   "source": [
    "flattened"
   ]
  },
  {
   "cell_type": "code",
   "execution_count": 96,
   "id": "bb44f691-a535-4a93-acc1-67e5969eece9",
   "metadata": {},
   "outputs": [
    {
     "data": {
      "text/plain": [
       "array([[ 87,  96,  70],\n",
       "       [100,  87,  90]])"
      ]
     },
     "execution_count": 96,
     "metadata": {},
     "output_type": "execute_result"
    }
   ],
   "source": [
    "grades # see the grades not effected by aabove assignment , it proves both are seperate copies"
   ]
  },
  {
   "cell_type": "code",
   "execution_count": 97,
   "id": "a3b5247a-e7cc-4837-99f6-6177d035de46",
   "metadata": {},
   "outputs": [],
   "source": [
    "raveled =grades.ravel()"
   ]
  },
  {
   "cell_type": "code",
   "execution_count": 98,
   "id": "647542b0-407d-4c94-a38b-350110215af6",
   "metadata": {},
   "outputs": [
    {
     "data": {
      "text/plain": [
       "array([ 87,  96,  70, 100,  87,  90])"
      ]
     },
     "execution_count": 98,
     "metadata": {},
     "output_type": "execute_result"
    }
   ],
   "source": [
    "raveled # this ravel method also created one dimentional array [], but this is a view/shallow copy , not a original copy"
   ]
  },
  {
   "cell_type": "code",
   "execution_count": 99,
   "id": "fabb83fd-9ff8-405e-b928-28635de5b3d2",
   "metadata": {},
   "outputs": [
    {
     "data": {
      "text/plain": [
       "array([[ 87,  96,  70],\n",
       "       [100,  87,  90]])"
      ]
     },
     "execution_count": 99,
     "metadata": {},
     "output_type": "execute_result"
    }
   ],
   "source": [
    "grades"
   ]
  },
  {
   "cell_type": "code",
   "execution_count": 100,
   "id": "dcb8032d-9613-4e72-8346-75f0034ece4e",
   "metadata": {},
   "outputs": [],
   "source": [
    "raveled[0]=100"
   ]
  },
  {
   "cell_type": "code",
   "execution_count": 101,
   "id": "5ab4de6d-e518-4b51-b0d6-2424170fe04f",
   "metadata": {},
   "outputs": [
    {
     "data": {
      "text/plain": [
       "array([100,  96,  70, 100,  87,  90])"
      ]
     },
     "execution_count": 101,
     "metadata": {},
     "output_type": "execute_result"
    }
   ],
   "source": [
    "raveled"
   ]
  },
  {
   "cell_type": "code",
   "execution_count": 102,
   "id": "76293cdf-4239-458c-a656-bd4848de2548",
   "metadata": {},
   "outputs": [
    {
     "data": {
      "text/plain": [
       "array([[100,  96,  70],\n",
       "       [100,  87,  90]])"
      ]
     },
     "execution_count": 102,
     "metadata": {},
     "output_type": "execute_result"
    }
   ],
   "source": [
    "grades # see it mofied the original element to 100"
   ]
  },
  {
   "cell_type": "code",
   "execution_count": 103,
   "id": "7e704fea-1c71-4dc8-b6f5-104d67deebfb",
   "metadata": {},
   "outputs": [
    {
     "data": {
      "text/plain": [
       "array([[100,  96,  70],\n",
       "       [100,  87,  90]])"
      ]
     },
     "execution_count": 103,
     "metadata": {},
     "output_type": "execute_result"
    }
   ],
   "source": [
    "grades"
   ]
  },
  {
   "cell_type": "code",
   "execution_count": 104,
   "id": "fb253fe2-8cb6-4228-99cb-ba1b1da39de0",
   "metadata": {},
   "outputs": [
    {
     "data": {
      "text/plain": [
       "array([[100, 100],\n",
       "       [ 96,  87],\n",
       "       [ 70,  90]])"
      ]
     },
     "execution_count": 104,
     "metadata": {},
     "output_type": "execute_result"
    }
   ],
   "source": [
    "grades.T  # this is tranposing attribute , please note T is caps here \n",
    "# this will convert rows into columns and columns into rows ,( like pivot in oracle )"
   ]
  },
  {
   "cell_type": "code",
   "execution_count": null,
   "id": "c14127a9-4b51-47d8-b6ba-2dc212772ec4",
   "metadata": {},
   "outputs": [],
   "source": [
    "# please note above is and view / shallow copy "
   ]
  },
  {
   "cell_type": "code",
   "execution_count": 105,
   "id": "5947b19f-d72e-4eea-8a10-9d5db7492c69",
   "metadata": {},
   "outputs": [
    {
     "data": {
      "text/plain": [
       "array([[100,  96,  70],\n",
       "       [100,  87,  90]])"
      ]
     },
     "execution_count": 105,
     "metadata": {},
     "output_type": "execute_result"
    }
   ],
   "source": [
    "grades "
   ]
  },
  {
   "cell_type": "code",
   "execution_count": 106,
   "id": "d4e142d9-916b-46b7-9116-e08397d0781f",
   "metadata": {},
   "outputs": [],
   "source": [
    "# horizantal and vertical stacking of an arrays "
   ]
  },
  {
   "cell_type": "code",
   "execution_count": 107,
   "id": "c1e61b48-7dcc-4061-91c5-3472ab94b7e9",
   "metadata": {},
   "outputs": [
    {
     "data": {
      "text/plain": [
       "array([[100,  96,  70],\n",
       "       [100,  87,  90]])"
      ]
     },
     "execution_count": 107,
     "metadata": {},
     "output_type": "execute_result"
    }
   ],
   "source": [
    "grades"
   ]
  },
  {
   "cell_type": "code",
   "execution_count": 108,
   "id": "63ad60db-3ec8-4112-9299-d6a5de8aeac9",
   "metadata": {},
   "outputs": [],
   "source": [
    "grades2=np.array([[94,77,90],[100,81,82]])"
   ]
  },
  {
   "cell_type": "code",
   "execution_count": 109,
   "id": "90b1c686-476a-4d98-a886-34e78a0cb58f",
   "metadata": {},
   "outputs": [
    {
     "data": {
      "text/plain": [
       "array([[ 94,  77,  90],\n",
       "       [100,  81,  82]])"
      ]
     },
     "execution_count": 109,
     "metadata": {},
     "output_type": "execute_result"
    }
   ],
   "source": [
    "grades2"
   ]
  },
  {
   "cell_type": "code",
   "execution_count": 111,
   "id": "eb49ea40-bb12-4b68-97d8-52bd1e058169",
   "metadata": {},
   "outputs": [
    {
     "data": {
      "text/plain": [
       "array([[100,  96,  70,  94,  77,  90],\n",
       "       [100,  87,  90, 100,  81,  82]])"
      ]
     },
     "execution_count": 111,
     "metadata": {},
     "output_type": "execute_result"
    }
   ],
   "source": [
    "np.hstack((grades,grades2))  # it accepts a touple , this is horizantal stack , \n",
    "# as the name suggest , it stacks the second array horozantally to the first array on the right side "
   ]
  },
  {
   "cell_type": "code",
   "execution_count": 112,
   "id": "4b152bbc-6233-42ad-a951-85e4f0021e1d",
   "metadata": {},
   "outputs": [
    {
     "data": {
      "text/plain": [
       "array([[100,  96,  70],\n",
       "       [100,  87,  90],\n",
       "       [ 94,  77,  90],\n",
       "       [100,  81,  82]])"
      ]
     },
     "execution_count": 112,
     "metadata": {},
     "output_type": "execute_result"
    }
   ],
   "source": [
    "np.vstack((grades,grades2)) # whcihs is sililar to above but it stack the second array at the end of first array in vertical "
   ]
  },
  {
   "cell_type": "code",
   "execution_count": 113,
   "id": "4d803dea-b51e-4b07-8a8d-3cfaa1e15b47",
   "metadata": {},
   "outputs": [],
   "source": [
    "# Data science : Pandas  :-  Series and Dataframe "
   ]
  },
  {
   "cell_type": "code",
   "execution_count": 114,
   "id": "ae4aea15-0d6d-4fdc-a341-5f4b049069ee",
   "metadata": {},
   "outputs": [],
   "source": [
    "import pandas as pd"
   ]
  },
  {
   "cell_type": "code",
   "execution_count": 116,
   "id": "8037e639-1c02-4780-b570-290264b65bf3",
   "metadata": {},
   "outputs": [],
   "source": [
    "grades =pd.Series([87,100,94])  # note here S is capital"
   ]
  },
  {
   "cell_type": "code",
   "execution_count": 117,
   "id": "23fb8f40-418e-4dab-9def-42cb49cc93a7",
   "metadata": {},
   "outputs": [
    {
     "data": {
      "text/plain": [
       "0     87\n",
       "1    100\n",
       "2     94\n",
       "dtype: int64"
      ]
     },
     "execution_count": 117,
     "metadata": {},
     "output_type": "execute_result"
    }
   ],
   "source": [
    "grades  # here it is showing both indicies and associalted element , it alos shows the datatype"
   ]
  },
  {
   "cell_type": "code",
   "execution_count": 118,
   "id": "dda52b62-a755-4f0e-a258-3bbf7fa659f6",
   "metadata": {},
   "outputs": [
    {
     "data": {
      "text/plain": [
       "0    98.6\n",
       "1    98.6\n",
       "2    98.6\n",
       "dtype: float64"
      ]
     },
     "execution_count": 118,
     "metadata": {},
     "output_type": "execute_result"
    }
   ],
   "source": [
    "pd.Series(98.6,range(3))  # we are syaing generate 3 elemensts with the value 98.6"
   ]
  },
  {
   "cell_type": "code",
   "execution_count": 119,
   "id": "93a68212-17d7-420b-90f3-4307295a1167",
   "metadata": {},
   "outputs": [
    {
     "data": {
      "text/plain": [
       "0     87\n",
       "1    100\n",
       "2     94\n",
       "dtype: int64"
      ]
     },
     "execution_count": 119,
     "metadata": {},
     "output_type": "execute_result"
    }
   ],
   "source": [
    "grades"
   ]
  },
  {
   "cell_type": "code",
   "execution_count": 120,
   "id": "f62f677d-937b-4dd8-8df7-159bcfd3fd47",
   "metadata": {},
   "outputs": [
    {
     "data": {
      "text/plain": [
       "87"
      ]
     },
     "execution_count": 120,
     "metadata": {},
     "output_type": "execute_result"
    }
   ],
   "source": [
    "grades[0]"
   ]
  },
  {
   "cell_type": "code",
   "execution_count": 121,
   "id": "5cbcf11b-59e4-4fad-bce9-523197faa2a5",
   "metadata": {},
   "outputs": [
    {
     "data": {
      "text/plain": [
       "0     87\n",
       "1    100\n",
       "dtype: int64"
      ]
     },
     "execution_count": 121,
     "metadata": {},
     "output_type": "execute_result"
    }
   ],
   "source": [
    "grades[0:2]"
   ]
  },
  {
   "cell_type": "code",
   "execution_count": 122,
   "id": "feba5134-8087-479b-a3cb-0e5168227674",
   "metadata": {},
   "outputs": [
    {
     "data": {
      "text/plain": [
       "3"
      ]
     },
     "execution_count": 122,
     "metadata": {},
     "output_type": "execute_result"
    }
   ],
   "source": [
    "grades.count()"
   ]
  },
  {
   "cell_type": "code",
   "execution_count": 124,
   "id": "770ae86f-6ebd-4205-81fa-be85a7ff317c",
   "metadata": {},
   "outputs": [
    {
     "data": {
      "text/plain": [
       "93.66666666666667"
      ]
     },
     "execution_count": 124,
     "metadata": {},
     "output_type": "execute_result"
    }
   ],
   "source": [
    "grades.mean()"
   ]
  },
  {
   "cell_type": "code",
   "execution_count": 125,
   "id": "0591adfc-b245-4cc2-92c2-951db4a80833",
   "metadata": {},
   "outputs": [
    {
     "data": {
      "text/plain": [
       "87"
      ]
     },
     "execution_count": 125,
     "metadata": {},
     "output_type": "execute_result"
    }
   ],
   "source": [
    "grades.min()"
   ]
  },
  {
   "cell_type": "code",
   "execution_count": 126,
   "id": "f33f23b8-6592-4104-b964-b77eced275d4",
   "metadata": {},
   "outputs": [
    {
     "data": {
      "text/plain": [
       "100"
      ]
     },
     "execution_count": 126,
     "metadata": {},
     "output_type": "execute_result"
    }
   ],
   "source": [
    "grades.max()"
   ]
  },
  {
   "cell_type": "code",
   "execution_count": 127,
   "id": "60208f76-cf4b-479c-9b4c-cace604d14e6",
   "metadata": {},
   "outputs": [
    {
     "data": {
      "text/plain": [
       "6.506407098647712"
      ]
     },
     "execution_count": 127,
     "metadata": {},
     "output_type": "execute_result"
    }
   ],
   "source": [
    "grades.std()"
   ]
  },
  {
   "cell_type": "code",
   "execution_count": 128,
   "id": "c71f2884-ea44-423d-afca-a9139ef4d0c3",
   "metadata": {},
   "outputs": [
    {
     "data": {
      "text/plain": [
       "count      3.000000\n",
       "mean      93.666667\n",
       "std        6.506407\n",
       "min       87.000000\n",
       "25%       90.500000\n",
       "50%       94.000000\n",
       "75%       97.000000\n",
       "max      100.000000\n",
       "dtype: float64"
      ]
     },
     "execution_count": 128,
     "metadata": {},
     "output_type": "execute_result"
    }
   ],
   "source": [
    "grades.describe()  # it wll give you the all the descriptive stats "
   ]
  },
  {
   "cell_type": "code",
   "execution_count": 129,
   "id": "ab82860b-f8a6-4d8d-8eb2-c155faf15daf",
   "metadata": {},
   "outputs": [],
   "source": [
    "# creare a series with custom indicies, index can by any immutable object "
   ]
  },
  {
   "cell_type": "code",
   "execution_count": 133,
   "id": "7f244313-ce44-413e-bf23-11301bb1b8dd",
   "metadata": {},
   "outputs": [],
   "source": [
    "grades=pd.Series([87,100,94], index=['Wally','Eva','Sam'])"
   ]
  },
  {
   "cell_type": "code",
   "execution_count": 134,
   "id": "42b16774-e596-45b0-be12-d2b4b371c869",
   "metadata": {},
   "outputs": [
    {
     "data": {
      "text/plain": [
       "Wally     87\n",
       "Eva      100\n",
       "Sam       94\n",
       "dtype: int64"
      ]
     },
     "execution_count": 134,
     "metadata": {},
     "output_type": "execute_result"
    }
   ],
   "source": [
    "grades"
   ]
  },
  {
   "cell_type": "code",
   "execution_count": 135,
   "id": "12e0e3bf-ebae-40b0-8cf3-09c90726224a",
   "metadata": {},
   "outputs": [
    {
     "data": {
      "text/plain": [
       "100"
      ]
     },
     "execution_count": 135,
     "metadata": {},
     "output_type": "execute_result"
    }
   ],
   "source": [
    "grades['Eva']"
   ]
  },
  {
   "cell_type": "code",
   "execution_count": 136,
   "id": "9c29fe69-7ed3-4f7c-b980-bffa616abb14",
   "metadata": {},
   "outputs": [],
   "source": [
    "# craete a serice by using dictonary "
   ]
  },
  {
   "cell_type": "code",
   "execution_count": 137,
   "id": "21e36be9-da70-4901-8186-468fb225e4a9",
   "metadata": {},
   "outputs": [],
   "source": [
    "grades=pd.Series({'Wally1':87,'Eva1':100,'Sam1':94})"
   ]
  },
  {
   "cell_type": "code",
   "execution_count": 138,
   "id": "1e195aa1-599b-4926-96f9-8972e99a6174",
   "metadata": {},
   "outputs": [
    {
     "data": {
      "text/plain": [
       "Wally1     87\n",
       "Eva1      100\n",
       "Sam1       94\n",
       "dtype: int64"
      ]
     },
     "execution_count": 138,
     "metadata": {},
     "output_type": "execute_result"
    }
   ],
   "source": [
    "grades"
   ]
  },
  {
   "cell_type": "code",
   "execution_count": 140,
   "id": "7f74d1e6-a858-4aa3-8e28-cc15f1753c35",
   "metadata": {},
   "outputs": [
    {
     "data": {
      "text/plain": [
       "100"
      ]
     },
     "execution_count": 140,
     "metadata": {},
     "output_type": "execute_result"
    }
   ],
   "source": [
    "grades['Eva1']"
   ]
  },
  {
   "cell_type": "code",
   "execution_count": 141,
   "id": "d4a939de-4d09-442f-aaeb-03f86b06a75c",
   "metadata": {},
   "outputs": [],
   "source": [
    "# another way to access the element in pandas "
   ]
  },
  {
   "cell_type": "code",
   "execution_count": 142,
   "id": "2bc2224e-d53a-41a0-97c5-8e2c98dae962",
   "metadata": {},
   "outputs": [
    {
     "data": {
      "text/plain": [
       "87"
      ]
     },
     "execution_count": 142,
     "metadata": {},
     "output_type": "execute_result"
    }
   ],
   "source": [
    "grades.Wally1\n"
   ]
  },
  {
   "cell_type": "code",
   "execution_count": 143,
   "id": "ea0fd001-b984-4949-93d7-f3b94c543e8e",
   "metadata": {},
   "outputs": [
    {
     "data": {
      "text/plain": [
       "dtype('int64')"
      ]
     },
     "execution_count": 143,
     "metadata": {},
     "output_type": "execute_result"
    }
   ],
   "source": [
    "grades.dtype"
   ]
  },
  {
   "cell_type": "code",
   "execution_count": 144,
   "id": "d399178b-f0ee-4c0c-9ecf-e520b37fcc23",
   "metadata": {},
   "outputs": [
    {
     "data": {
      "text/plain": [
       "array([ 87, 100,  94], dtype=int64)"
      ]
     },
     "execution_count": 144,
     "metadata": {},
     "output_type": "execute_result"
    }
   ],
   "source": [
    "grades.values # this return an Numpy array "
   ]
  },
  {
   "cell_type": "code",
   "execution_count": 145,
   "id": "8bd91701-66e5-4759-81bd-0d043030c55c",
   "metadata": {},
   "outputs": [],
   "source": [
    "hardware=pd.Series(['Hammer','Saw','Wrench'])"
   ]
  },
  {
   "cell_type": "code",
   "execution_count": 146,
   "id": "9c1743e9-d709-4126-b81f-f74dfba5679e",
   "metadata": {},
   "outputs": [
    {
     "data": {
      "text/plain": [
       "0    Hammer\n",
       "1       Saw\n",
       "2    Wrench\n",
       "dtype: object"
      ]
     },
     "execution_count": 146,
     "metadata": {},
     "output_type": "execute_result"
    }
   ],
   "source": [
    "hardware"
   ]
  },
  {
   "cell_type": "code",
   "execution_count": 147,
   "id": "5bb257cc-4c6a-4f19-a09c-e95d4ea4584a",
   "metadata": {},
   "outputs": [],
   "source": [
    "# str : string attribute will give more capabilitied in the Series elements "
   ]
  },
  {
   "cell_type": "code",
   "execution_count": 148,
   "id": "2dfa7fad-a100-49f2-b61d-87702cf3717e",
   "metadata": {},
   "outputs": [
    {
     "data": {
      "text/plain": [
       "0     True\n",
       "1     True\n",
       "2    False\n",
       "dtype: bool"
      ]
     },
     "execution_count": 148,
     "metadata": {},
     "output_type": "execute_result"
    }
   ],
   "source": [
    "hardware.str.contains('a') # basically it looks for any element in series contain letter a \n",
    "# similar to like operator in oracle , but it retuen boolean"
   ]
  },
  {
   "cell_type": "code",
   "execution_count": 149,
   "id": "e60e973b-0eb3-436d-ba4b-14213b0ad3a5",
   "metadata": {},
   "outputs": [],
   "source": [
    "# massauge data "
   ]
  },
  {
   "cell_type": "code",
   "execution_count": 150,
   "id": "a47317e2-0204-4b95-bb86-5191e8fa6706",
   "metadata": {},
   "outputs": [
    {
     "data": {
      "text/plain": [
       "0    HAMMER\n",
       "1       SAW\n",
       "2    WRENCH\n",
       "dtype: object"
      ]
     },
     "execution_count": 150,
     "metadata": {},
     "output_type": "execute_result"
    }
   ],
   "source": [
    "hardware.str.upper() # note : it wont modify the original data "
   ]
  },
  {
   "cell_type": "code",
   "execution_count": 151,
   "id": "0bdf5307-165b-44c7-a3c8-d75e5a685abd",
   "metadata": {},
   "outputs": [
    {
     "data": {
      "text/plain": [
       "0    Hammer\n",
       "1       Saw\n",
       "2    Wrench\n",
       "dtype: object"
      ]
     },
     "execution_count": 151,
     "metadata": {},
     "output_type": "execute_result"
    }
   ],
   "source": [
    "hardware"
   ]
  },
  {
   "cell_type": "code",
   "execution_count": 152,
   "id": "1c802031-b347-456b-a64a-6617f0a2a272",
   "metadata": {},
   "outputs": [],
   "source": [
    "# in Dataframe each column is as Series "
   ]
  },
  {
   "cell_type": "code",
   "execution_count": 153,
   "id": "cd0e8f1a-9d6d-4b3d-a8fa-e62b3d33c6e3",
   "metadata": {},
   "outputs": [],
   "source": [
    "#                                   Panda DataFrames "
   ]
  },
  {
   "cell_type": "code",
   "execution_count": 154,
   "id": "851aea97-8d5c-4051-9c4d-c76c4de2cb87",
   "metadata": {},
   "outputs": [],
   "source": [
    "# it is and enhanced two deimentional arry , can have custom rows and columns indicies \n",
    "#offer additional operations and capabilitied useful in data science oriented tasks \n",
    "# support missing data\n",
    "# Each column in a DataFrame is a Series \n",
    "# column may contain different element types "
   ]
  },
  {
   "cell_type": "code",
   "execution_count": 4,
   "id": "018fdf4a-cf7b-4dfb-96c6-be73e65cca8a",
   "metadata": {},
   "outputs": [],
   "source": [
    "import pandas as pd"
   ]
  },
  {
   "cell_type": "code",
   "execution_count": null,
   "id": "61a54ae9-1b93-4563-9e89-5d617fe93665",
   "metadata": {},
   "outputs": [],
   "source": []
  },
  {
   "cell_type": "code",
   "execution_count": 5,
   "id": "c4c176ac-0427-4599-845a-c76bf8a71f04",
   "metadata": {},
   "outputs": [],
   "source": [
    "grades_dict={'Wally':[87,96,70],'Eva':[100,87,90],'Sam':[94,77,90],'Katie':[100,81,82]\n",
    "            ,'Bob':[83,65,85]}"
   ]
  },
  {
   "cell_type": "code",
   "execution_count": 6,
   "id": "a0e914e6-6217-4d85-89ca-935da0901398",
   "metadata": {},
   "outputs": [
    {
     "data": {
      "text/plain": [
       "{'Wally': [87, 96, 70],\n",
       " 'Eva': [100, 87, 90],\n",
       " 'Sam': [94, 77, 90],\n",
       " 'Katie': [100, 81, 82],\n",
       " 'Bob': [83, 65, 85]}"
      ]
     },
     "execution_count": 6,
     "metadata": {},
     "output_type": "execute_result"
    }
   ],
   "source": [
    "grades_dict"
   ]
  },
  {
   "cell_type": "code",
   "execution_count": 7,
   "id": "43e8ddfa-9cc0-437b-8e61-aceffc203235",
   "metadata": {},
   "outputs": [],
   "source": [
    "grades=pd.DataFrame(grades_dict) # convert Dictonary to dataframe"
   ]
  },
  {
   "cell_type": "code",
   "execution_count": 160,
   "id": "ad61260d-d0fb-44a1-b4ec-ba3ecc74a441",
   "metadata": {},
   "outputs": [
    {
     "data": {
      "text/html": [
       "<div>\n",
       "<style scoped>\n",
       "    .dataframe tbody tr th:only-of-type {\n",
       "        vertical-align: middle;\n",
       "    }\n",
       "\n",
       "    .dataframe tbody tr th {\n",
       "        vertical-align: top;\n",
       "    }\n",
       "\n",
       "    .dataframe thead th {\n",
       "        text-align: right;\n",
       "    }\n",
       "</style>\n",
       "<table border=\"1\" class=\"dataframe\">\n",
       "  <thead>\n",
       "    <tr style=\"text-align: right;\">\n",
       "      <th></th>\n",
       "      <th>Wally</th>\n",
       "      <th>Eva</th>\n",
       "      <th>Sam</th>\n",
       "      <th>Katie</th>\n",
       "      <th>Bob</th>\n",
       "    </tr>\n",
       "  </thead>\n",
       "  <tbody>\n",
       "    <tr>\n",
       "      <th>0</th>\n",
       "      <td>87</td>\n",
       "      <td>100</td>\n",
       "      <td>94</td>\n",
       "      <td>100</td>\n",
       "      <td>83</td>\n",
       "    </tr>\n",
       "    <tr>\n",
       "      <th>1</th>\n",
       "      <td>96</td>\n",
       "      <td>87</td>\n",
       "      <td>77</td>\n",
       "      <td>81</td>\n",
       "      <td>65</td>\n",
       "    </tr>\n",
       "    <tr>\n",
       "      <th>2</th>\n",
       "      <td>70</td>\n",
       "      <td>90</td>\n",
       "      <td>90</td>\n",
       "      <td>82</td>\n",
       "      <td>85</td>\n",
       "    </tr>\n",
       "  </tbody>\n",
       "</table>\n",
       "</div>"
      ],
      "text/plain": [
       "   Wally  Eva  Sam  Katie  Bob\n",
       "0     87  100   94    100   83\n",
       "1     96   87   77     81   65\n",
       "2     70   90   90     82   85"
      ]
     },
     "execution_count": 160,
     "metadata": {},
     "output_type": "execute_result"
    }
   ],
   "source": [
    "grades # since we havn't mentioned any index it creared with default 0 1 and 2 "
   ]
  },
  {
   "cell_type": "code",
   "execution_count": null,
   "id": "3de95ca1-8c8f-4554-9fc0-33dbb60091ab",
   "metadata": {},
   "outputs": [],
   "source": [
    "# we can create an index instead default values "
   ]
  },
  {
   "cell_type": "code",
   "execution_count": 9,
   "id": "48d6c930-ccd1-4637-bfe8-d1e23ad91a9e",
   "metadata": {},
   "outputs": [],
   "source": [
    "grades.index=['Test1','Test2','Test3']"
   ]
  },
  {
   "cell_type": "code",
   "execution_count": 162,
   "id": "ea9a2a91-07a3-4500-bfcd-78f78f0f3f6f",
   "metadata": {},
   "outputs": [
    {
     "data": {
      "text/html": [
       "<div>\n",
       "<style scoped>\n",
       "    .dataframe tbody tr th:only-of-type {\n",
       "        vertical-align: middle;\n",
       "    }\n",
       "\n",
       "    .dataframe tbody tr th {\n",
       "        vertical-align: top;\n",
       "    }\n",
       "\n",
       "    .dataframe thead th {\n",
       "        text-align: right;\n",
       "    }\n",
       "</style>\n",
       "<table border=\"1\" class=\"dataframe\">\n",
       "  <thead>\n",
       "    <tr style=\"text-align: right;\">\n",
       "      <th></th>\n",
       "      <th>Wally</th>\n",
       "      <th>Eva</th>\n",
       "      <th>Sam</th>\n",
       "      <th>Katie</th>\n",
       "      <th>Bob</th>\n",
       "    </tr>\n",
       "  </thead>\n",
       "  <tbody>\n",
       "    <tr>\n",
       "      <th>Test1</th>\n",
       "      <td>87</td>\n",
       "      <td>100</td>\n",
       "      <td>94</td>\n",
       "      <td>100</td>\n",
       "      <td>83</td>\n",
       "    </tr>\n",
       "    <tr>\n",
       "      <th>Test2</th>\n",
       "      <td>96</td>\n",
       "      <td>87</td>\n",
       "      <td>77</td>\n",
       "      <td>81</td>\n",
       "      <td>65</td>\n",
       "    </tr>\n",
       "    <tr>\n",
       "      <th>Test3</th>\n",
       "      <td>70</td>\n",
       "      <td>90</td>\n",
       "      <td>90</td>\n",
       "      <td>82</td>\n",
       "      <td>85</td>\n",
       "    </tr>\n",
       "  </tbody>\n",
       "</table>\n",
       "</div>"
      ],
      "text/plain": [
       "       Wally  Eva  Sam  Katie  Bob\n",
       "Test1     87  100   94    100   83\n",
       "Test2     96   87   77     81   65\n",
       "Test3     70   90   90     82   85"
      ]
     },
     "execution_count": 162,
     "metadata": {},
     "output_type": "execute_result"
    }
   ],
   "source": [
    "grades"
   ]
  },
  {
   "cell_type": "code",
   "execution_count": 163,
   "id": "67f20c5c-f647-48a7-8571-071e3a5ca474",
   "metadata": {},
   "outputs": [],
   "source": [
    "# accessing dataframe columns "
   ]
  },
  {
   "cell_type": "code",
   "execution_count": 164,
   "id": "543bdf48-3960-4460-9c07-02adeea243dc",
   "metadata": {},
   "outputs": [
    {
     "data": {
      "text/plain": [
       "Test1    100\n",
       "Test2     87\n",
       "Test3     90\n",
       "Name: Eva, dtype: int64"
      ]
     },
     "execution_count": 164,
     "metadata": {},
     "output_type": "execute_result"
    }
   ],
   "source": [
    "grades['Eva'] # it returns the Eva column"
   ]
  },
  {
   "cell_type": "code",
   "execution_count": 165,
   "id": "78153b37-c22d-4ace-b615-c83975879a47",
   "metadata": {},
   "outputs": [
    {
     "data": {
      "text/plain": [
       "Test1    100\n",
       "Test2     87\n",
       "Test3     90\n",
       "Name: Eva, dtype: int64"
      ]
     },
     "execution_count": 165,
     "metadata": {},
     "output_type": "execute_result"
    }
   ],
   "source": [
    "grades.Eva # another way to access column "
   ]
  },
  {
   "cell_type": "code",
   "execution_count": 166,
   "id": "7d57e281-eda2-4dbd-83c5-90c7a3db78e9",
   "metadata": {},
   "outputs": [],
   "source": [
    "# accessing row "
   ]
  },
  {
   "cell_type": "code",
   "execution_count": 167,
   "id": "73c7b293-7ba7-4c88-837c-0c95b9ddb14e",
   "metadata": {},
   "outputs": [
    {
     "data": {
      "text/plain": [
       "Wally     87\n",
       "Eva      100\n",
       "Sam       94\n",
       "Katie    100\n",
       "Bob       83\n",
       "Name: Test1, dtype: int64"
      ]
     },
     "execution_count": 167,
     "metadata": {},
     "output_type": "execute_result"
    }
   ],
   "source": [
    "grades.loc['Test1']   # loc mean location  and we received in a Series format "
   ]
  },
  {
   "cell_type": "code",
   "execution_count": 168,
   "id": "44a6f78c-143c-4d14-98b4-4e1e51774093",
   "metadata": {},
   "outputs": [
    {
     "data": {
      "text/plain": [
       "Wally    96\n",
       "Eva      87\n",
       "Sam      77\n",
       "Katie    81\n",
       "Bob      65\n",
       "Name: Test2, dtype: int64"
      ]
     },
     "execution_count": 168,
     "metadata": {},
     "output_type": "execute_result"
    }
   ],
   "source": [
    "grades.iloc[1] # we can alos get the row by index number , in this case row 1 ( whcih mean row 2 , idex start from 0)\n",
    "# so here it is iloc , not loc \n",
    "# iloc mean index location "
   ]
  },
  {
   "cell_type": "code",
   "execution_count": null,
   "id": "5ad6d4a3-7ec8-47b6-8139-9b920be3667b",
   "metadata": {},
   "outputs": [],
   "source": [
    "# slicing in DataFrame"
   ]
  },
  {
   "cell_type": "code",
   "execution_count": 169,
   "id": "5817fe94-8e38-443f-bd0a-1f37c18a4320",
   "metadata": {},
   "outputs": [
    {
     "data": {
      "text/html": [
       "<div>\n",
       "<style scoped>\n",
       "    .dataframe tbody tr th:only-of-type {\n",
       "        vertical-align: middle;\n",
       "    }\n",
       "\n",
       "    .dataframe tbody tr th {\n",
       "        vertical-align: top;\n",
       "    }\n",
       "\n",
       "    .dataframe thead th {\n",
       "        text-align: right;\n",
       "    }\n",
       "</style>\n",
       "<table border=\"1\" class=\"dataframe\">\n",
       "  <thead>\n",
       "    <tr style=\"text-align: right;\">\n",
       "      <th></th>\n",
       "      <th>Wally</th>\n",
       "      <th>Eva</th>\n",
       "      <th>Sam</th>\n",
       "      <th>Katie</th>\n",
       "      <th>Bob</th>\n",
       "    </tr>\n",
       "  </thead>\n",
       "  <tbody>\n",
       "    <tr>\n",
       "      <th>Test1</th>\n",
       "      <td>87</td>\n",
       "      <td>100</td>\n",
       "      <td>94</td>\n",
       "      <td>100</td>\n",
       "      <td>83</td>\n",
       "    </tr>\n",
       "    <tr>\n",
       "      <th>Test2</th>\n",
       "      <td>96</td>\n",
       "      <td>87</td>\n",
       "      <td>77</td>\n",
       "      <td>81</td>\n",
       "      <td>65</td>\n",
       "    </tr>\n",
       "    <tr>\n",
       "      <th>Test3</th>\n",
       "      <td>70</td>\n",
       "      <td>90</td>\n",
       "      <td>90</td>\n",
       "      <td>82</td>\n",
       "      <td>85</td>\n",
       "    </tr>\n",
       "  </tbody>\n",
       "</table>\n",
       "</div>"
      ],
      "text/plain": [
       "       Wally  Eva  Sam  Katie  Bob\n",
       "Test1     87  100   94    100   83\n",
       "Test2     96   87   77     81   65\n",
       "Test3     70   90   90     82   85"
      ]
     },
     "execution_count": 169,
     "metadata": {},
     "output_type": "execute_result"
    }
   ],
   "source": [
    "grades.loc['Test1':'Test3'] # note here in this DataFrame slice it include the last index too "
   ]
  },
  {
   "cell_type": "code",
   "execution_count": 170,
   "id": "a002f352-324c-4002-93f4-c159769285cc",
   "metadata": {},
   "outputs": [
    {
     "data": {
      "text/html": [
       "<div>\n",
       "<style scoped>\n",
       "    .dataframe tbody tr th:only-of-type {\n",
       "        vertical-align: middle;\n",
       "    }\n",
       "\n",
       "    .dataframe tbody tr th {\n",
       "        vertical-align: top;\n",
       "    }\n",
       "\n",
       "    .dataframe thead th {\n",
       "        text-align: right;\n",
       "    }\n",
       "</style>\n",
       "<table border=\"1\" class=\"dataframe\">\n",
       "  <thead>\n",
       "    <tr style=\"text-align: right;\">\n",
       "      <th></th>\n",
       "      <th>Wally</th>\n",
       "      <th>Eva</th>\n",
       "      <th>Sam</th>\n",
       "      <th>Katie</th>\n",
       "      <th>Bob</th>\n",
       "    </tr>\n",
       "  </thead>\n",
       "  <tbody>\n",
       "    <tr>\n",
       "      <th>Test1</th>\n",
       "      <td>87</td>\n",
       "      <td>100</td>\n",
       "      <td>94</td>\n",
       "      <td>100</td>\n",
       "      <td>83</td>\n",
       "    </tr>\n",
       "    <tr>\n",
       "      <th>Test2</th>\n",
       "      <td>96</td>\n",
       "      <td>87</td>\n",
       "      <td>77</td>\n",
       "      <td>81</td>\n",
       "      <td>65</td>\n",
       "    </tr>\n",
       "  </tbody>\n",
       "</table>\n",
       "</div>"
      ],
      "text/plain": [
       "       Wally  Eva  Sam  Katie  Bob\n",
       "Test1     87  100   94    100   83\n",
       "Test2     96   87   77     81   65"
      ]
     },
     "execution_count": 170,
     "metadata": {},
     "output_type": "execute_result"
    }
   ],
   "source": [
    "grades.iloc[0:2] # in this iloc it will not include the last index"
   ]
  },
  {
   "cell_type": "code",
   "execution_count": 171,
   "id": "42d2cbc5-b21b-4f93-8b41-dbc6f2ca989b",
   "metadata": {},
   "outputs": [
    {
     "data": {
      "text/html": [
       "<div>\n",
       "<style scoped>\n",
       "    .dataframe tbody tr th:only-of-type {\n",
       "        vertical-align: middle;\n",
       "    }\n",
       "\n",
       "    .dataframe tbody tr th {\n",
       "        vertical-align: top;\n",
       "    }\n",
       "\n",
       "    .dataframe thead th {\n",
       "        text-align: right;\n",
       "    }\n",
       "</style>\n",
       "<table border=\"1\" class=\"dataframe\">\n",
       "  <thead>\n",
       "    <tr style=\"text-align: right;\">\n",
       "      <th></th>\n",
       "      <th>Wally</th>\n",
       "      <th>Eva</th>\n",
       "      <th>Sam</th>\n",
       "      <th>Katie</th>\n",
       "      <th>Bob</th>\n",
       "    </tr>\n",
       "  </thead>\n",
       "  <tbody>\n",
       "    <tr>\n",
       "      <th>Test1</th>\n",
       "      <td>87</td>\n",
       "      <td>100</td>\n",
       "      <td>94</td>\n",
       "      <td>100</td>\n",
       "      <td>83</td>\n",
       "    </tr>\n",
       "    <tr>\n",
       "      <th>Test2</th>\n",
       "      <td>96</td>\n",
       "      <td>87</td>\n",
       "      <td>77</td>\n",
       "      <td>81</td>\n",
       "      <td>65</td>\n",
       "    </tr>\n",
       "    <tr>\n",
       "      <th>Test3</th>\n",
       "      <td>70</td>\n",
       "      <td>90</td>\n",
       "      <td>90</td>\n",
       "      <td>82</td>\n",
       "      <td>85</td>\n",
       "    </tr>\n",
       "  </tbody>\n",
       "</table>\n",
       "</div>"
      ],
      "text/plain": [
       "       Wally  Eva  Sam  Katie  Bob\n",
       "Test1     87  100   94    100   83\n",
       "Test2     96   87   77     81   65\n",
       "Test3     70   90   90     82   85"
      ]
     },
     "execution_count": 171,
     "metadata": {},
     "output_type": "execute_result"
    }
   ],
   "source": [
    "grades"
   ]
  },
  {
   "cell_type": "code",
   "execution_count": 172,
   "id": "bb1af727-c832-44cb-a2cc-bdf527b3405b",
   "metadata": {},
   "outputs": [
    {
     "data": {
      "text/html": [
       "<div>\n",
       "<style scoped>\n",
       "    .dataframe tbody tr th:only-of-type {\n",
       "        vertical-align: middle;\n",
       "    }\n",
       "\n",
       "    .dataframe tbody tr th {\n",
       "        vertical-align: top;\n",
       "    }\n",
       "\n",
       "    .dataframe thead th {\n",
       "        text-align: right;\n",
       "    }\n",
       "</style>\n",
       "<table border=\"1\" class=\"dataframe\">\n",
       "  <thead>\n",
       "    <tr style=\"text-align: right;\">\n",
       "      <th></th>\n",
       "      <th>Wally</th>\n",
       "      <th>Eva</th>\n",
       "      <th>Sam</th>\n",
       "      <th>Katie</th>\n",
       "      <th>Bob</th>\n",
       "    </tr>\n",
       "  </thead>\n",
       "  <tbody>\n",
       "    <tr>\n",
       "      <th>Test1</th>\n",
       "      <td>87</td>\n",
       "      <td>100</td>\n",
       "      <td>94</td>\n",
       "      <td>100</td>\n",
       "      <td>83</td>\n",
       "    </tr>\n",
       "    <tr>\n",
       "      <th>Test3</th>\n",
       "      <td>70</td>\n",
       "      <td>90</td>\n",
       "      <td>90</td>\n",
       "      <td>82</td>\n",
       "      <td>85</td>\n",
       "    </tr>\n",
       "  </tbody>\n",
       "</table>\n",
       "</div>"
      ],
      "text/plain": [
       "       Wally  Eva  Sam  Katie  Bob\n",
       "Test1     87  100   94    100   83\n",
       "Test3     70   90   90     82   85"
      ]
     },
     "execution_count": 172,
     "metadata": {},
     "output_type": "execute_result"
    }
   ],
   "source": [
    "grades.loc[['Test1','Test3']] # here we can include the list what multiple rows we nned [[]]"
   ]
  },
  {
   "cell_type": "code",
   "execution_count": 173,
   "id": "c0e4bea7-1312-4bb1-8737-13fd523f0631",
   "metadata": {},
   "outputs": [
    {
     "data": {
      "text/html": [
       "<div>\n",
       "<style scoped>\n",
       "    .dataframe tbody tr th:only-of-type {\n",
       "        vertical-align: middle;\n",
       "    }\n",
       "\n",
       "    .dataframe tbody tr th {\n",
       "        vertical-align: top;\n",
       "    }\n",
       "\n",
       "    .dataframe thead th {\n",
       "        text-align: right;\n",
       "    }\n",
       "</style>\n",
       "<table border=\"1\" class=\"dataframe\">\n",
       "  <thead>\n",
       "    <tr style=\"text-align: right;\">\n",
       "      <th></th>\n",
       "      <th>Wally</th>\n",
       "      <th>Eva</th>\n",
       "      <th>Sam</th>\n",
       "      <th>Katie</th>\n",
       "      <th>Bob</th>\n",
       "    </tr>\n",
       "  </thead>\n",
       "  <tbody>\n",
       "    <tr>\n",
       "      <th>Test1</th>\n",
       "      <td>87</td>\n",
       "      <td>100</td>\n",
       "      <td>94</td>\n",
       "      <td>100</td>\n",
       "      <td>83</td>\n",
       "    </tr>\n",
       "    <tr>\n",
       "      <th>Test3</th>\n",
       "      <td>70</td>\n",
       "      <td>90</td>\n",
       "      <td>90</td>\n",
       "      <td>82</td>\n",
       "      <td>85</td>\n",
       "    </tr>\n",
       "  </tbody>\n",
       "</table>\n",
       "</div>"
      ],
      "text/plain": [
       "       Wally  Eva  Sam  Katie  Bob\n",
       "Test1     87  100   94    100   83\n",
       "Test3     70   90   90     82   85"
      ]
     },
     "execution_count": 173,
     "metadata": {},
     "output_type": "execute_result"
    }
   ],
   "source": [
    "grades.iloc[[0,2]]"
   ]
  },
  {
   "cell_type": "code",
   "execution_count": null,
   "id": "9fd0fabb-b58a-401f-a76d-46fe87754f79",
   "metadata": {},
   "outputs": [],
   "source": [
    "# access both subset of rows and column "
   ]
  },
  {
   "cell_type": "code",
   "execution_count": 174,
   "id": "b8ed89b5-f714-406b-96af-065f68c02bfa",
   "metadata": {},
   "outputs": [
    {
     "data": {
      "text/html": [
       "<div>\n",
       "<style scoped>\n",
       "    .dataframe tbody tr th:only-of-type {\n",
       "        vertical-align: middle;\n",
       "    }\n",
       "\n",
       "    .dataframe tbody tr th {\n",
       "        vertical-align: top;\n",
       "    }\n",
       "\n",
       "    .dataframe thead th {\n",
       "        text-align: right;\n",
       "    }\n",
       "</style>\n",
       "<table border=\"1\" class=\"dataframe\">\n",
       "  <thead>\n",
       "    <tr style=\"text-align: right;\">\n",
       "      <th></th>\n",
       "      <th>Eva</th>\n",
       "      <th>Katie</th>\n",
       "    </tr>\n",
       "  </thead>\n",
       "  <tbody>\n",
       "    <tr>\n",
       "      <th>Test1</th>\n",
       "      <td>100</td>\n",
       "      <td>100</td>\n",
       "    </tr>\n",
       "    <tr>\n",
       "      <th>Test2</th>\n",
       "      <td>87</td>\n",
       "      <td>81</td>\n",
       "    </tr>\n",
       "  </tbody>\n",
       "</table>\n",
       "</div>"
      ],
      "text/plain": [
       "       Eva  Katie\n",
       "Test1  100    100\n",
       "Test2   87     81"
      ]
     },
     "execution_count": 174,
     "metadata": {},
     "output_type": "execute_result"
    }
   ],
   "source": [
    "grades.loc['Test1':'Test2',['Eva','Katie']]\n",
    "# here we are accessing two rows Test1 and Test2  and columns Eva and Katie \n",
    "# here we mentioned rows in slice , i.e   Test1 to Test2 and specific columns Eva and Katie \n",
    "# please note here the first argument is slice but could be list  and second argument is list but alos coulbe be slice"
   ]
  },
  {
   "cell_type": "code",
   "execution_count": 175,
   "id": "c5fe8214-c926-4e5c-87b5-50d393601c80",
   "metadata": {},
   "outputs": [
    {
     "data": {
      "text/html": [
       "<div>\n",
       "<style scoped>\n",
       "    .dataframe tbody tr th:only-of-type {\n",
       "        vertical-align: middle;\n",
       "    }\n",
       "\n",
       "    .dataframe tbody tr th {\n",
       "        vertical-align: top;\n",
       "    }\n",
       "\n",
       "    .dataframe thead th {\n",
       "        text-align: right;\n",
       "    }\n",
       "</style>\n",
       "<table border=\"1\" class=\"dataframe\">\n",
       "  <thead>\n",
       "    <tr style=\"text-align: right;\">\n",
       "      <th></th>\n",
       "      <th>Wally</th>\n",
       "      <th>Eva</th>\n",
       "      <th>Sam</th>\n",
       "      <th>Katie</th>\n",
       "      <th>Bob</th>\n",
       "    </tr>\n",
       "  </thead>\n",
       "  <tbody>\n",
       "    <tr>\n",
       "      <th>Test1</th>\n",
       "      <td>87</td>\n",
       "      <td>100</td>\n",
       "      <td>94</td>\n",
       "      <td>100</td>\n",
       "      <td>83</td>\n",
       "    </tr>\n",
       "    <tr>\n",
       "      <th>Test2</th>\n",
       "      <td>96</td>\n",
       "      <td>87</td>\n",
       "      <td>77</td>\n",
       "      <td>81</td>\n",
       "      <td>65</td>\n",
       "    </tr>\n",
       "    <tr>\n",
       "      <th>Test3</th>\n",
       "      <td>70</td>\n",
       "      <td>90</td>\n",
       "      <td>90</td>\n",
       "      <td>82</td>\n",
       "      <td>85</td>\n",
       "    </tr>\n",
       "  </tbody>\n",
       "</table>\n",
       "</div>"
      ],
      "text/plain": [
       "       Wally  Eva  Sam  Katie  Bob\n",
       "Test1     87  100   94    100   83\n",
       "Test2     96   87   77     81   65\n",
       "Test3     70   90   90     82   85"
      ]
     },
     "execution_count": 175,
     "metadata": {},
     "output_type": "execute_result"
    }
   ],
   "source": [
    "grades"
   ]
  },
  {
   "cell_type": "code",
   "execution_count": 176,
   "id": "05798b51-bf4f-4bf5-bd62-47860f83cb17",
   "metadata": {},
   "outputs": [
    {
     "data": {
      "text/html": [
       "<div>\n",
       "<style scoped>\n",
       "    .dataframe tbody tr th:only-of-type {\n",
       "        vertical-align: middle;\n",
       "    }\n",
       "\n",
       "    .dataframe tbody tr th {\n",
       "        vertical-align: top;\n",
       "    }\n",
       "\n",
       "    .dataframe thead th {\n",
       "        text-align: right;\n",
       "    }\n",
       "</style>\n",
       "<table border=\"1\" class=\"dataframe\">\n",
       "  <thead>\n",
       "    <tr style=\"text-align: right;\">\n",
       "      <th></th>\n",
       "      <th>Wally</th>\n",
       "      <th>Eva</th>\n",
       "      <th>Sam</th>\n",
       "    </tr>\n",
       "  </thead>\n",
       "  <tbody>\n",
       "    <tr>\n",
       "      <th>Test1</th>\n",
       "      <td>87</td>\n",
       "      <td>100</td>\n",
       "      <td>94</td>\n",
       "    </tr>\n",
       "    <tr>\n",
       "      <th>Test3</th>\n",
       "      <td>70</td>\n",
       "      <td>90</td>\n",
       "      <td>90</td>\n",
       "    </tr>\n",
       "  </tbody>\n",
       "</table>\n",
       "</div>"
      ],
      "text/plain": [
       "       Wally  Eva  Sam\n",
       "Test1     87  100   94\n",
       "Test3     70   90   90"
      ]
     },
     "execution_count": 176,
     "metadata": {},
     "output_type": "execute_result"
    }
   ],
   "source": [
    "grades.iloc[[0,2],0:3]\n",
    "# we specificly mentioned row 1 and 2 and column from 0 to 3 "
   ]
  },
  {
   "cell_type": "code",
   "execution_count": 177,
   "id": "372161af-641f-4f82-b56e-aab0d354c4d5",
   "metadata": {},
   "outputs": [],
   "source": [
    "# boolean indexing "
   ]
  },
  {
   "cell_type": "code",
   "execution_count": 178,
   "id": "dbc01026-85e9-4a80-8fb0-2b36d8417fc2",
   "metadata": {},
   "outputs": [
    {
     "data": {
      "text/html": [
       "<div>\n",
       "<style scoped>\n",
       "    .dataframe tbody tr th:only-of-type {\n",
       "        vertical-align: middle;\n",
       "    }\n",
       "\n",
       "    .dataframe tbody tr th {\n",
       "        vertical-align: top;\n",
       "    }\n",
       "\n",
       "    .dataframe thead th {\n",
       "        text-align: right;\n",
       "    }\n",
       "</style>\n",
       "<table border=\"1\" class=\"dataframe\">\n",
       "  <thead>\n",
       "    <tr style=\"text-align: right;\">\n",
       "      <th></th>\n",
       "      <th>Wally</th>\n",
       "      <th>Eva</th>\n",
       "      <th>Sam</th>\n",
       "      <th>Katie</th>\n",
       "      <th>Bob</th>\n",
       "    </tr>\n",
       "  </thead>\n",
       "  <tbody>\n",
       "    <tr>\n",
       "      <th>Test1</th>\n",
       "      <td>NaN</td>\n",
       "      <td>100.0</td>\n",
       "      <td>94.0</td>\n",
       "      <td>100.0</td>\n",
       "      <td>NaN</td>\n",
       "    </tr>\n",
       "    <tr>\n",
       "      <th>Test2</th>\n",
       "      <td>96.0</td>\n",
       "      <td>NaN</td>\n",
       "      <td>NaN</td>\n",
       "      <td>NaN</td>\n",
       "      <td>NaN</td>\n",
       "    </tr>\n",
       "    <tr>\n",
       "      <th>Test3</th>\n",
       "      <td>NaN</td>\n",
       "      <td>90.0</td>\n",
       "      <td>90.0</td>\n",
       "      <td>NaN</td>\n",
       "      <td>NaN</td>\n",
       "    </tr>\n",
       "  </tbody>\n",
       "</table>\n",
       "</div>"
      ],
      "text/plain": [
       "       Wally    Eva   Sam  Katie  Bob\n",
       "Test1    NaN  100.0  94.0  100.0  NaN\n",
       "Test2   96.0    NaN   NaN    NaN  NaN\n",
       "Test3    NaN   90.0  90.0    NaN  NaN"
      ]
     },
     "execution_count": 178,
     "metadata": {},
     "output_type": "execute_result"
    }
   ],
   "source": [
    "grades[grades>=90] # it check with each element that it is greater than or equal to 90 and retun the dataframe \n",
    "# which has values >=90 and those remaing element shown as NaN ( not a number ) ( like null in oracle )"
   ]
  },
  {
   "cell_type": "code",
   "execution_count": 179,
   "id": "7de09967-6c90-4b0f-b910-18c4b8381d00",
   "metadata": {},
   "outputs": [
    {
     "data": {
      "text/html": [
       "<div>\n",
       "<style scoped>\n",
       "    .dataframe tbody tr th:only-of-type {\n",
       "        vertical-align: middle;\n",
       "    }\n",
       "\n",
       "    .dataframe tbody tr th {\n",
       "        vertical-align: top;\n",
       "    }\n",
       "\n",
       "    .dataframe thead th {\n",
       "        text-align: right;\n",
       "    }\n",
       "</style>\n",
       "<table border=\"1\" class=\"dataframe\">\n",
       "  <thead>\n",
       "    <tr style=\"text-align: right;\">\n",
       "      <th></th>\n",
       "      <th>Wally</th>\n",
       "      <th>Eva</th>\n",
       "      <th>Sam</th>\n",
       "      <th>Katie</th>\n",
       "      <th>Bob</th>\n",
       "    </tr>\n",
       "  </thead>\n",
       "  <tbody>\n",
       "    <tr>\n",
       "      <th>Test1</th>\n",
       "      <td>87.0</td>\n",
       "      <td>NaN</td>\n",
       "      <td>NaN</td>\n",
       "      <td>NaN</td>\n",
       "      <td>83.0</td>\n",
       "    </tr>\n",
       "    <tr>\n",
       "      <th>Test2</th>\n",
       "      <td>NaN</td>\n",
       "      <td>87.0</td>\n",
       "      <td>NaN</td>\n",
       "      <td>81.0</td>\n",
       "      <td>NaN</td>\n",
       "    </tr>\n",
       "    <tr>\n",
       "      <th>Test3</th>\n",
       "      <td>NaN</td>\n",
       "      <td>NaN</td>\n",
       "      <td>NaN</td>\n",
       "      <td>82.0</td>\n",
       "      <td>85.0</td>\n",
       "    </tr>\n",
       "  </tbody>\n",
       "</table>\n",
       "</div>"
      ],
      "text/plain": [
       "       Wally   Eva  Sam  Katie   Bob\n",
       "Test1   87.0   NaN  NaN    NaN  83.0\n",
       "Test2    NaN  87.0  NaN   81.0   NaN\n",
       "Test3    NaN   NaN  NaN   82.0  85.0"
      ]
     },
     "execution_count": 179,
     "metadata": {},
     "output_type": "execute_result"
    }
   ],
   "source": [
    "grades[(grades>=80) & (grades<90)]  # we can evaluate multiple conditions \n",
    "# please note in pandas the and operator represent in & amd the or operator represent in |\n",
    "# please note in standard python we mention AND and OR while checking conditions\n",
    "# where as in Pandas we use these operators to check these AND and OR operators "
   ]
  },
  {
   "cell_type": "code",
   "execution_count": 180,
   "id": "3921e8fc-f92f-42e5-9d02-6297f85c41f8",
   "metadata": {},
   "outputs": [],
   "source": [
    "# some other attributes "
   ]
  },
  {
   "cell_type": "code",
   "execution_count": 181,
   "id": "0b0b123b-82f1-44b6-8567-b67a29e79518",
   "metadata": {},
   "outputs": [
    {
     "data": {
      "text/plain": [
       "87"
      ]
     },
     "execution_count": 181,
     "metadata": {},
     "output_type": "execute_result"
    }
   ],
   "source": [
    "grades.at['Test2','Eva'] # to get the perticual elemnt ffrom the column and row "
   ]
  },
  {
   "cell_type": "code",
   "execution_count": 182,
   "id": "308af481-bbf8-4ec4-a7c6-75dce8bf43b6",
   "metadata": {},
   "outputs": [
    {
     "data": {
      "text/html": [
       "<div>\n",
       "<style scoped>\n",
       "    .dataframe tbody tr th:only-of-type {\n",
       "        vertical-align: middle;\n",
       "    }\n",
       "\n",
       "    .dataframe tbody tr th {\n",
       "        vertical-align: top;\n",
       "    }\n",
       "\n",
       "    .dataframe thead th {\n",
       "        text-align: right;\n",
       "    }\n",
       "</style>\n",
       "<table border=\"1\" class=\"dataframe\">\n",
       "  <thead>\n",
       "    <tr style=\"text-align: right;\">\n",
       "      <th></th>\n",
       "      <th>Wally</th>\n",
       "      <th>Eva</th>\n",
       "      <th>Sam</th>\n",
       "      <th>Katie</th>\n",
       "      <th>Bob</th>\n",
       "    </tr>\n",
       "  </thead>\n",
       "  <tbody>\n",
       "    <tr>\n",
       "      <th>Test1</th>\n",
       "      <td>87</td>\n",
       "      <td>100</td>\n",
       "      <td>94</td>\n",
       "      <td>100</td>\n",
       "      <td>83</td>\n",
       "    </tr>\n",
       "    <tr>\n",
       "      <th>Test2</th>\n",
       "      <td>96</td>\n",
       "      <td>87</td>\n",
       "      <td>77</td>\n",
       "      <td>81</td>\n",
       "      <td>65</td>\n",
       "    </tr>\n",
       "    <tr>\n",
       "      <th>Test3</th>\n",
       "      <td>70</td>\n",
       "      <td>90</td>\n",
       "      <td>90</td>\n",
       "      <td>82</td>\n",
       "      <td>85</td>\n",
       "    </tr>\n",
       "  </tbody>\n",
       "</table>\n",
       "</div>"
      ],
      "text/plain": [
       "       Wally  Eva  Sam  Katie  Bob\n",
       "Test1     87  100   94    100   83\n",
       "Test2     96   87   77     81   65\n",
       "Test3     70   90   90     82   85"
      ]
     },
     "execution_count": 182,
     "metadata": {},
     "output_type": "execute_result"
    }
   ],
   "source": [
    "grades"
   ]
  },
  {
   "cell_type": "code",
   "execution_count": 183,
   "id": "6e0072b3-960c-4e74-a684-94355532afa7",
   "metadata": {},
   "outputs": [
    {
     "data": {
      "text/plain": [
       "70"
      ]
     },
     "execution_count": 183,
     "metadata": {},
     "output_type": "execute_result"
    }
   ],
   "source": [
    "grades.iat[2,0] # similar to above , here we mention index value "
   ]
  },
  {
   "cell_type": "code",
   "execution_count": 185,
   "id": "6ba47a15-120b-44ce-bb6c-62c6b99b84c0",
   "metadata": {},
   "outputs": [],
   "source": [
    "# one advantege with at attribute is you can assign values to the particular element  in DF"
   ]
  },
  {
   "cell_type": "code",
   "execution_count": 186,
   "id": "26686a67-016f-4ceb-9bde-67d73f8ddb46",
   "metadata": {},
   "outputs": [],
   "source": [
    "grades.at['Test2','Eva']=100 # se here the value will change from 87 to 100"
   ]
  },
  {
   "cell_type": "code",
   "execution_count": 187,
   "id": "60540766-da26-4276-a381-ad37593e93c1",
   "metadata": {},
   "outputs": [
    {
     "data": {
      "text/html": [
       "<div>\n",
       "<style scoped>\n",
       "    .dataframe tbody tr th:only-of-type {\n",
       "        vertical-align: middle;\n",
       "    }\n",
       "\n",
       "    .dataframe tbody tr th {\n",
       "        vertical-align: top;\n",
       "    }\n",
       "\n",
       "    .dataframe thead th {\n",
       "        text-align: right;\n",
       "    }\n",
       "</style>\n",
       "<table border=\"1\" class=\"dataframe\">\n",
       "  <thead>\n",
       "    <tr style=\"text-align: right;\">\n",
       "      <th></th>\n",
       "      <th>Wally</th>\n",
       "      <th>Eva</th>\n",
       "      <th>Sam</th>\n",
       "      <th>Katie</th>\n",
       "      <th>Bob</th>\n",
       "    </tr>\n",
       "  </thead>\n",
       "  <tbody>\n",
       "    <tr>\n",
       "      <th>Test1</th>\n",
       "      <td>87</td>\n",
       "      <td>100</td>\n",
       "      <td>94</td>\n",
       "      <td>100</td>\n",
       "      <td>83</td>\n",
       "    </tr>\n",
       "    <tr>\n",
       "      <th>Test2</th>\n",
       "      <td>96</td>\n",
       "      <td>100</td>\n",
       "      <td>77</td>\n",
       "      <td>81</td>\n",
       "      <td>65</td>\n",
       "    </tr>\n",
       "    <tr>\n",
       "      <th>Test3</th>\n",
       "      <td>70</td>\n",
       "      <td>90</td>\n",
       "      <td>90</td>\n",
       "      <td>82</td>\n",
       "      <td>85</td>\n",
       "    </tr>\n",
       "  </tbody>\n",
       "</table>\n",
       "</div>"
      ],
      "text/plain": [
       "       Wally  Eva  Sam  Katie  Bob\n",
       "Test1     87  100   94    100   83\n",
       "Test2     96  100   77     81   65\n",
       "Test3     70   90   90     82   85"
      ]
     },
     "execution_count": 187,
     "metadata": {},
     "output_type": "execute_result"
    }
   ],
   "source": [
    "grades"
   ]
  },
  {
   "cell_type": "code",
   "execution_count": 188,
   "id": "c3d7be31-e03b-49c4-988a-903b738dd865",
   "metadata": {},
   "outputs": [],
   "source": [
    "# we can alos do this same by iat "
   ]
  },
  {
   "cell_type": "code",
   "execution_count": null,
   "id": "9c799609-1d3c-4047-a64d-34e1f021c234",
   "metadata": {},
   "outputs": [],
   "source": [
    "# this at and iat attributes can bring only one element "
   ]
  },
  {
   "cell_type": "code",
   "execution_count": 189,
   "id": "5aa5bd11-068f-4f6a-af24-5f047c9cfaa0",
   "metadata": {},
   "outputs": [
    {
     "data": {
      "text/html": [
       "<div>\n",
       "<style scoped>\n",
       "    .dataframe tbody tr th:only-of-type {\n",
       "        vertical-align: middle;\n",
       "    }\n",
       "\n",
       "    .dataframe tbody tr th {\n",
       "        vertical-align: top;\n",
       "    }\n",
       "\n",
       "    .dataframe thead th {\n",
       "        text-align: right;\n",
       "    }\n",
       "</style>\n",
       "<table border=\"1\" class=\"dataframe\">\n",
       "  <thead>\n",
       "    <tr style=\"text-align: right;\">\n",
       "      <th></th>\n",
       "      <th>Wally</th>\n",
       "      <th>Eva</th>\n",
       "      <th>Sam</th>\n",
       "      <th>Katie</th>\n",
       "      <th>Bob</th>\n",
       "    </tr>\n",
       "  </thead>\n",
       "  <tbody>\n",
       "    <tr>\n",
       "      <th>Test1</th>\n",
       "      <td>87</td>\n",
       "      <td>100</td>\n",
       "      <td>94</td>\n",
       "      <td>100</td>\n",
       "      <td>83</td>\n",
       "    </tr>\n",
       "    <tr>\n",
       "      <th>Test2</th>\n",
       "      <td>96</td>\n",
       "      <td>100</td>\n",
       "      <td>77</td>\n",
       "      <td>81</td>\n",
       "      <td>65</td>\n",
       "    </tr>\n",
       "    <tr>\n",
       "      <th>Test3</th>\n",
       "      <td>70</td>\n",
       "      <td>90</td>\n",
       "      <td>90</td>\n",
       "      <td>82</td>\n",
       "      <td>85</td>\n",
       "    </tr>\n",
       "  </tbody>\n",
       "</table>\n",
       "</div>"
      ],
      "text/plain": [
       "       Wally  Eva  Sam  Katie  Bob\n",
       "Test1     87  100   94    100   83\n",
       "Test2     96  100   77     81   65\n",
       "Test3     70   90   90     82   85"
      ]
     },
     "execution_count": 189,
     "metadata": {},
     "output_type": "execute_result"
    }
   ],
   "source": [
    "grades"
   ]
  },
  {
   "cell_type": "code",
   "execution_count": 190,
   "id": "7b892997-3503-413e-ba05-d28f4720a5c9",
   "metadata": {},
   "outputs": [
    {
     "data": {
      "text/html": [
       "<div>\n",
       "<style scoped>\n",
       "    .dataframe tbody tr th:only-of-type {\n",
       "        vertical-align: middle;\n",
       "    }\n",
       "\n",
       "    .dataframe tbody tr th {\n",
       "        vertical-align: top;\n",
       "    }\n",
       "\n",
       "    .dataframe thead th {\n",
       "        text-align: right;\n",
       "    }\n",
       "</style>\n",
       "<table border=\"1\" class=\"dataframe\">\n",
       "  <thead>\n",
       "    <tr style=\"text-align: right;\">\n",
       "      <th></th>\n",
       "      <th>Wally</th>\n",
       "      <th>Eva</th>\n",
       "      <th>Sam</th>\n",
       "      <th>Katie</th>\n",
       "      <th>Bob</th>\n",
       "    </tr>\n",
       "  </thead>\n",
       "  <tbody>\n",
       "    <tr>\n",
       "      <th>count</th>\n",
       "      <td>3.000000</td>\n",
       "      <td>3.000000</td>\n",
       "      <td>3.000000</td>\n",
       "      <td>3.000000</td>\n",
       "      <td>3.000000</td>\n",
       "    </tr>\n",
       "    <tr>\n",
       "      <th>mean</th>\n",
       "      <td>84.333333</td>\n",
       "      <td>96.666667</td>\n",
       "      <td>87.000000</td>\n",
       "      <td>87.666667</td>\n",
       "      <td>77.666667</td>\n",
       "    </tr>\n",
       "    <tr>\n",
       "      <th>std</th>\n",
       "      <td>13.203535</td>\n",
       "      <td>5.773503</td>\n",
       "      <td>8.888194</td>\n",
       "      <td>10.692677</td>\n",
       "      <td>11.015141</td>\n",
       "    </tr>\n",
       "    <tr>\n",
       "      <th>min</th>\n",
       "      <td>70.000000</td>\n",
       "      <td>90.000000</td>\n",
       "      <td>77.000000</td>\n",
       "      <td>81.000000</td>\n",
       "      <td>65.000000</td>\n",
       "    </tr>\n",
       "    <tr>\n",
       "      <th>25%</th>\n",
       "      <td>78.500000</td>\n",
       "      <td>95.000000</td>\n",
       "      <td>83.500000</td>\n",
       "      <td>81.500000</td>\n",
       "      <td>74.000000</td>\n",
       "    </tr>\n",
       "    <tr>\n",
       "      <th>50%</th>\n",
       "      <td>87.000000</td>\n",
       "      <td>100.000000</td>\n",
       "      <td>90.000000</td>\n",
       "      <td>82.000000</td>\n",
       "      <td>83.000000</td>\n",
       "    </tr>\n",
       "    <tr>\n",
       "      <th>75%</th>\n",
       "      <td>91.500000</td>\n",
       "      <td>100.000000</td>\n",
       "      <td>92.000000</td>\n",
       "      <td>91.000000</td>\n",
       "      <td>84.000000</td>\n",
       "    </tr>\n",
       "    <tr>\n",
       "      <th>max</th>\n",
       "      <td>96.000000</td>\n",
       "      <td>100.000000</td>\n",
       "      <td>94.000000</td>\n",
       "      <td>100.000000</td>\n",
       "      <td>85.000000</td>\n",
       "    </tr>\n",
       "  </tbody>\n",
       "</table>\n",
       "</div>"
      ],
      "text/plain": [
       "           Wally         Eva        Sam       Katie        Bob\n",
       "count   3.000000    3.000000   3.000000    3.000000   3.000000\n",
       "mean   84.333333   96.666667  87.000000   87.666667  77.666667\n",
       "std    13.203535    5.773503   8.888194   10.692677  11.015141\n",
       "min    70.000000   90.000000  77.000000   81.000000  65.000000\n",
       "25%    78.500000   95.000000  83.500000   81.500000  74.000000\n",
       "50%    87.000000  100.000000  90.000000   82.000000  83.000000\n",
       "75%    91.500000  100.000000  92.000000   91.000000  84.000000\n",
       "max    96.000000  100.000000  94.000000  100.000000  85.000000"
      ]
     },
     "execution_count": 190,
     "metadata": {},
     "output_type": "execute_result"
    }
   ],
   "source": [
    "grades.describe()"
   ]
  },
  {
   "cell_type": "code",
   "execution_count": 194,
   "id": "7b9654d9-bcaa-438b-9340-94e4f20f99d0",
   "metadata": {},
   "outputs": [
    {
     "ename": "OptionError",
     "evalue": "'Pattern matched multiple keys'",
     "output_type": "error",
     "traceback": [
      "\u001b[1;31m---------------------------------------------------------------------------\u001b[0m",
      "\u001b[1;31mOptionError\u001b[0m                               Traceback (most recent call last)",
      "\u001b[1;32m~\\AppData\\Local\\Temp\\ipykernel_6932\\3062088979.py\u001b[0m in \u001b[0;36m<module>\u001b[1;34m\u001b[0m\n\u001b[1;32m----> 1\u001b[1;33m \u001b[0mpd\u001b[0m\u001b[1;33m.\u001b[0m\u001b[0mset_option\u001b[0m\u001b[1;33m(\u001b[0m\u001b[1;34m'Precision'\u001b[0m\u001b[1;33m,\u001b[0m \u001b[1;36m2\u001b[0m\u001b[1;33m)\u001b[0m\u001b[1;33m\u001b[0m\u001b[1;33m\u001b[0m\u001b[0m\n\u001b[0m",
      "\u001b[1;32m~\\anaconda3\\lib\\site-packages\\pandas\\_config\\config.py\u001b[0m in \u001b[0;36m__call__\u001b[1;34m(self, *args, **kwds)\u001b[0m\n\u001b[0;32m    254\u001b[0m \u001b[1;33m\u001b[0m\u001b[0m\n\u001b[0;32m    255\u001b[0m     \u001b[1;32mdef\u001b[0m \u001b[0m__call__\u001b[0m\u001b[1;33m(\u001b[0m\u001b[0mself\u001b[0m\u001b[1;33m,\u001b[0m \u001b[1;33m*\u001b[0m\u001b[0margs\u001b[0m\u001b[1;33m,\u001b[0m \u001b[1;33m**\u001b[0m\u001b[0mkwds\u001b[0m\u001b[1;33m)\u001b[0m\u001b[1;33m:\u001b[0m\u001b[1;33m\u001b[0m\u001b[1;33m\u001b[0m\u001b[0m\n\u001b[1;32m--> 256\u001b[1;33m         \u001b[1;32mreturn\u001b[0m \u001b[0mself\u001b[0m\u001b[1;33m.\u001b[0m\u001b[0m__func__\u001b[0m\u001b[1;33m(\u001b[0m\u001b[1;33m*\u001b[0m\u001b[0margs\u001b[0m\u001b[1;33m,\u001b[0m \u001b[1;33m**\u001b[0m\u001b[0mkwds\u001b[0m\u001b[1;33m)\u001b[0m\u001b[1;33m\u001b[0m\u001b[1;33m\u001b[0m\u001b[0m\n\u001b[0m\u001b[0;32m    257\u001b[0m \u001b[1;33m\u001b[0m\u001b[0m\n\u001b[0;32m    258\u001b[0m     \u001b[1;33m@\u001b[0m\u001b[0mproperty\u001b[0m\u001b[1;33m\u001b[0m\u001b[1;33m\u001b[0m\u001b[0m\n",
      "\u001b[1;32m~\\anaconda3\\lib\\site-packages\\pandas\\_config\\config.py\u001b[0m in \u001b[0;36m_set_option\u001b[1;34m(*args, **kwargs)\u001b[0m\n\u001b[0;32m    147\u001b[0m \u001b[1;33m\u001b[0m\u001b[0m\n\u001b[0;32m    148\u001b[0m     \u001b[1;32mfor\u001b[0m \u001b[0mk\u001b[0m\u001b[1;33m,\u001b[0m \u001b[0mv\u001b[0m \u001b[1;32min\u001b[0m \u001b[0mzip\u001b[0m\u001b[1;33m(\u001b[0m\u001b[0margs\u001b[0m\u001b[1;33m[\u001b[0m\u001b[1;33m:\u001b[0m\u001b[1;33m:\u001b[0m\u001b[1;36m2\u001b[0m\u001b[1;33m]\u001b[0m\u001b[1;33m,\u001b[0m \u001b[0margs\u001b[0m\u001b[1;33m[\u001b[0m\u001b[1;36m1\u001b[0m\u001b[1;33m:\u001b[0m\u001b[1;33m:\u001b[0m\u001b[1;36m2\u001b[0m\u001b[1;33m]\u001b[0m\u001b[1;33m)\u001b[0m\u001b[1;33m:\u001b[0m\u001b[1;33m\u001b[0m\u001b[1;33m\u001b[0m\u001b[0m\n\u001b[1;32m--> 149\u001b[1;33m         \u001b[0mkey\u001b[0m \u001b[1;33m=\u001b[0m \u001b[0m_get_single_key\u001b[0m\u001b[1;33m(\u001b[0m\u001b[0mk\u001b[0m\u001b[1;33m,\u001b[0m \u001b[0msilent\u001b[0m\u001b[1;33m)\u001b[0m\u001b[1;33m\u001b[0m\u001b[1;33m\u001b[0m\u001b[0m\n\u001b[0m\u001b[0;32m    150\u001b[0m \u001b[1;33m\u001b[0m\u001b[0m\n\u001b[0;32m    151\u001b[0m         \u001b[0mo\u001b[0m \u001b[1;33m=\u001b[0m \u001b[0m_get_registered_option\u001b[0m\u001b[1;33m(\u001b[0m\u001b[0mkey\u001b[0m\u001b[1;33m)\u001b[0m\u001b[1;33m\u001b[0m\u001b[1;33m\u001b[0m\u001b[0m\n",
      "\u001b[1;32m~\\anaconda3\\lib\\site-packages\\pandas\\_config\\config.py\u001b[0m in \u001b[0;36m_get_single_key\u001b[1;34m(pat, silent)\u001b[0m\n\u001b[0;32m    114\u001b[0m         \u001b[1;32mraise\u001b[0m \u001b[0mOptionError\u001b[0m\u001b[1;33m(\u001b[0m\u001b[1;34mf\"No such keys(s): {repr(pat)}\"\u001b[0m\u001b[1;33m)\u001b[0m\u001b[1;33m\u001b[0m\u001b[1;33m\u001b[0m\u001b[0m\n\u001b[0;32m    115\u001b[0m     \u001b[1;32mif\u001b[0m \u001b[0mlen\u001b[0m\u001b[1;33m(\u001b[0m\u001b[0mkeys\u001b[0m\u001b[1;33m)\u001b[0m \u001b[1;33m>\u001b[0m \u001b[1;36m1\u001b[0m\u001b[1;33m:\u001b[0m\u001b[1;33m\u001b[0m\u001b[1;33m\u001b[0m\u001b[0m\n\u001b[1;32m--> 116\u001b[1;33m         \u001b[1;32mraise\u001b[0m \u001b[0mOptionError\u001b[0m\u001b[1;33m(\u001b[0m\u001b[1;34m\"Pattern matched multiple keys\"\u001b[0m\u001b[1;33m)\u001b[0m\u001b[1;33m\u001b[0m\u001b[1;33m\u001b[0m\u001b[0m\n\u001b[0m\u001b[0;32m    117\u001b[0m     \u001b[0mkey\u001b[0m \u001b[1;33m=\u001b[0m \u001b[0mkeys\u001b[0m\u001b[1;33m[\u001b[0m\u001b[1;36m0\u001b[0m\u001b[1;33m]\u001b[0m\u001b[1;33m\u001b[0m\u001b[1;33m\u001b[0m\u001b[0m\n\u001b[0;32m    118\u001b[0m \u001b[1;33m\u001b[0m\u001b[0m\n",
      "\u001b[1;31mOptionError\u001b[0m: 'Pattern matched multiple keys'"
     ]
    }
   ],
   "source": [
    "pd.set_option('Precision', 2) # need to check why this error \n",
    "# basically it tries to set precision to 2 digit , which retuen 2 digit after . (dot )"
   ]
  },
  {
   "cell_type": "code",
   "execution_count": 195,
   "id": "73566e09-0ef0-48c0-8f85-c31f37dfd7d0",
   "metadata": {},
   "outputs": [
    {
     "data": {
      "text/html": [
       "<div>\n",
       "<style scoped>\n",
       "    .dataframe tbody tr th:only-of-type {\n",
       "        vertical-align: middle;\n",
       "    }\n",
       "\n",
       "    .dataframe tbody tr th {\n",
       "        vertical-align: top;\n",
       "    }\n",
       "\n",
       "    .dataframe thead th {\n",
       "        text-align: right;\n",
       "    }\n",
       "</style>\n",
       "<table border=\"1\" class=\"dataframe\">\n",
       "  <thead>\n",
       "    <tr style=\"text-align: right;\">\n",
       "      <th></th>\n",
       "      <th>Wally</th>\n",
       "      <th>Eva</th>\n",
       "      <th>Sam</th>\n",
       "      <th>Katie</th>\n",
       "      <th>Bob</th>\n",
       "    </tr>\n",
       "  </thead>\n",
       "  <tbody>\n",
       "    <tr>\n",
       "      <th>count</th>\n",
       "      <td>3.000000</td>\n",
       "      <td>3.000000</td>\n",
       "      <td>3.000000</td>\n",
       "      <td>3.000000</td>\n",
       "      <td>3.000000</td>\n",
       "    </tr>\n",
       "    <tr>\n",
       "      <th>mean</th>\n",
       "      <td>84.333333</td>\n",
       "      <td>96.666667</td>\n",
       "      <td>87.000000</td>\n",
       "      <td>87.666667</td>\n",
       "      <td>77.666667</td>\n",
       "    </tr>\n",
       "    <tr>\n",
       "      <th>std</th>\n",
       "      <td>13.203535</td>\n",
       "      <td>5.773503</td>\n",
       "      <td>8.888194</td>\n",
       "      <td>10.692677</td>\n",
       "      <td>11.015141</td>\n",
       "    </tr>\n",
       "    <tr>\n",
       "      <th>min</th>\n",
       "      <td>70.000000</td>\n",
       "      <td>90.000000</td>\n",
       "      <td>77.000000</td>\n",
       "      <td>81.000000</td>\n",
       "      <td>65.000000</td>\n",
       "    </tr>\n",
       "    <tr>\n",
       "      <th>25%</th>\n",
       "      <td>78.500000</td>\n",
       "      <td>95.000000</td>\n",
       "      <td>83.500000</td>\n",
       "      <td>81.500000</td>\n",
       "      <td>74.000000</td>\n",
       "    </tr>\n",
       "    <tr>\n",
       "      <th>50%</th>\n",
       "      <td>87.000000</td>\n",
       "      <td>100.000000</td>\n",
       "      <td>90.000000</td>\n",
       "      <td>82.000000</td>\n",
       "      <td>83.000000</td>\n",
       "    </tr>\n",
       "    <tr>\n",
       "      <th>75%</th>\n",
       "      <td>91.500000</td>\n",
       "      <td>100.000000</td>\n",
       "      <td>92.000000</td>\n",
       "      <td>91.000000</td>\n",
       "      <td>84.000000</td>\n",
       "    </tr>\n",
       "    <tr>\n",
       "      <th>max</th>\n",
       "      <td>96.000000</td>\n",
       "      <td>100.000000</td>\n",
       "      <td>94.000000</td>\n",
       "      <td>100.000000</td>\n",
       "      <td>85.000000</td>\n",
       "    </tr>\n",
       "  </tbody>\n",
       "</table>\n",
       "</div>"
      ],
      "text/plain": [
       "           Wally         Eva        Sam       Katie        Bob\n",
       "count   3.000000    3.000000   3.000000    3.000000   3.000000\n",
       "mean   84.333333   96.666667  87.000000   87.666667  77.666667\n",
       "std    13.203535    5.773503   8.888194   10.692677  11.015141\n",
       "min    70.000000   90.000000  77.000000   81.000000  65.000000\n",
       "25%    78.500000   95.000000  83.500000   81.500000  74.000000\n",
       "50%    87.000000  100.000000  90.000000   82.000000  83.000000\n",
       "75%    91.500000  100.000000  92.000000   91.000000  84.000000\n",
       "max    96.000000  100.000000  94.000000  100.000000  85.000000"
      ]
     },
     "execution_count": 195,
     "metadata": {},
     "output_type": "execute_result"
    }
   ],
   "source": [
    "grades.describe()"
   ]
  },
  {
   "cell_type": "code",
   "execution_count": 196,
   "id": "9eaff032-3379-4112-9cde-b6b163552d1c",
   "metadata": {},
   "outputs": [
    {
     "data": {
      "text/plain": [
       "Wally    84.333333\n",
       "Eva      96.666667\n",
       "Sam      87.000000\n",
       "Katie    87.666667\n",
       "Bob      77.666667\n",
       "dtype: float64"
      ]
     },
     "execution_count": 196,
     "metadata": {},
     "output_type": "execute_result"
    }
   ],
   "source": [
    "grades.mean()"
   ]
  },
  {
   "cell_type": "code",
   "execution_count": null,
   "id": "2ce6d60a-478f-4ad2-9155-20f4260b8ff3",
   "metadata": {},
   "outputs": [],
   "source": [
    "# so far we are doing all the DF stats on the columns \n",
    "# we alos can do these on rows \n",
    "# we can do is tranpose(T) the DF (pivot) and do the descriptive stats "
   ]
  },
  {
   "cell_type": "code",
   "execution_count": 197,
   "id": "aed6101f-27d5-42e5-8645-92e4605fd4a9",
   "metadata": {},
   "outputs": [
    {
     "data": {
      "text/html": [
       "<div>\n",
       "<style scoped>\n",
       "    .dataframe tbody tr th:only-of-type {\n",
       "        vertical-align: middle;\n",
       "    }\n",
       "\n",
       "    .dataframe tbody tr th {\n",
       "        vertical-align: top;\n",
       "    }\n",
       "\n",
       "    .dataframe thead th {\n",
       "        text-align: right;\n",
       "    }\n",
       "</style>\n",
       "<table border=\"1\" class=\"dataframe\">\n",
       "  <thead>\n",
       "    <tr style=\"text-align: right;\">\n",
       "      <th></th>\n",
       "      <th>Test1</th>\n",
       "      <th>Test2</th>\n",
       "      <th>Test3</th>\n",
       "    </tr>\n",
       "  </thead>\n",
       "  <tbody>\n",
       "    <tr>\n",
       "      <th>Wally</th>\n",
       "      <td>87</td>\n",
       "      <td>96</td>\n",
       "      <td>70</td>\n",
       "    </tr>\n",
       "    <tr>\n",
       "      <th>Eva</th>\n",
       "      <td>100</td>\n",
       "      <td>100</td>\n",
       "      <td>90</td>\n",
       "    </tr>\n",
       "    <tr>\n",
       "      <th>Sam</th>\n",
       "      <td>94</td>\n",
       "      <td>77</td>\n",
       "      <td>90</td>\n",
       "    </tr>\n",
       "    <tr>\n",
       "      <th>Katie</th>\n",
       "      <td>100</td>\n",
       "      <td>81</td>\n",
       "      <td>82</td>\n",
       "    </tr>\n",
       "    <tr>\n",
       "      <th>Bob</th>\n",
       "      <td>83</td>\n",
       "      <td>65</td>\n",
       "      <td>85</td>\n",
       "    </tr>\n",
       "  </tbody>\n",
       "</table>\n",
       "</div>"
      ],
      "text/plain": [
       "       Test1  Test2  Test3\n",
       "Wally     87     96     70\n",
       "Eva      100    100     90\n",
       "Sam       94     77     90\n",
       "Katie    100     81     82\n",
       "Bob       83     65     85"
      ]
     },
     "execution_count": 197,
     "metadata": {},
     "output_type": "execute_result"
    }
   ],
   "source": [
    "grades.T"
   ]
  },
  {
   "cell_type": "code",
   "execution_count": 198,
   "id": "596ba6fa-88de-4d57-a410-2bb60f328443",
   "metadata": {},
   "outputs": [
    {
     "data": {
      "text/html": [
       "<div>\n",
       "<style scoped>\n",
       "    .dataframe tbody tr th:only-of-type {\n",
       "        vertical-align: middle;\n",
       "    }\n",
       "\n",
       "    .dataframe tbody tr th {\n",
       "        vertical-align: top;\n",
       "    }\n",
       "\n",
       "    .dataframe thead th {\n",
       "        text-align: right;\n",
       "    }\n",
       "</style>\n",
       "<table border=\"1\" class=\"dataframe\">\n",
       "  <thead>\n",
       "    <tr style=\"text-align: right;\">\n",
       "      <th></th>\n",
       "      <th>Test1</th>\n",
       "      <th>Test2</th>\n",
       "      <th>Test3</th>\n",
       "    </tr>\n",
       "  </thead>\n",
       "  <tbody>\n",
       "    <tr>\n",
       "      <th>count</th>\n",
       "      <td>5.000000</td>\n",
       "      <td>5.000000</td>\n",
       "      <td>5.000000</td>\n",
       "    </tr>\n",
       "    <tr>\n",
       "      <th>mean</th>\n",
       "      <td>92.800000</td>\n",
       "      <td>83.800000</td>\n",
       "      <td>83.400000</td>\n",
       "    </tr>\n",
       "    <tr>\n",
       "      <th>std</th>\n",
       "      <td>7.661593</td>\n",
       "      <td>14.307341</td>\n",
       "      <td>8.234076</td>\n",
       "    </tr>\n",
       "    <tr>\n",
       "      <th>min</th>\n",
       "      <td>83.000000</td>\n",
       "      <td>65.000000</td>\n",
       "      <td>70.000000</td>\n",
       "    </tr>\n",
       "    <tr>\n",
       "      <th>25%</th>\n",
       "      <td>87.000000</td>\n",
       "      <td>77.000000</td>\n",
       "      <td>82.000000</td>\n",
       "    </tr>\n",
       "    <tr>\n",
       "      <th>50%</th>\n",
       "      <td>94.000000</td>\n",
       "      <td>81.000000</td>\n",
       "      <td>85.000000</td>\n",
       "    </tr>\n",
       "    <tr>\n",
       "      <th>75%</th>\n",
       "      <td>100.000000</td>\n",
       "      <td>96.000000</td>\n",
       "      <td>90.000000</td>\n",
       "    </tr>\n",
       "    <tr>\n",
       "      <th>max</th>\n",
       "      <td>100.000000</td>\n",
       "      <td>100.000000</td>\n",
       "      <td>90.000000</td>\n",
       "    </tr>\n",
       "  </tbody>\n",
       "</table>\n",
       "</div>"
      ],
      "text/plain": [
       "            Test1       Test2      Test3\n",
       "count    5.000000    5.000000   5.000000\n",
       "mean    92.800000   83.800000  83.400000\n",
       "std      7.661593   14.307341   8.234076\n",
       "min     83.000000   65.000000  70.000000\n",
       "25%     87.000000   77.000000  82.000000\n",
       "50%     94.000000   81.000000  85.000000\n",
       "75%    100.000000   96.000000  90.000000\n",
       "max    100.000000  100.000000  90.000000"
      ]
     },
     "execution_count": 198,
     "metadata": {},
     "output_type": "execute_result"
    }
   ],
   "source": [
    "grades.T.describe()"
   ]
  },
  {
   "cell_type": "code",
   "execution_count": 199,
   "id": "8ed36dc0-f335-4744-bbb1-01e6b398012e",
   "metadata": {},
   "outputs": [
    {
     "data": {
      "text/plain": [
       "Test1    92.8\n",
       "Test2    83.8\n",
       "Test3    83.4\n",
       "dtype: float64"
      ]
     },
     "execution_count": 199,
     "metadata": {},
     "output_type": "execute_result"
    }
   ],
   "source": [
    "grades.T.mean()  # please here the T is not creating new DF , it just a View "
   ]
  },
  {
   "cell_type": "code",
   "execution_count": 200,
   "id": "bbb46d3f-634e-4289-b95f-4ec85b0d8a4f",
   "metadata": {},
   "outputs": [],
   "source": [
    "# sort the DF by usind Indicies "
   ]
  },
  {
   "cell_type": "code",
   "execution_count": 201,
   "id": "3970eee4-72cb-4c02-8c15-b682011eb031",
   "metadata": {},
   "outputs": [
    {
     "data": {
      "text/html": [
       "<div>\n",
       "<style scoped>\n",
       "    .dataframe tbody tr th:only-of-type {\n",
       "        vertical-align: middle;\n",
       "    }\n",
       "\n",
       "    .dataframe tbody tr th {\n",
       "        vertical-align: top;\n",
       "    }\n",
       "\n",
       "    .dataframe thead th {\n",
       "        text-align: right;\n",
       "    }\n",
       "</style>\n",
       "<table border=\"1\" class=\"dataframe\">\n",
       "  <thead>\n",
       "    <tr style=\"text-align: right;\">\n",
       "      <th></th>\n",
       "      <th>Wally</th>\n",
       "      <th>Eva</th>\n",
       "      <th>Sam</th>\n",
       "      <th>Katie</th>\n",
       "      <th>Bob</th>\n",
       "    </tr>\n",
       "  </thead>\n",
       "  <tbody>\n",
       "    <tr>\n",
       "      <th>Test1</th>\n",
       "      <td>87</td>\n",
       "      <td>100</td>\n",
       "      <td>94</td>\n",
       "      <td>100</td>\n",
       "      <td>83</td>\n",
       "    </tr>\n",
       "    <tr>\n",
       "      <th>Test2</th>\n",
       "      <td>96</td>\n",
       "      <td>100</td>\n",
       "      <td>77</td>\n",
       "      <td>81</td>\n",
       "      <td>65</td>\n",
       "    </tr>\n",
       "    <tr>\n",
       "      <th>Test3</th>\n",
       "      <td>70</td>\n",
       "      <td>90</td>\n",
       "      <td>90</td>\n",
       "      <td>82</td>\n",
       "      <td>85</td>\n",
       "    </tr>\n",
       "  </tbody>\n",
       "</table>\n",
       "</div>"
      ],
      "text/plain": [
       "       Wally  Eva  Sam  Katie  Bob\n",
       "Test1     87  100   94    100   83\n",
       "Test2     96  100   77     81   65\n",
       "Test3     70   90   90     82   85"
      ]
     },
     "execution_count": 201,
     "metadata": {},
     "output_type": "execute_result"
    }
   ],
   "source": [
    "grades"
   ]
  },
  {
   "cell_type": "code",
   "execution_count": 203,
   "id": "b549ee1d-b9f7-49ab-814e-f61be29f8184",
   "metadata": {},
   "outputs": [
    {
     "data": {
      "text/html": [
       "<div>\n",
       "<style scoped>\n",
       "    .dataframe tbody tr th:only-of-type {\n",
       "        vertical-align: middle;\n",
       "    }\n",
       "\n",
       "    .dataframe tbody tr th {\n",
       "        vertical-align: top;\n",
       "    }\n",
       "\n",
       "    .dataframe thead th {\n",
       "        text-align: right;\n",
       "    }\n",
       "</style>\n",
       "<table border=\"1\" class=\"dataframe\">\n",
       "  <thead>\n",
       "    <tr style=\"text-align: right;\">\n",
       "      <th></th>\n",
       "      <th>Wally</th>\n",
       "      <th>Eva</th>\n",
       "      <th>Sam</th>\n",
       "      <th>Katie</th>\n",
       "      <th>Bob</th>\n",
       "    </tr>\n",
       "  </thead>\n",
       "  <tbody>\n",
       "    <tr>\n",
       "      <th>Test3</th>\n",
       "      <td>70</td>\n",
       "      <td>90</td>\n",
       "      <td>90</td>\n",
       "      <td>82</td>\n",
       "      <td>85</td>\n",
       "    </tr>\n",
       "    <tr>\n",
       "      <th>Test2</th>\n",
       "      <td>96</td>\n",
       "      <td>100</td>\n",
       "      <td>77</td>\n",
       "      <td>81</td>\n",
       "      <td>65</td>\n",
       "    </tr>\n",
       "    <tr>\n",
       "      <th>Test1</th>\n",
       "      <td>87</td>\n",
       "      <td>100</td>\n",
       "      <td>94</td>\n",
       "      <td>100</td>\n",
       "      <td>83</td>\n",
       "    </tr>\n",
       "  </tbody>\n",
       "</table>\n",
       "</div>"
      ],
      "text/plain": [
       "       Wally  Eva  Sam  Katie  Bob\n",
       "Test3     70   90   90     82   85\n",
       "Test2     96  100   77     81   65\n",
       "Test1     87  100   94    100   83"
      ]
     },
     "execution_count": 203,
     "metadata": {},
     "output_type": "execute_result"
    }
   ],
   "source": [
    "grades.sort_index(ascending=False)"
   ]
  },
  {
   "cell_type": "code",
   "execution_count": null,
   "id": "0c5d0c88-e9ed-4f7d-9b3f-6fb33d5f7082",
   "metadata": {},
   "outputs": [],
   "source": [
    "# note here it order by idex element (row) , since ascending=False it order by descndng \n",
    "# thet is y we see rows descending i.e test3 test2 and test1 "
   ]
  },
  {
   "cell_type": "code",
   "execution_count": null,
   "id": "d5bd09b6-010b-4467-bc66-9762bcfc1e92",
   "metadata": {},
   "outputs": [],
   "source": [
    "# sort the  columns "
   ]
  },
  {
   "cell_type": "code",
   "execution_count": 204,
   "id": "5e9615ba-9a0d-408a-9347-334f35908200",
   "metadata": {},
   "outputs": [
    {
     "data": {
      "text/html": [
       "<div>\n",
       "<style scoped>\n",
       "    .dataframe tbody tr th:only-of-type {\n",
       "        vertical-align: middle;\n",
       "    }\n",
       "\n",
       "    .dataframe tbody tr th {\n",
       "        vertical-align: top;\n",
       "    }\n",
       "\n",
       "    .dataframe thead th {\n",
       "        text-align: right;\n",
       "    }\n",
       "</style>\n",
       "<table border=\"1\" class=\"dataframe\">\n",
       "  <thead>\n",
       "    <tr style=\"text-align: right;\">\n",
       "      <th></th>\n",
       "      <th>Bob</th>\n",
       "      <th>Eva</th>\n",
       "      <th>Katie</th>\n",
       "      <th>Sam</th>\n",
       "      <th>Wally</th>\n",
       "    </tr>\n",
       "  </thead>\n",
       "  <tbody>\n",
       "    <tr>\n",
       "      <th>Test1</th>\n",
       "      <td>83</td>\n",
       "      <td>100</td>\n",
       "      <td>100</td>\n",
       "      <td>94</td>\n",
       "      <td>87</td>\n",
       "    </tr>\n",
       "    <tr>\n",
       "      <th>Test2</th>\n",
       "      <td>65</td>\n",
       "      <td>100</td>\n",
       "      <td>81</td>\n",
       "      <td>77</td>\n",
       "      <td>96</td>\n",
       "    </tr>\n",
       "    <tr>\n",
       "      <th>Test3</th>\n",
       "      <td>85</td>\n",
       "      <td>90</td>\n",
       "      <td>82</td>\n",
       "      <td>90</td>\n",
       "      <td>70</td>\n",
       "    </tr>\n",
       "  </tbody>\n",
       "</table>\n",
       "</div>"
      ],
      "text/plain": [
       "       Bob  Eva  Katie  Sam  Wally\n",
       "Test1   83  100    100   94     87\n",
       "Test2   65  100     81   77     96\n",
       "Test3   85   90     82   90     70"
      ]
     },
     "execution_count": 204,
     "metadata": {},
     "output_type": "execute_result"
    }
   ],
   "source": [
    "grades.sort_index(axis=1) # here the axix=1 mean column"
   ]
  },
  {
   "cell_type": "code",
   "execution_count": 205,
   "id": "a03db93d-9c8d-400a-9194-868ec46cf9a5",
   "metadata": {},
   "outputs": [],
   "source": [
    "# see the columns names it order by alphabatically "
   ]
  },
  {
   "cell_type": "code",
   "execution_count": 1,
   "id": "90a40843-763a-477d-b801-5132c7a5e855",
   "metadata": {},
   "outputs": [],
   "source": [
    "# we not only sort the keys , we can also sort the data "
   ]
  },
  {
   "cell_type": "code",
   "execution_count": 10,
   "id": "bb760d43-2f84-4bdb-8540-56c6554d5229",
   "metadata": {},
   "outputs": [
    {
     "data": {
      "text/html": [
       "<div>\n",
       "<style scoped>\n",
       "    .dataframe tbody tr th:only-of-type {\n",
       "        vertical-align: middle;\n",
       "    }\n",
       "\n",
       "    .dataframe tbody tr th {\n",
       "        vertical-align: top;\n",
       "    }\n",
       "\n",
       "    .dataframe thead th {\n",
       "        text-align: right;\n",
       "    }\n",
       "</style>\n",
       "<table border=\"1\" class=\"dataframe\">\n",
       "  <thead>\n",
       "    <tr style=\"text-align: right;\">\n",
       "      <th></th>\n",
       "      <th>Wally</th>\n",
       "      <th>Eva</th>\n",
       "      <th>Sam</th>\n",
       "      <th>Katie</th>\n",
       "      <th>Bob</th>\n",
       "    </tr>\n",
       "  </thead>\n",
       "  <tbody>\n",
       "    <tr>\n",
       "      <th>Test1</th>\n",
       "      <td>87</td>\n",
       "      <td>100</td>\n",
       "      <td>94</td>\n",
       "      <td>100</td>\n",
       "      <td>83</td>\n",
       "    </tr>\n",
       "    <tr>\n",
       "      <th>Test2</th>\n",
       "      <td>96</td>\n",
       "      <td>87</td>\n",
       "      <td>77</td>\n",
       "      <td>81</td>\n",
       "      <td>65</td>\n",
       "    </tr>\n",
       "    <tr>\n",
       "      <th>Test3</th>\n",
       "      <td>70</td>\n",
       "      <td>90</td>\n",
       "      <td>90</td>\n",
       "      <td>82</td>\n",
       "      <td>85</td>\n",
       "    </tr>\n",
       "  </tbody>\n",
       "</table>\n",
       "</div>"
      ],
      "text/plain": [
       "       Wally  Eva  Sam  Katie  Bob\n",
       "Test1     87  100   94    100   83\n",
       "Test2     96   87   77     81   65\n",
       "Test3     70   90   90     82   85"
      ]
     },
     "execution_count": 10,
     "metadata": {},
     "output_type": "execute_result"
    }
   ],
   "source": [
    "grades"
   ]
  },
  {
   "cell_type": "code",
   "execution_count": 11,
   "id": "6c8977a1-3915-41f1-936e-f054e915de47",
   "metadata": {},
   "outputs": [
    {
     "data": {
      "text/html": [
       "<div>\n",
       "<style scoped>\n",
       "    .dataframe tbody tr th:only-of-type {\n",
       "        vertical-align: middle;\n",
       "    }\n",
       "\n",
       "    .dataframe tbody tr th {\n",
       "        vertical-align: top;\n",
       "    }\n",
       "\n",
       "    .dataframe thead th {\n",
       "        text-align: right;\n",
       "    }\n",
       "</style>\n",
       "<table border=\"1\" class=\"dataframe\">\n",
       "  <thead>\n",
       "    <tr style=\"text-align: right;\">\n",
       "      <th></th>\n",
       "      <th>Eva</th>\n",
       "      <th>Katie</th>\n",
       "      <th>Sam</th>\n",
       "      <th>Wally</th>\n",
       "      <th>Bob</th>\n",
       "    </tr>\n",
       "  </thead>\n",
       "  <tbody>\n",
       "    <tr>\n",
       "      <th>Test1</th>\n",
       "      <td>100</td>\n",
       "      <td>100</td>\n",
       "      <td>94</td>\n",
       "      <td>87</td>\n",
       "      <td>83</td>\n",
       "    </tr>\n",
       "    <tr>\n",
       "      <th>Test2</th>\n",
       "      <td>87</td>\n",
       "      <td>81</td>\n",
       "      <td>77</td>\n",
       "      <td>96</td>\n",
       "      <td>65</td>\n",
       "    </tr>\n",
       "    <tr>\n",
       "      <th>Test3</th>\n",
       "      <td>90</td>\n",
       "      <td>82</td>\n",
       "      <td>90</td>\n",
       "      <td>70</td>\n",
       "      <td>85</td>\n",
       "    </tr>\n",
       "  </tbody>\n",
       "</table>\n",
       "</div>"
      ],
      "text/plain": [
       "       Eva  Katie  Sam  Wally  Bob\n",
       "Test1  100    100   94     87   83\n",
       "Test2   87     81   77     96   65\n",
       "Test3   90     82   90     70   85"
      ]
     },
     "execution_count": 11,
     "metadata": {},
     "output_type": "execute_result"
    }
   ],
   "source": [
    "grades.sort_values(by='Test1',axis=1,ascending=False)\n",
    "# here it sayinf order by  row Test1 ,axis=1 mean order by row ( default its column ) ascending=False\n",
    "# mean order by descending"
   ]
  },
  {
   "cell_type": "code",
   "execution_count": 12,
   "id": "bcfdf097-f704-44c5-b698-e1fc30d3eed9",
   "metadata": {},
   "outputs": [
    {
     "data": {
      "text/html": [
       "<div>\n",
       "<style scoped>\n",
       "    .dataframe tbody tr th:only-of-type {\n",
       "        vertical-align: middle;\n",
       "    }\n",
       "\n",
       "    .dataframe tbody tr th {\n",
       "        vertical-align: top;\n",
       "    }\n",
       "\n",
       "    .dataframe thead th {\n",
       "        text-align: right;\n",
       "    }\n",
       "</style>\n",
       "<table border=\"1\" class=\"dataframe\">\n",
       "  <thead>\n",
       "    <tr style=\"text-align: right;\">\n",
       "      <th></th>\n",
       "      <th>Wally</th>\n",
       "      <th>Eva</th>\n",
       "      <th>Katie</th>\n",
       "      <th>Sam</th>\n",
       "      <th>Bob</th>\n",
       "    </tr>\n",
       "  </thead>\n",
       "  <tbody>\n",
       "    <tr>\n",
       "      <th>Test1</th>\n",
       "      <td>87</td>\n",
       "      <td>100</td>\n",
       "      <td>100</td>\n",
       "      <td>94</td>\n",
       "      <td>83</td>\n",
       "    </tr>\n",
       "    <tr>\n",
       "      <th>Test2</th>\n",
       "      <td>96</td>\n",
       "      <td>87</td>\n",
       "      <td>81</td>\n",
       "      <td>77</td>\n",
       "      <td>65</td>\n",
       "    </tr>\n",
       "    <tr>\n",
       "      <th>Test3</th>\n",
       "      <td>70</td>\n",
       "      <td>90</td>\n",
       "      <td>82</td>\n",
       "      <td>90</td>\n",
       "      <td>85</td>\n",
       "    </tr>\n",
       "  </tbody>\n",
       "</table>\n",
       "</div>"
      ],
      "text/plain": [
       "       Wally  Eva  Katie  Sam  Bob\n",
       "Test1     87  100    100   94   83\n",
       "Test2     96   87     81   77   65\n",
       "Test3     70   90     82   90   85"
      ]
     },
     "execution_count": 12,
     "metadata": {},
     "output_type": "execute_result"
    }
   ],
   "source": [
    "grades.sort_values(by='Test2',axis=1,ascending=False)\n"
   ]
  },
  {
   "cell_type": "code",
   "execution_count": 14,
   "id": "793feaed-bd2c-4b95-8ca6-09497d90e4df",
   "metadata": {},
   "outputs": [
    {
     "data": {
      "text/html": [
       "<div>\n",
       "<style scoped>\n",
       "    .dataframe tbody tr th:only-of-type {\n",
       "        vertical-align: middle;\n",
       "    }\n",
       "\n",
       "    .dataframe tbody tr th {\n",
       "        vertical-align: top;\n",
       "    }\n",
       "\n",
       "    .dataframe thead th {\n",
       "        text-align: right;\n",
       "    }\n",
       "</style>\n",
       "<table border=\"1\" class=\"dataframe\">\n",
       "  <thead>\n",
       "    <tr style=\"text-align: right;\">\n",
       "      <th></th>\n",
       "      <th>Test1</th>\n",
       "      <th>Test2</th>\n",
       "      <th>Test3</th>\n",
       "    </tr>\n",
       "  </thead>\n",
       "  <tbody>\n",
       "    <tr>\n",
       "      <th>Wally</th>\n",
       "      <td>87</td>\n",
       "      <td>96</td>\n",
       "      <td>70</td>\n",
       "    </tr>\n",
       "    <tr>\n",
       "      <th>Eva</th>\n",
       "      <td>100</td>\n",
       "      <td>87</td>\n",
       "      <td>90</td>\n",
       "    </tr>\n",
       "    <tr>\n",
       "      <th>Katie</th>\n",
       "      <td>100</td>\n",
       "      <td>81</td>\n",
       "      <td>82</td>\n",
       "    </tr>\n",
       "    <tr>\n",
       "      <th>Sam</th>\n",
       "      <td>94</td>\n",
       "      <td>77</td>\n",
       "      <td>90</td>\n",
       "    </tr>\n",
       "    <tr>\n",
       "      <th>Bob</th>\n",
       "      <td>83</td>\n",
       "      <td>65</td>\n",
       "      <td>85</td>\n",
       "    </tr>\n",
       "  </tbody>\n",
       "</table>\n",
       "</div>"
      ],
      "text/plain": [
       "       Test1  Test2  Test3\n",
       "Wally     87     96     70\n",
       "Eva      100     87     90\n",
       "Katie    100     81     82\n",
       "Sam       94     77     90\n",
       "Bob       83     65     85"
      ]
     },
     "execution_count": 14,
     "metadata": {},
     "output_type": "execute_result"
    }
   ],
   "source": [
    "grades.T.sort_values(by='Test2',ascending=False)\n",
    "# notice here we didn't mentiond axis , as by defaylt it sort column wise \n",
    "# T : transcrive is to convert rows into columns \n"
   ]
  },
  {
   "cell_type": "code",
   "execution_count": 18,
   "id": "6da8c903-1c48-499e-9e86-520d130f7b50",
   "metadata": {},
   "outputs": [],
   "source": [
    "# in the above result we see all the columns , instead if we want to see only Test2 \n",
    "# we can use loc "
   ]
  },
  {
   "cell_type": "code",
   "execution_count": 21,
   "id": "ef1aa794-9004-4cc0-90cb-a5e6081a11d4",
   "metadata": {},
   "outputs": [
    {
     "data": {
      "text/plain": [
       "Wally    96\n",
       "Eva      87\n",
       "Katie    81\n",
       "Sam      77\n",
       "Bob      65\n",
       "Name: Test2, dtype: int64"
      ]
     },
     "execution_count": 21,
     "metadata": {},
     "output_type": "execute_result"
    }
   ],
   "source": [
    "grades.loc['Test2'].sort_values(ascending=False)"
   ]
  },
  {
   "cell_type": "code",
   "execution_count": 22,
   "id": "b1fc576e-7912-451e-8a37-5027cdff9936",
   "metadata": {},
   "outputs": [],
   "source": [
    "# in the above  sorting it always create copy and sort the values , so it would be costly in terms of memory\n",
    "# for large data sents "
   ]
  },
  {
   "cell_type": "code",
   "execution_count": 23,
   "id": "5a8bbfbc-fc40-45c6-bc0f-f3bac3034be2",
   "metadata": {},
   "outputs": [],
   "source": [
    "# if we want to perform sort on the orginal DF we can inplace = True while sorting "
   ]
  },
  {
   "cell_type": "code",
   "execution_count": 28,
   "id": "6d1d0d3e-7b50-4539-b689-970537a34e54",
   "metadata": {},
   "outputs": [],
   "source": [
    "grades.sort_values(by='Test1' , axis=1,ascending=False , inplace=True)"
   ]
  },
  {
   "cell_type": "code",
   "execution_count": null,
   "id": "0979330c-b795-4f66-b46b-9d8168666f1d",
   "metadata": {},
   "outputs": [],
   "source": [
    "# END "
   ]
  }
 ],
 "metadata": {
  "kernelspec": {
   "display_name": "Python 3 (ipykernel)",
   "language": "python",
   "name": "python3"
  },
  "language_info": {
   "codemirror_mode": {
    "name": "ipython",
    "version": 3
   },
   "file_extension": ".py",
   "mimetype": "text/x-python",
   "name": "python",
   "nbconvert_exporter": "python",
   "pygments_lexer": "ipython3",
   "version": "3.9.13"
  }
 },
 "nbformat": 4,
 "nbformat_minor": 5
}
