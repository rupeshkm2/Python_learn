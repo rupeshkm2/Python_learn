{
 "cells": [
  {
   "cell_type": "code",
   "execution_count": 1,
   "id": "c0e78aea-2a8d-4da8-a6de-df92a5ec11b2",
   "metadata": {},
   "outputs": [],
   "source": [
    "# dictionaries and sets "
   ]
  },
  {
   "cell_type": "code",
   "execution_count": 3,
   "id": "b533adf5-d061-4cca-af48-cf465ac85e97",
   "metadata": {},
   "outputs": [],
   "source": [
    "#dictonaty contain key and values , keys must be unique and immutable and values can be duplicate and mutable "
   ]
  },
  {
   "cell_type": "code",
   "execution_count": 4,
   "id": "1acc99a4-c1ac-45a0-aa37-a2d3f1ef895b",
   "metadata": {},
   "outputs": [],
   "source": [
    "country_codes={'Finland':'fi','South Africa':'za','Nepal': 'np'}    #{'key' : 'value' } , this is dictonary "
   ]
  },
  {
   "cell_type": "code",
   "execution_count": 5,
   "id": "6220d6d8-7c64-470e-b926-2b2f9eec72e9",
   "metadata": {},
   "outputs": [
    {
     "data": {
      "text/plain": [
       "{'Finland': 'fi', 'South Africa': 'za', 'Nepal': 'np'}"
      ]
     },
     "execution_count": 5,
     "metadata": {},
     "output_type": "execute_result"
    }
   ],
   "source": [
    "country_codes"
   ]
  },
  {
   "cell_type": "code",
   "execution_count": 6,
   "id": "2b707bd6-1312-4eaf-aac8-955a13a6ea5f",
   "metadata": {},
   "outputs": [
    {
     "data": {
      "text/plain": [
       "3"
      ]
     },
     "execution_count": 6,
     "metadata": {},
     "output_type": "execute_result"
    }
   ],
   "source": [
    "len(country_codes) #  it count how many pairs "
   ]
  },
  {
   "cell_type": "code",
   "execution_count": 7,
   "id": "6b428651-e2bb-4cd2-86ed-507b08ca4701",
   "metadata": {},
   "outputs": [
    {
     "name": "stdout",
     "output_type": "stream",
     "text": [
      "country_codes is not empty\n"
     ]
    }
   ],
   "source": [
    "if country_codes:\n",
    "    print('country_codes is not empty')\n",
    "else:\n",
    "    print('country_code is empty')"
   ]
  },
  {
   "cell_type": "code",
   "execution_count": 8,
   "id": "6c692a13-7d09-45aa-bf3e-18e84ef3146b",
   "metadata": {},
   "outputs": [],
   "source": [
    "country_codes.clear()  # delete the all  key values "
   ]
  },
  {
   "cell_type": "code",
   "execution_count": 9,
   "id": "7a9b0dc7-10a2-44bf-8ca3-09c06fb27a94",
   "metadata": {},
   "outputs": [
    {
     "data": {
      "text/plain": [
       "{}"
      ]
     },
     "execution_count": 9,
     "metadata": {},
     "output_type": "execute_result"
    }
   ],
   "source": [
    "country_codes"
   ]
  },
  {
   "cell_type": "code",
   "execution_count": 10,
   "id": "96c50ceb-70d1-40eb-96f6-90b0ca2b77eb",
   "metadata": {},
   "outputs": [
    {
     "data": {
      "text/plain": [
       "0"
      ]
     },
     "execution_count": 10,
     "metadata": {},
     "output_type": "execute_result"
    }
   ],
   "source": [
    "len(country_codes)"
   ]
  },
  {
   "cell_type": "code",
   "execution_count": 12,
   "id": "d688a3d8-8ad2-4cc4-9698-a590ad7983cd",
   "metadata": {},
   "outputs": [],
   "source": [
    "# iterating through dictonaries"
   ]
  },
  {
   "cell_type": "code",
   "execution_count": 13,
   "id": "1f869e6d-5d99-4444-9d6f-7bb549477060",
   "metadata": {},
   "outputs": [],
   "source": [
    "days_per_month={'January':31 ,'February':28,'March':31}"
   ]
  },
  {
   "cell_type": "code",
   "execution_count": 14,
   "id": "c7cd2b8d-915d-4374-9f3d-c19054e55f0c",
   "metadata": {},
   "outputs": [
    {
     "data": {
      "text/plain": [
       "{'January': 31, 'February': 28, 'March': 31}"
      ]
     },
     "execution_count": 14,
     "metadata": {},
     "output_type": "execute_result"
    }
   ],
   "source": [
    "days_per_month"
   ]
  },
  {
   "cell_type": "code",
   "execution_count": 15,
   "id": "8a90e2c3-2b73-4982-a526-f2e081c7652a",
   "metadata": {},
   "outputs": [
    {
     "data": {
      "text/plain": [
       "dict_items([('January', 31), ('February', 28), ('March', 31)])"
      ]
     },
     "execution_count": 15,
     "metadata": {},
     "output_type": "execute_result"
    }
   ],
   "source": [
    "days_per_month.items() # this items methos wiil  retuen each key value pair as a tuple "
   ]
  },
  {
   "cell_type": "code",
   "execution_count": 16,
   "id": "f32ce246-a4f6-409c-b559-7c3ca18a458e",
   "metadata": {},
   "outputs": [
    {
     "name": "stdout",
     "output_type": "stream",
     "text": [
      "January has 31 days \n",
      "February has 28 days \n",
      "March has 31 days \n"
     ]
    }
   ],
   "source": [
    "for month,days in days_per_month.items():\n",
    "    print(f'{month} has {days} days ')"
   ]
  },
  {
   "cell_type": "code",
   "execution_count": 17,
   "id": "72e511a5-6fb7-4719-bd7e-22c07d50128f",
   "metadata": {},
   "outputs": [],
   "source": [
    "# dictonary operations "
   ]
  },
  {
   "cell_type": "code",
   "execution_count": 18,
   "id": "50f249f8-8c60-4d1f-9066-51a4330484e3",
   "metadata": {},
   "outputs": [],
   "source": [
    "roman_numerals={'I':1,'II':2,'III':3,'V':5,'X':100}"
   ]
  },
  {
   "cell_type": "code",
   "execution_count": 19,
   "id": "8884b3dd-2e54-4504-a1b2-73d839080e0d",
   "metadata": {},
   "outputs": [
    {
     "data": {
      "text/plain": [
       "{'I': 1, 'II': 2, 'III': 3, 'V': 5, 'X': 100}"
      ]
     },
     "execution_count": 19,
     "metadata": {},
     "output_type": "execute_result"
    }
   ],
   "source": [
    "roman_numerals"
   ]
  },
  {
   "cell_type": "code",
   "execution_count": 20,
   "id": "bde6fa3f-c3a2-4998-acfc-4a2a868e3f52",
   "metadata": {},
   "outputs": [
    {
     "data": {
      "text/plain": [
       "5"
      ]
     },
     "execution_count": 20,
     "metadata": {},
     "output_type": "execute_result"
    }
   ],
   "source": [
    "roman_numerals['V']"
   ]
  },
  {
   "cell_type": "code",
   "execution_count": 21,
   "id": "6537e447-1722-4dbb-be29-3f8bf43fe76a",
   "metadata": {},
   "outputs": [],
   "source": [
    "# update values in dictonary"
   ]
  },
  {
   "cell_type": "code",
   "execution_count": 22,
   "id": "72cd043d-1dd9-4f7a-87f6-ce9d1f82603e",
   "metadata": {},
   "outputs": [],
   "source": [
    "roman_numerals['X']=10"
   ]
  },
  {
   "cell_type": "code",
   "execution_count": 23,
   "id": "df753f72-90a3-4204-844a-4b583067011c",
   "metadata": {},
   "outputs": [
    {
     "data": {
      "text/plain": [
       "{'I': 1, 'II': 2, 'III': 3, 'V': 5, 'X': 10}"
      ]
     },
     "execution_count": 23,
     "metadata": {},
     "output_type": "execute_result"
    }
   ],
   "source": [
    "roman_numerals"
   ]
  },
  {
   "cell_type": "code",
   "execution_count": 24,
   "id": "1dfab0d1-9c4e-4989-ba93-ddcd5b6d1f19",
   "metadata": {},
   "outputs": [],
   "source": [
    "roman_numerals['L']=50 # if the key is not found then it will add at the end "
   ]
  },
  {
   "cell_type": "code",
   "execution_count": 25,
   "id": "49130f40-816b-4f85-8a0f-f4a287ede749",
   "metadata": {},
   "outputs": [
    {
     "data": {
      "text/plain": [
       "{'I': 1, 'II': 2, 'III': 3, 'V': 5, 'X': 10, 'L': 50}"
      ]
     },
     "execution_count": 25,
     "metadata": {},
     "output_type": "execute_result"
    }
   ],
   "source": [
    "roman_numerals"
   ]
  },
  {
   "cell_type": "code",
   "execution_count": 26,
   "id": "06ceed5e-adad-4daa-b72b-c2720bf2f3f0",
   "metadata": {},
   "outputs": [],
   "source": [
    "# removig key value pair"
   ]
  },
  {
   "cell_type": "code",
   "execution_count": 27,
   "id": "ee8b04ae-89a3-4da9-9271-e19862a0f21a",
   "metadata": {},
   "outputs": [],
   "source": [
    "del roman_numerals['III']"
   ]
  },
  {
   "cell_type": "code",
   "execution_count": 28,
   "id": "d427cbe7-df1c-49d1-814d-db2bf56914c9",
   "metadata": {},
   "outputs": [
    {
     "data": {
      "text/plain": [
       "{'I': 1, 'II': 2, 'V': 5, 'X': 10, 'L': 50}"
      ]
     },
     "execution_count": 28,
     "metadata": {},
     "output_type": "execute_result"
    }
   ],
   "source": [
    "roman_numerals"
   ]
  },
  {
   "cell_type": "code",
   "execution_count": 29,
   "id": "99f5219b-5bee-45d3-a772-c6ecf7517a58",
   "metadata": {},
   "outputs": [],
   "source": [
    "# you van use pop method to delete "
   ]
  },
  {
   "cell_type": "code",
   "execution_count": 30,
   "id": "ed55535f-c1b8-46da-aa12-5935e2174ecc",
   "metadata": {},
   "outputs": [
    {
     "data": {
      "text/plain": [
       "10"
      ]
     },
     "execution_count": 30,
     "metadata": {},
     "output_type": "execute_result"
    }
   ],
   "source": [
    "roman_numerals.pop('X')"
   ]
  },
  {
   "cell_type": "code",
   "execution_count": 31,
   "id": "6ee9a9f9-919e-40df-966c-ed99581b2b82",
   "metadata": {},
   "outputs": [
    {
     "data": {
      "text/plain": [
       "{'I': 1, 'II': 2, 'V': 5, 'L': 50}"
      ]
     },
     "execution_count": 31,
     "metadata": {},
     "output_type": "execute_result"
    }
   ],
   "source": [
    "roman_numerals"
   ]
  },
  {
   "cell_type": "code",
   "execution_count": 32,
   "id": "f1ea2063-ac86-40b2-8fde-aec4d36988bf",
   "metadata": {},
   "outputs": [
    {
     "ename": "KeyError",
     "evalue": "'III'",
     "output_type": "error",
     "traceback": [
      "\u001b[1;31m---------------------------------------------------------------------------\u001b[0m",
      "\u001b[1;31mKeyError\u001b[0m                                  Traceback (most recent call last)",
      "\u001b[1;32m~\\AppData\\Local\\Temp\\ipykernel_16596\\4078080874.py\u001b[0m in \u001b[0;36m<module>\u001b[1;34m\u001b[0m\n\u001b[1;32m----> 1\u001b[1;33m \u001b[0mroman_numerals\u001b[0m\u001b[1;33m[\u001b[0m\u001b[1;34m'III'\u001b[0m\u001b[1;33m]\u001b[0m\u001b[1;33m\u001b[0m\u001b[1;33m\u001b[0m\u001b[0m\n\u001b[0m",
      "\u001b[1;31mKeyError\u001b[0m: 'III'"
     ]
    }
   ],
   "source": [
    "roman_numerals['III']  # check for non exist key "
   ]
  },
  {
   "cell_type": "code",
   "execution_count": 33,
   "id": "8b0e674c-cda0-4d8e-8060-89c7e310f533",
   "metadata": {},
   "outputs": [],
   "source": [
    "roman_numerals.get('III')  # to handle exception we can use get methos it return nothing if we access "
   ]
  },
  {
   "cell_type": "code",
   "execution_count": 34,
   "id": "cb09a77c-7c6e-44c4-98be-afb843296139",
   "metadata": {},
   "outputs": [],
   "source": [
    "# if you want to retuen some default value instead emplt if the key is not found "
   ]
  },
  {
   "cell_type": "code",
   "execution_count": 35,
   "id": "8850dc34-057a-464f-9605-3dcfd1273470",
   "metadata": {},
   "outputs": [
    {
     "data": {
      "text/plain": [
       "'III is not in dictonary'"
      ]
     },
     "execution_count": 35,
     "metadata": {},
     "output_type": "execute_result"
    }
   ],
   "source": [
    "roman_numerals.get('III','III is not in dictonary')"
   ]
  },
  {
   "cell_type": "code",
   "execution_count": 37,
   "id": "55a64ad2-e7c6-4903-abec-54f0e4b89eab",
   "metadata": {},
   "outputs": [
    {
     "data": {
      "text/plain": [
       "2"
      ]
     },
     "execution_count": 37,
     "metadata": {},
     "output_type": "execute_result"
    }
   ],
   "source": [
    "roman_numerals.get('II','III is not in dictonary')"
   ]
  },
  {
   "cell_type": "code",
   "execution_count": 38,
   "id": "2658bc7d-4c2f-4c90-bccd-c75ae94c3ca3",
   "metadata": {},
   "outputs": [],
   "source": [
    "# in and not in Operator "
   ]
  },
  {
   "cell_type": "code",
   "execution_count": 39,
   "id": "a631da3d-7b4e-4c72-a335-e4c6b55a7018",
   "metadata": {},
   "outputs": [
    {
     "data": {
      "text/plain": [
       "True"
      ]
     },
     "execution_count": 39,
     "metadata": {},
     "output_type": "execute_result"
    }
   ],
   "source": [
    "'V' in roman_numerals"
   ]
  },
  {
   "cell_type": "code",
   "execution_count": 40,
   "id": "5a1d9717-b38a-4d5b-8a11-5959adc4c5f3",
   "metadata": {},
   "outputs": [
    {
     "data": {
      "text/plain": [
       "False"
      ]
     },
     "execution_count": 40,
     "metadata": {},
     "output_type": "execute_result"
    }
   ],
   "source": [
    "'III' in roman_numerals\n"
   ]
  },
  {
   "cell_type": "code",
   "execution_count": 41,
   "id": "a6079f7f-98b7-4fa8-8ea5-873530d5c9eb",
   "metadata": {},
   "outputs": [
    {
     "data": {
      "text/plain": [
       "True"
      ]
     },
     "execution_count": 41,
     "metadata": {},
     "output_type": "execute_result"
    }
   ],
   "source": [
    "'III' not in roman_numerals\n"
   ]
  },
  {
   "cell_type": "code",
   "execution_count": 42,
   "id": "71c6e21f-5d9d-416f-ad28-f9c36ac3b936",
   "metadata": {},
   "outputs": [],
   "source": [
    "# please note those keys are case sensitive "
   ]
  },
  {
   "cell_type": "code",
   "execution_count": 44,
   "id": "7cb2b7ce-83d9-4541-9d62-4c59589c0cc4",
   "metadata": {},
   "outputs": [
    {
     "data": {
      "text/plain": [
       "2"
      ]
     },
     "execution_count": 44,
     "metadata": {},
     "output_type": "execute_result"
    }
   ],
   "source": [
    "roman_numerals['II']"
   ]
  },
  {
   "cell_type": "code",
   "execution_count": 45,
   "id": "10732d24-8c75-4d5a-8d26-895623941cfa",
   "metadata": {},
   "outputs": [
    {
     "ename": "KeyError",
     "evalue": "'ii'",
     "output_type": "error",
     "traceback": [
      "\u001b[1;31m---------------------------------------------------------------------------\u001b[0m",
      "\u001b[1;31mKeyError\u001b[0m                                  Traceback (most recent call last)",
      "\u001b[1;32m~\\AppData\\Local\\Temp\\ipykernel_16596\\1503711314.py\u001b[0m in \u001b[0;36m<module>\u001b[1;34m\u001b[0m\n\u001b[1;32m----> 1\u001b[1;33m \u001b[0mroman_numerals\u001b[0m\u001b[1;33m[\u001b[0m\u001b[1;34m'ii'\u001b[0m\u001b[1;33m]\u001b[0m\u001b[1;33m\u001b[0m\u001b[1;33m\u001b[0m\u001b[0m\n\u001b[0m",
      "\u001b[1;31mKeyError\u001b[0m: 'ii'"
     ]
    }
   ],
   "source": [
    "roman_numerals['ii']"
   ]
  },
  {
   "cell_type": "code",
   "execution_count": 1,
   "id": "c0f306c8-e611-4bdd-951f-ff9082ad0e8a",
   "metadata": {},
   "outputs": [],
   "source": [
    "# dictonary methods "
   ]
  },
  {
   "cell_type": "code",
   "execution_count": 2,
   "id": "de697e65-b425-4a80-9aee-a8f593452c2f",
   "metadata": {},
   "outputs": [],
   "source": [
    "months={'January':1,'February':2, 'March':3 }"
   ]
  },
  {
   "cell_type": "code",
   "execution_count": 4,
   "id": "e0977782-4522-41de-b905-e37d909f2f2c",
   "metadata": {},
   "outputs": [
    {
     "data": {
      "text/plain": [
       "dict_keys(['January', 'February', 'March'])"
      ]
     },
     "execution_count": 4,
     "metadata": {},
     "output_type": "execute_result"
    }
   ],
   "source": [
    "months.keys() # this methos will give us the keys in the dictonary "
   ]
  },
  {
   "cell_type": "code",
   "execution_count": 5,
   "id": "7b4bc859-e312-4dc3-b705-5efabc7d8a94",
   "metadata": {},
   "outputs": [
    {
     "name": "stdout",
     "output_type": "stream",
     "text": [
      "January February March "
     ]
    }
   ],
   "source": [
    "for month_name in months.keys():\n",
    "    print(month_name , end=' ')"
   ]
  },
  {
   "cell_type": "code",
   "execution_count": 6,
   "id": "50212540-7d44-49da-9b2e-6a1213fd0c3d",
   "metadata": {},
   "outputs": [
    {
     "data": {
      "text/plain": [
       "dict_values([1, 2, 3])"
      ]
     },
     "execution_count": 6,
     "metadata": {},
     "output_type": "execute_result"
    }
   ],
   "source": [
    "months.values() # values metjod will retuen the values from the dictonary"
   ]
  },
  {
   "cell_type": "code",
   "execution_count": 7,
   "id": "4aafd48a-ed0c-426b-a4af-5181e1a9aa4b",
   "metadata": {},
   "outputs": [
    {
     "name": "stdout",
     "output_type": "stream",
     "text": [
      "1 2 3 "
     ]
    }
   ],
   "source": [
    "for month_number in months.values():\n",
    "    print(month_number,end=' ')"
   ]
  },
  {
   "cell_type": "code",
   "execution_count": 8,
   "id": "064571ee-745a-4b0c-8084-1ab5ca7f1826",
   "metadata": {},
   "outputs": [],
   "source": [
    "month_view=months.keys()  # here month_view is an view "
   ]
  },
  {
   "cell_type": "code",
   "execution_count": 9,
   "id": "e0a41b4b-1d09-4b3c-8dee-4a57ea7abc4c",
   "metadata": {},
   "outputs": [
    {
     "name": "stdout",
     "output_type": "stream",
     "text": [
      "January February March "
     ]
    }
   ],
   "source": [
    "for key in month_view:\n",
    "    print(key,end=' ')"
   ]
  },
  {
   "cell_type": "code",
   "execution_count": 10,
   "id": "c9c78646-da51-452b-ae7f-75b199500d77",
   "metadata": {},
   "outputs": [],
   "source": [
    "months['December']=12 # since it doesn't exust it add new key value"
   ]
  },
  {
   "cell_type": "code",
   "execution_count": 11,
   "id": "a4b083f7-76a9-451e-b5ef-7b803bc91e43",
   "metadata": {},
   "outputs": [
    {
     "data": {
      "text/plain": [
       "dict_keys(['January', 'February', 'March', 'December'])"
      ]
     },
     "execution_count": 11,
     "metadata": {},
     "output_type": "execute_result"
    }
   ],
   "source": [
    "months.keys()"
   ]
  },
  {
   "cell_type": "code",
   "execution_count": 12,
   "id": "d5d8db7a-781f-47d8-9a2e-c54a8129f39a",
   "metadata": {},
   "outputs": [
    {
     "name": "stdout",
     "output_type": "stream",
     "text": [
      "January February March December "
     ]
    }
   ],
   "source": [
    "for key in month_view:   # eventhough we added the new key value in the original dictonary , the chnage is refelected automatically in the view \n",
    "    print(key,end=' ')"
   ]
  },
  {
   "cell_type": "code",
   "execution_count": 14,
   "id": "6fbb47c0-2815-4ea3-9df1-8b1eb70a6a0a",
   "metadata": {},
   "outputs": [
    {
     "data": {
      "text/plain": [
       "['January', 'February', 'March', 'December']"
      ]
     },
     "execution_count": 14,
     "metadata": {},
     "output_type": "execute_result"
    }
   ],
   "source": [
    "list(months.keys()) # if you want to put the keys/values inside the list , we can just simpley use the builtin list function "
   ]
  },
  {
   "cell_type": "code",
   "execution_count": 16,
   "id": "4b540f02-415c-449b-aeb0-d6324ba8e17b",
   "metadata": {},
   "outputs": [
    {
     "data": {
      "text/plain": [
       "[1, 2, 3, 12]"
      ]
     },
     "execution_count": 16,
     "metadata": {},
     "output_type": "execute_result"
    }
   ],
   "source": [
    "list(months.values())"
   ]
  },
  {
   "cell_type": "code",
   "execution_count": 17,
   "id": "39b3abe2-98ff-4660-9b6f-0e409786cf84",
   "metadata": {},
   "outputs": [
    {
     "data": {
      "text/plain": [
       "[('January', 1), ('February', 2), ('March', 3), ('December', 12)]"
      ]
     },
     "execution_count": 17,
     "metadata": {},
     "output_type": "execute_result"
    }
   ],
   "source": [
    "list(months.items())"
   ]
  },
  {
   "cell_type": "code",
   "execution_count": 18,
   "id": "24a7cd61-752b-4627-b450-724e80cf6733",
   "metadata": {},
   "outputs": [],
   "source": [
    "# iterate the dictonary keys in sorted order "
   ]
  },
  {
   "cell_type": "code",
   "execution_count": 19,
   "id": "7f8012b9-7683-44da-ac72-3e7804fa1781",
   "metadata": {},
   "outputs": [
    {
     "name": "stdout",
     "output_type": "stream",
     "text": [
      "December February January March "
     ]
    }
   ],
   "source": [
    "for month_name in sorted(months.keys()):\n",
    "    print(month_name , end =' ')"
   ]
  },
  {
   "cell_type": "code",
   "execution_count": 20,
   "id": "6b82d8fc-9b46-48e6-b153-c9110e06f24f",
   "metadata": {},
   "outputs": [
    {
     "data": {
      "text/plain": [
       "['December', 'February', 'January', 'March']"
      ]
     },
     "execution_count": 20,
     "metadata": {},
     "output_type": "execute_result"
    }
   ],
   "source": [
    "sorted(months.keys())"
   ]
  },
  {
   "cell_type": "code",
   "execution_count": 21,
   "id": "2ea1be04-079b-48ff-a03c-d7e5f1960a34",
   "metadata": {},
   "outputs": [],
   "source": [
    "# dictonary comparision"
   ]
  },
  {
   "cell_type": "code",
   "execution_count": 23,
   "id": "5be5b1ca-00db-4ce8-abec-08d504637f20",
   "metadata": {},
   "outputs": [],
   "source": [
    "country_capitals1={'Belgium':'Brussels','Haiti':'Port-au-Prince'}"
   ]
  },
  {
   "cell_type": "code",
   "execution_count": 24,
   "id": "07e2fb0f-3b74-4340-84ea-15b094c9cd3d",
   "metadata": {},
   "outputs": [],
   "source": [
    "country_capitals2={'Nepal':'Kathmandu','Uruguay':'Montevideo'}"
   ]
  },
  {
   "cell_type": "code",
   "execution_count": 25,
   "id": "8caba221-f738-4520-aa4a-99c964016ea5",
   "metadata": {},
   "outputs": [],
   "source": [
    "country_capitals3={'Haiti':'Port-au-Prince','Belgium':'Brussels'}"
   ]
  },
  {
   "cell_type": "code",
   "execution_count": 26,
   "id": "22d1eb15-2dd4-48d8-beb8-92bdc0040821",
   "metadata": {},
   "outputs": [
    {
     "data": {
      "text/plain": [
       "False"
      ]
     },
     "execution_count": 26,
     "metadata": {},
     "output_type": "execute_result"
    }
   ],
   "source": [
    "country_capitals1==country_capitals2"
   ]
  },
  {
   "cell_type": "code",
   "execution_count": 27,
   "id": "cae30a87-b790-418b-a1aa-fd4fc9521028",
   "metadata": {},
   "outputs": [
    {
     "data": {
      "text/plain": [
       "True"
      ]
     },
     "execution_count": 27,
     "metadata": {},
     "output_type": "execute_result"
    }
   ],
   "source": [
    "country_capitals1==country_capitals3 # values are same but sorting is different "
   ]
  },
  {
   "cell_type": "code",
   "execution_count": 28,
   "id": "d689f504-8bcf-4913-9d2c-1bc745ad76eb",
   "metadata": {},
   "outputs": [
    {
     "data": {
      "text/plain": [
       "True"
      ]
     },
     "execution_count": 28,
     "metadata": {},
     "output_type": "execute_result"
    }
   ],
   "source": [
    "country_capitals1!=country_capitals2"
   ]
  },
  {
   "cell_type": "code",
   "execution_count": 32,
   "id": "a968d28c-fd82-4a57-8a38-5753fa5020ea",
   "metadata": {},
   "outputs": [],
   "source": [
    "# %load fig06_02.py\n",
    "# fig06_02.py\n",
    "\"\"\"Tokenizing a string and counting unique words.\"\"\"\n",
    "\n",
    "text = ('this is sample text with several words ' \n",
    "        'this is more sample text with some different words')\n",
    "\n",
    "word_counts = {}\n",
    "\n",
    "# count occurrences of each unique word\n",
    "for word in text.split():\n",
    "    if word in word_counts: \n",
    "        word_counts[word] += 1  # update existing key-value pair\n",
    "    else:\n",
    "        word_counts[word] = 1  # insert new key-value pair\n",
    "\n",
    "print(f'{\"WORD\":<12}COUNT')\n",
    "\n",
    "for word, count in sorted(word_counts.items()):\n",
    "    print(f'{word:<12}{count}')\n",
    "\n",
    "print('\\nNumber of unique words:', len(word_counts))\n"
   ]
  },
  {
   "cell_type": "code",
   "execution_count": 34,
   "id": "121dbfbf-0515-4a5a-b0a1-4a8b2964ba07",
   "metadata": {},
   "outputs": [
    {
     "name": "stdout",
     "output_type": "stream",
     "text": [
      "Average for Susan is 92.33\n",
      "Average for Eduardo is 85.67\n",
      "Average for Azizi is 87.33\n",
      "Average for Pantipa is 93.33\n",
      "Class's average is: 89.67\n"
     ]
    }
   ],
   "source": [
    "# %load fig06_01.py\n",
    "# fig06_01.py\n",
    "\"\"\"Using a dictionary to represent an instructor's grade book.\"\"\"\n",
    "grade_book = {            \n",
    "    'Susan': [92, 85, 100], \n",
    "    'Eduardo': [83, 95, 79],\n",
    "    'Azizi': [91, 89, 82],  \n",
    "    'Pantipa': [97, 91, 92] \n",
    "}\n",
    "\n",
    "all_grades_total = 0\n",
    "all_grades_count = 0\n",
    "\n",
    "for name, grades in grade_book.items():\n",
    "    total = sum(grades)\n",
    "    print(f'Average for {name} is {total/len(grades):.2f}')\n",
    "    all_grades_total += total\n",
    "    all_grades_count += len(grades)\n",
    "    \n",
    "print(f\"Class's average is: {all_grades_total / all_grades_count:.2f}\")\n",
    "\n",
    "##########################################################################\n",
    "# (C) Copyright 2019 by Deitel & Associates, Inc. and                    #\n",
    "# Pearson Education, Inc. All Rights Reserved.                           #\n",
    "#                                                                        #\n",
    "# DISCLAIMER: The authors and publisher of this book have used their     #\n",
    "# best efforts in preparing the book. These efforts include the          #\n",
    "# development, research, and testing of the theories and programs        #\n",
    "# to determine their effectiveness. The authors and publisher make       #\n",
    "# no warranty of any kind, expressed or implied, with regard to these    #\n",
    "# programs or to the documentation contained in these books. The authors #\n",
    "# and publisher shall not be liable in any event for incidental or       #\n",
    "# consequential damages in connection with, or arising out of, the       #\n",
    "# furnishing, performance, or use of these programs.                     #\n",
    "##########################################################################\n"
   ]
  },
  {
   "cell_type": "code",
   "execution_count": 35,
   "id": "5efa4440-cf49-4fc1-9a37-5b9c03989eaf",
   "metadata": {},
   "outputs": [],
   "source": [
    "# %load fig06_02.py\n",
    "# fig06_02.py\n",
    "\"\"\"Tokenizing a string and counting unique words.\"\"\"\n",
    "\n",
    "text = ('this is sample text with several words ' \n",
    "        'this is more sample text with some different words')\n",
    "\n",
    "word_counts = {}\n",
    "\n",
    "# count occurrences of each unique word\n",
    "for word in text.split():\n",
    "    if word in word_counts: \n",
    "        word_counts[word] += 1  # update existing key-value pair\n",
    "    else:\n",
    "        word_counts[word] = 1  # insert new key-value pair\n",
    "\n",
    "print(f'{\"WORD\":<12}COUNT')\n",
    "\n",
    "for word, count in sorted(word_counts.items()):\n",
    "    print(f'{word:<12}{count}')\n",
    "\n",
    "print('\\nNumber of unique words:', len(word_counts))\n"
   ]
  },
  {
   "cell_type": "code",
   "execution_count": null,
   "id": "90a836da-bfa8-4574-beb1-c944e751598b",
   "metadata": {},
   "outputs": [],
   "source": [
    "# this split menthod is an built in string methos and split by defaut with white space seperator"
   ]
  },
  {
   "cell_type": "code",
   "execution_count": null,
   "id": "e66a68df-575d-40ef-b6c7-ef8cc1d195cd",
   "metadata": {},
   "outputs": [],
   "source": [
    "# for this same above approach to summarize the word count we have a collection  module in standard library  to do "
   ]
  },
  {
   "cell_type": "markdown",
   "id": "6e7ee787-147f-43fa-bc07-ea7ab516a760",
   "metadata": {},
   "source": [
    "from collection import Counter"
   ]
  },
  {
   "cell_type": "code",
   "execution_count": 37,
   "id": "0d738a46-7a93-48f0-92e8-9049d46971ff",
   "metadata": {},
   "outputs": [],
   "source": [
    "from collections import Counter\n"
   ]
  },
  {
   "cell_type": "code",
   "execution_count": 38,
   "id": "1826f957-254e-4616-bcf4-5dd049ec2487",
   "metadata": {},
   "outputs": [],
   "source": [
    "text=('this is sample text with several words'\n",
    "      ' this is more sample text with some different words')"
   ]
  },
  {
   "cell_type": "code",
   "execution_count": 39,
   "id": "1f362b20-f8de-44b9-8b07-0a0acb224ec5",
   "metadata": {},
   "outputs": [
    {
     "data": {
      "text/plain": [
       "['this',\n",
       " 'is',\n",
       " 'sample',\n",
       " 'text',\n",
       " 'with',\n",
       " 'several',\n",
       " 'words',\n",
       " 'this',\n",
       " 'is',\n",
       " 'more',\n",
       " 'sample',\n",
       " 'text',\n",
       " 'with',\n",
       " 'some',\n",
       " 'different',\n",
       " 'words']"
      ]
     },
     "execution_count": 39,
     "metadata": {},
     "output_type": "execute_result"
    }
   ],
   "source": [
    "text.split()"
   ]
  },
  {
   "cell_type": "code",
   "execution_count": 40,
   "id": "e0290693-b8bd-4671-be53-3ba0e73ec816",
   "metadata": {},
   "outputs": [],
   "source": [
    "counter=Counter(text.split()) # please note right side Counter C is caps "
   ]
  },
  {
   "cell_type": "code",
   "execution_count": 41,
   "id": "f5deb009-91fb-41b5-8b9d-08c3cddc52e4",
   "metadata": {},
   "outputs": [
    {
     "data": {
      "text/plain": [
       "Counter({'this': 2,\n",
       "         'is': 2,\n",
       "         'sample': 2,\n",
       "         'text': 2,\n",
       "         'with': 2,\n",
       "         'several': 1,\n",
       "         'words': 2,\n",
       "         'more': 1,\n",
       "         'some': 1,\n",
       "         'different': 1})"
      ]
     },
     "execution_count": 41,
     "metadata": {},
     "output_type": "execute_result"
    }
   ],
   "source": [
    "counter   # so this counter function in collections module will create a dictonary "
   ]
  },
  {
   "cell_type": "code",
   "execution_count": 42,
   "id": "315a0a81-53e1-41c1-9314-06242b7d3b93",
   "metadata": {},
   "outputs": [
    {
     "name": "stdout",
     "output_type": "stream",
     "text": [
      "different   1\n",
      "is          2\n",
      "more        1\n",
      "sample      2\n",
      "several     1\n",
      "some        1\n",
      "text        2\n",
      "this        2\n",
      "with        2\n",
      "words       2\n"
     ]
    }
   ],
   "source": [
    "for word,count in sorted(counter.items()):\n",
    "    print(f'{word:<12}{count}')"
   ]
  },
  {
   "cell_type": "code",
   "execution_count": 44,
   "id": "7f174ac5-ea38-488a-96e5-48ce01588f03",
   "metadata": {},
   "outputs": [
    {
     "name": "stdout",
     "output_type": "stream",
     "text": [
      "Number of unique keys: 10\n"
     ]
    }
   ],
   "source": [
    "print('Number of unique keys:',len(counter.keys()))"
   ]
  },
  {
   "cell_type": "code",
   "execution_count": 45,
   "id": "8c6d9bf4-a5a3-42c4-a348-418bcb931181",
   "metadata": {},
   "outputs": [],
   "source": [
    "# dictonary method :  update "
   ]
  },
  {
   "cell_type": "code",
   "execution_count": 46,
   "id": "d609270d-9389-4799-bccb-979877932eb4",
   "metadata": {},
   "outputs": [],
   "source": [
    "country_codes={}"
   ]
  },
  {
   "cell_type": "code",
   "execution_count": 47,
   "id": "2c9a0dc4-aaa8-4a12-8f68-7edce6b95310",
   "metadata": {},
   "outputs": [],
   "source": [
    "country_codes.update({'South Africa':'za'})"
   ]
  },
  {
   "cell_type": "code",
   "execution_count": 48,
   "id": "6d2f61ea-b1f2-470a-84a9-20e6588a3752",
   "metadata": {},
   "outputs": [],
   "source": [
    "# so this update methos will insert if the key value is not exist and update if exists \n",
    "# it is working merge statement in oracle "
   ]
  },
  {
   "cell_type": "code",
   "execution_count": 50,
   "id": "dac352f8-30f4-4d48-8c72-507ea6237064",
   "metadata": {},
   "outputs": [
    {
     "data": {
      "text/plain": [
       "{'South Africa': 'za'}"
      ]
     },
     "execution_count": 50,
     "metadata": {},
     "output_type": "execute_result"
    }
   ],
   "source": [
    "country_codes"
   ]
  },
  {
   "cell_type": "code",
   "execution_count": 51,
   "id": "aebb1102-6a2d-4ef9-8d10-e521452786ed",
   "metadata": {},
   "outputs": [],
   "source": [
    "country_codes.update(Australia='ar') # eventhough if we gave key value without quotes and value with = operator\n",
    "# this update menthos will convert internall add to the dictonary"
   ]
  },
  {
   "cell_type": "code",
   "execution_count": 52,
   "id": "e46a0a2d-884d-49c2-a1d5-019d5e2d87bf",
   "metadata": {},
   "outputs": [
    {
     "data": {
      "text/plain": [
       "{'South Africa': 'za', 'Australia': 'ar'}"
      ]
     },
     "execution_count": 52,
     "metadata": {},
     "output_type": "execute_result"
    }
   ],
   "source": [
    "country_codes"
   ]
  },
  {
   "cell_type": "code",
   "execution_count": 53,
   "id": "a0add04d-bb73-49bf-9237-08326ced799e",
   "metadata": {},
   "outputs": [],
   "source": [
    "country_codes.update(Australia='au')  # now giving coreect country code \n",
    "# since it already exist it update the value "
   ]
  },
  {
   "cell_type": "code",
   "execution_count": 54,
   "id": "b6972c12-384c-4fa7-a6dd-ba773caadfa5",
   "metadata": {},
   "outputs": [
    {
     "data": {
      "text/plain": [
       "{'South Africa': 'za', 'Australia': 'au'}"
      ]
     },
     "execution_count": 54,
     "metadata": {},
     "output_type": "execute_result"
    }
   ],
   "source": [
    "country_codes"
   ]
  },
  {
   "cell_type": "code",
   "execution_count": 56,
   "id": "f95b62ae-bbc5-407a-af79-8ce46f161a9d",
   "metadata": {},
   "outputs": [],
   "source": [
    "# dictonary comprehensions : which is create new dictonary from existing dictonary"
   ]
  },
  {
   "cell_type": "code",
   "execution_count": 57,
   "id": "8a11c78e-0ca9-48f0-85b7-ca52bca4efe8",
   "metadata": {},
   "outputs": [],
   "source": [
    "months={'January':1,'February':2,'March':3}"
   ]
  },
  {
   "cell_type": "code",
   "execution_count": 58,
   "id": "31c00a99-5a25-4143-bc40-8e0b364f4024",
   "metadata": {},
   "outputs": [],
   "source": [
    "# a list comprehension will indicate [] and a dicotnary comprehension will indocate {} while creating"
   ]
  },
  {
   "cell_type": "code",
   "execution_count": 59,
   "id": "8f25d621-325b-4c9b-8a18-60fb0262f7b4",
   "metadata": {},
   "outputs": [],
   "source": [
    "months2={number:name for name,number in months.items()} # similar to list comprehension"
   ]
  },
  {
   "cell_type": "code",
   "execution_count": 60,
   "id": "c478b1cc-3ba8-4d99-9909-162c37ac9d65",
   "metadata": {},
   "outputs": [
    {
     "data": {
      "text/plain": [
       "{1: 'January', 2: 'February', 3: 'March'}"
      ]
     },
     "execution_count": 60,
     "metadata": {},
     "output_type": "execute_result"
    }
   ],
   "source": [
    "months2"
   ]
  },
  {
   "cell_type": "code",
   "execution_count": 61,
   "id": "4fcfe407-22ee-4278-a2aa-9763bb7c8a74",
   "metadata": {},
   "outputs": [],
   "source": [
    "# so if you see we created complete new dictonary with reversing the values to the original "
   ]
  },
  {
   "cell_type": "code",
   "execution_count": 62,
   "id": "83d6c9d4-964b-4088-9206-ba45ec37a8b9",
   "metadata": {},
   "outputs": [],
   "source": [
    "grades={'Sue':[98,87,94],'Bob':[84,95,91]}"
   ]
  },
  {
   "cell_type": "code",
   "execution_count": 63,
   "id": "08db1512-e9b3-41cd-8bc7-ceb145cec56b",
   "metadata": {},
   "outputs": [
    {
     "data": {
      "text/plain": [
       "{'Sue': [98, 87, 94], 'Bob': [84, 95, 91]}"
      ]
     },
     "execution_count": 63,
     "metadata": {},
     "output_type": "execute_result"
    }
   ],
   "source": [
    "grades"
   ]
  },
  {
   "cell_type": "code",
   "execution_count": null,
   "id": "772931f5-5d59-4986-b8d4-a1424dd5f750",
   "metadata": {},
   "outputs": [],
   "source": [
    "# create a new dictory with keys and average of grades , we can easily do with dictonary comprehension "
   ]
  },
  {
   "cell_type": "code",
   "execution_count": 64,
   "id": "35baa226-6e46-4d1c-9687-4edf1d954007",
   "metadata": {},
   "outputs": [],
   "source": [
    "grades2={k:sum(v)/len(v) for k,v in grades.items()}"
   ]
  },
  {
   "cell_type": "code",
   "execution_count": 65,
   "id": "069ee2ba-9f80-4fad-9015-2185f10b9156",
   "metadata": {},
   "outputs": [
    {
     "data": {
      "text/plain": [
       "{'Sue': 93.0, 'Bob': 90.0}"
      ]
     },
     "execution_count": 65,
     "metadata": {},
     "output_type": "execute_result"
    }
   ],
   "source": [
    "grades2"
   ]
  },
  {
   "cell_type": "code",
   "execution_count": 1,
   "id": "20bb9bcc-2241-4f51-8373-f5af5cbed317",
   "metadata": {},
   "outputs": [],
   "source": [
    "# set collection : set is collection of unique values in un ordered format "
   ]
  },
  {
   "cell_type": "code",
   "execution_count": 2,
   "id": "fd397288-0e32-43f5-9f2c-505db95129ed",
   "metadata": {},
   "outputs": [],
   "source": [
    "colors ={'red','orange','yellow','green','red','blue'}  # please note this is not a key value , it is a single value\n",
    "# set will have only keys "
   ]
  },
  {
   "cell_type": "code",
   "execution_count": 3,
   "id": "19a51712-e1b0-46f5-8efc-114936d27114",
   "metadata": {},
   "outputs": [
    {
     "data": {
      "text/plain": [
       "{'blue', 'green', 'orange', 'red', 'yellow'}"
      ]
     },
     "execution_count": 3,
     "metadata": {},
     "output_type": "execute_result"
    }
   ],
   "source": [
    "colors # see in above we have 2 red but below result have only one , it removed dup and not in the same order we created "
   ]
  },
  {
   "cell_type": "code",
   "execution_count": 4,
   "id": "e7cd7b76-f0fc-4c81-93b1-9a4cde5d56f7",
   "metadata": {},
   "outputs": [],
   "source": [
    "# it will automatically eliminate duplicate"
   ]
  },
  {
   "cell_type": "code",
   "execution_count": 5,
   "id": "fa96c06c-14df-4c47-a836-afca84e60dfd",
   "metadata": {},
   "outputs": [
    {
     "data": {
      "text/plain": [
       "5"
      ]
     },
     "execution_count": 5,
     "metadata": {},
     "output_type": "execute_result"
    }
   ],
   "source": [
    "len(colors) # no of eliments "
   ]
  },
  {
   "cell_type": "code",
   "execution_count": 6,
   "id": "78bf84af-0c33-4431-aa50-bb88bcd36df9",
   "metadata": {},
   "outputs": [
    {
     "data": {
      "text/plain": [
       "True"
      ]
     },
     "execution_count": 6,
     "metadata": {},
     "output_type": "execute_result"
    }
   ],
   "source": [
    "'red'  in colors"
   ]
  },
  {
   "cell_type": "code",
   "execution_count": 7,
   "id": "93a7049e-2c92-4b64-b2fc-b6fba130eb37",
   "metadata": {},
   "outputs": [
    {
     "data": {
      "text/plain": [
       "False"
      ]
     },
     "execution_count": 7,
     "metadata": {},
     "output_type": "execute_result"
    }
   ],
   "source": [
    "'purple' in colors"
   ]
  },
  {
   "cell_type": "code",
   "execution_count": 8,
   "id": "ac46a2bb-2af0-4ff7-b837-fffee2646156",
   "metadata": {},
   "outputs": [
    {
     "data": {
      "text/plain": [
       "True"
      ]
     },
     "execution_count": 8,
     "metadata": {},
     "output_type": "execute_result"
    }
   ],
   "source": [
    "'purple' not in colors"
   ]
  },
  {
   "cell_type": "code",
   "execution_count": 9,
   "id": "faba7702-33bf-493e-8b4d-800caea86693",
   "metadata": {},
   "outputs": [
    {
     "name": "stdout",
     "output_type": "stream",
     "text": [
      "RED ORANGE GREEN BLUE YELLOW "
     ]
    }
   ],
   "source": [
    "for color in colors:\n",
    "    print(color.upper(),end=' ')"
   ]
  },
  {
   "cell_type": "code",
   "execution_count": 10,
   "id": "1f01ac48-edd8-4268-8a32-55ccaefafc15",
   "metadata": {},
   "outputs": [],
   "source": [
    "# we can also create a set by using buit in function called set"
   ]
  },
  {
   "cell_type": "code",
   "execution_count": 11,
   "id": "7875bb22-8b3d-45c5-bab4-9117d4bfc714",
   "metadata": {},
   "outputs": [],
   "source": [
    "# first lest creatre a list "
   ]
  },
  {
   "cell_type": "code",
   "execution_count": 13,
   "id": "c302e594-2bb4-406e-81f7-fe5897faab45",
   "metadata": {},
   "outputs": [],
   "source": []
  },
  {
   "cell_type": "code",
   "execution_count": 14,
   "id": "95ef65c2-e458-48db-889d-70d98f4c2bc1",
   "metadata": {},
   "outputs": [
    {
     "data": {
      "text/plain": [
       "[0, 1, 2, 3, 4, 5, 6, 7, 8, 9]"
      ]
     },
     "execution_count": 14,
     "metadata": {},
     "output_type": "execute_result"
    }
   ],
   "source": [
    "list(range(10))"
   ]
  },
  {
   "cell_type": "code",
   "execution_count": 15,
   "id": "13e2fc40-3dce-4548-9d16-cf662b829b51",
   "metadata": {},
   "outputs": [],
   "source": [
    "numbers=list(range(10))+list(range(5))"
   ]
  },
  {
   "cell_type": "code",
   "execution_count": 16,
   "id": "b29697f1-6011-48bd-b317-e51cf18c3b64",
   "metadata": {},
   "outputs": [
    {
     "data": {
      "text/plain": [
       "[0, 1, 2, 3, 4, 5, 6, 7, 8, 9, 0, 1, 2, 3, 4]"
      ]
     },
     "execution_count": 16,
     "metadata": {},
     "output_type": "execute_result"
    }
   ],
   "source": [
    "numbers # it has duplicates "
   ]
  },
  {
   "cell_type": "code",
   "execution_count": 17,
   "id": "340cf400-b11c-4a74-b93d-e077645354b4",
   "metadata": {},
   "outputs": [
    {
     "data": {
      "text/plain": [
       "{0, 1, 2, 3, 4, 5, 6, 7, 8, 9}"
      ]
     },
     "execution_count": 17,
     "metadata": {},
     "output_type": "execute_result"
    }
   ],
   "source": [
    "set(numbers) # removed duplicates and has only unique values"
   ]
  },
  {
   "cell_type": "code",
   "execution_count": 18,
   "id": "a5941002-2b4b-4d7d-9025-633987cdaa7c",
   "metadata": {},
   "outputs": [],
   "source": [
    "#to declare empty set we nned to use set() , if you use var={} this will considered as dictonaty not a set"
   ]
  },
  {
   "cell_type": "code",
   "execution_count": 19,
   "id": "b736877d-15e7-4dcc-aca8-3ac8809cb70d",
   "metadata": {},
   "outputs": [],
   "source": [
    "var= set()"
   ]
  },
  {
   "cell_type": "code",
   "execution_count": 20,
   "id": "f579c10e-77b8-4fec-8cff-6f03c83870a5",
   "metadata": {},
   "outputs": [
    {
     "data": {
      "text/plain": [
       "set()"
      ]
     },
     "execution_count": 20,
     "metadata": {},
     "output_type": "execute_result"
    }
   ],
   "source": [
    "var"
   ]
  },
  {
   "cell_type": "code",
   "execution_count": null,
   "id": "4825b38b-a884-4eaa-bbf5-1658b44e0b34",
   "metadata": {},
   "outputs": [],
   "source": [
    "# sets are mutable and hashable "
   ]
  },
  {
   "cell_type": "code",
   "execution_count": 21,
   "id": "765f197d-de61-4208-8525-32e64f147f2e",
   "metadata": {},
   "outputs": [],
   "source": [
    "# self cehck "
   ]
  },
  {
   "cell_type": "code",
   "execution_count": 22,
   "id": "8f9730cf-4680-41ef-b427-e79d7fbbc766",
   "metadata": {},
   "outputs": [],
   "source": [
    "text=' to be or not to be that is the question'"
   ]
  },
  {
   "cell_type": "code",
   "execution_count": 23,
   "id": "23427dda-a250-4082-989c-4aa2fea9ee2f",
   "metadata": {},
   "outputs": [],
   "source": [
    "text1=text.split()"
   ]
  },
  {
   "cell_type": "code",
   "execution_count": 24,
   "id": "800380f0-5434-40c6-bb6c-be9604e8035d",
   "metadata": {},
   "outputs": [
    {
     "data": {
      "text/plain": [
       "['to', 'be', 'or', 'not', 'to', 'be', 'that', 'is', 'the', 'question']"
      ]
     },
     "execution_count": 24,
     "metadata": {},
     "output_type": "execute_result"
    }
   ],
   "source": [
    "text1"
   ]
  },
  {
   "cell_type": "code",
   "execution_count": 28,
   "id": "ad2d7e8f-fe6e-42bb-9027-452cbe61fcde",
   "metadata": {},
   "outputs": [],
   "source": [
    "text2=sorted(set(text1))"
   ]
  },
  {
   "cell_type": "code",
   "execution_count": null,
   "id": "eb35c775-5aeb-4566-b99d-6d22e0faf037",
   "metadata": {},
   "outputs": [],
   "source": []
  },
  {
   "cell_type": "code",
   "execution_count": 29,
   "id": "ef7258d3-07c5-484d-90e8-f091f5487e10",
   "metadata": {},
   "outputs": [
    {
     "data": {
      "text/plain": [
       "['be', 'is', 'not', 'or', 'question', 'that', 'the', 'to']"
      ]
     },
     "execution_count": 29,
     "metadata": {},
     "output_type": "execute_result"
    }
   ],
   "source": [
    "text2"
   ]
  },
  {
   "cell_type": "code",
   "execution_count": 30,
   "id": "34b872d7-7343-453e-8244-4433f596fdc5",
   "metadata": {},
   "outputs": [],
   "source": [
    "# we can do this in single stmt :- text1=list(text.split()) "
   ]
  },
  {
   "cell_type": "code",
   "execution_count": 31,
   "id": "13c70600-bebd-42b3-bcb5-34ff227e5698",
   "metadata": {},
   "outputs": [],
   "source": [
    "#comparing sets"
   ]
  },
  {
   "cell_type": "code",
   "execution_count": 32,
   "id": "a09c6349-5d8e-4013-b148-e44faf4a1475",
   "metadata": {},
   "outputs": [
    {
     "data": {
      "text/plain": [
       "True"
      ]
     },
     "execution_count": 32,
     "metadata": {},
     "output_type": "execute_result"
    }
   ],
   "source": [
    "{1,3,5}=={5,1,3}  # sewuence of itesm doesn't matter "
   ]
  },
  {
   "cell_type": "code",
   "execution_count": 33,
   "id": "b998c89f-5169-4ab4-a8f1-9cd50070e375",
   "metadata": {},
   "outputs": [
    {
     "data": {
      "text/plain": [
       "False"
      ]
     },
     "execution_count": 33,
     "metadata": {},
     "output_type": "execute_result"
    }
   ],
   "source": [
    "{1,3,5}!={5,1,3}"
   ]
  },
  {
   "cell_type": "code",
   "execution_count": 34,
   "id": "a1d774d6-fdb0-46ca-b7ee-ce6d3abbe7dc",
   "metadata": {},
   "outputs": [],
   "source": [
    "# cehck if the set is subset of other set "
   ]
  },
  {
   "cell_type": "code",
   "execution_count": 35,
   "id": "b767892b-dc8a-4c27-83fe-00db78a653ba",
   "metadata": {},
   "outputs": [
    {
     "data": {
      "text/plain": [
       "False"
      ]
     },
     "execution_count": 35,
     "metadata": {},
     "output_type": "execute_result"
    }
   ],
   "source": [
    "{1,3,5}<{5,1,3}"
   ]
  },
  {
   "cell_type": "code",
   "execution_count": 36,
   "id": "0d42316d-805e-44f1-944b-d44ec955a428",
   "metadata": {},
   "outputs": [
    {
     "data": {
      "text/plain": [
       "True"
      ]
     },
     "execution_count": 36,
     "metadata": {},
     "output_type": "execute_result"
    }
   ],
   "source": [
    "{1,3,5}<{7,5,1,3} # here the left set is subset of right side set "
   ]
  },
  {
   "cell_type": "code",
   "execution_count": 38,
   "id": "7f46a37d-d81c-4681-91a5-977f1b9fb570",
   "metadata": {},
   "outputs": [
    {
     "data": {
      "text/plain": [
       "True"
      ]
     },
     "execution_count": 38,
     "metadata": {},
     "output_type": "execute_result"
    }
   ],
   "source": [
    "{1,3,5}<={5,1,3}"
   ]
  },
  {
   "cell_type": "code",
   "execution_count": 39,
   "id": "e6767af7-52f0-4923-a2d5-e8d5bcf1b6c4",
   "metadata": {},
   "outputs": [
    {
     "data": {
      "text/plain": [
       "True"
      ]
     },
     "execution_count": 39,
     "metadata": {},
     "output_type": "execute_result"
    }
   ],
   "source": [
    "{1,3}<={5,1,3}"
   ]
  },
  {
   "cell_type": "code",
   "execution_count": 40,
   "id": "10f4be96-2fd8-4381-b897-7748cb3a5ca7",
   "metadata": {},
   "outputs": [],
   "source": [
    "# we can use the methods "
   ]
  },
  {
   "cell_type": "code",
   "execution_count": 42,
   "id": "f52cd293-b818-4588-8d6b-321294e9b613",
   "metadata": {},
   "outputs": [
    {
     "data": {
      "text/plain": [
       "True"
      ]
     },
     "execution_count": 42,
     "metadata": {},
     "output_type": "execute_result"
    }
   ],
   "source": [
    "{1,3,5}.issubset({5,1,3})"
   ]
  },
  {
   "cell_type": "code",
   "execution_count": null,
   "id": "0b00d39f-4733-47f2-bf32-6aa47ca60e12",
   "metadata": {},
   "outputs": [],
   "source": [
    "#superset  > : this is oppsoit to subset , all the right hand side element should present in lefthand side set\n",
    "# and left hand set  contain more elements, "
   ]
  },
  {
   "cell_type": "code",
   "execution_count": 44,
   "id": "0a7c3df8-ed50-4dcf-8e89-6f7f0f74b898",
   "metadata": {},
   "outputs": [
    {
     "data": {
      "text/plain": [
       "False"
      ]
     },
     "execution_count": 44,
     "metadata": {},
     "output_type": "execute_result"
    }
   ],
   "source": [
    "{1,3,5}>{5,1,3}"
   ]
  },
  {
   "cell_type": "code",
   "execution_count": 45,
   "id": "274d75d6-07d8-44f2-bff7-434b150757fd",
   "metadata": {},
   "outputs": [
    {
     "data": {
      "text/plain": [
       "True"
      ]
     },
     "execution_count": 45,
     "metadata": {},
     "output_type": "execute_result"
    }
   ],
   "source": [
    "{1,3,5,7}>{5,1,3}"
   ]
  },
  {
   "cell_type": "code",
   "execution_count": 46,
   "id": "d6765494-8a33-4ef6-976a-8738bc2f5254",
   "metadata": {},
   "outputs": [
    {
     "data": {
      "text/plain": [
       "True"
      ]
     },
     "execution_count": 46,
     "metadata": {},
     "output_type": "execute_result"
    }
   ],
   "source": [
    "{1,3,5}>={5,1,3}"
   ]
  },
  {
   "cell_type": "code",
   "execution_count": 47,
   "id": "4bab95a4-2c41-4bf9-bc0e-1390a59fceb6",
   "metadata": {},
   "outputs": [
    {
     "data": {
      "text/plain": [
       "False"
      ]
     },
     "execution_count": 47,
     "metadata": {},
     "output_type": "execute_result"
    }
   ],
   "source": [
    "{1,3}>={5,1,3}"
   ]
  },
  {
   "cell_type": "code",
   "execution_count": 48,
   "id": "27d96c40-6b30-4cae-a804-f85a8cf9a5ac",
   "metadata": {},
   "outputs": [
    {
     "data": {
      "text/plain": [
       "True"
      ]
     },
     "execution_count": 48,
     "metadata": {},
     "output_type": "execute_result"
    }
   ],
   "source": [
    "{1,3,5}.issuperset({5,1,3})"
   ]
  },
  {
   "cell_type": "code",
   "execution_count": 49,
   "id": "63b855e4-c6f0-4a2b-9dcb-ecd01b63afcc",
   "metadata": {},
   "outputs": [
    {
     "data": {
      "text/plain": [
       "False"
      ]
     },
     "execution_count": 49,
     "metadata": {},
     "output_type": "execute_result"
    }
   ],
   "source": [
    "{1,3,5}.issuperset({3,2})"
   ]
  },
  {
   "cell_type": "code",
   "execution_count": 50,
   "id": "7ac0385f-8aaf-4af2-9b25-fba3d7709477",
   "metadata": {},
   "outputs": [],
   "source": [
    "# self cehck "
   ]
  },
  {
   "cell_type": "code",
   "execution_count": 52,
   "id": "d6242000-3b43-4380-945e-c3c14a8c424c",
   "metadata": {},
   "outputs": [
    {
     "data": {
      "text/plain": [
       "True"
      ]
     },
     "execution_count": 52,
     "metadata": {},
     "output_type": "execute_result"
    }
   ],
   "source": [
    "set('abc def hhi jkl nmo').issuperset('hi mom')"
   ]
  },
  {
   "cell_type": "code",
   "execution_count": 53,
   "id": "73e69370-9227-4df8-b6c8-adb20d52a583",
   "metadata": {},
   "outputs": [
    {
     "data": {
      "text/plain": [
       "{' ', 'a', 'b', 'c', 'd', 'e', 'f', 'h', 'i', 'j', 'k', 'l', 'm', 'n', 'o'}"
      ]
     },
     "execution_count": 53,
     "metadata": {},
     "output_type": "execute_result"
    }
   ],
   "source": [
    "set('abc def hhi jkl nmo')"
   ]
  },
  {
   "cell_type": "code",
   "execution_count": 54,
   "id": "68b26f58-a285-4fff-9953-4f0f083317d1",
   "metadata": {},
   "outputs": [],
   "source": [
    "# mathmatical  set operator"
   ]
  },
  {
   "cell_type": "code",
   "execution_count": 55,
   "id": "49804d1e-051b-43df-a814-4752c4b9c579",
   "metadata": {},
   "outputs": [
    {
     "data": {
      "text/plain": [
       "{1, 2, 3, 4, 5}"
      ]
     },
     "execution_count": 55,
     "metadata": {},
     "output_type": "execute_result"
    }
   ],
   "source": [
    "{1,3,5}|{2,3,4}  # this is an union operator "
   ]
  },
  {
   "cell_type": "code",
   "execution_count": 56,
   "id": "12cb0419-dbe3-497b-b9be-acf1012e5903",
   "metadata": {},
   "outputs": [
    {
     "data": {
      "text/plain": [
       "{1, 2, 3, 4, 5}"
      ]
     },
     "execution_count": 56,
     "metadata": {},
     "output_type": "execute_result"
    }
   ],
   "source": [
    "{1,3,5}.union({2,3,4})  # this is an union method "
   ]
  },
  {
   "cell_type": "code",
   "execution_count": 58,
   "id": "25edc066-2f82-487a-81b1-00a48c64f6c6",
   "metadata": {},
   "outputs": [
    {
     "data": {
      "text/plain": [
       "{1, 2, 3, 4, 5}"
      ]
     },
     "execution_count": 58,
     "metadata": {},
     "output_type": "execute_result"
    }
   ],
   "source": [
    "{1,3,5}.union([2,3,4])  # we can use list[] it will convert into set and then perform union "
   ]
  },
  {
   "cell_type": "code",
   "execution_count": 59,
   "id": "97b936b2-69f5-4df6-b156-09bd13ad16ab",
   "metadata": {},
   "outputs": [
    {
     "data": {
      "text/plain": [
       "{3}"
      ]
     },
     "execution_count": 59,
     "metadata": {},
     "output_type": "execute_result"
    }
   ],
   "source": [
    "{1,3,5}&{2,3,4}  # this is an intersect operator "
   ]
  },
  {
   "cell_type": "code",
   "execution_count": 60,
   "id": "45b538bd-130d-4819-903f-3ed3685d05d5",
   "metadata": {},
   "outputs": [
    {
     "data": {
      "text/plain": [
       "{3}"
      ]
     },
     "execution_count": 60,
     "metadata": {},
     "output_type": "execute_result"
    }
   ],
   "source": [
    "{1,3,5}.intersection([2,3,4]) n# method"
   ]
  },
  {
   "cell_type": "code",
   "execution_count": 61,
   "id": "a50bec88-8a6b-4cb0-89b4-0ed90d204a0a",
   "metadata": {},
   "outputs": [
    {
     "data": {
      "text/plain": [
       "{1, 5}"
      ]
     },
     "execution_count": 61,
     "metadata": {},
     "output_type": "execute_result"
    }
   ],
   "source": [
    "{1,3,5}-{2,3,4}  # this is minus operator "
   ]
  },
  {
   "cell_type": "code",
   "execution_count": 62,
   "id": "a950ba2a-15f0-474c-aad2-ae19823b7e71",
   "metadata": {},
   "outputs": [
    {
     "data": {
      "text/plain": [
       "{1, 5}"
      ]
     },
     "execution_count": 62,
     "metadata": {},
     "output_type": "execute_result"
    }
   ],
   "source": [
    "{1,3,5}.difference({2,3,4})  # this is minus methos \n",
    "#{1,3,5}.difference([{2,3,4]) you can pass list as well "
   ]
  },
  {
   "cell_type": "code",
   "execution_count": 63,
   "id": "653c7e3a-ca60-468a-b770-8c00a7d5bd6b",
   "metadata": {},
   "outputs": [
    {
     "data": {
      "text/plain": [
       "{1, 2, 4, 5}"
      ]
     },
     "execution_count": 63,
     "metadata": {},
     "output_type": "execute_result"
    }
   ],
   "source": [
    "{1,3,5}^{2,3,4}  # this is semetric differnce \n",
    "# it just eliminate the common one from bothe sets and retuen the uniq ones from both "
   ]
  },
  {
   "cell_type": "code",
   "execution_count": 64,
   "id": "04b207cc-5ae5-4c10-81d2-6fd5446213dc",
   "metadata": {},
   "outputs": [
    {
     "data": {
      "text/plain": [
       "{1, 2, 4, 5}"
      ]
     },
     "execution_count": 64,
     "metadata": {},
     "output_type": "execute_result"
    }
   ],
   "source": [
    "{1,3,5}.symmetric_difference({2,3,4})   # method"
   ]
  },
  {
   "cell_type": "code",
   "execution_count": 65,
   "id": "e96cedd1-e11f-472e-8c4b-43e86222bf92",
   "metadata": {},
   "outputs": [
    {
     "data": {
      "text/plain": [
       "False"
      ]
     },
     "execution_count": 65,
     "metadata": {},
     "output_type": "execute_result"
    }
   ],
   "source": [
    "{1,3,5}.isdisjoint({2,3,4})     # disjoint \n",
    "# retuen true if there no common element in both sets else false "
   ]
  },
  {
   "cell_type": "code",
   "execution_count": 66,
   "id": "259c6347-0873-4cfc-9ea4-55c090c051ae",
   "metadata": {},
   "outputs": [
    {
     "data": {
      "text/plain": [
       "True"
      ]
     },
     "execution_count": 66,
     "metadata": {},
     "output_type": "execute_result"
    }
   ],
   "source": [
    "{1,3,5}.isdisjoint({2,9,4})"
   ]
  },
  {
   "cell_type": "code",
   "execution_count": 67,
   "id": "2767aa94-d3cf-493a-9f89-0f33f7d2a84e",
   "metadata": {},
   "outputs": [],
   "source": [
    "# self check"
   ]
  },
  {
   "cell_type": "code",
   "execution_count": 69,
   "id": "4289a1da-4614-441b-adb6-2374b7d0e1b8",
   "metadata": {},
   "outputs": [
    {
     "data": {
      "text/plain": [
       "{30}"
      ]
     },
     "execution_count": 69,
     "metadata": {},
     "output_type": "execute_result"
    }
   ],
   "source": [
    "{10,20,30}-{5,10,15,20}"
   ]
  },
  {
   "cell_type": "code",
   "execution_count": 70,
   "id": "cfe8392d-0075-4b39-8576-ff5e97240e67",
   "metadata": {},
   "outputs": [
    {
     "data": {
      "text/plain": [
       "{5, 15, 30}"
      ]
     },
     "execution_count": 70,
     "metadata": {},
     "output_type": "execute_result"
    }
   ],
   "source": [
    "{10,20,30}^{5,10,15,20}"
   ]
  },
  {
   "cell_type": "code",
   "execution_count": 71,
   "id": "d49ab714-3d5d-41de-9e62-388a142b0e97",
   "metadata": {},
   "outputs": [
    {
     "data": {
      "text/plain": [
       "{5, 10, 15, 20, 30}"
      ]
     },
     "execution_count": 71,
     "metadata": {},
     "output_type": "execute_result"
    }
   ],
   "source": [
    "{10,20,30}|{5,10,15,20}"
   ]
  },
  {
   "cell_type": "code",
   "execution_count": 72,
   "id": "5491a3a6-a0b5-463d-a197-40bbfc146d76",
   "metadata": {},
   "outputs": [
    {
     "data": {
      "text/plain": [
       "{10, 20}"
      ]
     },
     "execution_count": 72,
     "metadata": {},
     "output_type": "execute_result"
    }
   ],
   "source": [
    "{10,20,30}&{5,10,15,20}"
   ]
  },
  {
   "cell_type": "code",
   "execution_count": 73,
   "id": "8c6bbac4-e7fb-4b60-8bea-5f9c7a3fe833",
   "metadata": {},
   "outputs": [],
   "source": [
    "# mutable set operators "
   ]
  },
  {
   "cell_type": "code",
   "execution_count": 74,
   "id": "f33555c8-8d59-4963-8cae-6e244cd896d9",
   "metadata": {},
   "outputs": [],
   "source": [
    "numbers={1,3,5}"
   ]
  },
  {
   "cell_type": "code",
   "execution_count": 75,
   "id": "a3ec33e3-414c-4d8d-9605-ee4c60fccc8f",
   "metadata": {},
   "outputs": [],
   "source": [
    "numbers |={2,3,4}   # we call this as aorguments assignment "
   ]
  },
  {
   "cell_type": "code",
   "execution_count": 76,
   "id": "b6ad58ad-5814-4aae-b632-cdca366cf115",
   "metadata": {},
   "outputs": [
    {
     "data": {
      "text/plain": [
       "{1, 2, 3, 4, 5}"
      ]
     },
     "execution_count": 76,
     "metadata": {},
     "output_type": "execute_result"
    }
   ],
   "source": [
    "numbers"
   ]
  },
  {
   "cell_type": "code",
   "execution_count": 77,
   "id": "7d386eb0-7520-4934-a2ef-9cbf64e8a78c",
   "metadata": {},
   "outputs": [],
   "source": [
    "numbers.update(range(10))  # we can pass any values in the method"
   ]
  },
  {
   "cell_type": "code",
   "execution_count": 78,
   "id": "820c1d72-eb13-43cb-ad97-9923ea74b142",
   "metadata": {},
   "outputs": [
    {
     "data": {
      "text/plain": [
       "{0, 1, 2, 3, 4, 5, 6, 7, 8, 9}"
      ]
     },
     "execution_count": 78,
     "metadata": {},
     "output_type": "execute_result"
    }
   ],
   "source": [
    "numbers"
   ]
  },
  {
   "cell_type": "code",
   "execution_count": 79,
   "id": "3b3e2144-e1bb-49a6-a853-b2c3f00c8464",
   "metadata": {},
   "outputs": [],
   "source": [
    "numbers.add(17)"
   ]
  },
  {
   "cell_type": "code",
   "execution_count": 80,
   "id": "c6def049-98f8-4d0a-b60b-c823e8ac561d",
   "metadata": {},
   "outputs": [
    {
     "data": {
      "text/plain": [
       "{0, 1, 2, 3, 4, 5, 6, 7, 8, 9, 17}"
      ]
     },
     "execution_count": 80,
     "metadata": {},
     "output_type": "execute_result"
    }
   ],
   "source": [
    "numbers"
   ]
  },
  {
   "cell_type": "code",
   "execution_count": 81,
   "id": "85286b6c-8936-4f7e-ae62-7d136e1db1cb",
   "metadata": {},
   "outputs": [],
   "source": [
    "numbers.add(3)"
   ]
  },
  {
   "cell_type": "code",
   "execution_count": 82,
   "id": "3958e71d-314c-4005-a969-6fa4676bc80d",
   "metadata": {},
   "outputs": [
    {
     "data": {
      "text/plain": [
       "{0, 1, 2, 3, 4, 5, 6, 7, 8, 9, 17}"
      ]
     },
     "execution_count": 82,
     "metadata": {},
     "output_type": "execute_result"
    }
   ],
   "source": [
    "numbers  # since 3 is already exist so the set is not changed "
   ]
  },
  {
   "cell_type": "code",
   "execution_count": 83,
   "id": "ce8ec662-2432-44ac-a3bb-af483eca19f1",
   "metadata": {},
   "outputs": [],
   "source": [
    "numbers.remove(3)"
   ]
  },
  {
   "cell_type": "code",
   "execution_count": 84,
   "id": "c7880222-9f4a-49a7-aff7-7225f4c4d5bf",
   "metadata": {},
   "outputs": [
    {
     "data": {
      "text/plain": [
       "{0, 1, 2, 4, 5, 6, 7, 8, 9, 17}"
      ]
     },
     "execution_count": 84,
     "metadata": {},
     "output_type": "execute_result"
    }
   ],
   "source": [
    "numbers"
   ]
  },
  {
   "cell_type": "code",
   "execution_count": 85,
   "id": "235dbee2-f998-4d37-9920-39b047accc41",
   "metadata": {},
   "outputs": [
    {
     "ename": "KeyError",
     "evalue": "3",
     "output_type": "error",
     "traceback": [
      "\u001b[1;31m---------------------------------------------------------------------------\u001b[0m",
      "\u001b[1;31mKeyError\u001b[0m                                  Traceback (most recent call last)",
      "\u001b[1;32m~\\AppData\\Local\\Temp\\ipykernel_20216\\462725205.py\u001b[0m in \u001b[0;36m<module>\u001b[1;34m\u001b[0m\n\u001b[1;32m----> 1\u001b[1;33m \u001b[0mnumbers\u001b[0m\u001b[1;33m.\u001b[0m\u001b[0mremove\u001b[0m\u001b[1;33m(\u001b[0m\u001b[1;36m3\u001b[0m\u001b[1;33m)\u001b[0m\u001b[1;33m\u001b[0m\u001b[1;33m\u001b[0m\u001b[0m\n\u001b[0m",
      "\u001b[1;31mKeyError\u001b[0m: 3"
     ]
    }
   ],
   "source": [
    "numbers.remove(3) # now the key 3 is not exist so it returned the error "
   ]
  },
  {
   "cell_type": "code",
   "execution_count": 86,
   "id": "5b6f5b86-9bba-4855-84bb-83161732ebbb",
   "metadata": {},
   "outputs": [],
   "source": [
    "numbers.discard(3) # this is the same like remove method , only this is this method will not retune the error if the kee is not presemt "
   ]
  },
  {
   "cell_type": "code",
   "execution_count": 88,
   "id": "716aa296-4e3e-436f-9be5-04e7d6a905ff",
   "metadata": {},
   "outputs": [
    {
     "data": {
      "text/plain": [
       "0"
      ]
     },
     "execution_count": 88,
     "metadata": {},
     "output_type": "execute_result"
    }
   ],
   "source": [
    "numbers.pop()"
   ]
  },
  {
   "cell_type": "code",
   "execution_count": 89,
   "id": "4aa7a702-0aed-4281-8f26-4d16c974bd2d",
   "metadata": {},
   "outputs": [
    {
     "data": {
      "text/plain": [
       "{1, 2, 4, 5, 6, 7, 8, 9, 17}"
      ]
     },
     "execution_count": 89,
     "metadata": {},
     "output_type": "execute_result"
    }
   ],
   "source": [
    "numbers"
   ]
  },
  {
   "cell_type": "code",
   "execution_count": 90,
   "id": "f06e5ee5-c735-4401-98c8-726398b4b6c4",
   "metadata": {},
   "outputs": [],
   "source": [
    "numbers.clear()  # delete all kets in the set "
   ]
  },
  {
   "cell_type": "code",
   "execution_count": 91,
   "id": "187a9f8d-4486-49e3-8dbc-c53673f404c9",
   "metadata": {},
   "outputs": [
    {
     "data": {
      "text/plain": [
       "set()"
      ]
     },
     "execution_count": 91,
     "metadata": {},
     "output_type": "execute_result"
    }
   ],
   "source": [
    "numbers"
   ]
  },
  {
   "cell_type": "code",
   "execution_count": 92,
   "id": "ed5f84ec-af2d-4e3f-87a7-132e4fc26922",
   "metadata": {},
   "outputs": [],
   "source": [
    "# set comprehension "
   ]
  },
  {
   "cell_type": "code",
   "execution_count": 93,
   "id": "04418b5d-2d64-44bf-9670-09652f6e082f",
   "metadata": {},
   "outputs": [],
   "source": [
    "numbers=[1,2,2,3,4,5,6,6,7,8,9,10,10]"
   ]
  },
  {
   "cell_type": "code",
   "execution_count": 96,
   "id": "421c6829-ef2f-4444-9aba-7e2be26b478c",
   "metadata": {},
   "outputs": [],
   "source": [
    "numbers1= set(i for i in numbers if i%2==0) \n",
    "# or we can use {} instead mentioning set function :  numbers1= {i for i in numbers if i%2==0} "
   ]
  },
  {
   "cell_type": "code",
   "execution_count": 97,
   "id": "9e4302c1-31bc-4f18-a088-c5ae7029ea77",
   "metadata": {},
   "outputs": [
    {
     "data": {
      "text/plain": [
       "{2, 4, 6, 8, 10}"
      ]
     },
     "execution_count": 97,
     "metadata": {},
     "output_type": "execute_result"
    }
   ],
   "source": [
    "numbers1"
   ]
  },
  {
   "cell_type": "code",
   "execution_count": null,
   "id": "6decc65b-cb9d-4b94-b764-c9514288d9f9",
   "metadata": {},
   "outputs": [],
   "source": [
    "# dynamic visualization"
   ]
  },
  {
   "cell_type": "code",
   "execution_count": 98,
   "id": "5a87e0d2-04bc-47f1-8d88-9b3faf64ee28",
   "metadata": {},
   "outputs": [],
   "source": [
    "# %load RollDieDynamic.py\n",
    "# RollDieDynamic.py\n",
    "\"\"\"Dynamically graphing frequencies of die rolls.\"\"\"\n",
    "from matplotlib import animation\n",
    "import matplotlib.pyplot as plt\n",
    "import random \n",
    "import seaborn as sns\n",
    "import sys\n",
    "\n",
    "def update(frame_number, rolls, faces, frequencies):\n",
    "    \"\"\"Configures bar plot contents for each animation frame.\"\"\"\n",
    "    # roll die and update frequencies\n",
    "    for i in range(rolls):\n",
    "        frequencies[random.randrange(1, 7) - 1] += 1 \n",
    "\n",
    "    # reconfigure plot for updated die frequencies\n",
    "    plt.cla()  # clear old contents contents of current Figure\n",
    "    axes = sns.barplot(x=faces, y=frequencies, palette='bright')  # new bars\n",
    "    axes.set_title(f'Die Frequencies for {sum(frequencies):,} Rolls')\n",
    "    axes.set(xlabel='Die Value', ylabel='Frequency')  \n",
    "    axes.set_ylim(top=max(frequencies) * 1.10)  # scale y-axis by 10%\n",
    "\n",
    "    # display frequency & percentage above each patch (bar)\n",
    "    for bar, frequency in zip(axes.patches, frequencies):\n",
    "        text_x = bar.get_x() + bar.get_width() / 2.0  \n",
    "        text_y = bar.get_height() \n",
    "        text = f'{frequency:,}\\n{frequency / sum(frequencies):.3%}'\n",
    "        axes.text(text_x, text_y, text, ha='center', va='bottom')\n",
    "\n",
    "# read command-line arguments for number of frames and rolls per frame\n",
    "number_of_frames = int(sys.argv[1])  \n",
    "rolls_per_frame = int(sys.argv[2])  \n",
    "\n",
    "sns.set_style('whitegrid')  # white background with gray grid lines\n",
    "figure = plt.figure('Rolling a Six-Sided Die')  # Figure for animation\n",
    "values = list(range(1, 7))  # die faces for display on x-axis\n",
    "frequencies = [0] * 6  # six-element list of die frequencies\n",
    "\n",
    "# configure and start animation that calls function update\n",
    "die_animation = animation.FuncAnimation(\n",
    "    figure, update, repeat=False, frames=number_of_frames, interval=33,\n",
    "    fargs=(rolls_per_frame, values, frequencies))\n",
    "\n",
    "plt.show()  # display window\n",
    "\n",
    "\n",
    "#**************************************************************************\n",
    "#* (C) Copyright 1992-2018 by Deitel & Associates, Inc. and               *\n",
    "#* Pearson Education, Inc. All Rights Reserved.                           *\n",
    "#*                                                                        *\n",
    "#* DISCLAIMER: The authors and publisher of this book have used their     *\n",
    "#* best efforts in preparing the book. These efforts include the          *\n",
    "#* development, research, and testing of the theories and programs        *\n",
    "#* to determine their effectiveness. The authors and publisher make       *\n",
    "#* no warranty of any kind, expressed or implied, with regard to these    *\n",
    "#* programs or to the documentation contained in these books. The authors *\n",
    "#* and publisher shall not be liable in any event for incidental or       *\n",
    "#* consequential damages in connection with, or arising out of, the       *\n",
    "#* furnishing, performance, or use of these programs.                     *\n",
    "#**************************************************************************\n"
   ]
  },
  {
   "cell_type": "code",
   "execution_count": 105,
   "id": "51c5e48e-e451-4928-aaa7-66d967008bb9",
   "metadata": {},
   "outputs": [
    {
     "data": {
      "text/plain": [
       "<Figure size 640x480 with 0 Axes>"
      ]
     },
     "metadata": {},
     "output_type": "display_data"
    }
   ],
   "source": [
    "%run RollDieDynamic.py 6000 1"
   ]
  },
  {
   "cell_type": "code",
   "execution_count": null,
   "id": "a8b7baba-59c5-425e-a4a2-1233dfbec1b3",
   "metadata": {},
   "outputs": [],
   "source": []
  },
  {
   "cell_type": "code",
   "execution_count": null,
   "id": "16e971d6-744e-43ef-9c32-c9ff159a1600",
   "metadata": {},
   "outputs": [],
   "source": []
  },
  {
   "cell_type": "code",
   "execution_count": null,
   "id": "7e7b0fcc-2811-40f7-8663-d03ade6e7af1",
   "metadata": {},
   "outputs": [],
   "source": []
  }
 ],
 "metadata": {
  "kernelspec": {
   "display_name": "Python 3 (ipykernel)",
   "language": "python",
   "name": "python3"
  },
  "language_info": {
   "codemirror_mode": {
    "name": "ipython",
    "version": 3
   },
   "file_extension": ".py",
   "mimetype": "text/x-python",
   "name": "python",
   "nbconvert_exporter": "python",
   "pygments_lexer": "ipython3",
   "version": "3.9.13"
  }
 },
 "nbformat": 4,
 "nbformat_minor": 5
}
