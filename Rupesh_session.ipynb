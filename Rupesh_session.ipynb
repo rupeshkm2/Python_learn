{
 "cells": [
  {
   "cell_type": "code",
   "execution_count": 1,
   "id": "68297e30-45e7-4163-a05d-3ca54b4e5b25",
   "metadata": {},
   "outputs": [],
   "source": [
    "# creating our own function , user defined function "
   ]
  },
  {
   "cell_type": "code",
   "execution_count": 2,
   "id": "7f65c14d-cf89-4890-a73d-8dbf53724238",
   "metadata": {},
   "outputs": [],
   "source": [
    " # def is definition and square is name of function , number: is the parameter name , no nned to mention datatype , python will automaticaly understand based on the input we passed ,\n",
    "    \n",
    "def square(number):     \n",
    "    \"\"\" calculate the square of number ..\"\"\"\n",
    "    return number**2"
   ]
  },
  {
   "cell_type": "code",
   "execution_count": 3,
   "id": "ea9df109-2669-4b97-ad8a-57dda4c8b5b4",
   "metadata": {},
   "outputs": [
    {
     "data": {
      "text/plain": [
       "49"
      ]
     },
     "execution_count": 3,
     "metadata": {},
     "output_type": "execute_result"
    }
   ],
   "source": [
    "square(7)  # call the function "
   ]
  },
  {
   "cell_type": "code",
   "execution_count": 4,
   "id": "597614b1-4046-4a7d-9bb2-901f9d165f9d",
   "metadata": {},
   "outputs": [],
   "source": [
    "sqr_val=square(7) # assign value to variable "
   ]
  },
  {
   "cell_type": "code",
   "execution_count": 5,
   "id": "6ab7a28c-34b6-418a-837e-ae0e824c959b",
   "metadata": {},
   "outputs": [
    {
     "data": {
      "text/plain": [
       "49"
      ]
     },
     "execution_count": 5,
     "metadata": {},
     "output_type": "execute_result"
    }
   ],
   "source": [
    "sqr_val"
   ]
  },
  {
   "cell_type": "code",
   "execution_count": 6,
   "id": "d3645b96-4818-46f5-a75d-b5bf6e18fb83",
   "metadata": {},
   "outputs": [
    {
     "data": {
      "text/plain": [
       "6.25"
      ]
     },
     "execution_count": 6,
     "metadata": {},
     "output_type": "execute_result"
    }
   ],
   "source": [
    "square(2.5) "
   ]
  },
  {
   "cell_type": "code",
   "execution_count": 7,
   "id": "13c5c3e6-efd0-4539-9865-f368e187ba30",
   "metadata": {},
   "outputs": [],
   "source": [
    "# None is as object (similar to null in oracle ) if the function return statement doesn't have any argument then it return None to the caller \n",
    "# ex:  return number**2  is the proper way to retuen , supose you have onlu retun \n",
    "#ex: return            here there is no argument after retuen so it return None to tah caller , other ward empty string \n",
    "# if we miss the return statement in function then alos it retun None to the caller"
   ]
  },
  {
   "cell_type": "code",
   "execution_count": 8,
   "id": "edb87736-1d5b-4b2b-9162-0402b81b1ae0",
   "metadata": {},
   "outputs": [],
   "source": [
    "None"
   ]
  },
  {
   "cell_type": "code",
   "execution_count": 11,
   "id": "f70bf5ab-f19f-45f5-88a0-6b738945e828",
   "metadata": {},
   "outputs": [
    {
     "data": {
      "text/plain": [
       "\u001b[1;31mSignature:\u001b[0m \u001b[0msquare\u001b[0m\u001b[1;33m(\u001b[0m\u001b[0mnumber\u001b[0m\u001b[1;33m)\u001b[0m\u001b[1;33m\u001b[0m\u001b[1;33m\u001b[0m\u001b[0m\n",
       "\u001b[1;31mDocstring:\u001b[0m calculate the square of number ..\n",
       "\u001b[1;31mFile:\u001b[0m      c:\\users\\mandadi\\appdata\\local\\temp\\ipykernel_9480\\4262847014.py\n",
       "\u001b[1;31mType:\u001b[0m      function\n"
      ]
     },
     "metadata": {},
     "output_type": "display_data"
    }
   ],
   "source": [
    "%load square?   # to see the  signature and docstring ,type of object "
   ]
  },
  {
   "cell_type": "code",
   "execution_count": 19,
   "id": "987583e1-3b97-4518-a836-449a37fce8a3",
   "metadata": {},
   "outputs": [
    {
     "data": {
      "text/plain": [
       "\u001b[1;31mSignature:\u001b[0m \u001b[0msquare\u001b[0m\u001b[1;33m(\u001b[0m\u001b[0mnumber\u001b[0m\u001b[1;33m)\u001b[0m\u001b[1;33m\u001b[0m\u001b[1;33m\u001b[0m\u001b[0m\n",
       "\u001b[1;31mSource:\u001b[0m   \n",
       "\u001b[1;32mdef\u001b[0m \u001b[0msquare\u001b[0m\u001b[1;33m(\u001b[0m\u001b[0mnumber\u001b[0m\u001b[1;33m)\u001b[0m\u001b[1;33m:\u001b[0m     \u001b[1;33m\n",
       "\u001b[0m   \u001b[1;34m\"\"\" calculate the square of number ..\"\"\"\u001b[0m\u001b[1;33m\n",
       "\u001b[0m   \u001b[1;32mreturn\u001b[0m \u001b[0mnumber\u001b[0m\u001b[1;33m**\u001b[0m\u001b[1;36m2\u001b[0m\u001b[1;33m\u001b[0m\u001b[1;33m\u001b[0m\u001b[0m\n",
       "\u001b[1;31mFile:\u001b[0m      c:\\users\\mandadi\\appdata\\local\\temp\\ipykernel_9480\\4262847014.py\n",
       "\u001b[1;31mType:\u001b[0m      function\n"
      ]
     },
     "metadata": {},
     "output_type": "display_data"
    }
   ],
   "source": [
    "%load square??   # to see the source code "
   ]
  },
  {
   "cell_type": "code",
   "execution_count": 20,
   "id": "9c73d454-1559-4589-9752-55eb85eea5b0",
   "metadata": {},
   "outputs": [],
   "source": [
    "import statistics"
   ]
  },
  {
   "cell_type": "code",
   "execution_count": 21,
   "id": "6ceddc46-d88f-450b-954a-686ac367666c",
   "metadata": {},
   "outputs": [
    {
     "data": {
      "text/plain": [
       "\u001b[1;31mType:\u001b[0m        module\n",
       "\u001b[1;31mString form:\u001b[0m <module 'statistics' from 'C:\\\\Users\\\\MANDADI\\\\anaconda3\\\\lib\\\\statistics.py'>\n",
       "\u001b[1;31mFile:\u001b[0m        c:\\users\\mandadi\\anaconda3\\lib\\statistics.py\n",
       "\u001b[1;31mDocstring:\u001b[0m  \n",
       "Basic statistics module.\n",
       "\n",
       "This module provides functions for calculating statistics of data, including\n",
       "averages, variance, and standard deviation.\n",
       "\n",
       "Calculating averages\n",
       "--------------------\n",
       "\n",
       "==================  ==================================================\n",
       "Function            Description\n",
       "==================  ==================================================\n",
       "mean                Arithmetic mean (average) of data.\n",
       "fmean               Fast, floating point arithmetic mean.\n",
       "geometric_mean      Geometric mean of data.\n",
       "harmonic_mean       Harmonic mean of data.\n",
       "median              Median (middle value) of data.\n",
       "median_low          Low median of data.\n",
       "median_high         High median of data.\n",
       "median_grouped      Median, or 50th percentile, of grouped data.\n",
       "mode                Mode (most common value) of data.\n",
       "multimode           List of modes (most common values of data).\n",
       "quantiles           Divide data into intervals with equal probability.\n",
       "==================  ==================================================\n",
       "\n",
       "Calculate the arithmetic mean (\"the average\") of data:\n",
       "\n",
       ">>> mean([-1.0, 2.5, 3.25, 5.75])\n",
       "2.625\n",
       "\n",
       "\n",
       "Calculate the standard median of discrete data:\n",
       "\n",
       ">>> median([2, 3, 4, 5])\n",
       "3.5\n",
       "\n",
       "\n",
       "Calculate the median, or 50th percentile, of data grouped into class intervals\n",
       "centred on the data values provided. E.g. if your data points are rounded to\n",
       "the nearest whole number:\n",
       "\n",
       ">>> median_grouped([2, 2, 3, 3, 3, 4])  #doctest: +ELLIPSIS\n",
       "2.8333333333...\n",
       "\n",
       "This should be interpreted in this way: you have two data points in the class\n",
       "interval 1.5-2.5, three data points in the class interval 2.5-3.5, and one in\n",
       "the class interval 3.5-4.5. The median of these data points is 2.8333...\n",
       "\n",
       "\n",
       "Calculating variability or spread\n",
       "---------------------------------\n",
       "\n",
       "==================  =============================================\n",
       "Function            Description\n",
       "==================  =============================================\n",
       "pvariance           Population variance of data.\n",
       "variance            Sample variance of data.\n",
       "pstdev              Population standard deviation of data.\n",
       "stdev               Sample standard deviation of data.\n",
       "==================  =============================================\n",
       "\n",
       "Calculate the standard deviation of sample data:\n",
       "\n",
       ">>> stdev([2.5, 3.25, 5.5, 11.25, 11.75])  #doctest: +ELLIPSIS\n",
       "4.38961843444...\n",
       "\n",
       "If you have previously calculated the mean, you can pass it as the optional\n",
       "second argument to the four \"spread\" functions to avoid recalculating it:\n",
       "\n",
       ">>> data = [1, 2, 2, 4, 4, 4, 5, 6]\n",
       ">>> mu = mean(data)\n",
       ">>> pvariance(data, mu)\n",
       "2.5\n",
       "\n",
       "\n",
       "Exceptions\n",
       "----------\n",
       "\n",
       "A single exception is defined: StatisticsError is a subclass of ValueError.\n"
      ]
     },
     "metadata": {},
     "output_type": "display_data"
    }
   ],
   "source": [
    "statistics?   # to know about module "
   ]
  },
  {
   "cell_type": "code",
   "execution_count": null,
   "id": "fd45f17d-b5ca-4cf2-9c8e-38a6f8da1845",
   "metadata": {},
   "outputs": [],
   "source": [
    "# function with multople parameters "
   ]
  },
  {
   "cell_type": "code",
   "execution_count": 22,
   "id": "90168b77-8260-4bc9-a0c7-240b69226405",
   "metadata": {},
   "outputs": [],
   "source": [
    "def maximum(val1,val2,val3):\n",
    "    \"\"\" Return the maximum of three values .\"\"\"\n",
    "    max_val=val1\n",
    "    \n",
    "    if val2>max_val:\n",
    "        max_val=val2\n",
    "    if val3>max_val:\n",
    "        max_val=val3\n",
    "        \n",
    "    return max_val\n",
    "        \n",
    "    "
   ]
  },
  {
   "cell_type": "code",
   "execution_count": 23,
   "id": "213729d6-398a-4280-80f8-2d491145fa7a",
   "metadata": {},
   "outputs": [
    {
     "data": {
      "text/plain": [
       "30"
      ]
     },
     "execution_count": 23,
     "metadata": {},
     "output_type": "execute_result"
    }
   ],
   "source": [
    "maximum(10,20,30)"
   ]
  },
  {
   "cell_type": "code",
   "execution_count": 24,
   "id": "3c2f0817-efd0-431f-9de6-0a0a0fb4550c",
   "metadata": {},
   "outputs": [
    {
     "data": {
      "text/plain": [
       "40"
      ]
     },
     "execution_count": 24,
     "metadata": {},
     "output_type": "execute_result"
    }
   ],
   "source": [
    "maximum(40,20,30)"
   ]
  },
  {
   "cell_type": "code",
   "execution_count": 25,
   "id": "1b30dcf6-15a3-4c19-8621-6b9fa4db39e7",
   "metadata": {},
   "outputs": [
    {
     "data": {
      "text/plain": [
       "\u001b[1;31mSignature:\u001b[0m \u001b[0mmaximum\u001b[0m\u001b[1;33m(\u001b[0m\u001b[0mval1\u001b[0m\u001b[1;33m,\u001b[0m \u001b[0mval2\u001b[0m\u001b[1;33m,\u001b[0m \u001b[0mval3\u001b[0m\u001b[1;33m)\u001b[0m\u001b[1;33m\u001b[0m\u001b[1;33m\u001b[0m\u001b[0m\n",
       "\u001b[1;31mSource:\u001b[0m   \n",
       "\u001b[1;32mdef\u001b[0m \u001b[0mmaximum\u001b[0m\u001b[1;33m(\u001b[0m\u001b[0mval1\u001b[0m\u001b[1;33m,\u001b[0m\u001b[0mval2\u001b[0m\u001b[1;33m,\u001b[0m\u001b[0mval3\u001b[0m\u001b[1;33m)\u001b[0m\u001b[1;33m:\u001b[0m\u001b[1;33m\n",
       "\u001b[0m    \u001b[1;34m\"\"\" Return the maximum of three values .\"\"\"\u001b[0m\u001b[1;33m\n",
       "\u001b[0m    \u001b[0mmax_val\u001b[0m\u001b[1;33m=\u001b[0m\u001b[0mval1\u001b[0m\u001b[1;33m\n",
       "\u001b[0m    \u001b[1;33m\n",
       "\u001b[0m    \u001b[1;32mif\u001b[0m \u001b[0mval2\u001b[0m\u001b[1;33m>\u001b[0m\u001b[0mmax_val\u001b[0m\u001b[1;33m:\u001b[0m\u001b[1;33m\n",
       "\u001b[0m        \u001b[0mmax_val\u001b[0m\u001b[1;33m=\u001b[0m\u001b[0mval2\u001b[0m\u001b[1;33m\n",
       "\u001b[0m    \u001b[1;32mif\u001b[0m \u001b[0mval3\u001b[0m\u001b[1;33m>\u001b[0m\u001b[0mmax_val\u001b[0m\u001b[1;33m:\u001b[0m\u001b[1;33m\n",
       "\u001b[0m        \u001b[0mmax_val\u001b[0m\u001b[1;33m=\u001b[0m\u001b[0mval3\u001b[0m\u001b[1;33m\n",
       "\u001b[0m        \u001b[1;33m\n",
       "\u001b[0m    \u001b[1;32mreturn\u001b[0m \u001b[0mmax_val\u001b[0m\u001b[1;33m\u001b[0m\u001b[1;33m\u001b[0m\u001b[0m\n",
       "\u001b[1;31mFile:\u001b[0m      c:\\users\\mandadi\\appdata\\local\\temp\\ipykernel_9480\\1326849698.py\n",
       "\u001b[1;31mType:\u001b[0m      function\n"
      ]
     },
     "metadata": {},
     "output_type": "display_data"
    }
   ],
   "source": [
    "%load maximum??"
   ]
  },
  {
   "cell_type": "code",
   "execution_count": 28,
   "id": "6f182df0-3550-47ee-9a58-5fd7bd3c7bfd",
   "metadata": {},
   "outputs": [
    {
     "data": {
      "text/plain": [
       "\u001b[1;31mSignature:\u001b[0m \u001b[0mmaximum\u001b[0m\u001b[1;33m(\u001b[0m\u001b[0mval1\u001b[0m\u001b[1;33m,\u001b[0m \u001b[0mval2\u001b[0m\u001b[1;33m,\u001b[0m \u001b[0mval3\u001b[0m\u001b[1;33m)\u001b[0m\u001b[1;33m\u001b[0m\u001b[1;33m\u001b[0m\u001b[0m\n",
       "\u001b[1;31mDocstring:\u001b[0m Return the maximum of three values .\n",
       "\u001b[1;31mFile:\u001b[0m      c:\\users\\mandadi\\appdata\\local\\temp\\ipykernel_9480\\1326849698.py\n",
       "\u001b[1;31mType:\u001b[0m      function\n"
      ]
     },
     "metadata": {},
     "output_type": "display_data"
    }
   ],
   "source": [
    "%load maximum?"
   ]
  },
  {
   "cell_type": "code",
   "execution_count": 29,
   "id": "e01b350d-d019-417c-b6cf-2ea6aed282bb",
   "metadata": {},
   "outputs": [
    {
     "data": {
      "text/plain": [
       "13.8"
      ]
     },
     "execution_count": 29,
     "metadata": {},
     "output_type": "execute_result"
    }
   ],
   "source": [
    "maximum(12.2,13.8,6.2)"
   ]
  },
  {
   "cell_type": "code",
   "execution_count": 30,
   "id": "b15e2890-f61b-4ca1-a12d-5864168658b0",
   "metadata": {},
   "outputs": [
    {
     "data": {
      "text/plain": [
       "'yellow'"
      ]
     },
     "execution_count": 30,
     "metadata": {},
     "output_type": "execute_result"
    }
   ],
   "source": [
    "maximum('yellow','red','orange')  # this will covert to ascil value and identify the maximum value "
   ]
  },
  {
   "cell_type": "code",
   "execution_count": 31,
   "id": "be03afa3-671e-4c3f-bdc6-5f4ebd9c568f",
   "metadata": {},
   "outputs": [
    {
     "data": {
      "text/plain": [
       "13.5"
      ]
     },
     "execution_count": 31,
     "metadata": {},
     "output_type": "execute_result"
    }
   ],
   "source": [
    "maximum(13.5,-7,6)"
   ]
  },
  {
   "cell_type": "code",
   "execution_count": 32,
   "id": "014cc287-7258-4627-ade2-0a64bc4d211f",
   "metadata": {},
   "outputs": [
    {
     "data": {
      "text/plain": [
       "82"
      ]
     },
     "execution_count": 32,
     "metadata": {},
     "output_type": "execute_result"
    }
   ],
   "source": [
    "max([14,24,82])  # max buitin function can receive an list and retuen the value "
   ]
  },
  {
   "cell_type": "code",
   "execution_count": 33,
   "id": "d5d7c56d-369f-4492-8496-ae1e8ba3f7ab",
   "metadata": {},
   "outputs": [
    {
     "data": {
      "text/plain": [
       "'a'"
      ]
     },
     "execution_count": 33,
     "metadata": {},
     "output_type": "execute_result"
    }
   ],
   "source": [
    "min('orange')  # it trats as individual character "
   ]
  },
  {
   "cell_type": "code",
   "execution_count": 1,
   "id": "e60b3510-829c-4c80-8a5f-f82b01262917",
   "metadata": {},
   "outputs": [],
   "source": [
    "# random number generation "
   ]
  },
  {
   "cell_type": "code",
   "execution_count": 2,
   "id": "603ef9ce-ca59-4e8d-99d3-b328a8ebc211",
   "metadata": {},
   "outputs": [],
   "source": [
    "import random # importing this module to get randon numbers "
   ]
  },
  {
   "cell_type": "code",
   "execution_count": 4,
   "id": "43434b95-a9db-461a-a2c2-979c3d8ace84",
   "metadata": {},
   "outputs": [
    {
     "name": "stdout",
     "output_type": "stream",
     "text": [
      "4 3 2 4 3 6 1 6 1 6 "
     ]
    }
   ],
   "source": [
    "for roll in range(10):\n",
    "    print(random.randrange(1,7),end=' ') # this will return numbers between  1 to 7 (not include 7 in this ) "
   ]
  },
  {
   "cell_type": "code",
   "execution_count": 5,
   "id": "718b73e8-e874-49c3-932b-b9109543294d",
   "metadata": {},
   "outputs": [
    {
     "name": "stdout",
     "output_type": "stream",
     "text": [
      "4 3 5 1 2 3 2 5 3 3 "
     ]
    }
   ],
   "source": [
    "for roll in range(10):\n",
    "    print(random.randrange(1,7),end=' ')"
   ]
  },
  {
   "cell_type": "code",
   "execution_count": 6,
   "id": "9be6aae3-3f0b-4732-bd3d-d71a87e711e1",
   "metadata": {},
   "outputs": [],
   "source": [
    "# if you see this will generate number randomley each time when we execute "
   ]
  },
  {
   "cell_type": "code",
   "execution_count": 7,
   "id": "aa40b6b0-22e3-449d-b746-1bd93c39a2bf",
   "metadata": {},
   "outputs": [
    {
     "name": "stdout",
     "output_type": "stream",
     "text": [
      "Face    Frequency\n",
      "   1      1000343\n",
      "   2       998506\n",
      "   3      1000221\n",
      "   4      1000415\n",
      "   5      1001347\n",
      "   6       999168\n"
     ]
    }
   ],
   "source": [
    "%run fig04_01.py"
   ]
  },
  {
   "cell_type": "code",
   "execution_count": 8,
   "id": "61b8b79e-031b-4a32-b293-824922e8aedf",
   "metadata": {},
   "outputs": [],
   "source": [
    "# %load fig04_01.py\n",
    "# fig04_01.py\n",
    "\"\"\"Roll a six-sided die 6,000,000 times.\"\"\"\n",
    "import random\n",
    "\n",
    "# face frequency counters\n",
    "frequency1 = 0\n",
    "frequency2 = 0\n",
    "frequency3 = 0\n",
    "frequency4 = 0\n",
    "frequency5 = 0\n",
    "frequency6 = 0\n",
    "\n",
    "# 6,000,000 die rolls\n",
    "for roll in range(6_000_000):  # note underscore separators\n",
    "    face = random.randrange(1, 7)\n",
    "\n",
    "    # increment appropriate face counter\n",
    "    if face == 1:\n",
    "        frequency1 += 1\n",
    "    elif face == 2:\n",
    "        frequency2 += 1\n",
    "    elif face == 3:\n",
    "        frequency3 += 1\n",
    "    elif face == 4:\n",
    "        frequency4 += 1\n",
    "    elif face == 5:\n",
    "        frequency5 += 1\n",
    "    elif face == 6:\n",
    "        frequency6 += 1\n",
    "\n",
    "print(f'Face{\"Frequency\":>13}')\n",
    "print(f'{1:>4}{frequency1:>13}')\n",
    "print(f'{2:>4}{frequency2:>13}')\n",
    "print(f'{3:>4}{frequency3:>13}')\n",
    "print(f'{4:>4}{frequency4:>13}')\n",
    "print(f'{5:>4}{frequency5:>13}')\n",
    "print(f'{6:>4}{frequency6:>13}')\n",
    "\n",
    "\n",
    "##########################################################################\n",
    "# (C) Copyright 2019 by Deitel & Associates, Inc. and                    #\n",
    "# Pearson Education, Inc. All Rights Reserved.                           #\n",
    "#                                                                        #\n",
    "# DISCLAIMER: The authors and publisher of this book have used their     #\n",
    "# best efforts in preparing the book. These efforts include the          #\n",
    "# development, research, and testing of the theories and programs        #\n",
    "# to determine their effectiveness. The authors and publisher make       #\n",
    "# no warranty of any kind, expressed or implied, with regard to these    #\n",
    "# programs or to the documentation contained in these books. The authors #\n",
    "# and publisher shall not be liable in any event for incidental or       #\n",
    "# consequential damages in connection with, or arising out of, the       #\n",
    "# furnishing, performance, or use of these programs.                     #\n",
    "##########################################################################\n"
   ]
  },
  {
   "cell_type": "code",
   "execution_count": 9,
   "id": "10abcbf5-5ec8-4440-b8b7-41ce1f459536",
   "metadata": {},
   "outputs": [],
   "source": [
    "random.seed(32)"
   ]
  },
  {
   "cell_type": "code",
   "execution_count": 10,
   "id": "72be1f0b-725c-44d7-8bfa-86fef84ab529",
   "metadata": {},
   "outputs": [
    {
     "name": "stdout",
     "output_type": "stream",
     "text": [
      "1 2 2 3 6 2 4 1 6 1 "
     ]
    }
   ],
   "source": [
    "for roll in range(10):\n",
    "    print(random.randrange(1,7),end=' ')"
   ]
  },
  {
   "cell_type": "code",
   "execution_count": 11,
   "id": "e22d9977-7cd8-4888-b837-32d00417af79",
   "metadata": {},
   "outputs": [
    {
     "name": "stdout",
     "output_type": "stream",
     "text": [
      "1 3 5 3 1 5 6 4 3 5 "
     ]
    }
   ],
   "source": [
    "for roll in range(10):\n",
    "    print(random.randrange(1,7),end=' ')"
   ]
  },
  {
   "cell_type": "code",
   "execution_count": 12,
   "id": "7032a68a-5b79-4a99-bdf8-f477ae199de2",
   "metadata": {},
   "outputs": [],
   "source": [
    "random.seed(32)"
   ]
  },
  {
   "cell_type": "code",
   "execution_count": 13,
   "id": "a2e21a5f-d662-42db-8dce-1a5bedb0b5b0",
   "metadata": {},
   "outputs": [
    {
     "name": "stdout",
     "output_type": "stream",
     "text": [
      "1 2 2 3 6 2 4 1 6 1 "
     ]
    }
   ],
   "source": [
    "for roll in range(10):    # if you the resulr is same as block 10 \n",
    "    print(random.randrange(1,7),end=' ')"
   ]
  },
  {
   "cell_type": "code",
   "execution_count": 14,
   "id": "74909e28-4ef9-4ceb-9ac2-615cad2bde3d",
   "metadata": {},
   "outputs": [],
   "source": [
    "# so basically works as to repeate the readon numbers , we can pass any values to the seed function "
   ]
  },
  {
   "cell_type": "code",
   "execution_count": 37,
   "id": "eb9dfd9e-8f45-4627-819c-0d4b1aab6a3b",
   "metadata": {},
   "outputs": [
    {
     "name": "stdout",
     "output_type": "stream",
     "text": [
      "flip     value\n",
      "   0     T\n",
      "   1     H\n",
      "   2     H\n",
      "   3     T\n",
      "   4     T\n",
      "   5     T\n",
      "   6     H\n",
      "   7     H\n",
      "   8     T\n",
      "   9     T\n",
      "  10     H\n",
      "  11     H\n",
      "  12     H\n",
      "  13     T\n",
      "  14     T\n",
      "  15     H\n",
      "  16     H\n",
      "  17     H\n",
      "  18     H\n",
      "  19     H\n"
     ]
    }
   ],
   "source": [
    "print(f'flip {\"value\":>9}')\n",
    "for roll in range(20):\n",
    "    flip=99\n",
    "  \n",
    "     \n",
    "\n",
    "    flip=random.randrange(0,2)\n",
    "    \n",
    "    if flip==0:\n",
    "        val='H'\n",
    "    if flip==1:\n",
    "        val='T'\n",
    "        \n",
    "    print(f'{roll:>4}{val:>6}')\n",
    "   \n",
    "        \n",
    "    "
   ]
  },
  {
   "cell_type": "code",
   "execution_count": 33,
   "id": "02a0686a-1e69-4ee9-9ed3-4d26938b1b4b",
   "metadata": {},
   "outputs": [],
   "source": [
    "# below is another way to do in simple way"
   ]
  },
  {
   "cell_type": "code",
   "execution_count": 38,
   "id": "57d48c92-8f09-415c-b2a9-52629db066a0",
   "metadata": {},
   "outputs": [
    {
     "name": "stdout",
     "output_type": "stream",
     "text": [
      "T H H H H H T T T H H T H T H H H T T H "
     ]
    }
   ],
   "source": [
    "for i in range(20):\n",
    "    print('H' if random.randrange(2)==0 else 'T' ,end =' ')"
   ]
  },
  {
   "cell_type": "code",
   "execution_count": 39,
   "id": "7a837ce1-f1b4-4a29-96ee-20b720301770",
   "metadata": {},
   "outputs": [],
   "source": [
    "# %load fig04_02.py\n",
    "# fig04_02.py\n",
    "\"\"\"Simulating the dice game Craps.\"\"\"\n",
    "import random\n",
    "\n",
    "def roll_dice():\n",
    "    \"\"\"Roll two dice and return their face values as a tuple.\"\"\"\n",
    "    die1 = random.randrange(1, 7)\n",
    "    die2 = random.randrange(1, 7)\n",
    "    return (die1, die2)  # pack die face values into a tuple\n",
    "\n",
    "def display_dice(dice):\n",
    "    \"\"\"Display one roll of the two dice.\"\"\"\n",
    "    die1, die2 = dice  # unpack the tuple into variables die1 and die2\n",
    "    print(f'Player rolled {die1} + {die2} = {sum(dice)}')\n",
    "\n",
    "die_values = roll_dice()  # first roll\n",
    "display_dice(die_values)\n",
    "\n",
    "# determine game status and point, based on first roll\n",
    "sum_of_dice = sum(die_values)\n",
    "\n",
    "if sum_of_dice in (7, 11):  # win\n",
    "    game_status = 'WON'\n",
    "elif sum_of_dice in (2, 3, 12):  # lose\n",
    "    game_status = 'LOST'\n",
    "else:  # remember point\n",
    "    game_status = 'CONTINUE'\n",
    "    my_point = sum_of_dice\n",
    "    print('Point is', my_point)\n",
    "\n",
    "# continue rolling until player wins or loses\n",
    "while game_status == 'CONTINUE':\n",
    "    die_values = roll_dice()\n",
    "    display_dice(die_values)\n",
    "    sum_of_dice = sum(die_values)\n",
    "\n",
    "    if sum_of_dice == my_point:  # win by making point\n",
    "        game_status = 'WON'\n",
    "    elif sum_of_dice == 7:  # lose by rolling 7\n",
    "        game_status = 'LOST'\n",
    "\n",
    "# display \"wins\" or \"loses\" message\n",
    "if game_status == 'WON':\n",
    "    print('Player wins')\n",
    "else:\n",
    "    print('Player loses')\n",
    "\n",
    "##########################################################################\n",
    "# (C) Copyright 2019 by Deitel & Associates, Inc. and                    #\n",
    "# Pearson Education, Inc. All Rights Reserved.                           #\n",
    "#                                                                        #\n",
    "# DISCLAIMER: The authors and publisher of this book have used their     #\n",
    "# best efforts in preparing the book. These efforts include the          #\n",
    "# development, research, and testing of the theories and programs        #\n",
    "# to determine their effectiveness. The authors and publisher make       #\n",
    "# no warranty of any kind, expressed or implied, with regard to these    #\n",
    "# programs or to the documentation contained in these books. The authors #\n",
    "# and publisher shall not be liable in any event for incidental or       #\n",
    "# consequential damages in connection with, or arising out of, the       #\n",
    "# furnishing, performance, or use of these programs.                     #\n",
    "##########################################################################\n"
   ]
  },
  {
   "cell_type": "code",
   "execution_count": 40,
   "id": "54913e48-222e-4611-9ae1-84b30b2834df",
   "metadata": {},
   "outputs": [
    {
     "name": "stdout",
     "output_type": "stream",
     "text": [
      "Player rolled 5 + 6 = 11\n",
      "Player wins\n"
     ]
    }
   ],
   "source": [
    "%run fig04_02.py"
   ]
  },
  {
   "cell_type": "code",
   "execution_count": 41,
   "id": "892273b6-702f-4f88-95cb-d5ac5ff7dca9",
   "metadata": {},
   "outputs": [
    {
     "name": "stdout",
     "output_type": "stream",
     "text": [
      "Player rolled 2 + 3 = 5\n",
      "Point is 5\n",
      "Player rolled 4 + 2 = 6\n",
      "Player rolled 5 + 4 = 9\n",
      "Player rolled 6 + 1 = 7\n",
      "Player loses\n"
     ]
    }
   ],
   "source": [
    "%run fig04_02.py"
   ]
  },
  {
   "cell_type": "code",
   "execution_count": 42,
   "id": "fa7e6217-1bac-4f84-b65d-31e67d3514e5",
   "metadata": {},
   "outputs": [
    {
     "name": "stdout",
     "output_type": "stream",
     "text": [
      "Player rolled 3 + 4 = 7\n",
      "Player wins\n"
     ]
    }
   ],
   "source": [
    "%run fig04_02.py"
   ]
  },
  {
   "cell_type": "code",
   "execution_count": 43,
   "id": "7cf6729b-9f97-47bc-b56e-f2123cc0c7e6",
   "metadata": {},
   "outputs": [],
   "source": [
    "student=('sue',[89,94,85])   # create a touple with string and list "
   ]
  },
  {
   "cell_type": "code",
   "execution_count": 44,
   "id": "c4e0dcf4-194f-4437-b666-cb10f6b19e1e",
   "metadata": {},
   "outputs": [
    {
     "data": {
      "text/plain": [
       "('sue', [89, 94, 85])"
      ]
     },
     "execution_count": 44,
     "metadata": {},
     "output_type": "execute_result"
    }
   ],
   "source": [
    "student"
   ]
  },
  {
   "cell_type": "code",
   "execution_count": 45,
   "id": "f601d91c-1464-44c7-a365-3f26c5adf8bf",
   "metadata": {},
   "outputs": [],
   "source": [
    "name,grades=student  # assign this touple to two different variables , Python will understand that touple is seperated by comma "
   ]
  },
  {
   "cell_type": "code",
   "execution_count": 46,
   "id": "14dd2c43-8c98-40e1-b0de-f5afc9ccaf17",
   "metadata": {},
   "outputs": [
    {
     "data": {
      "text/plain": [
       "'sue'"
      ]
     },
     "execution_count": 46,
     "metadata": {},
     "output_type": "execute_result"
    }
   ],
   "source": [
    "name"
   ]
  },
  {
   "cell_type": "code",
   "execution_count": 47,
   "id": "609bfd52-bba6-44e2-90f3-f134f9c1e38d",
   "metadata": {},
   "outputs": [
    {
     "data": {
      "text/plain": [
       "[89, 94, 85]"
      ]
     },
     "execution_count": 47,
     "metadata": {},
     "output_type": "execute_result"
    }
   ],
   "source": [
    "grades"
   ]
  },
  {
   "cell_type": "code",
   "execution_count": 48,
   "id": "e1a3b3fd-d2a2-46a4-a3aa-6fc036632e5a",
   "metadata": {},
   "outputs": [
    {
     "data": {
      "text/plain": [
       "tuple"
      ]
     },
     "execution_count": 48,
     "metadata": {},
     "output_type": "execute_result"
    }
   ],
   "source": [
    "type(student)"
   ]
  },
  {
   "cell_type": "code",
   "execution_count": 49,
   "id": "9754fd12-51bc-4b0c-af29-b79f1c63bb85",
   "metadata": {},
   "outputs": [
    {
     "data": {
      "text/plain": [
       "str"
      ]
     },
     "execution_count": 49,
     "metadata": {},
     "output_type": "execute_result"
    }
   ],
   "source": [
    "type(name)"
   ]
  },
  {
   "cell_type": "code",
   "execution_count": 50,
   "id": "0a09745d-1946-4a4a-8eef-41e5e5f40389",
   "metadata": {},
   "outputs": [
    {
     "data": {
      "text/plain": [
       "list"
      ]
     },
     "execution_count": 50,
     "metadata": {},
     "output_type": "execute_result"
    }
   ],
   "source": [
    "type(grades)"
   ]
  },
  {
   "cell_type": "code",
   "execution_count": 51,
   "id": "bd38ece1-49a3-4811-87b1-7f5cf8507b6a",
   "metadata": {},
   "outputs": [],
   "source": [
    "# math module in python "
   ]
  },
  {
   "cell_type": "code",
   "execution_count": 52,
   "id": "0fbb9084-3da0-4c07-acf3-cc4750a53368",
   "metadata": {},
   "outputs": [],
   "source": [
    "import math"
   ]
  },
  {
   "cell_type": "code",
   "execution_count": 53,
   "id": "002f3d98-a752-4693-85cf-b5684551b46a",
   "metadata": {},
   "outputs": [],
   "source": [
    "# if you want to see all the functions inside this module the type math.  and click tab button to see all the list of functions \n",
    "#math.<tab key>"
   ]
  },
  {
   "cell_type": "code",
   "execution_count": 54,
   "id": "a9b8094b-2d47-45a4-9d43-f294efef4b08",
   "metadata": {},
   "outputs": [],
   "source": [
    "# to know about perticular function we need to type as : math.pow? (suppose if you want to check pow fuction )"
   ]
  },
  {
   "cell_type": "code",
   "execution_count": 55,
   "id": "cd7c426a-57ae-45ad-8ddd-a72a21939222",
   "metadata": {},
   "outputs": [
    {
     "data": {
      "text/plain": [
       "\u001b[1;31mSignature:\u001b[0m \u001b[0mmath\u001b[0m\u001b[1;33m.\u001b[0m\u001b[0mpow\u001b[0m\u001b[1;33m(\u001b[0m\u001b[0mx\u001b[0m\u001b[1;33m,\u001b[0m \u001b[0my\u001b[0m\u001b[1;33m,\u001b[0m \u001b[1;33m/\u001b[0m\u001b[1;33m)\u001b[0m\u001b[1;33m\u001b[0m\u001b[1;33m\u001b[0m\u001b[0m\n",
       "\u001b[1;31mDocstring:\u001b[0m Return x**y (x to the power of y).\n",
       "\u001b[1;31mType:\u001b[0m      builtin_function_or_method\n"
      ]
     },
     "metadata": {},
     "output_type": "display_data"
    }
   ],
   "source": [
    "math.pow?"
   ]
  },
  {
   "cell_type": "code",
   "execution_count": 56,
   "id": "119554c5-51e7-4a01-b310-5b64dc610ea9",
   "metadata": {},
   "outputs": [
    {
     "data": {
      "text/plain": [
       "30.0"
      ]
     },
     "execution_count": 56,
     "metadata": {},
     "output_type": "execute_result"
    }
   ],
   "source": [
    "math.sqrt(900)"
   ]
  },
  {
   "cell_type": "code",
   "execution_count": 57,
   "id": "38e62931-5df2-4ea3-8e5d-363378066d20",
   "metadata": {},
   "outputs": [
    {
     "data": {
      "text/plain": [
       "10.0"
      ]
     },
     "execution_count": 57,
     "metadata": {},
     "output_type": "execute_result"
    }
   ],
   "source": [
    "math.fabs(-10)"
   ]
  },
  {
   "cell_type": "code",
   "execution_count": 58,
   "id": "18336ed8-afc5-4244-954c-c961a686a70c",
   "metadata": {},
   "outputs": [],
   "source": [
    "# default parameter values "
   ]
  },
  {
   "cell_type": "code",
   "execution_count": 59,
   "id": "1bd94a4e-7daa-44de-9fee-59768b88de5d",
   "metadata": {},
   "outputs": [],
   "source": [
    "def rectangle_area(length=2,width=3):\n",
    "    \"\"\" retuen the rectangle area ..\"\"\"\n",
    "    return length*width"
   ]
  },
  {
   "cell_type": "code",
   "execution_count": 60,
   "id": "c2794d01-8889-430b-a920-eca810db04f8",
   "metadata": {},
   "outputs": [
    {
     "data": {
      "text/plain": [
       "6"
      ]
     },
     "execution_count": 60,
     "metadata": {},
     "output_type": "execute_result"
    }
   ],
   "source": [
    "rectangle_area()  # since it has default values it calculates by using those "
   ]
  },
  {
   "cell_type": "code",
   "execution_count": 61,
   "id": "1afb69b6-f679-4ca0-ac7b-7f68e7a93c02",
   "metadata": {},
   "outputs": [
    {
     "data": {
      "text/plain": [
       "20"
      ]
     },
     "execution_count": 61,
     "metadata": {},
     "output_type": "execute_result"
    }
   ],
   "source": [
    "rectangle_area(10,2)"
   ]
  },
  {
   "cell_type": "code",
   "execution_count": 62,
   "id": "5f7e2f5f-76e3-4c23-8e8d-e86bfed23d33",
   "metadata": {},
   "outputs": [
    {
     "data": {
      "text/plain": [
       "30"
      ]
     },
     "execution_count": 62,
     "metadata": {},
     "output_type": "execute_result"
    }
   ],
   "source": [
    "rectangle_area(10) # first as 10 second as default "
   ]
  },
  {
   "cell_type": "code",
   "execution_count": 63,
   "id": "ea554e50-45d3-4a3a-a0cf-84cb1b150ba4",
   "metadata": {},
   "outputs": [],
   "source": [
    "#keyword arguments "
   ]
  },
  {
   "cell_type": "code",
   "execution_count": 64,
   "id": "4e2be003-10af-4129-bd4a-ee1e8dde5d1c",
   "metadata": {},
   "outputs": [
    {
     "data": {
      "text/plain": [
       "15"
      ]
     },
     "execution_count": 64,
     "metadata": {},
     "output_type": "execute_result"
    }
   ],
   "source": [
    "rectangle_area(width=5,length=3)   # in this way we no nned to pass the variable in the defined order "
   ]
  },
  {
   "cell_type": "code",
   "execution_count": 65,
   "id": "38d43b86-36b7-4fe7-a2fc-ff7407c9f910",
   "metadata": {},
   "outputs": [
    {
     "data": {
      "text/plain": [
       "12"
      ]
     },
     "execution_count": 65,
     "metadata": {},
     "output_type": "execute_result"
    }
   ],
   "source": [
    "rectangle_area(width=6)"
   ]
  },
  {
   "cell_type": "code",
   "execution_count": 66,
   "id": "46661b99-dcbe-4534-b21e-7f4ed4a13ab2",
   "metadata": {},
   "outputs": [
    {
     "data": {
      "text/plain": [
       "12"
      ]
     },
     "execution_count": 66,
     "metadata": {},
     "output_type": "execute_result"
    }
   ],
   "source": [
    "min(12,13,14)  # in general function can accept multiple arguments , here we can pass nay number of aruments there is no fixed number \n",
    "# we can achive same thing if we want create any user defined function that may take any nymber of arugument by using symbbol *"
   ]
  },
  {
   "cell_type": "code",
   "execution_count": 67,
   "id": "ae9483e0-953d-4a48-88f7-35a72eab8af1",
   "metadata": {},
   "outputs": [],
   "source": [
    "def average(*args):  # so when pass * python will interpret and concider this a touple and pass this as touple \n",
    "    return sum(args)/len(args)"
   ]
  },
  {
   "cell_type": "code",
   "execution_count": 68,
   "id": "5cb5989a-4a56-4c57-a3cc-99ec6006afc2",
   "metadata": {},
   "outputs": [
    {
     "data": {
      "text/plain": [
       "20.0"
      ]
     },
     "execution_count": 68,
     "metadata": {},
     "output_type": "execute_result"
    }
   ],
   "source": [
    "average(10,20,30)"
   ]
  },
  {
   "cell_type": "code",
   "execution_count": 69,
   "id": "7cae85fc-e84c-49d3-be80-3956e0c39d14",
   "metadata": {},
   "outputs": [
    {
     "data": {
      "text/plain": [
       "10.0"
      ]
     },
     "execution_count": 69,
     "metadata": {},
     "output_type": "execute_result"
    }
   ],
   "source": [
    "average(12,16,18,6,4,6,8)  # see we can pass any number of argumenst "
   ]
  },
  {
   "cell_type": "code",
   "execution_count": 72,
   "id": "571c6423-de02-4434-9cc6-db03a6401afa",
   "metadata": {},
   "outputs": [],
   "source": [
    "# you can use this as argument for the function which has argument , but this should be the last argument in the argument list\n",
    "# ex def ex_fun(width,length,*args) , you can combine this with other arguments but it should be the last one "
   ]
  },
  {
   "cell_type": "code",
   "execution_count": 73,
   "id": "6ece6cbc-d2a2-4b7e-892f-61f219d923ff",
   "metadata": {},
   "outputs": [],
   "source": [
    "grades=[88,75,96,55,83]"
   ]
  },
  {
   "cell_type": "code",
   "execution_count": 74,
   "id": "bbd31603-5bd2-4a3b-9b3e-c7850480389d",
   "metadata": {},
   "outputs": [
    {
     "data": {
      "text/plain": [
       "79.4"
      ]
     },
     "execution_count": 74,
     "metadata": {},
     "output_type": "execute_result"
    }
   ],
   "source": [
    "average(*grades) # this will unpack the list and pass as multple argument which is equal to average(88,75,96,55,83)\n"
   ]
  },
  {
   "cell_type": "code",
   "execution_count": 75,
   "id": "e9759faa-b786-4136-be02-2017a427c7a8",
   "metadata": {},
   "outputs": [],
   "source": [
    "def calculare_product(*args):\n",
    "    product=1\n",
    "    for val in args:\n",
    "        product*=val\n",
    "    return product # make sure indentation \n",
    "        "
   ]
  },
  {
   "cell_type": "code",
   "execution_count": 76,
   "id": "cb0bb0c6-f040-4b69-98ff-0a757d4741c0",
   "metadata": {},
   "outputs": [
    {
     "data": {
      "text/plain": [
       "6000"
      ]
     },
     "execution_count": 76,
     "metadata": {},
     "output_type": "execute_result"
    }
   ],
   "source": [
    "calculare_product(10,20,30)"
   ]
  },
  {
   "cell_type": "code",
   "execution_count": 77,
   "id": "8e0d7e25-ea4e-4992-9e97-822b6f367838",
   "metadata": {},
   "outputs": [
    {
     "data": {
      "text/plain": [
       "15"
      ]
     },
     "execution_count": 77,
     "metadata": {},
     "output_type": "execute_result"
    }
   ],
   "source": [
    "calculare_product(*range(1,6,2))"
   ]
  },
  {
   "cell_type": "code",
   "execution_count": 2,
   "id": "fa780971-892b-4405-b35b-e3e1d87deaf4",
   "metadata": {},
   "outputs": [],
   "source": [
    "# functions are standalone where as methods are belongs to class "
   ]
  },
  {
   "cell_type": "code",
   "execution_count": 3,
   "id": "d26561ce-7ce1-4f94-b780-32ff5beaecc9",
   "metadata": {},
   "outputs": [],
   "source": [
    "# there are predefined classes amd we can define our own  classes "
   ]
  },
  {
   "cell_type": "code",
   "execution_count": 4,
   "id": "f42cd5f2-87c7-4ffd-9698-09b183e27837",
   "metadata": {},
   "outputs": [],
   "source": [
    "s='Hello'  # here now s is string variable "
   ]
  },
  {
   "cell_type": "code",
   "execution_count": 5,
   "id": "de81866f-6025-4f4d-9556-66779ff448f6",
   "metadata": {},
   "outputs": [
    {
     "data": {
      "text/plain": [
       "'hello'"
      ]
     },
     "execution_count": 5,
     "metadata": {},
     "output_type": "execute_result"
    }
   ],
   "source": [
    "s.lower()   # here the lower and upper are python method , strings are immutable (which mean not modify by this menthod )"
   ]
  },
  {
   "cell_type": "code",
   "execution_count": 7,
   "id": "167ddf31-33c3-40dd-904c-4862002203d5",
   "metadata": {},
   "outputs": [
    {
     "data": {
      "text/plain": [
       "'HELLO'"
      ]
     },
     "execution_count": 7,
     "metadata": {},
     "output_type": "execute_result"
    }
   ],
   "source": [
    "s.upper()"
   ]
  },
  {
   "cell_type": "code",
   "execution_count": 8,
   "id": "4838f29e-ffbd-4e25-83d0-d1ebb7418c89",
   "metadata": {},
   "outputs": [],
   "source": [
    "#scope rules "
   ]
  },
  {
   "cell_type": "code",
   "execution_count": 9,
   "id": "1bf1c13c-9c90-4f9f-8810-e39d44fa94d8",
   "metadata": {},
   "outputs": [],
   "source": [
    "x=7"
   ]
  },
  {
   "cell_type": "code",
   "execution_count": 10,
   "id": "542f4f22-f62c-4fcb-978b-0f0c1cd3f4b0",
   "metadata": {},
   "outputs": [],
   "source": [
    "def access_globe():\n",
    "    print('x is printed from global scope:',x)"
   ]
  },
  {
   "cell_type": "code",
   "execution_count": 11,
   "id": "60b8f582-90ae-48bd-88fa-5be30ec23d8e",
   "metadata": {},
   "outputs": [
    {
     "name": "stdout",
     "output_type": "stream",
     "text": [
      "x is printed from global scope: 7\n"
     ]
    }
   ],
   "source": [
    "access_globe()"
   ]
  },
  {
   "cell_type": "code",
   "execution_count": 12,
   "id": "7876e94a-ec53-4ab1-9bcd-0aa64364bf8b",
   "metadata": {},
   "outputs": [],
   "source": [
    "def try_to_modify_global():\n",
    "    x=3.5    # by default function can not mofy global variables , here it created local variable x \n",
    "    print('x is printed from global scope:',x)"
   ]
  },
  {
   "cell_type": "code",
   "execution_count": 13,
   "id": "7d73011c-9519-4f6a-980e-4acf091a491f",
   "metadata": {},
   "outputs": [
    {
     "name": "stdout",
     "output_type": "stream",
     "text": [
      "x is printed from global scope: 3.5\n"
     ]
    }
   ],
   "source": [
    "try_to_modify_global()  # that is y u see 3.5"
   ]
  },
  {
   "cell_type": "code",
   "execution_count": 14,
   "id": "4c6d9588-6daf-40aa-9426-0676ac9d6c35",
   "metadata": {},
   "outputs": [
    {
     "data": {
      "text/plain": [
       "7"
      ]
     },
     "execution_count": 14,
     "metadata": {},
     "output_type": "execute_result"
    }
   ],
   "source": [
    "x  # if you see here it has original value "
   ]
  },
  {
   "cell_type": "code",
   "execution_count": 16,
   "id": "4d25423c-7297-488a-8842-e153b90fbe9c",
   "metadata": {},
   "outputs": [],
   "source": [
    "def modify_global():\n",
    "    global x   #this will allow  modify the global variable , we just declare the variable agin with global keyword \n",
    "    x=3.5   \n",
    "    print('x is printed from global scope:',x)"
   ]
  },
  {
   "cell_type": "code",
   "execution_count": 17,
   "id": "0bf1ce92-6017-4d34-a87a-a97dcd8f1142",
   "metadata": {},
   "outputs": [
    {
     "name": "stdout",
     "output_type": "stream",
     "text": [
      "x is printed from global scope: 3.5\n"
     ]
    }
   ],
   "source": [
    "modify_global()"
   ]
  },
  {
   "cell_type": "code",
   "execution_count": 18,
   "id": "379512da-8e86-4f81-bf13-86c1fbfde8d4",
   "metadata": {},
   "outputs": [
    {
     "data": {
      "text/plain": [
       "3.5"
      ]
     },
     "execution_count": 18,
     "metadata": {},
     "output_type": "execute_result"
    }
   ],
   "source": [
    "x # if you see here the global value also modified "
   ]
  },
  {
   "cell_type": "code",
   "execution_count": 19,
   "id": "17747e46-4153-415c-bce0-06bcccfc2924",
   "metadata": {},
   "outputs": [
    {
     "data": {
      "text/plain": [
       "builtin_function_or_method"
      ]
     },
     "execution_count": 19,
     "metadata": {},
     "output_type": "execute_result"
    }
   ],
   "source": [
    "type(sum)"
   ]
  },
  {
   "cell_type": "code",
   "execution_count": 20,
   "id": "028ee573-ce4c-4d42-8559-67287b33345b",
   "metadata": {},
   "outputs": [],
   "source": [
    "# lets task about import in python   ex: import math   , ex : from decimal import Decimal "
   ]
  },
  {
   "cell_type": "code",
   "execution_count": 21,
   "id": "19544b08-a36f-4ff7-ab53-520499acec3b",
   "metadata": {},
   "outputs": [],
   "source": [
    "from math import ceil,floor    # if you see here we explicitly imported two functions , in this case we dont nned to mention the module name like below you can call like regular function "
   ]
  },
  {
   "cell_type": "code",
   "execution_count": 29,
   "id": "d9e4fc20-e3d2-46f1-8663-865d42598fe8",
   "metadata": {},
   "outputs": [
    {
     "data": {
      "text/plain": [
       "11"
      ]
     },
     "execution_count": 29,
     "metadata": {},
     "output_type": "execute_result"
    }
   ],
   "source": [
    "ceil(10.3)"
   ]
  },
  {
   "cell_type": "code",
   "execution_count": 23,
   "id": "ce6e9f0f-31aa-4918-adcd-2b80d76e4fa6",
   "metadata": {},
   "outputs": [
    {
     "data": {
      "text/plain": [
       "10"
      ]
     },
     "execution_count": 23,
     "metadata": {},
     "output_type": "execute_result"
    }
   ],
   "source": [
    "floor(10.7)"
   ]
  },
  {
   "cell_type": "code",
   "execution_count": 30,
   "id": "23726a9f-e0e2-4852-817f-82761c3db39b",
   "metadata": {},
   "outputs": [],
   "source": [
    "e='hello'"
   ]
  },
  {
   "cell_type": "code",
   "execution_count": 31,
   "id": "c469ef6e-6fdd-40a2-a6a4-d31b3098ac2e",
   "metadata": {},
   "outputs": [],
   "source": [
    "from math import * # (*)  means import all from this math module "
   ]
  },
  {
   "cell_type": "code",
   "execution_count": 32,
   "id": "43211d35-346a-4993-afe4-e9e75f84f70e",
   "metadata": {},
   "outputs": [
    {
     "data": {
      "text/plain": [
       "2.718281828459045"
      ]
     },
     "execution_count": 32,
     "metadata": {},
     "output_type": "execute_result"
    }
   ],
   "source": [
    "e    # the reason the varaible e has different values in the module has constat with the name e , so since you imported this it is showing thi9s constant variable value "
   ]
  },
  {
   "cell_type": "code",
   "execution_count": 33,
   "id": "5cf8b3a0-3138-4adc-b0f8-fd3186437eda",
   "metadata": {},
   "outputs": [],
   "source": [
    "import statistics as stats # this just like a short name to the module so in the program you can call all the function on this module with this short name instaead entile mudule full long name "
   ]
  },
  {
   "cell_type": "code",
   "execution_count": 34,
   "id": "43f604a2-9d2c-46fb-ae12-fcd4caec8829",
   "metadata": {},
   "outputs": [],
   "source": [
    "grades=[85,93,45,87,93]"
   ]
  },
  {
   "cell_type": "code",
   "execution_count": 35,
   "id": "af61c739-3962-4b0d-9d53-62efe470bb85",
   "metadata": {},
   "outputs": [
    {
     "data": {
      "text/plain": [
       "80.6"
      ]
     },
     "execution_count": 35,
     "metadata": {},
     "output_type": "execute_result"
    }
   ],
   "source": [
    "stats.mean(grades)  # see here we called this mena function with short name of module "
   ]
  },
  {
   "cell_type": "code",
   "execution_count": 53,
   "id": "c9b03306-6600-41af-aaea-4448ea288903",
   "metadata": {},
   "outputs": [],
   "source": [
    " import decimal as dec"
   ]
  },
  {
   "cell_type": "code",
   "execution_count": 54,
   "id": "47bceef0-4038-4325-ac76-91a0b18eead6",
   "metadata": {},
   "outputs": [
    {
     "data": {
      "text/plain": [
       "Decimal('6.25')"
      ]
     },
     "execution_count": 54,
     "metadata": {},
     "output_type": "execute_result"
    }
   ],
   "source": [
    "dec.Decimal(2.5)**2"
   ]
  },
  {
   "cell_type": "code",
   "execution_count": 56,
   "id": "b24223ac-c3b7-41df-b5fd-9b760f2ad3a5",
   "metadata": {},
   "outputs": [],
   "source": [
    "# passing arguments to function"
   ]
  },
  {
   "cell_type": "code",
   "execution_count": 57,
   "id": "d51b19a3-874d-4c2b-836d-ebb064a3b6f4",
   "metadata": {},
   "outputs": [],
   "source": [
    "x=7"
   ]
  },
  {
   "cell_type": "code",
   "execution_count": 58,
   "id": "ccb67e24-eb2a-4a6c-9a93-38ce9f020bff",
   "metadata": {},
   "outputs": [
    {
     "data": {
      "text/plain": [
       "3095585319408"
      ]
     },
     "execution_count": 58,
     "metadata": {},
     "output_type": "execute_result"
    }
   ],
   "source": [
    "id(x)   # this is an python function which retuen the object identify (memory address of this x variable )"
   ]
  },
  {
   "cell_type": "code",
   "execution_count": 59,
   "id": "52b6cb60-d3d7-4dc5-bb00-85e995039cab",
   "metadata": {},
   "outputs": [],
   "source": [
    "def cube(number):\n",
    "    print('id(number):',id(number))\n",
    "    return number**3"
   ]
  },
  {
   "cell_type": "code",
   "execution_count": 60,
   "id": "ee9f402f-9195-4a0c-8efa-ae499caecd3e",
   "metadata": {},
   "outputs": [
    {
     "name": "stdout",
     "output_type": "stream",
     "text": [
      "id(number): 3095585319408\n"
     ]
    },
    {
     "data": {
      "text/plain": [
       "343"
      ]
     },
     "execution_count": 60,
     "metadata": {},
     "output_type": "execute_result"
    }
   ],
   "source": [
    "cube(7)"
   ]
  },
  {
   "cell_type": "code",
   "execution_count": 61,
   "id": "310f82d1-0b21-461a-8942-392760e65e20",
   "metadata": {},
   "outputs": [],
   "source": [
    "def cube(number):\n",
    "    print('number is x :',number is x )  # x is global variable\n",
    "    return number**3"
   ]
  },
  {
   "cell_type": "code",
   "execution_count": 62,
   "id": "e7a751cd-7e6a-4b8c-81e0-dcc7432d4aa7",
   "metadata": {},
   "outputs": [
    {
     "name": "stdout",
     "output_type": "stream",
     "text": [
      "number is x : True\n"
     ]
    },
    {
     "data": {
      "text/plain": [
       "343"
      ]
     },
     "execution_count": 62,
     "metadata": {},
     "output_type": "execute_result"
    }
   ],
   "source": [
    "cube(x)"
   ]
  },
  {
   "cell_type": "code",
   "execution_count": 64,
   "id": "300c55c9-29b9-4bda-aa27-90365587bb69",
   "metadata": {},
   "outputs": [],
   "source": [
    "def cube(number):\n",
    "    print('id(number) before modifying:',id(number))\n",
    "    number**=3\n",
    "    print('id(number) after modifying:',id(number))   # here is is just a reference so it created new address for this instance of program \n",
    "    return number\n"
   ]
  },
  {
   "cell_type": "code",
   "execution_count": 65,
   "id": "d42285c1-80d3-4d27-8095-febff5a1bc25",
   "metadata": {},
   "outputs": [
    {
     "name": "stdout",
     "output_type": "stream",
     "text": [
      "id(number) before modifying: 3095585319408\n",
      "id(number) after modifying: 3095708299824\n"
     ]
    },
    {
     "data": {
      "text/plain": [
       "343"
      ]
     },
     "execution_count": 65,
     "metadata": {},
     "output_type": "execute_result"
    }
   ],
   "source": [
    "cube(x)"
   ]
  },
  {
   "cell_type": "code",
   "execution_count": 66,
   "id": "95db4607-c588-4f7a-bc6b-ca62b608e5a5",
   "metadata": {},
   "outputs": [
    {
     "data": {
      "text/plain": [
       "3095585319408"
      ]
     },
     "execution_count": 66,
     "metadata": {},
     "output_type": "execute_result"
    }
   ],
   "source": [
    "id(x)    # this is immutable that is y now it point to original addess "
   ]
  },
  {
   "cell_type": "code",
   "execution_count": 67,
   "id": "7d53e4f0-8f83-4c9a-83c9-132cecf0fb5c",
   "metadata": {},
   "outputs": [],
   "source": [
    "width=15.5"
   ]
  },
  {
   "cell_type": "code",
   "execution_count": 68,
   "id": "a6392ee1-b536-4bab-99c7-f2389669119c",
   "metadata": {},
   "outputs": [
    {
     "name": "stdout",
     "output_type": "stream",
     "text": [
      "id: 3095704700272  value  15.5\n"
     ]
    }
   ],
   "source": [
    "print('id:',id(width),' value ',width)"
   ]
  },
  {
   "cell_type": "code",
   "execution_count": 69,
   "id": "11806137-b39f-4c68-862b-7a0aff265fb7",
   "metadata": {},
   "outputs": [],
   "source": [
    "width*=3"
   ]
  },
  {
   "cell_type": "code",
   "execution_count": 70,
   "id": "9ca27bab-dcc5-499b-93ca-499cfb1dbf51",
   "metadata": {},
   "outputs": [
    {
     "name": "stdout",
     "output_type": "stream",
     "text": [
      "id: 3095704700400  value  46.5\n"
     ]
    }
   ],
   "source": [
    "print('id:',id(width),' value ',width)"
   ]
  },
  {
   "cell_type": "code",
   "execution_count": 71,
   "id": "3e29cb45-6ede-4a28-a33f-1ace66d71fef",
   "metadata": {},
   "outputs": [],
   "source": [
    "# functional style programing "
   ]
  },
  {
   "cell_type": "code",
   "execution_count": 72,
   "id": "6b6d246e-5d88-4086-b8ef-220d12a525b5",
   "metadata": {},
   "outputs": [],
   "source": [
    "values=[1,2,3]"
   ]
  },
  {
   "cell_type": "code",
   "execution_count": 73,
   "id": "5bbdb8d2-5fd3-4329-88cb-0360348e1d66",
   "metadata": {},
   "outputs": [
    {
     "data": {
      "text/plain": [
       "6"
      ]
     },
     "execution_count": 73,
     "metadata": {},
     "output_type": "execute_result"
    }
   ],
   "source": [
    "sum(values)"
   ]
  },
  {
   "cell_type": "code",
   "execution_count": 74,
   "id": "6d47c94c-ccf6-4e37-9c14-3dfbb9a50752",
   "metadata": {},
   "outputs": [
    {
     "data": {
      "text/plain": [
       "6"
      ]
     },
     "execution_count": 74,
     "metadata": {},
     "output_type": "execute_result"
    }
   ],
   "source": [
    "sum(values)"
   ]
  },
  {
   "cell_type": "code",
   "execution_count": 75,
   "id": "f4d5731e-433d-4022-905c-e0e1efc9fa61",
   "metadata": {},
   "outputs": [
    {
     "data": {
      "text/plain": [
       "[1, 2, 3]"
      ]
     },
     "execution_count": 75,
     "metadata": {},
     "output_type": "execute_result"
    }
   ],
   "source": [
    "values"
   ]
  },
  {
   "cell_type": "code",
   "execution_count": 76,
   "id": "97c4b89d-e129-410d-a295-0478eaf45a50",
   "metadata": {},
   "outputs": [],
   "source": [
    "# variance "
   ]
  },
  {
   "cell_type": "code",
   "execution_count": 77,
   "id": "fec79d70-7138-48aa-b6c1-96a3b7eac484",
   "metadata": {},
   "outputs": [],
   "source": [
    "import statistics as stat"
   ]
  },
  {
   "cell_type": "code",
   "execution_count": 78,
   "id": "c5b3970c-acc0-42c7-b32f-3077eafbb8c4",
   "metadata": {},
   "outputs": [
    {
     "data": {
      "text/plain": [
       "2.25"
      ]
     },
     "execution_count": 78,
     "metadata": {},
     "output_type": "execute_result"
    }
   ],
   "source": [
    "stat.pvariance([1,3,4,2,6,5,3,4,5,2])   # population variance function "
   ]
  },
  {
   "cell_type": "code",
   "execution_count": 79,
   "id": "86f49018-46db-414c-bf37-ad163ba48d93",
   "metadata": {},
   "outputs": [],
   "source": [
    "# standard deviation , we can do couple of ways "
   ]
  },
  {
   "cell_type": "code",
   "execution_count": 80,
   "id": "c0fe36f7-da8c-40e5-961f-55c23ee683b3",
   "metadata": {},
   "outputs": [
    {
     "data": {
      "text/plain": [
       "1.5"
      ]
     },
     "execution_count": 80,
     "metadata": {},
     "output_type": "execute_result"
    }
   ],
   "source": [
    "stat.pstdev([1,3,4,2,6,5,3,4,5,2])"
   ]
  },
  {
   "cell_type": "code",
   "execution_count": 81,
   "id": "bafea3a8-8169-4e06-a6ba-23cf9c13da29",
   "metadata": {},
   "outputs": [],
   "source": [
    "# standard deviation is sqrt of variance "
   ]
  },
  {
   "cell_type": "code",
   "execution_count": 82,
   "id": "4585faa7-8e2e-412a-af78-3e0b8de50511",
   "metadata": {},
   "outputs": [],
   "source": [
    "import math"
   ]
  },
  {
   "cell_type": "code",
   "execution_count": 83,
   "id": "f905ea8a-f68f-4acf-81aa-61cfea97886a",
   "metadata": {},
   "outputs": [
    {
     "data": {
      "text/plain": [
       "1.5"
      ]
     },
     "execution_count": 83,
     "metadata": {},
     "output_type": "execute_result"
    }
   ],
   "source": [
    "math.sqrt(2.25)"
   ]
  },
  {
   "cell_type": "code",
   "execution_count": 85,
   "id": "d41908cd-3945-4f0a-ad8a-fb549f9eac23",
   "metadata": {},
   "outputs": [
    {
     "data": {
      "text/plain": [
       "1.5"
      ]
     },
     "execution_count": 85,
     "metadata": {},
     "output_type": "execute_result"
    }
   ],
   "source": [
    "math.sqrt(stat.pvariance([1,3,4,2,6,5,3,4,5,2]))"
   ]
  },
  {
   "cell_type": "code",
   "execution_count": 86,
   "id": "e2034b73-fe0f-4c6e-ac15-35010717a5c7",
   "metadata": {},
   "outputs": [
    {
     "data": {
      "text/plain": [
       "1.5"
      ]
     },
     "execution_count": 86,
     "metadata": {},
     "output_type": "execute_result"
    }
   ],
   "source": [
    "math.sqrt(2.25)"
   ]
  },
  {
   "cell_type": "code",
   "execution_count": null,
   "id": "f48ec4ab-4adb-486b-8ea9-f0725c3c2ac4",
   "metadata": {},
   "outputs": [],
   "source": []
  }
 ],
 "metadata": {
  "kernelspec": {
   "display_name": "Python 3 (ipykernel)",
   "language": "python",
   "name": "python3"
  },
  "language_info": {
   "codemirror_mode": {
    "name": "ipython",
    "version": 3
   },
   "file_extension": ".py",
   "mimetype": "text/x-python",
   "name": "python",
   "nbconvert_exporter": "python",
   "pygments_lexer": "ipython3",
   "version": "3.9.13"
  }
 },
 "nbformat": 4,
 "nbformat_minor": 5
}
