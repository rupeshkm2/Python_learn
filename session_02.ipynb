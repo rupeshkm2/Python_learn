{
 "cells": [
  {
   "cell_type": "code",
   "execution_count": 2,
   "id": "160a2c4c-0c36-4cd7-aadc-ebfb2a657ec4",
   "metadata": {},
   "outputs": [
    {
     "name": "stdin",
     "output_type": "stream",
     "text": [
      "what is you name rupesh mandadi\n"
     ]
    }
   ],
   "source": [
    "name=input(\"what is you name\")"
   ]
  },
  {
   "cell_type": "code",
   "execution_count": 3,
   "id": "897f3d5d-cc8d-4dc1-8b9a-bb622f3e9e75",
   "metadata": {},
   "outputs": [
    {
     "data": {
      "text/plain": [
       "'rupesh mandadi'"
      ]
     },
     "execution_count": 3,
     "metadata": {},
     "output_type": "execute_result"
    }
   ],
   "source": [
    "name  # print the variable , and the string output is  deisplay in sigle quiotes like 'rupesh mandadi'"
   ]
  },
  {
   "cell_type": "code",
   "execution_count": null,
   "id": "5d23e024-7078-4f1c-bf81-bd57e1d1ee9a",
   "metadata": {},
   "outputs": [],
   "source": []
  },
  {
   "cell_type": "code",
   "execution_count": 4,
   "id": "d0da524a-5c30-4ca9-a02c-30247751317d",
   "metadata": {},
   "outputs": [
    {
     "name": "stdout",
     "output_type": "stream",
     "text": [
      "rupesh mandadi\n"
     ]
    }
   ],
   "source": [
    "print (name) # here the string display without quotes "
   ]
  },
  {
   "cell_type": "code",
   "execution_count": 5,
   "id": "a55ae3f3-57d5-4c4c-9a7a-97d5c12bb7a5",
   "metadata": {},
   "outputs": [
    {
     "name": "stdin",
     "output_type": "stream",
     "text": [
      "what is you name ? 'rupesh mandadi'\n"
     ]
    }
   ],
   "source": [
    "name=input(\"what is you name ?\") # now give the value with single quotes "
   ]
  },
  {
   "cell_type": "code",
   "execution_count": 6,
   "id": "8be8e7b9-ae33-4b35-9613-9f08be302aac",
   "metadata": {},
   "outputs": [
    {
     "name": "stdout",
     "output_type": "stream",
     "text": [
      "'rupesh mandadi'\n"
     ]
    }
   ],
   "source": [
    "print(name)"
   ]
  },
  {
   "cell_type": "code",
   "execution_count": 7,
   "id": "ce09b647-c5df-4ea3-9105-0db1b8ab0ce6",
   "metadata": {},
   "outputs": [
    {
     "data": {
      "text/plain": [
       "\"'rupesh mandadi'\""
      ]
     },
     "execution_count": 7,
     "metadata": {},
     "output_type": "execute_result"
    }
   ],
   "source": [
    "name # if you notice it has now double quotes because we gave value with single quotes "
   ]
  },
  {
   "cell_type": "code",
   "execution_count": 8,
   "id": "cf0436a3-02f9-4cb1-8965-351f705cf3fd",
   "metadata": {},
   "outputs": [
    {
     "name": "stdin",
     "output_type": "stream",
     "text": [
      "Enter first number : 7\n"
     ]
    }
   ],
   "source": [
    "value1=input('Enter first number :') "
   ]
  },
  {
   "cell_type": "code",
   "execution_count": 9,
   "id": "579f87ca-79ee-4957-beb1-5a7eda6bbec7",
   "metadata": {},
   "outputs": [
    {
     "name": "stdin",
     "output_type": "stream",
     "text": [
      "Enter second number : 3\n"
     ]
    }
   ],
   "source": [
    "value2=input('Enter second number :') "
   ]
  },
  {
   "cell_type": "code",
   "execution_count": 10,
   "id": "7ab0988a-7322-4124-b0bb-c5ad681763c2",
   "metadata": {},
   "outputs": [
    {
     "data": {
      "text/plain": [
       "'73'"
      ]
     },
     "execution_count": 10,
     "metadata": {},
     "output_type": "execute_result"
    }
   ],
   "source": [
    "value1+value2 # it considered as string because it received as input  so it concatinated , so we nned to convert "
   ]
  },
  {
   "cell_type": "code",
   "execution_count": 11,
   "id": "9258ca66-7802-4f08-94c9-e65a4f911265",
   "metadata": {},
   "outputs": [
    {
     "data": {
      "text/plain": [
       "10"
      ]
     },
     "execution_count": 11,
     "metadata": {},
     "output_type": "execute_result"
    }
   ],
   "source": [
    "int(value1)+int(value2) # converted to number "
   ]
  },
  {
   "cell_type": "code",
   "execution_count": 12,
   "id": "3279aa12-d1a8-41c4-bb88-24e697a61d71",
   "metadata": {},
   "outputs": [],
   "source": [
    "value1=int(value1) # this is another way to convert and assigned to the same variable "
   ]
  },
  {
   "cell_type": "code",
   "execution_count": 13,
   "id": "3ddbfb53-d79d-4f73-9a14-0e5228f9360d",
   "metadata": {},
   "outputs": [],
   "source": [
    "value2=int(value2)"
   ]
  },
  {
   "cell_type": "code",
   "execution_count": 14,
   "id": "908ee0d8-64f7-4185-9597-943b4db36526",
   "metadata": {},
   "outputs": [
    {
     "data": {
      "text/plain": [
       "10"
      ]
     },
     "execution_count": 14,
     "metadata": {},
     "output_type": "execute_result"
    }
   ],
   "source": [
    "value1+value2"
   ]
  },
  {
   "cell_type": "markdown",
   "id": "21d0b671-c144-4797-b215-7b5911539866",
   "metadata": {},
   "source": []
  },
  {
   "cell_type": "code",
   "execution_count": 15,
   "id": "23e5a282-16a1-4e7f-a2ef-0f11dcaac19b",
   "metadata": {},
   "outputs": [
    {
     "name": "stdin",
     "output_type": "stream",
     "text": [
      "what is the 3rd number : 7\n"
     ]
    }
   ],
   "source": [
    "value3=int(input('what is the 3rd number :'))  # this will automaticaaly convert to number while assigning "
   ]
  },
  {
   "cell_type": "code",
   "execution_count": 18,
   "id": "d2edc1eb-357d-4fd8-96ab-8bffc9ea72b2",
   "metadata": {},
   "outputs": [],
   "source": [
    "# convert this as comment cell"
   ]
  },
  {
   "cell_type": "code",
   "execution_count": 19,
   "id": "f1c48bce-3435-4d4d-b754-32ea6bde74ae",
   "metadata": {},
   "outputs": [
    {
     "name": "stdin",
     "output_type": "stream",
     "text": [
      "enter bad conversion value hello\n"
     ]
    },
    {
     "ename": "ValueError",
     "evalue": "invalid literal for int() with base 10: 'hello'",
     "output_type": "error",
     "traceback": [
      "\u001b[1;31m---------------------------------------------------------------------------\u001b[0m",
      "\u001b[1;31mValueError\u001b[0m                                Traceback (most recent call last)",
      "\u001b[1;32m~\\AppData\\Local\\Temp\\ipykernel_26852\\3668720915.py\u001b[0m in \u001b[0;36m<module>\u001b[1;34m\u001b[0m\n\u001b[1;32m----> 1\u001b[1;33m \u001b[0mbad_value\u001b[0m\u001b[1;33m=\u001b[0m\u001b[0mint\u001b[0m\u001b[1;33m(\u001b[0m\u001b[0minput\u001b[0m\u001b[1;33m(\u001b[0m\u001b[1;34m'enter bad conversion value'\u001b[0m\u001b[1;33m)\u001b[0m\u001b[1;33m)\u001b[0m\u001b[1;33m\u001b[0m\u001b[1;33m\u001b[0m\u001b[0m\n\u001b[0m",
      "\u001b[1;31mValueError\u001b[0m: invalid literal for int() with base 10: 'hello'"
     ]
    }
   ],
   "source": [
    "bad_value=int(input('enter bad conversion value'))"
   ]
  },
  {
   "cell_type": "code",
   "execution_count": 20,
   "id": "0b679ad2-ac05-40a3-aa2c-c910c9d04e6e",
   "metadata": {},
   "outputs": [
    {
     "data": {
      "text/plain": [
       "10"
      ]
     },
     "execution_count": 20,
     "metadata": {},
     "output_type": "execute_result"
    }
   ],
   "source": [
    "int(10.5) # it truncate the floating number when we convert to integer "
   ]
  },
  {
   "cell_type": "code",
   "execution_count": 21,
   "id": "326cb956-d473-4554-a7e3-154fc47552bf",
   "metadata": {},
   "outputs": [
    {
     "data": {
      "text/plain": [
       "3.3"
      ]
     },
     "execution_count": 21,
     "metadata": {},
     "output_type": "execute_result"
    }
   ],
   "source": [
    "float(3.3)"
   ]
  },
  {
   "cell_type": "code",
   "execution_count": 22,
   "id": "df567737-e5ae-4e83-ae36-6f69b2134383",
   "metadata": {},
   "outputs": [
    {
     "data": {
      "text/plain": [
       "6.2"
      ]
     },
     "execution_count": 22,
     "metadata": {},
     "output_type": "execute_result"
    }
   ],
   "source": [
    "float('6.2') # though if we have value as string with single quotes it convert to number "
   ]
  },
  {
   "cell_type": "code",
   "execution_count": 23,
   "id": "33b5659b-c7ba-484f-a1d7-840ebde06c29",
   "metadata": {},
   "outputs": [
    {
     "data": {
      "text/plain": [
       "20.46"
      ]
     },
     "execution_count": 23,
     "metadata": {},
     "output_type": "execute_result"
    }
   ],
   "source": [
    "float(6.2)*3.3"
   ]
  },
  {
   "cell_type": "code",
   "execution_count": 24,
   "id": "9e4eab84-1ec8-4c1d-9d00-c337a876d670",
   "metadata": {},
   "outputs": [],
   "source": [
    "# if statement and comparision operators "
   ]
  },
  {
   "cell_type": "code",
   "execution_count": 25,
   "id": "4bf3c9f9-c30c-43ba-b68d-2fba61e8d00f",
   "metadata": {},
   "outputs": [
    {
     "data": {
      "text/plain": [
       "True"
      ]
     },
     "execution_count": 25,
     "metadata": {},
     "output_type": "execute_result"
    }
   ],
   "source": [
    "7>4"
   ]
  },
  {
   "cell_type": "code",
   "execution_count": 26,
   "id": "76c9455a-7eef-45aa-8d0d-10dbed10e732",
   "metadata": {},
   "outputs": [
    {
     "data": {
      "text/plain": [
       "False"
      ]
     },
     "execution_count": 26,
     "metadata": {},
     "output_type": "execute_result"
    }
   ],
   "source": [
    "4>5"
   ]
  },
  {
   "cell_type": "code",
   "execution_count": 27,
   "id": "463ed0fe-adf5-43b4-8ae2-267227887c29",
   "metadata": {},
   "outputs": [
    {
     "data": {
      "text/plain": [
       "True"
      ]
     },
     "execution_count": 27,
     "metadata": {},
     "output_type": "execute_result"
    }
   ],
   "source": [
    "4==4 # == comparision operator ,  = is assign "
   ]
  },
  {
   "cell_type": "code",
   "execution_count": 29,
   "id": "325814aa-1497-4d27-ba46-c5655f295288",
   "metadata": {},
   "outputs": [],
   "source": [
    "# %load fig02_01.py\n",
    "# fig02_01.py\n",
    "\"\"\"Compare integers using if statements and comparison operators.\"\"\"\n",
    "\n",
    "print('Enter two integers and I will tell you', \n",
    "      'the relationships they satisfy.')\n",
    "\n",
    "# read first integer\n",
    "number1 = int(input('Enter first integer: '))\n",
    "\n",
    "# read second integer\n",
    "number2 = int(input('Enter second integer: '))\n",
    "\n",
    "if number1 == number2:\n",
    "    print(number1, 'is equal to', number2)\n",
    "\n",
    "if number1 != number2:\n",
    "    print(number1, 'is not equal to', number2)\n",
    "\n",
    "if number1 < number2:\n",
    "    print(number1, 'is less than', number2)\n",
    "\n",
    "if number1 > number2:\n",
    "    print(number1, 'is greater than', number2)\n",
    "\n",
    "if number1 <= number2:\n",
    "    print(number1, 'is less than or equal to', number2)\n",
    "\n",
    "if number1 >= number2:\n",
    "    print(number1, 'is greater than or equal to', number2)\n",
    "\n",
    "##########################################################################\n",
    "# (C) Copyright 2019 by Deitel & Associates, Inc. and                    #\n",
    "# Pearson Education, Inc. All Rights Reserved.                           #\n",
    "#                                                                        #\n",
    "# DISCLAIMER: The authors and publisher of this book have used their     #\n",
    "# best efforts in preparing the book. These efforts include the          #\n",
    "# development, research, and testing of the theories and programs        #\n",
    "# to determine their effectiveness. The authors and publisher make       #\n",
    "# no warranty of any kind, expressed or implied, with regard to these    #\n",
    "# programs or to the documentation contained in these books. The authors #\n",
    "# and publisher shall not be liable in any event for incidental or       #\n",
    "# consequential damages in connection with, or arising out of, the       #\n",
    "# furnishing, performance, or use of these programs.                     #\n",
    "##########################################################################\n"
   ]
  },
  {
   "cell_type": "code",
   "execution_count": 31,
   "id": "10d111ea-51d9-4a2a-8f9b-c8373764dc70",
   "metadata": {},
   "outputs": [
    {
     "name": "stdout",
     "output_type": "stream",
     "text": [
      "Enter two integers and I will tell you the relationships they satisfy.\n"
     ]
    },
    {
     "name": "stdin",
     "output_type": "stream",
     "text": [
      "Enter first integer:  37\n",
      "Enter second integer:  42\n"
     ]
    },
    {
     "name": "stdout",
     "output_type": "stream",
     "text": [
      "37 is not equal to 42\n",
      "37 is less than 42\n",
      "37 is less than or equal to 42\n"
     ]
    }
   ],
   "source": [
    "%run fig02_01.py  # %run is the command to run the .py files "
   ]
  },
  {
   "cell_type": "code",
   "execution_count": 32,
   "id": "bbfe5399-8c75-49ea-bb57-7d1419934692",
   "metadata": {},
   "outputs": [
    {
     "name": "stdout",
     "output_type": "stream",
     "text": [
      "Enter two integers and I will tell you the relationships they satisfy.\n"
     ]
    },
    {
     "name": "stdin",
     "output_type": "stream",
     "text": [
      "Enter first integer:  7\n",
      "Enter second integer:  7\n"
     ]
    },
    {
     "name": "stdout",
     "output_type": "stream",
     "text": [
      "7 is equal to 7\n",
      "7 is less than or equal to 7\n",
      "7 is greater than or equal to 7\n"
     ]
    }
   ],
   "source": [
    "%run fig02_01.py    "
   ]
  },
  {
   "cell_type": "code",
   "execution_count": 33,
   "id": "18775c29-57d0-4a91-8af5-afcfd181e99a",
   "metadata": {},
   "outputs": [
    {
     "name": "stdout",
     "output_type": "stream",
     "text": [
      " Volume in drive C is Windows\n",
      " Volume Serial Number is E490-A675\n",
      "\n",
      " Directory of C:\\Users\\MANDADI\\Documents\\PythonForProgrammers-master\\examples\\ch02\n",
      "\n",
      "03/08/2023  06:45 PM    <DIR>          .\n",
      "03/04/2023  01:33 PM    <DIR>          ..\n",
      "03/08/2023  06:09 PM    <DIR>          .ipynb_checkpoints\n",
      "03/04/2023  01:32 PM             1,801 fig02_01.py\n",
      "03/04/2023  01:32 PM             1,402 fig02_02.py\n",
      "03/07/2023  08:45 PM               602 session_01.ipy\n",
      "03/08/2023  06:45 PM            13,833 session_02.ipynb\n",
      "03/04/2023  01:32 PM    <DIR>          snippets_ipynb\n",
      "03/04/2023  01:32 PM    <DIR>          snippets_py\n",
      "               4 File(s)         17,638 bytes\n",
      "               5 Dir(s)  94,761,975,808 bytes free\n"
     ]
    }
   ],
   "source": [
    "ls   # to see the list of files "
   ]
  },
  {
   "cell_type": "code",
   "execution_count": 34,
   "id": "59c8469c-4c36-4537-9bc7-77a0e6e81431",
   "metadata": {},
   "outputs": [],
   "source": [
    "x=3"
   ]
  },
  {
   "cell_type": "code",
   "execution_count": 35,
   "id": "2d6ef868-3ca5-42f4-b419-5d63996a663f",
   "metadata": {},
   "outputs": [
    {
     "data": {
      "text/plain": [
       "True"
      ]
     },
     "execution_count": 35,
     "metadata": {},
     "output_type": "execute_result"
    }
   ],
   "source": [
    "1<=x<=5   # it checks two conditions i.e   x is gtreater than 1 and x less than 5  , in other wards x is in rage of 1 to 5 "
   ]
  },
  {
   "cell_type": "code",
   "execution_count": 36,
   "id": "929a9e71-d335-422c-8315-fdcbb6e998e5",
   "metadata": {},
   "outputs": [],
   "source": [
    "x=10"
   ]
  },
  {
   "cell_type": "code",
   "execution_count": 37,
   "id": "3f09f4aa-dde0-4b75-bfc5-4a3be8caca68",
   "metadata": {},
   "outputs": [
    {
     "data": {
      "text/plain": [
       "False"
      ]
     },
     "execution_count": 37,
     "metadata": {},
     "output_type": "execute_result"
    }
   ],
   "source": [
    "1<=x<=5"
   ]
  },
  {
   "cell_type": "code",
   "execution_count": 38,
   "id": "7901851e-edfc-4447-86b8-8f07c1a38ac4",
   "metadata": {},
   "outputs": [
    {
     "ename": "SyntaxError",
     "evalue": "cannot assign to literal (30852308.py, line 1)",
     "output_type": "error",
     "traceback": [
      "\u001b[1;36m  File \u001b[1;32m\"C:\\Users\\MANDADI\\AppData\\Local\\Temp\\ipykernel_26852\\30852308.py\"\u001b[1;36m, line \u001b[1;32m1\u001b[0m\n\u001b[1;33m    7=<10\u001b[0m\n\u001b[1;37m    ^\u001b[0m\n\u001b[1;31mSyntaxError\u001b[0m\u001b[1;31m:\u001b[0m cannot assign to literal\n"
     ]
    }
   ],
   "source": [
    "7=<10"
   ]
  },
  {
   "cell_type": "code",
   "execution_count": 39,
   "id": "68ba11ae-172d-4576-ab70-cc54ba1e4358",
   "metadata": {},
   "outputs": [
    {
     "data": {
      "text/plain": [
       "True"
      ]
     },
     "execution_count": 39,
     "metadata": {},
     "output_type": "execute_result"
    }
   ],
   "source": [
    "7<=10"
   ]
  },
  {
   "cell_type": "code",
   "execution_count": 40,
   "id": "385f17d6-42f5-4b29-9aec-9b0afbe41776",
   "metadata": {},
   "outputs": [
    {
     "name": "stdout",
     "output_type": "stream",
     "text": [
      "True False True True\n"
     ]
    }
   ],
   "source": [
    "print(5<9, 5>10,5==5 ,5!=9)"
   ]
  },
  {
   "cell_type": "code",
   "execution_count": 41,
   "id": "fd45c6be-0e73-4c8d-b51f-741785fe6627",
   "metadata": {},
   "outputs": [
    {
     "data": {
      "text/plain": [
       "int"
      ]
     },
     "execution_count": 41,
     "metadata": {},
     "output_type": "execute_result"
    }
   ],
   "source": [
    "type(7)"
   ]
  },
  {
   "cell_type": "code",
   "execution_count": 42,
   "id": "6fd11ce6-ec96-4cc6-a64b-71283997c81e",
   "metadata": {},
   "outputs": [
    {
     "data": {
      "text/plain": [
       "float"
      ]
     },
     "execution_count": 42,
     "metadata": {},
     "output_type": "execute_result"
    }
   ],
   "source": [
    "type(4.1)"
   ]
  },
  {
   "cell_type": "code",
   "execution_count": 43,
   "id": "570fec44-089b-43e3-9f4e-d2c469dfe317",
   "metadata": {},
   "outputs": [
    {
     "data": {
      "text/plain": [
       "str"
      ]
     },
     "execution_count": 43,
     "metadata": {},
     "output_type": "execute_result"
    }
   ],
   "source": [
    "type('rupesh')"
   ]
  },
  {
   "cell_type": "code",
   "execution_count": 50,
   "id": "b6b6a460-d99d-4c62-b6d3-19e229390014",
   "metadata": {},
   "outputs": [],
   "source": [
    "x=7"
   ]
  },
  {
   "cell_type": "code",
   "execution_count": 45,
   "id": "9d8e3ccd-b7b0-4eb2-8a25-2dd7980c69d2",
   "metadata": {},
   "outputs": [
    {
     "data": {
      "text/plain": [
       "17"
      ]
     },
     "execution_count": 45,
     "metadata": {},
     "output_type": "execute_result"
    }
   ],
   "source": [
    "x+10"
   ]
  },
  {
   "cell_type": "code",
   "execution_count": 46,
   "id": "43bbac17-21ee-499d-ae35-a6c28ce1778a",
   "metadata": {},
   "outputs": [],
   "source": [
    "# now the value 7 is an object and the variable x referes to this object , in python everything is an object "
   ]
  },
  {
   "cell_type": "code",
   "execution_count": 51,
   "id": "31fb6eee-7549-4057-8373-46b51065b26b",
   "metadata": {},
   "outputs": [],
   "source": [
    "x=x+10  # now the new object will be created with 17 and x will be point to object 17 and the old object 7 will be avilabe to garbage collection which python will take care the free the space and mae it availabe to user again "
   ]
  },
  {
   "cell_type": "code",
   "execution_count": 52,
   "id": "71efa89d-448c-40df-aa80-50e8f42112dc",
   "metadata": {},
   "outputs": [
    {
     "data": {
      "text/plain": [
       "17"
      ]
     },
     "execution_count": 52,
     "metadata": {},
     "output_type": "execute_result"
    }
   ],
   "source": [
    "x"
   ]
  },
  {
   "cell_type": "code",
   "execution_count": 53,
   "id": "8b4220b7-1ee4-4c1d-91bf-38a9cc0caca4",
   "metadata": {},
   "outputs": [
    {
     "data": {
      "text/plain": [
       "int"
      ]
     },
     "execution_count": 53,
     "metadata": {},
     "output_type": "execute_result"
    }
   ],
   "source": [
    "type(x)"
   ]
  },
  {
   "cell_type": "code",
   "execution_count": 54,
   "id": "ffb69693-b8e7-4750-9fb9-8e2f4226c292",
   "metadata": {},
   "outputs": [],
   "source": [
    "x=4.1"
   ]
  },
  {
   "cell_type": "code",
   "execution_count": 55,
   "id": "69257304-c709-4a52-9256-206298bb1dab",
   "metadata": {},
   "outputs": [
    {
     "data": {
      "text/plain": [
       "float"
      ]
     },
     "execution_count": 55,
     "metadata": {},
     "output_type": "execute_result"
    }
   ],
   "source": [
    "type(x)"
   ]
  },
  {
   "cell_type": "code",
   "execution_count": 56,
   "id": "e8782678-8a95-4202-a754-13c6401c916d",
   "metadata": {},
   "outputs": [],
   "source": [
    "x='rupesh'"
   ]
  },
  {
   "cell_type": "code",
   "execution_count": 57,
   "id": "31e8bc53-9f59-4b26-bdba-f228c6a8edfd",
   "metadata": {},
   "outputs": [
    {
     "data": {
      "text/plain": [
       "str"
      ]
     },
     "execution_count": 57,
     "metadata": {},
     "output_type": "execute_result"
    }
   ],
   "source": [
    "type(x)"
   ]
  },
  {
   "cell_type": "code",
   "execution_count": 58,
   "id": "a1e11428-3447-42b0-a965-9883af400ef8",
   "metadata": {},
   "outputs": [
    {
     "data": {
      "text/plain": [
       "float"
      ]
     },
     "execution_count": 58,
     "metadata": {},
     "output_type": "execute_result"
    }
   ],
   "source": [
    "type(7.5*3)"
   ]
  },
  {
   "cell_type": "code",
   "execution_count": 59,
   "id": "6b7d5564-fa33-40ca-8e16-4db63c8ece46",
   "metadata": {},
   "outputs": [
    {
     "data": {
      "text/plain": [
       "float"
      ]
     },
     "execution_count": 59,
     "metadata": {},
     "output_type": "execute_result"
    }
   ],
   "source": [
    "type(2.5*2)"
   ]
  },
  {
   "cell_type": "code",
   "execution_count": 60,
   "id": "147ab13d-8cb2-4b1c-807a-599ea3dcc91e",
   "metadata": {},
   "outputs": [
    {
     "data": {
      "text/plain": [
       "5.0"
      ]
     },
     "execution_count": 60,
     "metadata": {},
     "output_type": "execute_result"
    }
   ],
   "source": [
    "2.5*2"
   ]
  },
  {
   "cell_type": "code",
   "execution_count": 61,
   "id": "58025077-cad2-4345-9b99-64edacec578e",
   "metadata": {},
   "outputs": [],
   "source": [
    "# %load fig02_02.py\n",
    "# Fig. 2.2: fig02_02.py\n",
    "\"\"\"Find the minimum of three values.\"\"\"\n",
    "\n",
    "number1 = int(input('Enter first integer: '))\n",
    "number2 = int(input('Enter second integer: '))\n",
    "number3 = int(input('Enter third integer: '))\n",
    "\n",
    "minimum = number1  \n",
    "\n",
    "if number2 < minimum:\n",
    "    minimum = number2\n",
    "\n",
    "if number3 < minimum:\n",
    "    minimum = number3\n",
    "\n",
    "print('Minimum value is', minimum)\n",
    "\n",
    "##########################################################################\n",
    "# (C) Copyright 2019 by Deitel & Associates, Inc. and                    #\n",
    "# Pearson Education, Inc. All Rights Reserved.                           #\n",
    "#                                                                        #\n",
    "# DISCLAIMER: The authors and publisher of this book have used their     #\n",
    "# best efforts in preparing the book. These efforts include the          #\n",
    "# development, research, and testing of the theories and programs        #\n",
    "# to determine their effectiveness. The authors and publisher make       #\n",
    "# no warranty of any kind, expressed or implied, with regard to these    #\n",
    "# programs or to the documentation contained in these books. The authors #\n",
    "# and publisher shall not be liable in any event for incidental or       #\n",
    "# consequential damages in connection with, or arising out of, the       #\n",
    "# furnishing, performance, or use of these programs.                     #\n",
    "##########################################################################\n"
   ]
  },
  {
   "cell_type": "code",
   "execution_count": 63,
   "id": "0b095bed-f784-4cfa-b9d7-a24d800d6c53",
   "metadata": {},
   "outputs": [
    {
     "name": "stdin",
     "output_type": "stream",
     "text": [
      "Enter first integer:  12\n",
      "Enter second integer:  27\n",
      "Enter third integer:  36\n"
     ]
    },
    {
     "name": "stdout",
     "output_type": "stream",
     "text": [
      "Minimum value is 12\n"
     ]
    }
   ],
   "source": [
    "%run fig02_02.py"
   ]
  },
  {
   "cell_type": "code",
   "execution_count": 64,
   "id": "5d2d38a2-1134-47a8-9493-0d085484ae91",
   "metadata": {},
   "outputs": [
    {
     "name": "stdin",
     "output_type": "stream",
     "text": [
      "Enter first integer:  27\n",
      "Enter second integer:  12\n",
      "Enter third integer:  36\n"
     ]
    },
    {
     "name": "stdout",
     "output_type": "stream",
     "text": [
      "Minimum value is 12\n"
     ]
    }
   ],
   "source": [
    "%run fig02_02.py"
   ]
  },
  {
   "cell_type": "code",
   "execution_count": 65,
   "id": "ab4c08c0-84c9-4b31-b580-ccca543e8917",
   "metadata": {},
   "outputs": [
    {
     "data": {
      "text/plain": [
       "12"
      ]
     },
     "execution_count": 65,
     "metadata": {},
     "output_type": "execute_result"
    }
   ],
   "source": [
    "min(36,27,12)  # functions "
   ]
  },
  {
   "cell_type": "code",
   "execution_count": 66,
   "id": "ffd7dcfb-4795-46b8-86a6-46feb29df75f",
   "metadata": {},
   "outputs": [
    {
     "data": {
      "text/plain": [
       "32"
      ]
     },
     "execution_count": 66,
     "metadata": {},
     "output_type": "execute_result"
    }
   ],
   "source": [
    "max(32,12,27)"
   ]
  },
  {
   "cell_type": "code",
   "execution_count": 67,
   "id": "af5929d4-fbb6-405a-bde6-93f7be9d6513",
   "metadata": {},
   "outputs": [
    {
     "name": "stdout",
     "output_type": "stream",
     "text": [
      "range: 12 - 32\n"
     ]
    }
   ],
   "source": [
    "print('range:' ,min(32,12,27),'-',max(32,12,27))"
   ]
  },
  {
   "cell_type": "code",
   "execution_count": null,
   "id": "825eb4f8-9e8a-486c-8005-d0245434cbb4",
   "metadata": {},
   "outputs": [],
   "source": []
  }
 ],
 "metadata": {
  "kernelspec": {
   "display_name": "Python 3 (ipykernel)",
   "language": "python",
   "name": "python3"
  },
  "language_info": {
   "codemirror_mode": {
    "name": "ipython",
    "version": 3
   },
   "file_extension": ".py",
   "mimetype": "text/x-python",
   "name": "python",
   "nbconvert_exporter": "python",
   "pygments_lexer": "ipython3",
   "version": "3.9.13"
  }
 },
 "nbformat": 4,
 "nbformat_minor": 5
}
